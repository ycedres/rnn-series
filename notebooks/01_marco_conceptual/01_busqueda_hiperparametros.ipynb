{
 "cells": [
  {
   "cell_type": "code",
   "execution_count": 261,
   "metadata": {
    "collapsed": false
   },
   "outputs": [],
   "source": [
    "%matplotlib inline\n",
    "import numpy as np\n",
    "import pandas as pd\n",
    "import matplotlib.pyplot as plt\n",
    "\n",
    "from sklearn.cross_validation import train_test_split\n",
    "from sklearn.cross_validation import KFold\n",
    "from sklearn.grid_search import GridSearchCV\n",
    "from sklearn.grid_search import RandomizedSearchCV\n",
    "#from sklearn.model_selection import RandomizedSearchCV\n",
    "from sklearn.neighbors import KNeighborsRegressor\n",
    "from sklearn.metrics import mean_squared_error"
   ]
  },
  {
   "cell_type": "code",
   "execution_count": 231,
   "metadata": {
    "collapsed": false
   },
   "outputs": [
    {
     "data": {
      "text/html": [
       "<div>\n",
       "<table border=\"1\" class=\"dataframe\">\n",
       "  <thead>\n",
       "    <tr style=\"text-align: right;\">\n",
       "      <th></th>\n",
       "      <th>0</th>\n",
       "      <th>1</th>\n",
       "      <th>2</th>\n",
       "      <th>3</th>\n",
       "      <th>4</th>\n",
       "      <th>5</th>\n",
       "      <th>6</th>\n",
       "      <th>h_1</th>\n",
       "    </tr>\n",
       "    <tr>\n",
       "      <th>Date</th>\n",
       "      <th></th>\n",
       "      <th></th>\n",
       "      <th></th>\n",
       "      <th></th>\n",
       "      <th></th>\n",
       "      <th></th>\n",
       "      <th></th>\n",
       "      <th></th>\n",
       "    </tr>\n",
       "  </thead>\n",
       "  <tbody>\n",
       "    <tr>\n",
       "      <th>2016-01-13</th>\n",
       "      <td>102.612183</td>\n",
       "      <td>100.040794</td>\n",
       "      <td>98.083023</td>\n",
       "      <td>93.943474</td>\n",
       "      <td>94.440224</td>\n",
       "      <td>95.969421</td>\n",
       "      <td>97.362259</td>\n",
       "      <td>94.859047</td>\n",
       "    </tr>\n",
       "    <tr>\n",
       "      <th>2016-01-14</th>\n",
       "      <td>100.040794</td>\n",
       "      <td>98.083023</td>\n",
       "      <td>93.943474</td>\n",
       "      <td>94.440224</td>\n",
       "      <td>95.969421</td>\n",
       "      <td>97.362259</td>\n",
       "      <td>94.859047</td>\n",
       "      <td>96.933693</td>\n",
       "    </tr>\n",
       "    <tr>\n",
       "      <th>2016-01-15</th>\n",
       "      <td>98.083023</td>\n",
       "      <td>93.943474</td>\n",
       "      <td>94.440224</td>\n",
       "      <td>95.969421</td>\n",
       "      <td>97.362259</td>\n",
       "      <td>94.859047</td>\n",
       "      <td>96.933693</td>\n",
       "      <td>94.605804</td>\n",
       "    </tr>\n",
       "    <tr>\n",
       "      <th>2016-01-19</th>\n",
       "      <td>93.943474</td>\n",
       "      <td>94.440224</td>\n",
       "      <td>95.969421</td>\n",
       "      <td>97.362259</td>\n",
       "      <td>94.859047</td>\n",
       "      <td>96.933693</td>\n",
       "      <td>94.605804</td>\n",
       "      <td>94.148026</td>\n",
       "    </tr>\n",
       "    <tr>\n",
       "      <th>2016-01-20</th>\n",
       "      <td>94.440224</td>\n",
       "      <td>95.969421</td>\n",
       "      <td>97.362259</td>\n",
       "      <td>94.859047</td>\n",
       "      <td>96.933693</td>\n",
       "      <td>94.605804</td>\n",
       "      <td>94.148026</td>\n",
       "      <td>94.274643</td>\n",
       "    </tr>\n",
       "  </tbody>\n",
       "</table>\n",
       "</div>"
      ],
      "text/plain": [
       "                     0           1          2          3          4  \\\n",
       "Date                                                                  \n",
       "2016-01-13  102.612183  100.040794  98.083023  93.943474  94.440224   \n",
       "2016-01-14  100.040794   98.083023  93.943474  94.440224  95.969421   \n",
       "2016-01-15   98.083023   93.943474  94.440224  95.969421  97.362259   \n",
       "2016-01-19   93.943474   94.440224  95.969421  97.362259  94.859047   \n",
       "2016-01-20   94.440224   95.969421  97.362259  94.859047  96.933693   \n",
       "\n",
       "                    5          6        h_1  \n",
       "Date                                         \n",
       "2016-01-13  95.969421  97.362259  94.859047  \n",
       "2016-01-14  97.362259  94.859047  96.933693  \n",
       "2016-01-15  94.859047  96.933693  94.605804  \n",
       "2016-01-19  96.933693  94.605804  94.148026  \n",
       "2016-01-20  94.605804  94.148026  94.274643  "
      ]
     },
     "execution_count": 231,
     "metadata": {},
     "output_type": "execute_result"
    }
   ],
   "source": [
    "appleH1 = pd.read_csv('../apple_ws_7_h1.csv', delimiter=';', index_col=0)\n",
    "# selecionamos el index\n",
    "index=appleH1.index\n",
    "appleH1.head()"
   ]
  },
  {
   "cell_type": "code",
   "execution_count": 232,
   "metadata": {
    "collapsed": true
   },
   "outputs": [],
   "source": [
    "features = appleH1.ix[:, 0:7].values\n",
    "label = appleH1.ix[:,7:].values"
   ]
  },
  {
   "cell_type": "code",
   "execution_count": 233,
   "metadata": {
    "collapsed": true
   },
   "outputs": [],
   "source": [
    "x_train, x_test, y_train, y_test = train_test_split(features, label, test_size=0.20)"
   ]
  },
  {
   "cell_type": "code",
   "execution_count": 234,
   "metadata": {
    "collapsed": false
   },
   "outputs": [
    {
     "data": {
      "text/plain": [
       "<matplotlib.axes._subplots.AxesSubplot at 0x11cd6a390>"
      ]
     },
     "execution_count": 234,
     "metadata": {},
     "output_type": "execute_result"
    },
    {
     "data": {
      "image/png": "[encoded data removed]",
      "text/plain": [
       "<matplotlib.figure.Figure at 0x11cd537f0>"
      ]
     },
     "metadata": {},
     "output_type": "display_data"
    }
   ],
   "source": [
    "pd.DataFrame({'train': [len(y_train)],\n",
    "              'test' : [len(y_test)]}).T.plot(kind='bar', legend=False)"
   ]
  },
  {
   "cell_type": "markdown",
   "metadata": {},
   "source": [
    "Para el uso de **GridSearch** y **RandomSearch** se utilizará las clases de implementadas de estos método de *Scikit-Learn*. Ambas incorporán en su proceso un método de \"entranamiento\" *K-Fold*, por lo que hay que elegir apropiadamente el número de *folds* para que el conjunto de datos de *train* y *validation* tengas las proporciones adecuadas.\n",
    "\n",
    "Se quiere que en el **proceso de entrenamiento** el conjunto de datos de *train* y *validation* tenga una proporción de 80% y 20% respectivamente, por lo que el número de *folds* para el *GridSearch* y *RandomSearch* es **5**.\n",
    "\n",
    "\n",
    "**Nota:** \n",
    "\n",
    "Se ha seleccionado las siguientes proporciones:\n",
    "\n",
    "Se separa la serie temporal en un 80% *train* y un 20% *test*. Con el conjunto de datos de *train* se vuelve a separar un 80% *train* y un 20% *validation*. \n",
    "\n",
    "**Fin nota**"
   ]
  },
  {
   "cell_type": "code",
   "execution_count": 235,
   "metadata": {
    "collapsed": false
   },
   "outputs": [
    {
     "name": "stdout",
     "output_type": "stream",
     "text": [
      "Fold: Train=79.77 % -- Validation=20.23 %\n",
      "Fold: Train=79.77 % -- Validation=20.23 %\n",
      "Fold: Train=80.16 % -- Validation=19.84 %\n",
      "Fold: Train=80.16 % -- Validation=19.84 %\n",
      "Fold: Train=80.16 % -- Validation=19.84 %\n"
     ]
    }
   ],
   "source": [
    "cv_method = KFold(len(x_train), 5)\n",
    "\n",
    "for train_index, test_index  in cv_method:\n",
    "   \n",
    "    total = len(train_index) + len(test_index)\n",
    "    train = (len(train_index)/total)*100\n",
    "    val = (len(test_index)/total)*100\n",
    "    print('Fold: Train={0:.2f} % -- Validation={1:.2f} %'.format(train, val)) "
   ]
  },
  {
   "cell_type": "markdown",
   "metadata": {},
   "source": [
    "**Link KNN:** http://scikit-learn.org/stable/modules/generated/sklearn.neighbors.KNeighborsRegressor.html"
   ]
  },
  {
   "cell_type": "markdown",
   "metadata": {},
   "source": [
    "## A) Grid Search\n",
    "\n",
    "**Paso 1:** Definir el espacio de hiperparámetros"
   ]
  },
  {
   "cell_type": "code",
   "execution_count": 236,
   "metadata": {
    "collapsed": false
   },
   "outputs": [],
   "source": [
    "tuned_parameters = [\n",
    "    {'n_neighbors' : [i for i in range(2,30)],\n",
    "     'weights' : ['uniform']},\n",
    "    {'n_neighbors' : [i for i in range(2,30)],\n",
    "     'weights' : ['distance']}\n",
    "] "
   ]
  },
  {
   "cell_type": "code",
   "execution_count": 237,
   "metadata": {
    "collapsed": false
   },
   "outputs": [],
   "source": [
    "grid_search = GridSearchCV(KNeighborsRegressor(n_neighbors=2),\n",
    "                           param_grid=tuned_parameters,\n",
    "                           cv=cv_method,\n",
    "                           #scoring=mean_squared_error,\n",
    "                           verbose=1)"
   ]
  },
  {
   "cell_type": "markdown",
   "metadata": {},
   "source": [
    "**Paso 2:** Entrenamiento del modelo con el conjunto de datos de entrenamiento y validación."
   ]
  },
  {
   "cell_type": "code",
   "execution_count": 238,
   "metadata": {
    "collapsed": false
   },
   "outputs": [
    {
     "name": "stdout",
     "output_type": "stream",
     "text": [
      "Fitting 5 folds for each of 56 candidates, totalling 280 fits\n"
     ]
    },
    {
     "name": "stderr",
     "output_type": "stream",
     "text": [
      "[Parallel(n_jobs=1)]: Done  49 tasks       | elapsed:    0.1s\n",
      "[Parallel(n_jobs=1)]: Done 199 tasks       | elapsed:    0.4s\n",
      "[Parallel(n_jobs=1)]: Done 280 out of 280 | elapsed:    0.5s finished\n"
     ]
    }
   ],
   "source": [
    "fit_models = grid_search.fit(x_train, y_train)"
   ]
  },
  {
   "cell_type": "code",
   "execution_count": 239,
   "metadata": {
    "collapsed": false
   },
   "outputs": [
    {
     "data": {
      "text/plain": [
       "GridSearchCV(cv=sklearn.cross_validation.KFold(n=257, n_folds=5, shuffle=False, random_state=None),\n",
       "       error_score='raise',\n",
       "       estimator=KNeighborsRegressor(algorithm='auto', leaf_size=30, metric='minkowski',\n",
       "          metric_params=None, n_jobs=1, n_neighbors=2, p=2,\n",
       "          weights='uniform'),\n",
       "       fit_params={}, iid=True, n_jobs=1,\n",
       "       param_grid=[{'weights': ['uniform'], 'n_neighbors': [2, 3, 4, 5, 6, 7, 8, 9, 10, 11, 12, 13, 14, 15, 16, 17, 18, 19, 20, 21, 22, 23, 24, 25, 26, 27, 28, 29]}, {'weights': ['distance'], 'n_neighbors': [2, 3, 4, 5, 6, 7, 8, 9, 10, 11, 12, 13, 14, 15, 16, 17, 18, 19, 20, 21, 22, 23, 24, 25, 26, 27, 28, 29]}],\n",
       "       pre_dispatch='2*n_jobs', refit=True, scoring=None, verbose=1)"
      ]
     },
     "execution_count": 239,
     "metadata": {},
     "output_type": "execute_result"
    }
   ],
   "source": [
    "fit_models"
   ]
  },
  {
   "cell_type": "markdown",
   "metadata": {},
   "source": [
    "**Paso 3:** Seleccionamos el mejor modelo "
   ]
  },
  {
   "cell_type": "code",
   "execution_count": 240,
   "metadata": {
    "collapsed": false
   },
   "outputs": [
    {
     "data": {
      "text/plain": [
       "[mean: 0.98691, std: 0.00346, params: {'weights': 'uniform', 'n_neighbors': 2},\n",
       " mean: 0.98638, std: 0.00376, params: {'weights': 'uniform', 'n_neighbors': 3},\n",
       " mean: 0.98552, std: 0.00380, params: {'weights': 'uniform', 'n_neighbors': 4},\n",
       " mean: 0.98457, std: 0.00393, params: {'weights': 'uniform', 'n_neighbors': 5},\n",
       " mean: 0.98371, std: 0.00395, params: {'weights': 'uniform', 'n_neighbors': 6},\n",
       " mean: 0.98359, std: 0.00394, params: {'weights': 'uniform', 'n_neighbors': 7},\n",
       " mean: 0.98321, std: 0.00359, params: {'weights': 'uniform', 'n_neighbors': 8},\n",
       " mean: 0.98258, std: 0.00282, params: {'weights': 'uniform', 'n_neighbors': 9},\n",
       " mean: 0.98210, std: 0.00306, params: {'weights': 'uniform', 'n_neighbors': 10},\n",
       " mean: 0.98196, std: 0.00321, params: {'weights': 'uniform', 'n_neighbors': 11},\n",
       " mean: 0.98141, std: 0.00383, params: {'weights': 'uniform', 'n_neighbors': 12},\n",
       " mean: 0.98112, std: 0.00330, params: {'weights': 'uniform', 'n_neighbors': 13},\n",
       " mean: 0.98015, std: 0.00334, params: {'weights': 'uniform', 'n_neighbors': 14},\n",
       " mean: 0.97989, std: 0.00337, params: {'weights': 'uniform', 'n_neighbors': 15},\n",
       " mean: 0.97915, std: 0.00390, params: {'weights': 'uniform', 'n_neighbors': 16},\n",
       " mean: 0.97822, std: 0.00404, params: {'weights': 'uniform', 'n_neighbors': 17},\n",
       " mean: 0.97758, std: 0.00437, params: {'weights': 'uniform', 'n_neighbors': 18},\n",
       " mean: 0.97710, std: 0.00445, params: {'weights': 'uniform', 'n_neighbors': 19},\n",
       " mean: 0.97640, std: 0.00476, params: {'weights': 'uniform', 'n_neighbors': 20},\n",
       " mean: 0.97569, std: 0.00497, params: {'weights': 'uniform', 'n_neighbors': 21},\n",
       " mean: 0.97548, std: 0.00462, params: {'weights': 'uniform', 'n_neighbors': 22},\n",
       " mean: 0.97493, std: 0.00447, params: {'weights': 'uniform', 'n_neighbors': 23},\n",
       " mean: 0.97453, std: 0.00467, params: {'weights': 'uniform', 'n_neighbors': 24},\n",
       " mean: 0.97387, std: 0.00471, params: {'weights': 'uniform', 'n_neighbors': 25},\n",
       " mean: 0.97339, std: 0.00493, params: {'weights': 'uniform', 'n_neighbors': 26},\n",
       " mean: 0.97274, std: 0.00490, params: {'weights': 'uniform', 'n_neighbors': 27},\n",
       " mean: 0.97221, std: 0.00466, params: {'weights': 'uniform', 'n_neighbors': 28},\n",
       " mean: 0.97157, std: 0.00437, params: {'weights': 'uniform', 'n_neighbors': 29},\n",
       " mean: 0.98736, std: 0.00308, params: {'weights': 'distance', 'n_neighbors': 2},\n",
       " mean: 0.98715, std: 0.00347, params: {'weights': 'distance', 'n_neighbors': 3},\n",
       " mean: 0.98636, std: 0.00358, params: {'weights': 'distance', 'n_neighbors': 4},\n",
       " mean: 0.98556, std: 0.00366, params: {'weights': 'distance', 'n_neighbors': 5},\n",
       " mean: 0.98488, std: 0.00372, params: {'weights': 'distance', 'n_neighbors': 6},\n",
       " mean: 0.98465, std: 0.00374, params: {'weights': 'distance', 'n_neighbors': 7},\n",
       " mean: 0.98434, std: 0.00342, params: {'weights': 'distance', 'n_neighbors': 8},\n",
       " mean: 0.98389, std: 0.00280, params: {'weights': 'distance', 'n_neighbors': 9},\n",
       " mean: 0.98360, std: 0.00286, params: {'weights': 'distance', 'n_neighbors': 10},\n",
       " mean: 0.98351, std: 0.00299, params: {'weights': 'distance', 'n_neighbors': 11},\n",
       " mean: 0.98310, std: 0.00350, params: {'weights': 'distance', 'n_neighbors': 12},\n",
       " mean: 0.98288, std: 0.00304, params: {'weights': 'distance', 'n_neighbors': 13},\n",
       " mean: 0.98225, std: 0.00308, params: {'weights': 'distance', 'n_neighbors': 14},\n",
       " mean: 0.98217, std: 0.00298, params: {'weights': 'distance', 'n_neighbors': 15},\n",
       " mean: 0.98171, std: 0.00326, params: {'weights': 'distance', 'n_neighbors': 16},\n",
       " mean: 0.98110, std: 0.00335, params: {'weights': 'distance', 'n_neighbors': 17},\n",
       " mean: 0.98068, std: 0.00363, params: {'weights': 'distance', 'n_neighbors': 18},\n",
       " mean: 0.98041, std: 0.00367, params: {'weights': 'distance', 'n_neighbors': 19},\n",
       " mean: 0.98000, std: 0.00389, params: {'weights': 'distance', 'n_neighbors': 20},\n",
       " mean: 0.97956, std: 0.00402, params: {'weights': 'distance', 'n_neighbors': 21},\n",
       " mean: 0.97945, std: 0.00386, params: {'weights': 'distance', 'n_neighbors': 22},\n",
       " mean: 0.97914, std: 0.00379, params: {'weights': 'distance', 'n_neighbors': 23},\n",
       " mean: 0.97900, std: 0.00383, params: {'weights': 'distance', 'n_neighbors': 24},\n",
       " mean: 0.97860, std: 0.00395, params: {'weights': 'distance', 'n_neighbors': 25},\n",
       " mean: 0.97835, std: 0.00413, params: {'weights': 'distance', 'n_neighbors': 26},\n",
       " mean: 0.97810, std: 0.00417, params: {'weights': 'distance', 'n_neighbors': 27},\n",
       " mean: 0.97785, std: 0.00409, params: {'weights': 'distance', 'n_neighbors': 28},\n",
       " mean: 0.97756, std: 0.00405, params: {'weights': 'distance', 'n_neighbors': 29}]"
      ]
     },
     "execution_count": 240,
     "metadata": {},
     "output_type": "execute_result"
    }
   ],
   "source": [
    "grid_search.grid_scores_"
   ]
  },
  {
   "cell_type": "code",
   "execution_count": 241,
   "metadata": {
    "collapsed": false
   },
   "outputs": [
    {
     "name": "stdout",
     "output_type": "stream",
     "text": [
      "0 --- mean: 0.98691, std: 0.00346, params: {'weights': 'uniform', 'n_neighbors': 2}\n",
      "*** {'weights': 'uniform', 'n_neighbors': 2} 0.986897564897 0.00345642315128\n",
      "1 --- mean: 0.98638, std: 0.00376, params: {'weights': 'uniform', 'n_neighbors': 3}\n",
      "*** {'weights': 'uniform', 'n_neighbors': 3} 0.986367053669 0.00375821515592\n",
      "2 --- mean: 0.98552, std: 0.00380, params: {'weights': 'uniform', 'n_neighbors': 4}\n",
      "*** {'weights': 'uniform', 'n_neighbors': 4} 0.985506883603 0.00379556719782\n",
      "3 --- mean: 0.98457, std: 0.00393, params: {'weights': 'uniform', 'n_neighbors': 5}\n",
      "*** {'weights': 'uniform', 'n_neighbors': 5} 0.984570035273 0.00393158409624\n",
      "4 --- mean: 0.98371, std: 0.00395, params: {'weights': 'uniform', 'n_neighbors': 6}\n",
      "*** {'weights': 'uniform', 'n_neighbors': 6} 0.983707599861 0.00395342916751\n",
      "5 --- mean: 0.98359, std: 0.00394, params: {'weights': 'uniform', 'n_neighbors': 7}\n",
      "*** {'weights': 'uniform', 'n_neighbors': 7} 0.983581282814 0.00393796787322\n",
      "6 --- mean: 0.98321, std: 0.00359, params: {'weights': 'uniform', 'n_neighbors': 8}\n",
      "*** {'weights': 'uniform', 'n_neighbors': 8} 0.983203952367 0.0035879584543\n",
      "7 --- mean: 0.98258, std: 0.00282, params: {'weights': 'uniform', 'n_neighbors': 9}\n",
      "*** {'weights': 'uniform', 'n_neighbors': 9} 0.982575745301 0.00282103665108\n",
      "8 --- mean: 0.98210, std: 0.00306, params: {'weights': 'uniform', 'n_neighbors': 10}\n",
      "*** {'weights': 'uniform', 'n_neighbors': 10} 0.982099719247 0.00306396227853\n",
      "9 --- mean: 0.98196, std: 0.00321, params: {'weights': 'uniform', 'n_neighbors': 11}\n",
      "*** {'weights': 'uniform', 'n_neighbors': 11} 0.981963939079 0.00320661482121\n",
      "10 --- mean: 0.98141, std: 0.00383, params: {'weights': 'uniform', 'n_neighbors': 12}\n",
      "*** {'weights': 'uniform', 'n_neighbors': 12} 0.981414297742 0.00383274984063\n",
      "11 --- mean: 0.98112, std: 0.00330, params: {'weights': 'uniform', 'n_neighbors': 13}\n",
      "*** {'weights': 'uniform', 'n_neighbors': 13} 0.981125361853 0.00329870681656\n",
      "12 --- mean: 0.98015, std: 0.00334, params: {'weights': 'uniform', 'n_neighbors': 14}\n",
      "*** {'weights': 'uniform', 'n_neighbors': 14} 0.980157817488 0.00334478983802\n",
      "13 --- mean: 0.97989, std: 0.00337, params: {'weights': 'uniform', 'n_neighbors': 15}\n",
      "*** {'weights': 'uniform', 'n_neighbors': 15} 0.979899473651 0.00337257258988\n",
      "14 --- mean: 0.97915, std: 0.00390, params: {'weights': 'uniform', 'n_neighbors': 16}\n",
      "*** {'weights': 'uniform', 'n_neighbors': 16} 0.979156097351 0.00389676806916\n",
      "15 --- mean: 0.97822, std: 0.00404, params: {'weights': 'uniform', 'n_neighbors': 17}\n",
      "*** {'weights': 'uniform', 'n_neighbors': 17} 0.978227397953 0.00404122708368\n",
      "16 --- mean: 0.97758, std: 0.00437, params: {'weights': 'uniform', 'n_neighbors': 18}\n",
      "*** {'weights': 'uniform', 'n_neighbors': 18} 0.97759972893 0.00436621495143\n",
      "17 --- mean: 0.97710, std: 0.00445, params: {'weights': 'uniform', 'n_neighbors': 19}\n",
      "*** {'weights': 'uniform', 'n_neighbors': 19} 0.977109831437 0.00444829002006\n",
      "18 --- mean: 0.97640, std: 0.00476, params: {'weights': 'uniform', 'n_neighbors': 20}\n",
      "*** {'weights': 'uniform', 'n_neighbors': 20} 0.976420821254 0.00476225234382\n",
      "19 --- mean: 0.97569, std: 0.00497, params: {'weights': 'uniform', 'n_neighbors': 21}\n",
      "*** {'weights': 'uniform', 'n_neighbors': 21} 0.97570826801 0.00496883575079\n",
      "20 --- mean: 0.97548, std: 0.00462, params: {'weights': 'uniform', 'n_neighbors': 22}\n",
      "*** {'weights': 'uniform', 'n_neighbors': 22} 0.975497531493 0.0046199016026\n",
      "21 --- mean: 0.97493, std: 0.00447, params: {'weights': 'uniform', 'n_neighbors': 23}\n",
      "*** {'weights': 'uniform', 'n_neighbors': 23} 0.974949560353 0.00447255154333\n",
      "22 --- mean: 0.97453, std: 0.00467, params: {'weights': 'uniform', 'n_neighbors': 24}\n",
      "*** {'weights': 'uniform', 'n_neighbors': 24} 0.974550799817 0.00467029952911\n",
      "23 --- mean: 0.97387, std: 0.00471, params: {'weights': 'uniform', 'n_neighbors': 25}\n",
      "*** {'weights': 'uniform', 'n_neighbors': 25} 0.973886186913 0.00471126506425\n",
      "24 --- mean: 0.97339, std: 0.00493, params: {'weights': 'uniform', 'n_neighbors': 26}\n",
      "*** {'weights': 'uniform', 'n_neighbors': 26} 0.973402751711 0.00492835818835\n",
      "25 --- mean: 0.97274, std: 0.00490, params: {'weights': 'uniform', 'n_neighbors': 27}\n",
      "*** {'weights': 'uniform', 'n_neighbors': 27} 0.972752708094 0.00490144119924\n",
      "26 --- mean: 0.97221, std: 0.00466, params: {'weights': 'uniform', 'n_neighbors': 28}\n",
      "*** {'weights': 'uniform', 'n_neighbors': 28} 0.972230619069 0.00466101973133\n",
      "27 --- mean: 0.97157, std: 0.00437, params: {'weights': 'uniform', 'n_neighbors': 29}\n",
      "*** {'weights': 'uniform', 'n_neighbors': 29} 0.971586673447 0.00437081552825\n",
      "28 --- mean: 0.98736, std: 0.00308, params: {'weights': 'distance', 'n_neighbors': 2}\n",
      "*** {'weights': 'distance', 'n_neighbors': 2} 0.987347535294 0.00308265343877\n",
      "29 --- mean: 0.98715, std: 0.00347, params: {'weights': 'distance', 'n_neighbors': 3}\n",
      "*** {'weights': 'distance', 'n_neighbors': 3} 0.987137025732 0.00346945101431\n",
      "30 --- mean: 0.98636, std: 0.00358, params: {'weights': 'distance', 'n_neighbors': 4}\n",
      "*** {'weights': 'distance', 'n_neighbors': 4} 0.986350636222 0.00358014784932\n",
      "31 --- mean: 0.98556, std: 0.00366, params: {'weights': 'distance', 'n_neighbors': 5}\n",
      "*** {'weights': 'distance', 'n_neighbors': 5} 0.985556193209 0.00365596298498\n",
      "32 --- mean: 0.98488, std: 0.00372, params: {'weights': 'distance', 'n_neighbors': 6}\n",
      "*** {'weights': 'distance', 'n_neighbors': 6} 0.984872351553 0.00372201267223\n",
      "33 --- mean: 0.98465, std: 0.00374, params: {'weights': 'distance', 'n_neighbors': 7}\n",
      "*** {'weights': 'distance', 'n_neighbors': 7} 0.984646229822 0.0037392591128\n",
      "34 --- mean: 0.98434, std: 0.00342, params: {'weights': 'distance', 'n_neighbors': 8}\n",
      "*** {'weights': 'distance', 'n_neighbors': 8} 0.984330907772 0.00342086344283\n",
      "35 --- mean: 0.98389, std: 0.00280, params: {'weights': 'distance', 'n_neighbors': 9}\n",
      "*** {'weights': 'distance', 'n_neighbors': 9} 0.983885542067 0.0027981796402\n",
      "36 --- mean: 0.98360, std: 0.00286, params: {'weights': 'distance', 'n_neighbors': 10}\n",
      "*** {'weights': 'distance', 'n_neighbors': 10} 0.983605348513 0.00286101071948\n",
      "37 --- mean: 0.98351, std: 0.00299, params: {'weights': 'distance', 'n_neighbors': 11}\n",
      "*** {'weights': 'distance', 'n_neighbors': 11} 0.983510012915 0.00298719701559\n",
      "38 --- mean: 0.98310, std: 0.00350, params: {'weights': 'distance', 'n_neighbors': 12}\n",
      "*** {'weights': 'distance', 'n_neighbors': 12} 0.983103854223 0.00349534342467\n",
      "39 --- mean: 0.98288, std: 0.00304, params: {'weights': 'distance', 'n_neighbors': 13}\n",
      "*** {'weights': 'distance', 'n_neighbors': 13} 0.9828861639 0.00303821213909\n",
      "40 --- mean: 0.98225, std: 0.00308, params: {'weights': 'distance', 'n_neighbors': 14}\n",
      "*** {'weights': 'distance', 'n_neighbors': 14} 0.982254915288 0.00307807754576\n",
      "41 --- mean: 0.98217, std: 0.00298, params: {'weights': 'distance', 'n_neighbors': 15}\n",
      "*** {'weights': 'distance', 'n_neighbors': 15} 0.982170896973 0.00298230256288\n",
      "42 --- mean: 0.98171, std: 0.00326, params: {'weights': 'distance', 'n_neighbors': 16}\n",
      "*** {'weights': 'distance', 'n_neighbors': 16} 0.981718596355 0.00326060523396\n",
      "43 --- mean: 0.98110, std: 0.00335, params: {'weights': 'distance', 'n_neighbors': 17}\n",
      "*** {'weights': 'distance', 'n_neighbors': 17} 0.981109857845 0.00334932410994\n",
      "44 --- mean: 0.98068, std: 0.00363, params: {'weights': 'distance', 'n_neighbors': 18}\n",
      "*** {'weights': 'distance', 'n_neighbors': 18} 0.980694474525 0.0036281312249\n",
      "45 --- mean: 0.98041, std: 0.00367, params: {'weights': 'distance', 'n_neighbors': 19}\n",
      "*** {'weights': 'distance', 'n_neighbors': 19} 0.980419239038 0.00366607428046\n",
      "46 --- mean: 0.98000, std: 0.00389, params: {'weights': 'distance', 'n_neighbors': 20}\n",
      "*** {'weights': 'distance', 'n_neighbors': 20} 0.980009036072 0.00389452167939\n",
      "47 --- mean: 0.97956, std: 0.00402, params: {'weights': 'distance', 'n_neighbors': 21}\n",
      "*** {'weights': 'distance', 'n_neighbors': 21} 0.979573356906 0.00402371765898\n",
      "48 --- mean: 0.97945, std: 0.00386, params: {'weights': 'distance', 'n_neighbors': 22}\n",
      "*** {'weights': 'distance', 'n_neighbors': 22} 0.979466639098 0.00385817355282\n",
      "49 --- mean: 0.97914, std: 0.00379, params: {'weights': 'distance', 'n_neighbors': 23}\n",
      "*** {'weights': 'distance', 'n_neighbors': 23} 0.979151858966 0.00379363125073\n",
      "50 --- mean: 0.97900, std: 0.00383, params: {'weights': 'distance', 'n_neighbors': 24}\n",
      "*** {'weights': 'distance', 'n_neighbors': 24} 0.979012377485 0.00383206036634\n",
      "51 --- mean: 0.97860, std: 0.00395, params: {'weights': 'distance', 'n_neighbors': 25}\n",
      "*** {'weights': 'distance', 'n_neighbors': 25} 0.978608753517 0.00395212983019\n",
      "52 --- mean: 0.97835, std: 0.00413, params: {'weights': 'distance', 'n_neighbors': 26}\n",
      "*** {'weights': 'distance', 'n_neighbors': 26} 0.978364682953 0.00413335629951\n",
      "53 --- mean: 0.97810, std: 0.00417, params: {'weights': 'distance', 'n_neighbors': 27}\n",
      "*** {'weights': 'distance', 'n_neighbors': 27} 0.978111758702 0.00416502955882\n",
      "54 --- mean: 0.97785, std: 0.00409, params: {'weights': 'distance', 'n_neighbors': 28}\n",
      "*** {'weights': 'distance', 'n_neighbors': 28} 0.977864137569 0.00409200415225\n",
      "55 --- mean: 0.97756, std: 0.00405, params: {'weights': 'distance', 'n_neighbors': 29}\n",
      "*** {'weights': 'distance', 'n_neighbors': 29} 0.977571303384 0.00404555425202\n"
     ]
    }
   ],
   "source": [
    "for i,j in enumerate(grid_search.grid_scores_):\n",
    "    print(i, '---',j)\n",
    "    if j[0]['weights'] == 'uniform':\n",
    "        print('***', j[0], np.mean(j[2]), np.std(j[2]))\n",
    "        \n",
    "    else:\n",
    "        print('***', j[0], np.mean(j[2]), np.std(j[2]))"
   ]
  },
  {
   "cell_type": "code",
   "execution_count": null,
   "metadata": {
    "collapsed": false
   },
   "outputs": [],
   "source": [
    "\n",
    " "
   ]
  },
  {
   "cell_type": "code",
   "execution_count": 242,
   "metadata": {
    "collapsed": false
   },
   "outputs": [
    {
     "data": {
      "text/plain": [
       "KNeighborsRegressor(algorithm='auto', leaf_size=30, metric='minkowski',\n",
       "          metric_params=None, n_jobs=1, n_neighbors=2, p=2,\n",
       "          weights='distance')"
      ]
     },
     "execution_count": 242,
     "metadata": {},
     "output_type": "execute_result"
    }
   ],
   "source": [
    "best_model = grid_search.best_estimator_\n",
    "best_model"
   ]
  },
  {
   "cell_type": "code",
   "execution_count": 243,
   "metadata": {
    "collapsed": false
   },
   "outputs": [
    {
     "data": {
      "text/plain": [
       "{'n_neighbors': 2, 'weights': 'distance'}"
      ]
     },
     "execution_count": 243,
     "metadata": {},
     "output_type": "execute_result"
    }
   ],
   "source": [
    "grid_search.best_params_"
   ]
  },
  {
   "cell_type": "code",
   "execution_count": 244,
   "metadata": {
    "collapsed": false,
    "scrolled": true
   },
   "outputs": [
    {
     "data": {
      "text/plain": [
       "'Error Mejor modelo de entrenamiento:0.9873630300307472'"
      ]
     },
     "execution_count": 244,
     "metadata": {},
     "output_type": "execute_result"
    }
   ],
   "source": [
    "'Error Mejor modelo de entrenamiento:{0}'.format(grid_search.best_score_)"
   ]
  },
  {
   "cell_type": "markdown",
   "metadata": {},
   "source": [
    "**Paso 4:** Analizamos el overfitting y underfitting del modelo mejor."
   ]
  },
  {
   "cell_type": "code",
   "execution_count": 246,
   "metadata": {
    "collapsed": false
   },
   "outputs": [
    {
     "data": {
      "text/plain": [
       "[0.0, 0.0, 0.0, 0.0, 0.0]"
      ]
     },
     "execution_count": 246,
     "metadata": {},
     "output_type": "execute_result"
    }
   ],
   "source": [
    "mseTrain = []\n",
    "mseVal = []\n",
    "\n",
    "for train_index, test_index  in cv_method:\n",
    "    x_train_, x_val_ = x_train[train_index], x_train[test_index]\n",
    "    y_train_, y_val_ = y_train[train_index], y_train[test_index]\n",
    "    \n",
    "    predTrain = best_model.predict(x_train_)\n",
    "    predVal = best_model.predict(x_val_)\n",
    "    \n",
    "    mseTrain.append(mean_squared_error(y_train_, predTrain))\n",
    "    mseVal.append(mean_squared_error(y_val_, predVal))\n",
    "    \n",
    "mseTrain"
   ]
  },
  {
   "cell_type": "code",
   "execution_count": 247,
   "metadata": {
    "collapsed": false
   },
   "outputs": [
    {
     "data": {
      "text/plain": [
       "<matplotlib.legend.Legend at 0x11c257048>"
      ]
     },
     "execution_count": 247,
     "metadata": {},
     "output_type": "execute_result"
    },
    {
     "data": {
      "image/png": "[encoded data removed]",
      "text/plain": [
       "<matplotlib.figure.Figure at 0x11cefca20>"
      ]
     },
     "metadata": {},
     "output_type": "display_data"
    }
   ],
   "source": [
    "f = plt.figure(figsize=(15,5))\n",
    "plt.plot(range(1, 6), mseTrain, label='Train')\n",
    "plt.plot(range(1, 6), mseVal, label='Val')\n",
    "plt.xlabel('K'); plt.ylabel('MAE')\n",
    "plt.title('KNeigborsRegressor')\n",
    "plt.grid()\n",
    "plt.legend(loc='best')"
   ]
  },
  {
   "cell_type": "markdown",
   "metadata": {},
   "source": [
    "**Paso 4:** Predicción con el modelo entrenado sobre el conjunto de datos test."
   ]
  },
  {
   "cell_type": "code",
   "execution_count": 248,
   "metadata": {
    "collapsed": false
   },
   "outputs": [],
   "source": [
    "predTest = best_model.predict(x_test)"
   ]
  },
  {
   "cell_type": "code",
   "execution_count": 249,
   "metadata": {
    "collapsed": false
   },
   "outputs": [
    {
     "data": {
      "text/plain": [
       "<matplotlib.legend.Legend at 0x11c3d3ba8>"
      ]
     },
     "execution_count": 249,
     "metadata": {},
     "output_type": "execute_result"
    },
    {
     "data": {
      "image/png": "[encoded data removed]",
      "text/plain": [
       "<matplotlib.figure.Figure at 0x11cd475c0>"
      ]
     },
     "metadata": {},
     "output_type": "display_data"
    }
   ],
   "source": [
    "f, ax =  plt.subplots(figsize=(15,5))\n",
    "ax.plot(y_test.flatten(), 'o', label='Test')\n",
    "ax.plot(predTest.flatten(), label='Test_predicted')\n",
    "ax.grid()\n",
    "ax.legend(loc=1)"
   ]
  },
  {
   "cell_type": "code",
   "execution_count": 250,
   "metadata": {
    "collapsed": false
   },
   "outputs": [
    {
     "data": {
      "image/png": "[encoded data removed]",
      "text/plain": [
       "<matplotlib.figure.Figure at 0x11c0a8518>"
      ]
     },
     "metadata": {},
     "output_type": "display_data"
    }
   ],
   "source": [
    "ax = pd.DataFrame({'Real values': y_test.flatten(),\n",
    "                   'Predicted values': predTest.flatten()}).plot(kind='scatter',\n",
    "                                                     x='Real values', \n",
    "                                                     y='Predicted values',\n",
    "                                                     title='KNN - h=1',\n",
    "                                                     grid=True)\n"
   ]
  },
  {
   "cell_type": "code",
   "execution_count": null,
   "metadata": {
    "collapsed": false
   },
   "outputs": [],
   "source": [
    " "
   ]
  },
  {
   "cell_type": "code",
   "execution_count": 251,
   "metadata": {
    "collapsed": false
   },
   "outputs": [
    {
     "data": {
      "text/plain": [
       "'Mean Squared Error: 4.3814733186976484'"
      ]
     },
     "execution_count": 251,
     "metadata": {},
     "output_type": "execute_result"
    }
   ],
   "source": [
    "'Mean Squared Error: {0}'.format(mean_squared_error(y_test.flatten(), \n",
    "                                                    predTest.flatten()))"
   ]
  },
  {
   "cell_type": "markdown",
   "metadata": {},
   "source": [
    "## B) RandomSearch"
   ]
  },
  {
   "cell_type": "code",
   "execution_count": 258,
   "metadata": {
    "collapsed": true
   },
   "outputs": [],
   "source": [
    "param_distribution ={\n",
    "    'n_neighbors' : [i for i in range(2,30)],\n",
    "    #'weights' : ['uniform', 'distance']\n",
    "}    "
   ]
  },
  {
   "cell_type": "code",
   "execution_count": 259,
   "metadata": {
    "collapsed": false
   },
   "outputs": [],
   "source": [
    "n_iter_search = 10\n",
    "random_search = RandomizedSearchCV(KNeighborsRegressor(n_neighbors=2),\n",
    "                                   param_distributions=tuned_parameters,\n",
    "                                   cv=cv_method,\n",
    "                                   #scoring=mean_squared_error,\n",
    "                                   n_iter=n_iter_search,\n",
    "                                   verbose=1)"
   ]
  },
  {
   "cell_type": "code",
   "execution_count": 260,
   "metadata": {
    "collapsed": false
   },
   "outputs": [
    {
     "name": "stdout",
     "output_type": "stream",
     "text": [
      "Fitting 5 folds for each of 10 candidates, totalling 50 fits\n"
     ]
    },
    {
     "ename": "AttributeError",
     "evalue": "'list' object has no attribute 'values'",
     "output_type": "error",
     "traceback": [
      "\u001b[0;31m---------------------------------------------------------------------------\u001b[0m",
      "\u001b[0;31mAttributeError\u001b[0m                            Traceback (most recent call last)",
      "\u001b[0;32m<ipython-input-260-ebf5277aea67>\u001b[0m in \u001b[0;36m<module>\u001b[0;34m()\u001b[0m\n\u001b[0;32m----> 1\u001b[0;31m \u001b[0mrandom_search\u001b[0m\u001b[0;34m.\u001b[0m\u001b[0mfit\u001b[0m\u001b[0;34m(\u001b[0m\u001b[0mx_train\u001b[0m\u001b[0;34m,\u001b[0m \u001b[0my_train\u001b[0m\u001b[0;34m)\u001b[0m\u001b[0;34m\u001b[0m\u001b[0m\n\u001b[0m",
      "\u001b[0;32m/Users/tmorales/interpreters/anaconda3/envs/p3tf1/lib/python3.5/site-packages/sklearn/grid_search.py\u001b[0m in \u001b[0;36mfit\u001b[0;34m(self, X, y)\u001b[0m\n\u001b[1;32m    994\u001b[0m                                           \u001b[0mself\u001b[0m\u001b[0;34m.\u001b[0m\u001b[0mn_iter\u001b[0m\u001b[0;34m,\u001b[0m\u001b[0;34m\u001b[0m\u001b[0m\n\u001b[1;32m    995\u001b[0m                                           random_state=self.random_state)\n\u001b[0;32m--> 996\u001b[0;31m         \u001b[0;32mreturn\u001b[0m \u001b[0mself\u001b[0m\u001b[0;34m.\u001b[0m\u001b[0m_fit\u001b[0m\u001b[0;34m(\u001b[0m\u001b[0mX\u001b[0m\u001b[0;34m,\u001b[0m \u001b[0my\u001b[0m\u001b[0;34m,\u001b[0m \u001b[0msampled_params\u001b[0m\u001b[0;34m)\u001b[0m\u001b[0;34m\u001b[0m\u001b[0m\n\u001b[0m",
      "\u001b[0;32m/Users/tmorales/interpreters/anaconda3/envs/p3tf1/lib/python3.5/site-packages/sklearn/grid_search.py\u001b[0m in \u001b[0;36m_fit\u001b[0;34m(self, X, y, parameter_iterable)\u001b[0m\n\u001b[1;32m    551\u001b[0m                                     \u001b[0mself\u001b[0m\u001b[0;34m.\u001b[0m\u001b[0mfit_params\u001b[0m\u001b[0;34m,\u001b[0m \u001b[0mreturn_parameters\u001b[0m\u001b[0;34m=\u001b[0m\u001b[0;32mTrue\u001b[0m\u001b[0;34m,\u001b[0m\u001b[0;34m\u001b[0m\u001b[0m\n\u001b[1;32m    552\u001b[0m                                     error_score=self.error_score)\n\u001b[0;32m--> 553\u001b[0;31m                 \u001b[0;32mfor\u001b[0m \u001b[0mparameters\u001b[0m \u001b[0;32min\u001b[0m \u001b[0mparameter_iterable\u001b[0m\u001b[0;34m\u001b[0m\u001b[0m\n\u001b[0m\u001b[1;32m    554\u001b[0m                 for train, test in cv)\n\u001b[1;32m    555\u001b[0m \u001b[0;34m\u001b[0m\u001b[0m\n",
      "\u001b[0;32m/Users/tmorales/interpreters/anaconda3/envs/p3tf1/lib/python3.5/site-packages/sklearn/externals/joblib/parallel.py\u001b[0m in \u001b[0;36m__call__\u001b[0;34m(self, iterable)\u001b[0m\n\u001b[1;32m    802\u001b[0m             \u001b[0mself\u001b[0m\u001b[0;34m.\u001b[0m\u001b[0m_iterating\u001b[0m \u001b[0;34m=\u001b[0m \u001b[0;32mTrue\u001b[0m\u001b[0;34m\u001b[0m\u001b[0m\n\u001b[1;32m    803\u001b[0m \u001b[0;34m\u001b[0m\u001b[0m\n\u001b[0;32m--> 804\u001b[0;31m             \u001b[0;32mwhile\u001b[0m \u001b[0mself\u001b[0m\u001b[0;34m.\u001b[0m\u001b[0mdispatch_one_batch\u001b[0m\u001b[0;34m(\u001b[0m\u001b[0miterator\u001b[0m\u001b[0;34m)\u001b[0m\u001b[0;34m:\u001b[0m\u001b[0;34m\u001b[0m\u001b[0m\n\u001b[0m\u001b[1;32m    805\u001b[0m                 \u001b[0;32mpass\u001b[0m\u001b[0;34m\u001b[0m\u001b[0m\n\u001b[1;32m    806\u001b[0m \u001b[0;34m\u001b[0m\u001b[0m\n",
      "\u001b[0;32m/Users/tmorales/interpreters/anaconda3/envs/p3tf1/lib/python3.5/site-packages/sklearn/externals/joblib/parallel.py\u001b[0m in \u001b[0;36mdispatch_one_batch\u001b[0;34m(self, iterator)\u001b[0m\n\u001b[1;32m    655\u001b[0m             \u001b[0mbatch_size\u001b[0m \u001b[0;34m=\u001b[0m \u001b[0mself\u001b[0m\u001b[0;34m.\u001b[0m\u001b[0mbatch_size\u001b[0m\u001b[0;34m\u001b[0m\u001b[0m\n\u001b[1;32m    656\u001b[0m         \u001b[0;32mwith\u001b[0m \u001b[0mself\u001b[0m\u001b[0;34m.\u001b[0m\u001b[0m_lock\u001b[0m\u001b[0;34m:\u001b[0m\u001b[0;34m\u001b[0m\u001b[0m\n\u001b[0;32m--> 657\u001b[0;31m             \u001b[0mtasks\u001b[0m \u001b[0;34m=\u001b[0m \u001b[0mBatchedCalls\u001b[0m\u001b[0;34m(\u001b[0m\u001b[0mitertools\u001b[0m\u001b[0;34m.\u001b[0m\u001b[0mislice\u001b[0m\u001b[0;34m(\u001b[0m\u001b[0miterator\u001b[0m\u001b[0;34m,\u001b[0m \u001b[0mbatch_size\u001b[0m\u001b[0;34m)\u001b[0m\u001b[0;34m)\u001b[0m\u001b[0;34m\u001b[0m\u001b[0m\n\u001b[0m\u001b[1;32m    658\u001b[0m             \u001b[0;32mif\u001b[0m \u001b[0;32mnot\u001b[0m \u001b[0mtasks\u001b[0m\u001b[0;34m:\u001b[0m\u001b[0;34m\u001b[0m\u001b[0m\n\u001b[1;32m    659\u001b[0m                 \u001b[0;31m# No more tasks available in the iterator: tell caller to stop.\u001b[0m\u001b[0;34m\u001b[0m\u001b[0;34m\u001b[0m\u001b[0m\n",
      "\u001b[0;32m/Users/tmorales/interpreters/anaconda3/envs/p3tf1/lib/python3.5/site-packages/sklearn/externals/joblib/parallel.py\u001b[0m in \u001b[0;36m__init__\u001b[0;34m(self, iterator_slice)\u001b[0m\n\u001b[1;32m     66\u001b[0m \u001b[0;34m\u001b[0m\u001b[0m\n\u001b[1;32m     67\u001b[0m     \u001b[0;32mdef\u001b[0m \u001b[0m__init__\u001b[0m\u001b[0;34m(\u001b[0m\u001b[0mself\u001b[0m\u001b[0;34m,\u001b[0m \u001b[0miterator_slice\u001b[0m\u001b[0;34m)\u001b[0m\u001b[0;34m:\u001b[0m\u001b[0;34m\u001b[0m\u001b[0m\n\u001b[0;32m---> 68\u001b[0;31m         \u001b[0mself\u001b[0m\u001b[0;34m.\u001b[0m\u001b[0mitems\u001b[0m \u001b[0;34m=\u001b[0m \u001b[0mlist\u001b[0m\u001b[0;34m(\u001b[0m\u001b[0miterator_slice\u001b[0m\u001b[0;34m)\u001b[0m\u001b[0;34m\u001b[0m\u001b[0m\n\u001b[0m\u001b[1;32m     69\u001b[0m         \u001b[0mself\u001b[0m\u001b[0;34m.\u001b[0m\u001b[0m_size\u001b[0m \u001b[0;34m=\u001b[0m \u001b[0mlen\u001b[0m\u001b[0;34m(\u001b[0m\u001b[0mself\u001b[0m\u001b[0;34m.\u001b[0m\u001b[0mitems\u001b[0m\u001b[0;34m)\u001b[0m\u001b[0;34m\u001b[0m\u001b[0m\n\u001b[1;32m     70\u001b[0m \u001b[0;34m\u001b[0m\u001b[0m\n",
      "\u001b[0;32m/Users/tmorales/interpreters/anaconda3/envs/p3tf1/lib/python3.5/site-packages/sklearn/grid_search.py\u001b[0m in \u001b[0;36m<genexpr>\u001b[0;34m(.0)\u001b[0m\n\u001b[1;32m    547\u001b[0m             \u001b[0mpre_dispatch\u001b[0m\u001b[0;34m=\u001b[0m\u001b[0mpre_dispatch\u001b[0m\u001b[0;34m\u001b[0m\u001b[0m\n\u001b[1;32m    548\u001b[0m         \u001b[0;34m)\u001b[0m\u001b[0;34m(\u001b[0m\u001b[0;34m\u001b[0m\u001b[0m\n\u001b[0;32m--> 549\u001b[0;31m             delayed(_fit_and_score)(clone(base_estimator), X, y, self.scorer_,\n\u001b[0m\u001b[1;32m    550\u001b[0m                                     \u001b[0mtrain\u001b[0m\u001b[0;34m,\u001b[0m \u001b[0mtest\u001b[0m\u001b[0;34m,\u001b[0m \u001b[0mself\u001b[0m\u001b[0;34m.\u001b[0m\u001b[0mverbose\u001b[0m\u001b[0;34m,\u001b[0m \u001b[0mparameters\u001b[0m\u001b[0;34m,\u001b[0m\u001b[0;34m\u001b[0m\u001b[0m\n\u001b[1;32m    551\u001b[0m                                     \u001b[0mself\u001b[0m\u001b[0;34m.\u001b[0m\u001b[0mfit_params\u001b[0m\u001b[0;34m,\u001b[0m \u001b[0mreturn_parameters\u001b[0m\u001b[0;34m=\u001b[0m\u001b[0;32mTrue\u001b[0m\u001b[0;34m,\u001b[0m\u001b[0;34m\u001b[0m\u001b[0m\n",
      "\u001b[0;32m/Users/tmorales/interpreters/anaconda3/envs/p3tf1/lib/python3.5/site-packages/sklearn/grid_search.py\u001b[0m in \u001b[0;36m__iter__\u001b[0;34m(self)\u001b[0m\n\u001b[1;32m    221\u001b[0m         \u001b[0;31m# in this case we want to sample without replacement\u001b[0m\u001b[0;34m\u001b[0m\u001b[0;34m\u001b[0m\u001b[0m\n\u001b[1;32m    222\u001b[0m         all_lists = np.all([not hasattr(v, \"rvs\")\n\u001b[0;32m--> 223\u001b[0;31m                             for v in self.param_distributions.values()])\n\u001b[0m\u001b[1;32m    224\u001b[0m         \u001b[0mrnd\u001b[0m \u001b[0;34m=\u001b[0m \u001b[0mcheck_random_state\u001b[0m\u001b[0;34m(\u001b[0m\u001b[0mself\u001b[0m\u001b[0;34m.\u001b[0m\u001b[0mrandom_state\u001b[0m\u001b[0;34m)\u001b[0m\u001b[0;34m\u001b[0m\u001b[0m\n\u001b[1;32m    225\u001b[0m \u001b[0;34m\u001b[0m\u001b[0m\n",
      "\u001b[0;31mAttributeError\u001b[0m: 'list' object has no attribute 'values'"
     ]
    }
   ],
   "source": [
    "random_search.fit(x_train, y_train)"
   ]
  },
  {
   "cell_type": "code",
   "execution_count": null,
   "metadata": {
    "collapsed": true
   },
   "outputs": [],
   "source": []
  }
 ],
 "metadata": {
  "kernelspec": {
   "display_name": "Python 3.5 + TensorFlow 1.0",
   "language": "python",
   "name": "p3tf1"
  },
  "language_info": {
   "codemirror_mode": {
    "name": "ipython",
    "version": 3
   },
   "file_extension": ".py",
   "mimetype": "text/x-python",
   "name": "python",
   "nbconvert_exporter": "python",
   "pygments_lexer": "ipython3",
   "version": "3.5.3"
  }
 },
 "nbformat": 4,
 "nbformat_minor": 2
}
