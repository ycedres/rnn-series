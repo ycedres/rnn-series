{
 "cells": [
  {
   "cell_type": "markdown",
   "metadata": {},
   "source": [
    "# Descripción de Algoritmos para el análisis de Series Temporales \n",
    "\n",
    "Dentro del análisis de las *Series temporales* el conjunto de algoritmos para la predicción de valores futuros se enmarcan dentro de diferentes disciplinas: la estadística, algoritmos de aprendizaje automático y en el aprendizaje profundo, como un subconjunto de los algoritmos de aprendizaje automático con unas características que lo diferencia del resto de los algoritmos que pretenden obtener información de los propios datos.\n",
    "\n",
    "En este documente se pretende hacer una selección de los principales regresores de cada una de las disciplinas citadas con anterioridad.\n",
    "\n",
    "\n",
    "## Modelos paramétricos y no paramétricos\n",
    "\n",
    "Link: [Web](https://lapastillaroja.net/2015/02/ml-algols/)\n",
    "\n",
    "* Los modelos **paramétricos** son aquellos que asumen que los datos de entrada se distribuyen con una probabilidad que puede ser descrita mediante un conjunto de parámetros.\n",
    "\n",
    "* En los modelos **no paramétricos** la complejida de su espacio de hipótesis crece según lo hace el número de instancias de datos a considerar y no se puede \"comprimir\" en un conjunto de parámetros.\n",
    "\n",
    "Los modelos **paramétricos** son aquellos que asumen que los datos de entrada se distribuyen con una probabilidad que puede ser descrita mediante un conjunto de parámetros. En los modelos **no paramétricos** la complejida de su espacio de hipótesis ad hoc sobre la distribución de los datos son correctas. Pero si la hipotesis son falsas, la capacidades predictivas resulta seriamente mermadas por lo cual lo modelos paramétricos son menos robustos que los no paramétricos."
   ]
  },
  {
   "cell_type": "markdown",
   "metadata": {},
   "source": [
    "## Estadística\n",
    "\n",
    "Se describirán los principales regresores de *estadística*.\n",
    "\n",
    "## Algoritmo de aprendizaje automático\n",
    "\n",
    "Se describirá los principales regresores de *aprendizaje automático*.\n",
    "\n",
    "### 1.- Modelos lineales\n",
    "\n",
    "#### 1.1.- Ordinary Leaest squared\n",
    "\n",
    "#### 1.2.- Ridge\n",
    "\n",
    "#### 1.3.- Laso\n",
    "\n",
    "#### 1.4.- Elastic Net\n",
    "\n",
    "#### 1.5.- Bayesian Regression\n",
    "\n",
    "#### 1.6.- Polynomical Regression: extending linear models  with basic function,\n",
    "\n",
    "#### 1.7.- Kernel Ridge Regression\n",
    "\n",
    "\n",
    "### 2.- Support Vector Regression (SVR)\n",
    "\n",
    " * Linear SVR\n",
    " * NuSVR\n",
    " * SVR\n",
    "\n",
    "### 3.- K-Nearest Neighbors\n",
    "\n",
    "### 4.- Gaussian Processes\n",
    "\n",
    "### 5.- Decision Trees (DTs)\n",
    "\n",
    "### 6.- Ensamble methods\n",
    "\n",
    "#### 6.1.- Averaging methods\n",
    "\n",
    " * Bagging methods\n",
    " * Forest of randomized tree\n",
    "\n",
    "#### 6.2.- Boosting methods\n",
    "\n",
    " * AdaBoost\n",
    " * Gradient Tree Boosting\n",
    "\n",
    "\n",
    "## Algoritmo de aprendizaje profundo\n",
    "\n",
    "Se describirá los principales regresores de *aprendizaje profundo*.\n"
   ]
  },
  {
   "cell_type": "markdown",
   "metadata": {},
   "source": [
    "## Clasificación de los modelos descritos dentro de las categorías paramétricos y no-paramétricos.\n",
    "\n",
    "## Paramétricos \n",
    "\n",
    "\n",
    "## No-paramétricos\n",
    "\n",
    " * K-Nearest Neighbors Regression.\n",
    " * Decision Tress Regression."
   ]
  },
  {
   "cell_type": "code",
   "execution_count": null,
   "metadata": {
    "collapsed": true
   },
   "outputs": [],
   "source": [
    "\n",
    "\n"
   ]
  },
  {
   "cell_type": "code",
   "execution_count": null,
   "metadata": {
    "collapsed": true
   },
   "outputs": [],
   "source": []
  },
  {
   "cell_type": "code",
   "execution_count": null,
   "metadata": {
    "collapsed": true
   },
   "outputs": [],
   "source": []
  },
  {
   "cell_type": "code",
   "execution_count": null,
   "metadata": {
    "collapsed": true
   },
   "outputs": [],
   "source": []
  }
 ],
 "metadata": {
  "kernelspec": {
   "display_name": "Python 3.5 + TensorFlow 1.0",
   "language": "python",
   "name": "p3tf1"
  },
  "language_info": {
   "codemirror_mode": {
    "name": "ipython",
    "version": 3
   },
   "file_extension": ".py",
   "mimetype": "text/x-python",
   "name": "python",
   "nbconvert_exporter": "python",
   "pygments_lexer": "ipython3",
   "version": "3.5.3"
  }
 },
 "nbformat": 4,
 "nbformat_minor": 2
}
