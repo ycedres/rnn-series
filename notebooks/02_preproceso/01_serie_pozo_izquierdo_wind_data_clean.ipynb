{
 "cells": [
  {
   "cell_type": "markdown",
   "metadata": {},
   "source": [
    "# Data Cleaning"
   ]
  },
  {
   "cell_type": "code",
   "execution_count": 70,
   "metadata": {
    "collapsed": true
   },
   "outputs": [],
   "source": [
    "%matplotlib inline\n",
    "import numpy as np\n",
    "import pandas as pd\n",
    "import matplotlib.pyplot as plt\n",
    "plt.style.use('ggplot')"
   ]
  },
  {
   "cell_type": "code",
   "execution_count": 2,
   "metadata": {
    "collapsed": true
   },
   "outputs": [],
   "source": [
    "torre_me = '../../database/torrePozoIzquierdo_JUL_AGO_2004/torreME.txt'\n",
    "torre_ms = '../../database/torrePozoIzquierdo_JUL_AGO_2004/torreMS.txt'"
   ]
  },
  {
   "cell_type": "markdown",
   "metadata": {},
   "source": [
    "## Torre ME"
   ]
  },
  {
   "cell_type": "code",
   "execution_count": 3,
   "metadata": {
    "collapsed": true
   },
   "outputs": [],
   "source": [
    "parse = lambda x: pd.datetime.strptime(x, '%d/%m/%Y %H:%M:%S')\n",
    "df_torre_me = pd.read_csv(torre_me, skiprows=12,  \n",
    "                          delim_whitespace=True, \n",
    "                          header=None, \n",
    "                          names=['day', 'time', 'direccion_viento', 'v_h10', 'v_h20', 'v_h40'],\n",
    "                          parse_dates=[['day', 'time']], \n",
    "                          date_parser=parse,\n",
    "                          index_col=0)"
   ]
  },
  {
   "cell_type": "code",
   "execution_count": 4,
   "metadata": {},
   "outputs": [
    {
     "data": {
      "text/html": [
       "<div>\n",
       "<style>\n",
       "    .dataframe thead tr:only-child th {\n",
       "        text-align: right;\n",
       "    }\n",
       "\n",
       "    .dataframe thead th {\n",
       "        text-align: left;\n",
       "    }\n",
       "\n",
       "    .dataframe tbody tr th {\n",
       "        vertical-align: top;\n",
       "    }\n",
       "</style>\n",
       "<table border=\"1\" class=\"dataframe\">\n",
       "  <thead>\n",
       "    <tr style=\"text-align: right;\">\n",
       "      <th></th>\n",
       "      <th>direccion_viento</th>\n",
       "      <th>v_h10</th>\n",
       "      <th>v_h20</th>\n",
       "      <th>v_h40</th>\n",
       "    </tr>\n",
       "    <tr>\n",
       "      <th>day_time</th>\n",
       "      <th></th>\n",
       "      <th></th>\n",
       "      <th></th>\n",
       "      <th></th>\n",
       "    </tr>\n",
       "  </thead>\n",
       "  <tbody>\n",
       "    <tr>\n",
       "      <th>2004-07-01 00:00:00</th>\n",
       "      <td>55.0</td>\n",
       "      <td>9.3</td>\n",
       "      <td>9.9</td>\n",
       "      <td>9.6</td>\n",
       "    </tr>\n",
       "    <tr>\n",
       "      <th>2004-07-01 00:01:00</th>\n",
       "      <td>54.0</td>\n",
       "      <td>8.7</td>\n",
       "      <td>9.4</td>\n",
       "      <td>9.6</td>\n",
       "    </tr>\n",
       "    <tr>\n",
       "      <th>2004-07-01 00:02:00</th>\n",
       "      <td>54.0</td>\n",
       "      <td>8.7</td>\n",
       "      <td>9.3</td>\n",
       "      <td>9.8</td>\n",
       "    </tr>\n",
       "    <tr>\n",
       "      <th>2004-07-01 00:03:00</th>\n",
       "      <td>53.0</td>\n",
       "      <td>8.8</td>\n",
       "      <td>9.3</td>\n",
       "      <td>9.6</td>\n",
       "    </tr>\n",
       "    <tr>\n",
       "      <th>2004-07-01 00:04:00</th>\n",
       "      <td>52.0</td>\n",
       "      <td>9.9</td>\n",
       "      <td>10.4</td>\n",
       "      <td>10.2</td>\n",
       "    </tr>\n",
       "  </tbody>\n",
       "</table>\n",
       "</div>"
      ],
      "text/plain": [
       "                     direccion_viento  v_h10  v_h20  v_h40\n",
       "day_time                                                  \n",
       "2004-07-01 00:00:00              55.0    9.3    9.9    9.6\n",
       "2004-07-01 00:01:00              54.0    8.7    9.4    9.6\n",
       "2004-07-01 00:02:00              54.0    8.7    9.3    9.8\n",
       "2004-07-01 00:03:00              53.0    8.8    9.3    9.6\n",
       "2004-07-01 00:04:00              52.0    9.9   10.4   10.2"
      ]
     },
     "execution_count": 4,
     "metadata": {},
     "output_type": "execute_result"
    }
   ],
   "source": [
    "df_torre_me.head()"
   ]
  },
  {
   "cell_type": "code",
   "execution_count": 49,
   "metadata": {},
   "outputs": [
    {
     "data": {
      "text/plain": [
       "(87123, 4)"
      ]
     },
     "execution_count": 49,
     "metadata": {},
     "output_type": "execute_result"
    }
   ],
   "source": [
    "df_torre_me.shape"
   ]
  },
  {
   "cell_type": "code",
   "execution_count": 6,
   "metadata": {},
   "outputs": [
    {
     "data": {
      "image/png": "[encoded data removed]",
      "text/plain": [
       "<matplotlib.figure.Figure at 0x1154385c0>"
      ]
     },
     "metadata": {},
     "output_type": "display_data"
    }
   ],
   "source": [
    "df_torre_me[['v_h10', 'v_h20', 'v_h40']].plot(figsize=(20,5));"
   ]
  },
  {
   "cell_type": "code",
   "execution_count": 11,
   "metadata": {
    "collapsed": true
   },
   "outputs": [],
   "source": [
    "# null \n",
    "df_null = df_torre_me[df_torre_me.isnull().any(axis=1)]"
   ]
  },
  {
   "cell_type": "code",
   "execution_count": 12,
   "metadata": {},
   "outputs": [
    {
     "data": {
      "text/html": [
       "<div>\n",
       "<style>\n",
       "    .dataframe thead tr:only-child th {\n",
       "        text-align: right;\n",
       "    }\n",
       "\n",
       "    .dataframe thead th {\n",
       "        text-align: left;\n",
       "    }\n",
       "\n",
       "    .dataframe tbody tr th {\n",
       "        vertical-align: top;\n",
       "    }\n",
       "</style>\n",
       "<table border=\"1\" class=\"dataframe\">\n",
       "  <thead>\n",
       "    <tr style=\"text-align: right;\">\n",
       "      <th></th>\n",
       "      <th>direccion_viento</th>\n",
       "      <th>v_h10</th>\n",
       "      <th>v_h20</th>\n",
       "      <th>v_h40</th>\n",
       "    </tr>\n",
       "    <tr>\n",
       "      <th>day_time</th>\n",
       "      <th></th>\n",
       "      <th></th>\n",
       "      <th></th>\n",
       "      <th></th>\n",
       "    </tr>\n",
       "  </thead>\n",
       "  <tbody>\n",
       "    <tr>\n",
       "      <th>2004-07-09 00:01:00</th>\n",
       "      <td>NaN</td>\n",
       "      <td>NaN</td>\n",
       "      <td>NaN</td>\n",
       "      <td>NaN</td>\n",
       "    </tr>\n",
       "    <tr>\n",
       "      <th>2004-07-29 00:01:00</th>\n",
       "      <td>NaN</td>\n",
       "      <td>NaN</td>\n",
       "      <td>NaN</td>\n",
       "      <td>NaN</td>\n",
       "    </tr>\n",
       "  </tbody>\n",
       "</table>\n",
       "</div>"
      ],
      "text/plain": [
       "                     direccion_viento  v_h10  v_h20  v_h40\n",
       "day_time                                                  \n",
       "2004-07-09 00:01:00               NaN    NaN    NaN    NaN\n",
       "2004-07-29 00:01:00               NaN    NaN    NaN    NaN"
      ]
     },
     "execution_count": 12,
     "metadata": {},
     "output_type": "execute_result"
    }
   ],
   "source": [
    "df_null"
   ]
  },
  {
   "cell_type": "code",
   "execution_count": 39,
   "metadata": {},
   "outputs": [
    {
     "data": {
      "text/html": [
       "<div>\n",
       "<style>\n",
       "    .dataframe thead tr:only-child th {\n",
       "        text-align: right;\n",
       "    }\n",
       "\n",
       "    .dataframe thead th {\n",
       "        text-align: left;\n",
       "    }\n",
       "\n",
       "    .dataframe tbody tr th {\n",
       "        vertical-align: top;\n",
       "    }\n",
       "</style>\n",
       "<table border=\"1\" class=\"dataframe\">\n",
       "  <thead>\n",
       "    <tr style=\"text-align: right;\">\n",
       "      <th></th>\n",
       "      <th>direccion_viento</th>\n",
       "      <th>v_h10</th>\n",
       "      <th>v_h20</th>\n",
       "      <th>v_h40</th>\n",
       "    </tr>\n",
       "    <tr>\n",
       "      <th>day_time</th>\n",
       "      <th></th>\n",
       "      <th></th>\n",
       "      <th></th>\n",
       "      <th></th>\n",
       "    </tr>\n",
       "  </thead>\n",
       "  <tbody>\n",
       "    <tr>\n",
       "      <th>2004-07-09 00:00:00</th>\n",
       "      <td>63.0</td>\n",
       "      <td>12.4</td>\n",
       "      <td>13.1</td>\n",
       "      <td>13.5</td>\n",
       "    </tr>\n",
       "    <tr>\n",
       "      <th>2004-07-09 00:01:00</th>\n",
       "      <td>NaN</td>\n",
       "      <td>NaN</td>\n",
       "      <td>NaN</td>\n",
       "      <td>NaN</td>\n",
       "    </tr>\n",
       "    <tr>\n",
       "      <th>2004-07-09 15:55:00</th>\n",
       "      <td>66.0</td>\n",
       "      <td>16.6</td>\n",
       "      <td>16.6</td>\n",
       "      <td>15.3</td>\n",
       "    </tr>\n",
       "    <tr>\n",
       "      <th>2004-07-09 15:56:00</th>\n",
       "      <td>65.0</td>\n",
       "      <td>15.2</td>\n",
       "      <td>15.7</td>\n",
       "      <td>15.1</td>\n",
       "    </tr>\n",
       "    <tr>\n",
       "      <th>2004-07-09 15:57:00</th>\n",
       "      <td>66.0</td>\n",
       "      <td>14.0</td>\n",
       "      <td>14.2</td>\n",
       "      <td>14.2</td>\n",
       "    </tr>\n",
       "    <tr>\n",
       "      <th>2004-07-09 15:58:00</th>\n",
       "      <td>60.0</td>\n",
       "      <td>14.6</td>\n",
       "      <td>15.5</td>\n",
       "      <td>14.9</td>\n",
       "    </tr>\n",
       "    <tr>\n",
       "      <th>2004-07-09 15:59:00</th>\n",
       "      <td>63.0</td>\n",
       "      <td>14.2</td>\n",
       "      <td>15.1</td>\n",
       "      <td>15.3</td>\n",
       "    </tr>\n",
       "    <tr>\n",
       "      <th>2004-07-09 16:00:00</th>\n",
       "      <td>61.0</td>\n",
       "      <td>14.5</td>\n",
       "      <td>15.7</td>\n",
       "      <td>15.3</td>\n",
       "    </tr>\n",
       "    <tr>\n",
       "      <th>2004-07-09 16:01:00</th>\n",
       "      <td>66.0</td>\n",
       "      <td>13.9</td>\n",
       "      <td>14.2</td>\n",
       "      <td>13.8</td>\n",
       "    </tr>\n",
       "    <tr>\n",
       "      <th>2004-07-09 16:02:00</th>\n",
       "      <td>61.0</td>\n",
       "      <td>14.5</td>\n",
       "      <td>15.6</td>\n",
       "      <td>16.2</td>\n",
       "    </tr>\n",
       "  </tbody>\n",
       "</table>\n",
       "</div>"
      ],
      "text/plain": [
       "                     direccion_viento  v_h10  v_h20  v_h40\n",
       "day_time                                                  \n",
       "2004-07-09 00:00:00              63.0   12.4   13.1   13.5\n",
       "2004-07-09 00:01:00               NaN    NaN    NaN    NaN\n",
       "2004-07-09 15:55:00              66.0   16.6   16.6   15.3\n",
       "2004-07-09 15:56:00              65.0   15.2   15.7   15.1\n",
       "2004-07-09 15:57:00              66.0   14.0   14.2   14.2\n",
       "2004-07-09 15:58:00              60.0   14.6   15.5   14.9\n",
       "2004-07-09 15:59:00              63.0   14.2   15.1   15.3\n",
       "2004-07-09 16:00:00              61.0   14.5   15.7   15.3\n",
       "2004-07-09 16:01:00              66.0   13.9   14.2   13.8\n",
       "2004-07-09 16:02:00              61.0   14.5   15.6   16.2"
      ]
     },
     "execution_count": 39,
     "metadata": {},
     "output_type": "execute_result"
    }
   ],
   "source": [
    "df_torre_me.loc[df_torre_me.index >= '2004-07-09 00:00:00'].head(10)"
   ]
  },
  {
   "cell_type": "code",
   "execution_count": 40,
   "metadata": {},
   "outputs": [
    {
     "data": {
      "text/html": [
       "<div>\n",
       "<style>\n",
       "    .dataframe thead tr:only-child th {\n",
       "        text-align: right;\n",
       "    }\n",
       "\n",
       "    .dataframe thead th {\n",
       "        text-align: left;\n",
       "    }\n",
       "\n",
       "    .dataframe tbody tr th {\n",
       "        vertical-align: top;\n",
       "    }\n",
       "</style>\n",
       "<table border=\"1\" class=\"dataframe\">\n",
       "  <thead>\n",
       "    <tr style=\"text-align: right;\">\n",
       "      <th></th>\n",
       "      <th>direccion_viento</th>\n",
       "      <th>v_h10</th>\n",
       "      <th>v_h20</th>\n",
       "      <th>v_h40</th>\n",
       "    </tr>\n",
       "    <tr>\n",
       "      <th>day_time</th>\n",
       "      <th></th>\n",
       "      <th></th>\n",
       "      <th></th>\n",
       "      <th></th>\n",
       "    </tr>\n",
       "  </thead>\n",
       "  <tbody>\n",
       "    <tr>\n",
       "      <th>2004-07-29 00:01:00</th>\n",
       "      <td>NaN</td>\n",
       "      <td>NaN</td>\n",
       "      <td>NaN</td>\n",
       "      <td>NaN</td>\n",
       "    </tr>\n",
       "    <tr>\n",
       "      <th>2004-07-29 20:05:00</th>\n",
       "      <td>54.0</td>\n",
       "      <td>12.7</td>\n",
       "      <td>13.3</td>\n",
       "      <td>13.6</td>\n",
       "    </tr>\n",
       "    <tr>\n",
       "      <th>2004-07-29 20:06:00</th>\n",
       "      <td>52.0</td>\n",
       "      <td>12.0</td>\n",
       "      <td>13.2</td>\n",
       "      <td>13.6</td>\n",
       "    </tr>\n",
       "    <tr>\n",
       "      <th>2004-07-29 20:07:00</th>\n",
       "      <td>52.0</td>\n",
       "      <td>11.8</td>\n",
       "      <td>13.0</td>\n",
       "      <td>13.4</td>\n",
       "    </tr>\n",
       "    <tr>\n",
       "      <th>2004-07-29 20:08:00</th>\n",
       "      <td>53.0</td>\n",
       "      <td>12.8</td>\n",
       "      <td>13.5</td>\n",
       "      <td>13.6</td>\n",
       "    </tr>\n",
       "    <tr>\n",
       "      <th>2004-07-29 20:09:00</th>\n",
       "      <td>50.0</td>\n",
       "      <td>12.7</td>\n",
       "      <td>13.3</td>\n",
       "      <td>13.7</td>\n",
       "    </tr>\n",
       "    <tr>\n",
       "      <th>2004-07-29 20:10:00</th>\n",
       "      <td>49.0</td>\n",
       "      <td>12.8</td>\n",
       "      <td>13.3</td>\n",
       "      <td>13.8</td>\n",
       "    </tr>\n",
       "    <tr>\n",
       "      <th>2004-07-29 20:11:00</th>\n",
       "      <td>52.0</td>\n",
       "      <td>12.6</td>\n",
       "      <td>13.2</td>\n",
       "      <td>13.6</td>\n",
       "    </tr>\n",
       "    <tr>\n",
       "      <th>2004-07-29 20:12:00</th>\n",
       "      <td>50.0</td>\n",
       "      <td>12.6</td>\n",
       "      <td>13.3</td>\n",
       "      <td>14.3</td>\n",
       "    </tr>\n",
       "    <tr>\n",
       "      <th>2004-07-29 20:13:00</th>\n",
       "      <td>52.0</td>\n",
       "      <td>12.5</td>\n",
       "      <td>13.8</td>\n",
       "      <td>13.8</td>\n",
       "    </tr>\n",
       "  </tbody>\n",
       "</table>\n",
       "</div>"
      ],
      "text/plain": [
       "                     direccion_viento  v_h10  v_h20  v_h40\n",
       "day_time                                                  \n",
       "2004-07-29 00:01:00               NaN    NaN    NaN    NaN\n",
       "2004-07-29 20:05:00              54.0   12.7   13.3   13.6\n",
       "2004-07-29 20:06:00              52.0   12.0   13.2   13.6\n",
       "2004-07-29 20:07:00              52.0   11.8   13.0   13.4\n",
       "2004-07-29 20:08:00              53.0   12.8   13.5   13.6\n",
       "2004-07-29 20:09:00              50.0   12.7   13.3   13.7\n",
       "2004-07-29 20:10:00              49.0   12.8   13.3   13.8\n",
       "2004-07-29 20:11:00              52.0   12.6   13.2   13.6\n",
       "2004-07-29 20:12:00              50.0   12.6   13.3   14.3\n",
       "2004-07-29 20:13:00              52.0   12.5   13.8   13.8"
      ]
     },
     "execution_count": 40,
     "metadata": {},
     "output_type": "execute_result"
    }
   ],
   "source": [
    "df_torre_me.loc[df_torre_me.index >= '2004-07-29 00:01:00'].head(10)"
   ]
  },
  {
   "cell_type": "code",
   "execution_count": 43,
   "metadata": {},
   "outputs": [
    {
     "name": "stdout",
     "output_type": "stream",
     "text": [
      "2004-07-01 00:00:00\n",
      "2004-08-31 23:58:00\n"
     ]
    }
   ],
   "source": [
    "# create a reañl time index to merge\n",
    "print(df_torre_me.index[0])\n",
    "print(df_torre_me.index[-1])"
   ]
  },
  {
   "cell_type": "code",
   "execution_count": 47,
   "metadata": {},
   "outputs": [
    {
     "data": {
      "text/plain": [
       "DatetimeIndex(['2004-07-01 00:00:00', '2004-07-01 00:01:00',\n",
       "               '2004-07-01 00:02:00', '2004-07-01 00:03:00',\n",
       "               '2004-07-01 00:04:00', '2004-07-01 00:05:00',\n",
       "               '2004-07-01 00:06:00', '2004-07-01 00:07:00',\n",
       "               '2004-07-01 00:08:00', '2004-07-01 00:09:00',\n",
       "               ...\n",
       "               '2004-08-31 23:49:00', '2004-08-31 23:50:00',\n",
       "               '2004-08-31 23:51:00', '2004-08-31 23:52:00',\n",
       "               '2004-08-31 23:53:00', '2004-08-31 23:54:00',\n",
       "               '2004-08-31 23:55:00', '2004-08-31 23:56:00',\n",
       "               '2004-08-31 23:57:00', '2004-08-31 23:58:00'],\n",
       "              dtype='datetime64[ns]', length=89279, freq='T')"
      ]
     },
     "execution_count": 47,
     "metadata": {},
     "output_type": "execute_result"
    }
   ],
   "source": [
    "real_index = pd.date_range('2004-07-01 00:00:00', '2004-08-31 23:58:00', freq=\"1min\")\n",
    "real_index"
   ]
  },
  {
   "cell_type": "code",
   "execution_count": 48,
   "metadata": {},
   "outputs": [
    {
     "data": {
      "text/plain": [
       "89279"
      ]
     },
     "execution_count": 48,
     "metadata": {},
     "output_type": "execute_result"
    }
   ],
   "source": [
    "len(real_index)"
   ]
  },
  {
   "cell_type": "markdown",
   "metadata": {},
   "source": [
    "El dataset original tiene **87123** registros pero el índice real **89279**. Faltan **2156** registros."
   ]
  },
  {
   "cell_type": "code",
   "execution_count": 50,
   "metadata": {},
   "outputs": [
    {
     "data": {
      "text/plain": [
       "2156"
      ]
     },
     "execution_count": 50,
     "metadata": {},
     "output_type": "execute_result"
    }
   ],
   "source": [
    "89279 - 87123"
   ]
  },
  {
   "cell_type": "markdown",
   "metadata": {},
   "source": [
    "### Cómo identificar valores nulos de medida"
   ]
  },
  {
   "cell_type": "code",
   "execution_count": 55,
   "metadata": {},
   "outputs": [
    {
     "data": {
      "text/html": [
       "<div>\n",
       "<style>\n",
       "    .dataframe thead tr:only-child th {\n",
       "        text-align: right;\n",
       "    }\n",
       "\n",
       "    .dataframe thead th {\n",
       "        text-align: left;\n",
       "    }\n",
       "\n",
       "    .dataframe tbody tr th {\n",
       "        vertical-align: top;\n",
       "    }\n",
       "</style>\n",
       "<table border=\"1\" class=\"dataframe\">\n",
       "  <thead>\n",
       "    <tr style=\"text-align: right;\">\n",
       "      <th></th>\n",
       "    </tr>\n",
       "  </thead>\n",
       "  <tbody>\n",
       "    <tr>\n",
       "      <th>2004-07-01 00:00:00</th>\n",
       "    </tr>\n",
       "    <tr>\n",
       "      <th>2004-07-01 00:01:00</th>\n",
       "    </tr>\n",
       "    <tr>\n",
       "      <th>2004-07-01 00:02:00</th>\n",
       "    </tr>\n",
       "    <tr>\n",
       "      <th>2004-07-01 00:03:00</th>\n",
       "    </tr>\n",
       "    <tr>\n",
       "      <th>2004-07-01 00:04:00</th>\n",
       "    </tr>\n",
       "    <tr>\n",
       "      <th>2004-07-01 00:05:00</th>\n",
       "    </tr>\n",
       "  </tbody>\n",
       "</table>\n",
       "</div>"
      ],
      "text/plain": [
       "Empty DataFrame\n",
       "Columns: []\n",
       "Index: [2004-07-01 00:00:00, 2004-07-01 00:01:00, 2004-07-01 00:02:00, 2004-07-01 00:03:00, 2004-07-01 00:04:00, 2004-07-01 00:05:00]"
      ]
     },
     "execution_count": 55,
     "metadata": {},
     "output_type": "execute_result"
    }
   ],
   "source": [
    "true_index = pd.date_range('2004-07-01 00:00:00', '2004-07-01 00:05:00', freq=\"1min\")\n",
    "true_df = pd.DataFrame(index=true_index)\n",
    "true_df"
   ]
  },
  {
   "cell_type": "code",
   "execution_count": 60,
   "metadata": {},
   "outputs": [
    {
     "data": {
      "text/html": [
       "<div>\n",
       "<style>\n",
       "    .dataframe thead tr:only-child th {\n",
       "        text-align: right;\n",
       "    }\n",
       "\n",
       "    .dataframe thead th {\n",
       "        text-align: left;\n",
       "    }\n",
       "\n",
       "    .dataframe tbody tr th {\n",
       "        vertical-align: top;\n",
       "    }\n",
       "</style>\n",
       "<table border=\"1\" class=\"dataframe\">\n",
       "  <thead>\n",
       "    <tr style=\"text-align: right;\">\n",
       "      <th></th>\n",
       "      <th>t</th>\n",
       "    </tr>\n",
       "  </thead>\n",
       "  <tbody>\n",
       "    <tr>\n",
       "      <th>2004-07-01 00:00:00</th>\n",
       "      <td>2</td>\n",
       "    </tr>\n",
       "    <tr>\n",
       "      <th>2004-07-01 00:01:00</th>\n",
       "      <td>3</td>\n",
       "    </tr>\n",
       "    <tr>\n",
       "      <th>2004-07-01 00:02:00</th>\n",
       "      <td>7</td>\n",
       "    </tr>\n",
       "  </tbody>\n",
       "</table>\n",
       "</div>"
      ],
      "text/plain": [
       "                     t\n",
       "2004-07-01 00:00:00  2\n",
       "2004-07-01 00:01:00  3\n",
       "2004-07-01 00:02:00  7"
      ]
     },
     "execution_count": 60,
     "metadata": {},
     "output_type": "execute_result"
    }
   ],
   "source": [
    "worng_index = pd.date_range('2004-07-01 00:00:00', '2004-07-01 00:02:00', freq=\"1min\")\n",
    "worng_df = pd.DataFrame([2,3,7], columns=['t'], index=worng_index)\n",
    "worng_df"
   ]
  },
  {
   "cell_type": "code",
   "execution_count": 62,
   "metadata": {},
   "outputs": [
    {
     "data": {
      "text/html": [
       "<div>\n",
       "<style>\n",
       "    .dataframe thead tr:only-child th {\n",
       "        text-align: right;\n",
       "    }\n",
       "\n",
       "    .dataframe thead th {\n",
       "        text-align: left;\n",
       "    }\n",
       "\n",
       "    .dataframe tbody tr th {\n",
       "        vertical-align: top;\n",
       "    }\n",
       "</style>\n",
       "<table border=\"1\" class=\"dataframe\">\n",
       "  <thead>\n",
       "    <tr style=\"text-align: right;\">\n",
       "      <th></th>\n",
       "      <th>t</th>\n",
       "    </tr>\n",
       "  </thead>\n",
       "  <tbody>\n",
       "    <tr>\n",
       "      <th>2004-07-01 00:00:00</th>\n",
       "      <td>2.0</td>\n",
       "    </tr>\n",
       "    <tr>\n",
       "      <th>2004-07-01 00:01:00</th>\n",
       "      <td>3.0</td>\n",
       "    </tr>\n",
       "    <tr>\n",
       "      <th>2004-07-01 00:02:00</th>\n",
       "      <td>7.0</td>\n",
       "    </tr>\n",
       "    <tr>\n",
       "      <th>2004-07-01 00:03:00</th>\n",
       "      <td>NaN</td>\n",
       "    </tr>\n",
       "    <tr>\n",
       "      <th>2004-07-01 00:04:00</th>\n",
       "      <td>NaN</td>\n",
       "    </tr>\n",
       "    <tr>\n",
       "      <th>2004-07-01 00:05:00</th>\n",
       "      <td>NaN</td>\n",
       "    </tr>\n",
       "  </tbody>\n",
       "</table>\n",
       "</div>"
      ],
      "text/plain": [
       "                       t\n",
       "2004-07-01 00:00:00  2.0\n",
       "2004-07-01 00:01:00  3.0\n",
       "2004-07-01 00:02:00  7.0\n",
       "2004-07-01 00:03:00  NaN\n",
       "2004-07-01 00:04:00  NaN\n",
       "2004-07-01 00:05:00  NaN"
      ]
     },
     "execution_count": 62,
     "metadata": {},
     "output_type": "execute_result"
    }
   ],
   "source": [
    "df_join = pd.concat([true_df, worng_df], axis=1, join='outer')\n",
    "df_join"
   ]
  },
  {
   "cell_type": "code",
   "execution_count": 63,
   "metadata": {},
   "outputs": [
    {
     "data": {
      "text/html": [
       "<div>\n",
       "<style>\n",
       "    .dataframe thead tr:only-child th {\n",
       "        text-align: right;\n",
       "    }\n",
       "\n",
       "    .dataframe thead th {\n",
       "        text-align: left;\n",
       "    }\n",
       "\n",
       "    .dataframe tbody tr th {\n",
       "        vertical-align: top;\n",
       "    }\n",
       "</style>\n",
       "<table border=\"1\" class=\"dataframe\">\n",
       "  <thead>\n",
       "    <tr style=\"text-align: right;\">\n",
       "      <th></th>\n",
       "      <th>t</th>\n",
       "    </tr>\n",
       "  </thead>\n",
       "  <tbody>\n",
       "    <tr>\n",
       "      <th>2004-07-01 00:03:00</th>\n",
       "      <td>NaN</td>\n",
       "    </tr>\n",
       "    <tr>\n",
       "      <th>2004-07-01 00:04:00</th>\n",
       "      <td>NaN</td>\n",
       "    </tr>\n",
       "    <tr>\n",
       "      <th>2004-07-01 00:05:00</th>\n",
       "      <td>NaN</td>\n",
       "    </tr>\n",
       "  </tbody>\n",
       "</table>\n",
       "</div>"
      ],
      "text/plain": [
       "                      t\n",
       "2004-07-01 00:03:00 NaN\n",
       "2004-07-01 00:04:00 NaN\n",
       "2004-07-01 00:05:00 NaN"
      ]
     },
     "execution_count": 63,
     "metadata": {},
     "output_type": "execute_result"
    }
   ],
   "source": [
    "df_join[df_join.isnull().any(axis=1)]"
   ]
  },
  {
   "cell_type": "code",
   "execution_count": 66,
   "metadata": {},
   "outputs": [
    {
     "name": "stdout",
     "output_type": "stream",
     "text": [
      "2004-07-01 00:03:00\n",
      "2004-07-01 00:04:00\n",
      "2004-07-01 00:05:00\n"
     ]
    }
   ],
   "source": [
    "index_null = df_join[df_join.isnull().any(axis=1)].index\n",
    "for i in index_null:\n",
    "    print(i)"
   ]
  },
  {
   "cell_type": "markdown",
   "metadata": {},
   "source": [
    "### * Seleccionar las mismas horas para un interpolar un valor no medido a partir de otros"
   ]
  },
  {
   "cell_type": "code",
   "execution_count": 75,
   "metadata": {},
   "outputs": [
    {
     "data": {
      "text/html": [
       "<div>\n",
       "<style>\n",
       "    .dataframe thead tr:only-child th {\n",
       "        text-align: right;\n",
       "    }\n",
       "\n",
       "    .dataframe thead th {\n",
       "        text-align: left;\n",
       "    }\n",
       "\n",
       "    .dataframe tbody tr th {\n",
       "        vertical-align: top;\n",
       "    }\n",
       "</style>\n",
       "<table border=\"1\" class=\"dataframe\">\n",
       "  <thead>\n",
       "    <tr style=\"text-align: right;\">\n",
       "      <th></th>\n",
       "      <th>values</th>\n",
       "    </tr>\n",
       "  </thead>\n",
       "  <tbody>\n",
       "    <tr>\n",
       "      <th>2004-07-01 00:00:00</th>\n",
       "      <td>0.908371</td>\n",
       "    </tr>\n",
       "    <tr>\n",
       "      <th>2004-07-01 00:01:00</th>\n",
       "      <td>0.039301</td>\n",
       "    </tr>\n",
       "    <tr>\n",
       "      <th>2004-07-01 00:02:00</th>\n",
       "      <td>-0.804319</td>\n",
       "    </tr>\n",
       "    <tr>\n",
       "      <th>2004-07-01 00:03:00</th>\n",
       "      <td>1.111397</td>\n",
       "    </tr>\n",
       "    <tr>\n",
       "      <th>2004-07-01 00:04:00</th>\n",
       "      <td>-1.095581</td>\n",
       "    </tr>\n",
       "  </tbody>\n",
       "</table>\n",
       "</div>"
      ],
      "text/plain": [
       "                       values\n",
       "2004-07-01 00:00:00  0.908371\n",
       "2004-07-01 00:01:00  0.039301\n",
       "2004-07-01 00:02:00 -0.804319\n",
       "2004-07-01 00:03:00  1.111397\n",
       "2004-07-01 00:04:00 -1.095581"
      ]
     },
     "execution_count": 75,
     "metadata": {},
     "output_type": "execute_result"
    }
   ],
   "source": [
    "index = pd.date_range('2004-07-01 00:00:00', '2004-07-10 00:00:00', freq=\"1min\")\n",
    "df = pd.DataFrame(np.random.randn(len(index)), columns=['values'], index=index)\n",
    "df.head()"
   ]
  },
  {
   "cell_type": "code",
   "execution_count": 81,
   "metadata": {
    "collapsed": true
   },
   "outputs": [],
   "source": [
    "df.loc['2004-07-05 00:05:00'] = np.nan"
   ]
  },
  {
   "cell_type": "code",
   "execution_count": 155,
   "metadata": {},
   "outputs": [
    {
     "data": {
      "text/plain": [
       "DatetimeIndex(['2004-07-01 00:04:00', '2004-07-05 00:05:00'], dtype='datetime64[ns]', freq='5761T')"
      ]
     },
     "execution_count": 155,
     "metadata": {},
     "output_type": "execute_result"
    }
   ],
   "source": [
    "worng_index = df[df.isnull().any(axis=1)].index\n",
    "worng_index"
   ]
  },
  {
   "cell_type": "code",
   "execution_count": 147,
   "metadata": {},
   "outputs": [
    {
     "data": {
      "text/plain": [
       "values   NaN\n",
       "Name: 2004-07-05 00:05:00, dtype: float64"
      ]
     },
     "execution_count": 147,
     "metadata": {},
     "output_type": "execute_result"
    }
   ],
   "source": [
    "df.loc[worng_index[1]] "
   ]
  },
  {
   "cell_type": "code",
   "execution_count": 179,
   "metadata": {},
   "outputs": [
    {
     "data": {
      "text/plain": [
       "Timestamp('2004-07-05 00:05:00', freq='5761T')"
      ]
     },
     "execution_count": 179,
     "metadata": {},
     "output_type": "execute_result"
    }
   ],
   "source": [
    "worng_index[1]"
   ]
  },
  {
   "cell_type": "code",
   "execution_count": 173,
   "metadata": {
    "collapsed": true
   },
   "outputs": [],
   "source": [
    "worng_day = worng_index[1].day\n",
    "worng_day_start = worng_day - 4\n",
    "worng_day_end= worng_day + 4"
   ]
  },
  {
   "cell_type": "code",
   "execution_count": 175,
   "metadata": {},
   "outputs": [
    {
     "data": {
      "text/plain": [
       "Timestamp('2004-07-05 00:05:00', freq='5761T')"
      ]
     },
     "execution_count": 175,
     "metadata": {},
     "output_type": "execute_result"
    }
   ],
   "source": [
    "worng_index[1] + "
   ]
  },
  {
   "cell_type": "code",
   "execution_count": null,
   "metadata": {
    "collapsed": true
   },
   "outputs": [],
   "source": [
    " "
   ]
  },
  {
   "cell_type": "code",
   "execution_count": null,
   "metadata": {
    "collapsed": true
   },
   "outputs": [],
   "source": []
  }
 ],
 "metadata": {
  "kernelspec": {
   "display_name": "Python 3",
   "language": "python",
   "name": "python3"
  },
  "language_info": {
   "codemirror_mode": {
    "name": "ipython",
    "version": 3
   },
   "file_extension": ".py",
   "mimetype": "text/x-python",
   "name": "python",
   "nbconvert_exporter": "python",
   "pygments_lexer": "ipython3",
   "version": "3.6.0"
  }
 },
 "nbformat": 4,
 "nbformat_minor": 2
}
