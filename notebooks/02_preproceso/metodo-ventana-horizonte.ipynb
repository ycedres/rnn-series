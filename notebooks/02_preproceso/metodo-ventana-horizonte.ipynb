{
 "cells": [
  {
   "cell_type": "markdown",
   "metadata": {},
   "source": [
    "<h1 align=center>Análisis Serie Temporal</h1>\n",
    "\n",
    "<h2 align=center>Método de la ventana y horizonte</h2>\n",
    "\n",
    "\n",
    "\n",
    "Serie temporal de estudio: **Hourly wind capacity factors for the EU-28 plus Norway and Switzerland**.\n",
    "\n",
    "   1.- Representación gráfica de la red.\n",
    "    \n",
    "   2.- Separación de la serie en *train* y *test*.\n",
    "    \n",
    "   3.- Generación de Features: método de la ventana.\n",
    "    \n",
    "   4.- Normalización de los datos"
   ]
  },
  {
   "cell_type": "code",
   "execution_count": 1,
   "metadata": {
    "collapsed": true
   },
   "outputs": [],
   "source": [
    "%matplotlib inline\n",
    "import os\n",
    "import datetime as dt\n",
    "import numpy as np\n",
    "import pandas as pd\n",
    "import matplotlib.pylab as plt\n",
    "\n",
    "from IPython.display import Image\n",
    "from sklearn.cross_validation import train_test_split"
   ]
  },
  {
   "cell_type": "code",
   "execution_count": 2,
   "metadata": {
    "collapsed": true
   },
   "outputs": [],
   "source": [
    "PATH = '../data/renewablesNinja'\n",
    "PLOT_PATH = '../../plots/experiments/'\n",
    "FOLDER = 'ninja_europe_wind'\n",
    "FILE = 'renewables_ninja_europe_wind_output_1_current.csv'\n",
    "\n",
    "fileName = os.path.join(PATH, FOLDER, FILE)"
   ]
  },
  {
   "cell_type": "markdown",
   "metadata": {},
   "source": [
    "## 1.-) Cargamos los datos y dibujamos la serie"
   ]
  },
  {
   "cell_type": "code",
   "execution_count": 3,
   "metadata": {
    "collapsed": false
   },
   "outputs": [
    {
     "data": {
      "text/html": [
       "<div>\n",
       "<table border=\"1\" class=\"dataframe\">\n",
       "  <thead>\n",
       "    <tr style=\"text-align: right;\">\n",
       "      <th></th>\n",
       "      <th>Austria</th>\n",
       "      <th>Belgium</th>\n",
       "      <th>Bulgaria</th>\n",
       "      <th>Croatia</th>\n",
       "      <th>Cyprus</th>\n",
       "      <th>Czech Republic</th>\n",
       "      <th>Denmark</th>\n",
       "      <th>Estonia</th>\n",
       "      <th>Finland</th>\n",
       "      <th>France</th>\n",
       "      <th>...</th>\n",
       "      <th>Netherlands</th>\n",
       "      <th>Norway</th>\n",
       "      <th>Poland</th>\n",
       "      <th>Portugal</th>\n",
       "      <th>Romania</th>\n",
       "      <th>Slovakia</th>\n",
       "      <th>Slovenia</th>\n",
       "      <th>Spain</th>\n",
       "      <th>Sweden</th>\n",
       "      <th>Switzerland</th>\n",
       "    </tr>\n",
       "    <tr>\n",
       "      <th>GMT</th>\n",
       "      <th></th>\n",
       "      <th></th>\n",
       "      <th></th>\n",
       "      <th></th>\n",
       "      <th></th>\n",
       "      <th></th>\n",
       "      <th></th>\n",
       "      <th></th>\n",
       "      <th></th>\n",
       "      <th></th>\n",
       "      <th></th>\n",
       "      <th></th>\n",
       "      <th></th>\n",
       "      <th></th>\n",
       "      <th></th>\n",
       "      <th></th>\n",
       "      <th></th>\n",
       "      <th></th>\n",
       "      <th></th>\n",
       "      <th></th>\n",
       "      <th></th>\n",
       "    </tr>\n",
       "  </thead>\n",
       "  <tbody>\n",
       "    <tr>\n",
       "      <th>1985-01-01 00:00:00</th>\n",
       "      <td>0.058673</td>\n",
       "      <td>0.502539</td>\n",
       "      <td>0.597301</td>\n",
       "      <td>0.192928</td>\n",
       "      <td>0.078246</td>\n",
       "      <td>0.163293</td>\n",
       "      <td>0.219672</td>\n",
       "      <td>0.074725</td>\n",
       "      <td>0.366605</td>\n",
       "      <td>0.262500</td>\n",
       "      <td>...</td>\n",
       "      <td>0.487281</td>\n",
       "      <td>0.373055</td>\n",
       "      <td>0.187184</td>\n",
       "      <td>0.254569</td>\n",
       "      <td>0.319624</td>\n",
       "      <td>0.031699</td>\n",
       "      <td>0.233739</td>\n",
       "      <td>0.357391</td>\n",
       "      <td>0.266999</td>\n",
       "      <td>0.080952</td>\n",
       "    </tr>\n",
       "    <tr>\n",
       "      <th>1985-01-01 01:00:00</th>\n",
       "      <td>0.051473</td>\n",
       "      <td>0.536551</td>\n",
       "      <td>0.593594</td>\n",
       "      <td>0.182456</td>\n",
       "      <td>0.073624</td>\n",
       "      <td>0.174472</td>\n",
       "      <td>0.229487</td>\n",
       "      <td>0.075825</td>\n",
       "      <td>0.358066</td>\n",
       "      <td>0.271736</td>\n",
       "      <td>...</td>\n",
       "      <td>0.524175</td>\n",
       "      <td>0.360592</td>\n",
       "      <td>0.186973</td>\n",
       "      <td>0.226412</td>\n",
       "      <td>0.311763</td>\n",
       "      <td>0.031273</td>\n",
       "      <td>0.228339</td>\n",
       "      <td>0.334591</td>\n",
       "      <td>0.263941</td>\n",
       "      <td>0.094747</td>\n",
       "    </tr>\n",
       "    <tr>\n",
       "      <th>1985-01-01 02:00:00</th>\n",
       "      <td>0.047168</td>\n",
       "      <td>0.575349</td>\n",
       "      <td>0.584599</td>\n",
       "      <td>0.169839</td>\n",
       "      <td>0.057452</td>\n",
       "      <td>0.189036</td>\n",
       "      <td>0.245597</td>\n",
       "      <td>0.076584</td>\n",
       "      <td>0.353883</td>\n",
       "      <td>0.285842</td>\n",
       "      <td>...</td>\n",
       "      <td>0.557647</td>\n",
       "      <td>0.351483</td>\n",
       "      <td>0.184407</td>\n",
       "      <td>0.209310</td>\n",
       "      <td>0.298303</td>\n",
       "      <td>0.030340</td>\n",
       "      <td>0.222214</td>\n",
       "      <td>0.313906</td>\n",
       "      <td>0.261618</td>\n",
       "      <td>0.114087</td>\n",
       "    </tr>\n",
       "    <tr>\n",
       "      <th>1985-01-01 03:00:00</th>\n",
       "      <td>0.046772</td>\n",
       "      <td>0.618309</td>\n",
       "      <td>0.560153</td>\n",
       "      <td>0.158150</td>\n",
       "      <td>0.046010</td>\n",
       "      <td>0.197187</td>\n",
       "      <td>0.268387</td>\n",
       "      <td>0.075107</td>\n",
       "      <td>0.362064</td>\n",
       "      <td>0.307607</td>\n",
       "      <td>...</td>\n",
       "      <td>0.583784</td>\n",
       "      <td>0.356610</td>\n",
       "      <td>0.178373</td>\n",
       "      <td>0.200416</td>\n",
       "      <td>0.275352</td>\n",
       "      <td>0.027062</td>\n",
       "      <td>0.221755</td>\n",
       "      <td>0.283218</td>\n",
       "      <td>0.267271</td>\n",
       "      <td>0.137718</td>\n",
       "    </tr>\n",
       "    <tr>\n",
       "      <th>1985-01-01 04:00:00</th>\n",
       "      <td>0.049825</td>\n",
       "      <td>0.651812</td>\n",
       "      <td>0.534090</td>\n",
       "      <td>0.141470</td>\n",
       "      <td>0.043563</td>\n",
       "      <td>0.206275</td>\n",
       "      <td>0.296421</td>\n",
       "      <td>0.073350</td>\n",
       "      <td>0.375112</td>\n",
       "      <td>0.328046</td>\n",
       "      <td>...</td>\n",
       "      <td>0.594067</td>\n",
       "      <td>0.367233</td>\n",
       "      <td>0.168056</td>\n",
       "      <td>0.195278</td>\n",
       "      <td>0.253577</td>\n",
       "      <td>0.027707</td>\n",
       "      <td>0.213890</td>\n",
       "      <td>0.252073</td>\n",
       "      <td>0.277248</td>\n",
       "      <td>0.152246</td>\n",
       "    </tr>\n",
       "  </tbody>\n",
       "</table>\n",
       "<p>5 rows × 30 columns</p>\n",
       "</div>"
      ],
      "text/plain": [
       "                      Austria   Belgium  Bulgaria   Croatia    Cyprus  \\\n",
       "GMT                                                                     \n",
       "1985-01-01 00:00:00  0.058673  0.502539  0.597301  0.192928  0.078246   \n",
       "1985-01-01 01:00:00  0.051473  0.536551  0.593594  0.182456  0.073624   \n",
       "1985-01-01 02:00:00  0.047168  0.575349  0.584599  0.169839  0.057452   \n",
       "1985-01-01 03:00:00  0.046772  0.618309  0.560153  0.158150  0.046010   \n",
       "1985-01-01 04:00:00  0.049825  0.651812  0.534090  0.141470  0.043563   \n",
       "\n",
       "                     Czech Republic   Denmark   Estonia   Finland    France  \\\n",
       "GMT                                                                           \n",
       "1985-01-01 00:00:00        0.163293  0.219672  0.074725  0.366605  0.262500   \n",
       "1985-01-01 01:00:00        0.174472  0.229487  0.075825  0.358066  0.271736   \n",
       "1985-01-01 02:00:00        0.189036  0.245597  0.076584  0.353883  0.285842   \n",
       "1985-01-01 03:00:00        0.197187  0.268387  0.075107  0.362064  0.307607   \n",
       "1985-01-01 04:00:00        0.206275  0.296421  0.073350  0.375112  0.328046   \n",
       "\n",
       "                         ...       Netherlands   Norway     Poland  Portugal  \\\n",
       "GMT                      ...                                                   \n",
       "1985-01-01 00:00:00      ...          0.487281  0.373055  0.187184  0.254569   \n",
       "1985-01-01 01:00:00      ...          0.524175  0.360592  0.186973  0.226412   \n",
       "1985-01-01 02:00:00      ...          0.557647  0.351483  0.184407  0.209310   \n",
       "1985-01-01 03:00:00      ...          0.583784  0.356610  0.178373  0.200416   \n",
       "1985-01-01 04:00:00      ...          0.594067  0.367233  0.168056  0.195278   \n",
       "\n",
       "                      Romania  Slovakia  Slovenia     Spain    Sweden  \\\n",
       "GMT                                                                     \n",
       "1985-01-01 00:00:00  0.319624  0.031699  0.233739  0.357391  0.266999   \n",
       "1985-01-01 01:00:00  0.311763  0.031273  0.228339  0.334591  0.263941   \n",
       "1985-01-01 02:00:00  0.298303  0.030340  0.222214  0.313906  0.261618   \n",
       "1985-01-01 03:00:00  0.275352  0.027062  0.221755  0.283218  0.267271   \n",
       "1985-01-01 04:00:00  0.253577  0.027707  0.213890  0.252073  0.277248   \n",
       "\n",
       "                     Switzerland   \n",
       "GMT                                \n",
       "1985-01-01 00:00:00      0.080952  \n",
       "1985-01-01 01:00:00      0.094747  \n",
       "1985-01-01 02:00:00      0.114087  \n",
       "1985-01-01 03:00:00      0.137718  \n",
       "1985-01-01 04:00:00      0.152246  \n",
       "\n",
       "[5 rows x 30 columns]"
      ]
     },
     "execution_count": 3,
     "metadata": {},
     "output_type": "execute_result"
    }
   ],
   "source": [
    "dateparse = lambda x: pd.datetime.strptime(x, '%d/%m/%Y %H:%M')\n",
    "\n",
    "windCurrent = pd.read_csv(fileName, \n",
    "                          parse_dates=['GMT'], date_parser=dateparse, \n",
    "                          index_col=0)\n",
    "windCurrent.head()"
   ]
  },
  {
   "cell_type": "code",
   "execution_count": 4,
   "metadata": {
    "collapsed": false
   },
   "outputs": [],
   "source": [
    "wc_spain=windCurrent[['Spain']]"
   ]
  },
  {
   "cell_type": "code",
   "execution_count": 5,
   "metadata": {
    "collapsed": false
   },
   "outputs": [
    {
     "data": {
      "text/plain": [
       "<matplotlib.text.Text at 0x11d33abe0>"
      ]
     },
     "execution_count": 5,
     "metadata": {},
     "output_type": "execute_result"
    },
    {
     "data": {
      "image/png": "[encoded data removed]",
      "text/plain": [
       "<matplotlib.figure.Figure at 0x116d6cc18>"
      ]
     },
     "metadata": {},
     "output_type": "display_data"
    }
   ],
   "source": [
    "# \n",
    "# Seleccionamos un año determinado\n",
    "#\n",
    "es_wc_2013= windCurrent[['Spain']].loc['2013-01-01 00:00:00':'2013-12-31 23:00:00']\n",
    "ax= es_wc_2013.plot(figsize=(15,5), \n",
    "                    ylim=(0,1),\n",
    "                    title='Spain: 2103-01 : 2013-12')\n",
    "ax.set_ylabel('wind capacity')"
   ]
  },
  {
   "cell_type": "markdown",
   "metadata": {},
   "source": [
    "## 2.-) Generación de features"
   ]
  },
  {
   "cell_type": "code",
   "execution_count": 84,
   "metadata": {
    "collapsed": true
   },
   "outputs": [],
   "source": [
    "def features_generator(ts, feature_window=10, horizont=1, padding=0):\n",
    "    \"\"\"\n",
    "    \n",
    "    \"\"\"\n",
    "    timesteps = len(ts) - (feature_window + horizont + padding - 1)\n",
    "    \n",
    "    features = np.zeros((timesteps, feature_window), dtype = np.float32)\n",
    "    \n",
    "    for t in range(padding, timesteps):\n",
    "        # features\n",
    "        features[t][0: feature_window] = ts[t : t+feature_window]\n",
    "        \n",
    "    return features\n",
    "\n",
    "\n",
    "def labels_generator(ts, feature_window=10, horizont=1, padding=0):\n",
    "    \"\"\"\n",
    "    \n",
    "    \"\"\"\n",
    "    timesteps = len(ts) - (feature_window + horizont + padding - 1)\n",
    "    \n",
    "    labels = np.zeros((timesteps), dtype=np.float32)\n",
    "    \n",
    "    for t in range(padding, timesteps):\n",
    "        # labels\n",
    "        offset = t + feature_window + horizont - 1\n",
    "        labels[t] = ts[offset]\n",
    "        \n",
    "    return labels"
   ]
  },
  {
   "cell_type": "code",
   "execution_count": 35,
   "metadata": {
    "collapsed": false
   },
   "outputs": [],
   "source": [
    "features, h1 = preproceso_window(es_wc_2013['Spain'].values)"
   ]
  },
  {
   "cell_type": "code",
   "execution_count": 49,
   "metadata": {
    "collapsed": false
   },
   "outputs": [],
   "source": [
    "fh2, h2 = preproceso_window(es_wc_2013['Spain'].values, horizont=2)"
   ]
  },
  {
   "cell_type": "code",
   "execution_count": 102,
   "metadata": {
    "collapsed": false
   },
   "outputs": [],
   "source": [
    "timeSeries = es_wc_2013['Spain'].values\n",
    "window_size = 4\n",
    "\n",
    "dataSets = []\n",
    "\n",
    "for h in range(1, 25):\n",
    "    features = features_generator(timeSeries, feature_window=window_size, \n",
    "                                  horizont=h)\n",
    "    labels = labels_generator(timeSeries, feature_window=window_size, \n",
    "                              horizont=h)\n",
    "    \n",
    "    df = pd.DataFrame(features)\n",
    "    \n",
    "    df['h_{0}'.format(h)] = labels\n",
    "    \n",
    "    dataSets.append(df)"
   ]
  },
  {
   "cell_type": "code",
   "execution_count": 103,
   "metadata": {
    "collapsed": false
   },
   "outputs": [
    {
     "data": {
      "text/html": [
       "<div>\n",
       "<table border=\"1\" class=\"dataframe\">\n",
       "  <thead>\n",
       "    <tr style=\"text-align: right;\">\n",
       "      <th></th>\n",
       "      <th>0</th>\n",
       "      <th>1</th>\n",
       "      <th>2</th>\n",
       "      <th>3</th>\n",
       "      <th>h_1</th>\n",
       "    </tr>\n",
       "  </thead>\n",
       "  <tbody>\n",
       "    <tr>\n",
       "      <th>0</th>\n",
       "      <td>0.372106</td>\n",
       "      <td>0.353210</td>\n",
       "      <td>0.335363</td>\n",
       "      <td>0.338887</td>\n",
       "      <td>0.345464</td>\n",
       "    </tr>\n",
       "    <tr>\n",
       "      <th>1</th>\n",
       "      <td>0.353210</td>\n",
       "      <td>0.335363</td>\n",
       "      <td>0.338887</td>\n",
       "      <td>0.345464</td>\n",
       "      <td>0.346458</td>\n",
       "    </tr>\n",
       "    <tr>\n",
       "      <th>2</th>\n",
       "      <td>0.335363</td>\n",
       "      <td>0.338887</td>\n",
       "      <td>0.345464</td>\n",
       "      <td>0.346458</td>\n",
       "      <td>0.342922</td>\n",
       "    </tr>\n",
       "    <tr>\n",
       "      <th>3</th>\n",
       "      <td>0.338887</td>\n",
       "      <td>0.345464</td>\n",
       "      <td>0.346458</td>\n",
       "      <td>0.342922</td>\n",
       "      <td>0.336491</td>\n",
       "    </tr>\n",
       "    <tr>\n",
       "      <th>4</th>\n",
       "      <td>0.345464</td>\n",
       "      <td>0.346458</td>\n",
       "      <td>0.342922</td>\n",
       "      <td>0.336491</td>\n",
       "      <td>0.322841</td>\n",
       "    </tr>\n",
       "  </tbody>\n",
       "</table>\n",
       "</div>"
      ],
      "text/plain": [
       "          0         1         2         3       h_1\n",
       "0  0.372106  0.353210  0.335363  0.338887  0.345464\n",
       "1  0.353210  0.335363  0.338887  0.345464  0.346458\n",
       "2  0.335363  0.338887  0.345464  0.346458  0.342922\n",
       "3  0.338887  0.345464  0.346458  0.342922  0.336491\n",
       "4  0.345464  0.346458  0.342922  0.336491  0.322841"
      ]
     },
     "execution_count": 103,
     "metadata": {},
     "output_type": "execute_result"
    }
   ],
   "source": [
    "dataSets[0].head()"
   ]
  },
  {
   "cell_type": "code",
   "execution_count": 104,
   "metadata": {
    "collapsed": false
   },
   "outputs": [
    {
     "data": {
      "text/html": [
       "<div>\n",
       "<table border=\"1\" class=\"dataframe\">\n",
       "  <thead>\n",
       "    <tr style=\"text-align: right;\">\n",
       "      <th></th>\n",
       "      <th>0</th>\n",
       "      <th>1</th>\n",
       "      <th>2</th>\n",
       "      <th>3</th>\n",
       "      <th>h_2</th>\n",
       "    </tr>\n",
       "  </thead>\n",
       "  <tbody>\n",
       "    <tr>\n",
       "      <th>0</th>\n",
       "      <td>0.372106</td>\n",
       "      <td>0.353210</td>\n",
       "      <td>0.335363</td>\n",
       "      <td>0.338887</td>\n",
       "      <td>0.346458</td>\n",
       "    </tr>\n",
       "    <tr>\n",
       "      <th>1</th>\n",
       "      <td>0.353210</td>\n",
       "      <td>0.335363</td>\n",
       "      <td>0.338887</td>\n",
       "      <td>0.345464</td>\n",
       "      <td>0.342922</td>\n",
       "    </tr>\n",
       "    <tr>\n",
       "      <th>2</th>\n",
       "      <td>0.335363</td>\n",
       "      <td>0.338887</td>\n",
       "      <td>0.345464</td>\n",
       "      <td>0.346458</td>\n",
       "      <td>0.336491</td>\n",
       "    </tr>\n",
       "    <tr>\n",
       "      <th>3</th>\n",
       "      <td>0.338887</td>\n",
       "      <td>0.345464</td>\n",
       "      <td>0.346458</td>\n",
       "      <td>0.342922</td>\n",
       "      <td>0.322841</td>\n",
       "    </tr>\n",
       "    <tr>\n",
       "      <th>4</th>\n",
       "      <td>0.345464</td>\n",
       "      <td>0.346458</td>\n",
       "      <td>0.342922</td>\n",
       "      <td>0.336491</td>\n",
       "      <td>0.291398</td>\n",
       "    </tr>\n",
       "  </tbody>\n",
       "</table>\n",
       "</div>"
      ],
      "text/plain": [
       "          0         1         2         3       h_2\n",
       "0  0.372106  0.353210  0.335363  0.338887  0.346458\n",
       "1  0.353210  0.335363  0.338887  0.345464  0.342922\n",
       "2  0.335363  0.338887  0.345464  0.346458  0.336491\n",
       "3  0.338887  0.345464  0.346458  0.342922  0.322841\n",
       "4  0.345464  0.346458  0.342922  0.336491  0.291398"
      ]
     },
     "execution_count": 104,
     "metadata": {},
     "output_type": "execute_result"
    }
   ],
   "source": [
    "dataSets[1].head() "
   ]
  },
  {
   "cell_type": "code",
   "execution_count": 105,
   "metadata": {
    "collapsed": false
   },
   "outputs": [
    {
     "data": {
      "text/html": [
       "<div>\n",
       "<table border=\"1\" class=\"dataframe\">\n",
       "  <thead>\n",
       "    <tr style=\"text-align: right;\">\n",
       "      <th></th>\n",
       "      <th>0</th>\n",
       "      <th>1</th>\n",
       "      <th>2</th>\n",
       "      <th>3</th>\n",
       "      <th>h_3</th>\n",
       "    </tr>\n",
       "  </thead>\n",
       "  <tbody>\n",
       "    <tr>\n",
       "      <th>0</th>\n",
       "      <td>0.372106</td>\n",
       "      <td>0.353210</td>\n",
       "      <td>0.335363</td>\n",
       "      <td>0.338887</td>\n",
       "      <td>0.342922</td>\n",
       "    </tr>\n",
       "    <tr>\n",
       "      <th>1</th>\n",
       "      <td>0.353210</td>\n",
       "      <td>0.335363</td>\n",
       "      <td>0.338887</td>\n",
       "      <td>0.345464</td>\n",
       "      <td>0.336491</td>\n",
       "    </tr>\n",
       "    <tr>\n",
       "      <th>2</th>\n",
       "      <td>0.335363</td>\n",
       "      <td>0.338887</td>\n",
       "      <td>0.345464</td>\n",
       "      <td>0.346458</td>\n",
       "      <td>0.322841</td>\n",
       "    </tr>\n",
       "    <tr>\n",
       "      <th>3</th>\n",
       "      <td>0.338887</td>\n",
       "      <td>0.345464</td>\n",
       "      <td>0.346458</td>\n",
       "      <td>0.342922</td>\n",
       "      <td>0.291398</td>\n",
       "    </tr>\n",
       "    <tr>\n",
       "      <th>4</th>\n",
       "      <td>0.345464</td>\n",
       "      <td>0.346458</td>\n",
       "      <td>0.342922</td>\n",
       "      <td>0.336491</td>\n",
       "      <td>0.283055</td>\n",
       "    </tr>\n",
       "  </tbody>\n",
       "</table>\n",
       "</div>"
      ],
      "text/plain": [
       "          0         1         2         3       h_3\n",
       "0  0.372106  0.353210  0.335363  0.338887  0.342922\n",
       "1  0.353210  0.335363  0.338887  0.345464  0.336491\n",
       "2  0.335363  0.338887  0.345464  0.346458  0.322841\n",
       "3  0.338887  0.345464  0.346458  0.342922  0.291398\n",
       "4  0.345464  0.346458  0.342922  0.336491  0.283055"
      ]
     },
     "execution_count": 105,
     "metadata": {},
     "output_type": "execute_result"
    }
   ],
   "source": [
    "dataSets[2].head()"
   ]
  },
  {
   "cell_type": "code",
   "execution_count": 106,
   "metadata": {
    "collapsed": false
   },
   "outputs": [
    {
     "data": {
      "text/html": [
       "<div>\n",
       "<table border=\"1\" class=\"dataframe\">\n",
       "  <thead>\n",
       "    <tr style=\"text-align: right;\">\n",
       "      <th></th>\n",
       "      <th>0</th>\n",
       "      <th>1</th>\n",
       "      <th>2</th>\n",
       "      <th>3</th>\n",
       "      <th>h_4</th>\n",
       "    </tr>\n",
       "  </thead>\n",
       "  <tbody>\n",
       "    <tr>\n",
       "      <th>0</th>\n",
       "      <td>0.372106</td>\n",
       "      <td>0.353210</td>\n",
       "      <td>0.335363</td>\n",
       "      <td>0.338887</td>\n",
       "      <td>0.336491</td>\n",
       "    </tr>\n",
       "    <tr>\n",
       "      <th>1</th>\n",
       "      <td>0.353210</td>\n",
       "      <td>0.335363</td>\n",
       "      <td>0.338887</td>\n",
       "      <td>0.345464</td>\n",
       "      <td>0.322841</td>\n",
       "    </tr>\n",
       "    <tr>\n",
       "      <th>2</th>\n",
       "      <td>0.335363</td>\n",
       "      <td>0.338887</td>\n",
       "      <td>0.345464</td>\n",
       "      <td>0.346458</td>\n",
       "      <td>0.291398</td>\n",
       "    </tr>\n",
       "    <tr>\n",
       "      <th>3</th>\n",
       "      <td>0.338887</td>\n",
       "      <td>0.345464</td>\n",
       "      <td>0.346458</td>\n",
       "      <td>0.342922</td>\n",
       "      <td>0.283055</td>\n",
       "    </tr>\n",
       "    <tr>\n",
       "      <th>4</th>\n",
       "      <td>0.345464</td>\n",
       "      <td>0.346458</td>\n",
       "      <td>0.342922</td>\n",
       "      <td>0.336491</td>\n",
       "      <td>0.289411</td>\n",
       "    </tr>\n",
       "  </tbody>\n",
       "</table>\n",
       "</div>"
      ],
      "text/plain": [
       "          0         1         2         3       h_4\n",
       "0  0.372106  0.353210  0.335363  0.338887  0.336491\n",
       "1  0.353210  0.335363  0.338887  0.345464  0.322841\n",
       "2  0.335363  0.338887  0.345464  0.346458  0.291398\n",
       "3  0.338887  0.345464  0.346458  0.342922  0.283055\n",
       "4  0.345464  0.346458  0.342922  0.336491  0.289411"
      ]
     },
     "execution_count": 106,
     "metadata": {},
     "output_type": "execute_result"
    }
   ],
   "source": [
    "dataSets[3].head()"
   ]
  },
  {
   "cell_type": "markdown",
   "metadata": {
    "collapsed": true
   },
   "source": [
    "### Método de la ventana -- estrategías --"
   ]
  },
  {
   "cell_type": "code",
   "execution_count": 124,
   "metadata": {
    "collapsed": false
   },
   "outputs": [
    {
     "data": {
      "text/html": [
       "<div>\n",
       "<table border=\"1\" class=\"dataframe\">\n",
       "  <thead>\n",
       "    <tr style=\"text-align: right;\">\n",
       "      <th></th>\n",
       "      <th>0</th>\n",
       "      <th>1</th>\n",
       "      <th>2</th>\n",
       "      <th>3</th>\n",
       "      <th>h_1</th>\n",
       "    </tr>\n",
       "  </thead>\n",
       "  <tbody>\n",
       "    <tr>\n",
       "      <th>0</th>\n",
       "      <td>0.372106</td>\n",
       "      <td>0.353210</td>\n",
       "      <td>0.335363</td>\n",
       "      <td>0.338887</td>\n",
       "      <td>0.345464</td>\n",
       "    </tr>\n",
       "    <tr>\n",
       "      <th>1</th>\n",
       "      <td>0.353210</td>\n",
       "      <td>0.335363</td>\n",
       "      <td>0.338887</td>\n",
       "      <td>0.345464</td>\n",
       "      <td>0.346458</td>\n",
       "    </tr>\n",
       "    <tr>\n",
       "      <th>2</th>\n",
       "      <td>0.335363</td>\n",
       "      <td>0.338887</td>\n",
       "      <td>0.345464</td>\n",
       "      <td>0.346458</td>\n",
       "      <td>0.342922</td>\n",
       "    </tr>\n",
       "    <tr>\n",
       "      <th>3</th>\n",
       "      <td>0.338887</td>\n",
       "      <td>0.345464</td>\n",
       "      <td>0.346458</td>\n",
       "      <td>0.342922</td>\n",
       "      <td>0.336491</td>\n",
       "    </tr>\n",
       "    <tr>\n",
       "      <th>4</th>\n",
       "      <td>0.345464</td>\n",
       "      <td>0.346458</td>\n",
       "      <td>0.342922</td>\n",
       "      <td>0.336491</td>\n",
       "      <td>0.322841</td>\n",
       "    </tr>\n",
       "  </tbody>\n",
       "</table>\n",
       "</div>"
      ],
      "text/plain": [
       "          0         1         2         3       h_1\n",
       "0  0.372106  0.353210  0.335363  0.338887  0.345464\n",
       "1  0.353210  0.335363  0.338887  0.345464  0.346458\n",
       "2  0.335363  0.338887  0.345464  0.346458  0.342922\n",
       "3  0.338887  0.345464  0.346458  0.342922  0.336491\n",
       "4  0.345464  0.346458  0.342922  0.336491  0.322841"
      ]
     },
     "execution_count": 124,
     "metadata": {},
     "output_type": "execute_result"
    }
   ],
   "source": [
    "dataset_h1 = dataSets[0].ix[0:4,:]\n",
    "dataset_h1.head()"
   ]
  },
  {
   "cell_type": "code",
   "execution_count": 136,
   "metadata": {
    "collapsed": false
   },
   "outputs": [
    {
     "data": {
      "text/plain": [
       "array([ 0.37210599,  0.35321   ,  0.335363  ,  0.33888701,  0.34546399], dtype=float32)"
      ]
     },
     "execution_count": 136,
     "metadata": {},
     "output_type": "execute_result"
    }
   ],
   "source": [
    "dataset_h1.ix[0,:].values"
   ]
  },
  {
   "cell_type": "code",
   "execution_count": 139,
   "metadata": {
    "collapsed": false
   },
   "outputs": [
    {
     "data": {
      "text/plain": [
       "array([ 0.34645799,  0.342922  ,  0.33649099,  0.32284099], dtype=float32)"
      ]
     },
     "execution_count": 139,
     "metadata": {},
     "output_type": "execute_result"
    }
   ],
   "source": [
    "dataset_h1.ix[1:,4:].values.flatten()"
   ]
  },
  {
   "cell_type": "code",
   "execution_count": null,
   "metadata": {
    "collapsed": true
   },
   "outputs": [],
   "source": []
  }
 ],
 "metadata": {
  "kernelspec": {
   "display_name": "Python 3.5 + TensorFlow 1.0",
   "language": "python",
   "name": "tf35"
  },
  "language_info": {
   "codemirror_mode": {
    "name": "ipython",
    "version": 3
   },
   "file_extension": ".py",
   "mimetype": "text/x-python",
   "name": "python",
   "nbconvert_exporter": "python",
   "pygments_lexer": "ipython3",
   "version": "3.5.3"
  }
 },
 "nbformat": 4,
 "nbformat_minor": 2
}
