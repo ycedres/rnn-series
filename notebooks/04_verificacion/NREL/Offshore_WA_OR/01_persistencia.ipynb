{
 "cells": [
  {
   "cell_type": "code",
   "execution_count": 16,
   "metadata": {
    "collapsed": true
   },
   "outputs": [],
   "source": [
    "%matplotlib inline\n",
    "import os\n",
    "import pandas as pd"
   ]
  },
  {
   "cell_type": "code",
   "execution_count": 20,
   "metadata": {
    "collapsed": true
   },
   "outputs": [],
   "source": [
    "path = '/Users/tmorales/tmp/experiments/NREL/Offshore_WA_OR/turbine_25915'\n",
    "filename = 'test_persistence.csv'"
   ]
  },
  {
   "cell_type": "code",
   "execution_count": 23,
   "metadata": {},
   "outputs": [
    {
     "data": {
      "text/html": [
       "<div>\n",
       "<style>\n",
       "    .dataframe thead tr:only-child th {\n",
       "        text-align: right;\n",
       "    }\n",
       "\n",
       "    .dataframe thead th {\n",
       "        text-align: left;\n",
       "    }\n",
       "\n",
       "    .dataframe tbody tr th {\n",
       "        vertical-align: top;\n",
       "    }\n",
       "</style>\n",
       "<table border=\"1\" class=\"dataframe\">\n",
       "  <thead>\n",
       "    <tr style=\"text-align: right;\">\n",
       "      <th></th>\n",
       "      <th>mae</th>\n",
       "      <th>rmse</th>\n",
       "    </tr>\n",
       "  </thead>\n",
       "  <tbody>\n",
       "    <tr>\n",
       "      <th>persis_h1</th>\n",
       "      <td>0.595239</td>\n",
       "      <td>0.942073</td>\n",
       "    </tr>\n",
       "    <tr>\n",
       "      <th>persis_h2</th>\n",
       "      <td>1.012048</td>\n",
       "      <td>1.542620</td>\n",
       "    </tr>\n",
       "    <tr>\n",
       "      <th>persis_h3</th>\n",
       "      <td>1.333888</td>\n",
       "      <td>1.969268</td>\n",
       "    </tr>\n",
       "    <tr>\n",
       "      <th>persis_h4</th>\n",
       "      <td>1.597696</td>\n",
       "      <td>2.307254</td>\n",
       "    </tr>\n",
       "    <tr>\n",
       "      <th>persis_h5</th>\n",
       "      <td>1.826336</td>\n",
       "      <td>2.594592</td>\n",
       "    </tr>\n",
       "  </tbody>\n",
       "</table>\n",
       "</div>"
      ],
      "text/plain": [
       "                mae      rmse\n",
       "persis_h1  0.595239  0.942073\n",
       "persis_h2  1.012048  1.542620\n",
       "persis_h3  1.333888  1.969268\n",
       "persis_h4  1.597696  2.307254\n",
       "persis_h5  1.826336  2.594592"
      ]
     },
     "execution_count": 23,
     "metadata": {},
     "output_type": "execute_result"
    }
   ],
   "source": [
    "df_persistencia_test = pd.read_csv(os.path.join(path, filename),\n",
    "                                   delimiter=';',\n",
    "                                   index_col=0)\n",
    "df_persistencia_test.head()"
   ]
  },
  {
   "cell_type": "markdown",
   "metadata": {},
   "source": [
    "### First moment of the prediction error"
   ]
  },
  {
   "cell_type": "code",
   "execution_count": 24,
   "metadata": {},
   "outputs": [
    {
     "data": {
      "image/png": "[encoded data removed]",
      "text/plain": [
       "<matplotlib.figure.Figure at 0x113895ba8>"
      ]
     },
     "metadata": {},
     "output_type": "display_data"
    }
   ],
   "source": [
    "df_persistencia_test[['mae']].plot(kind='bar',\n",
    "                                   figsize=(15,5),\n",
    "                                   title='Mean Squared Error',\n",
    "                                   subplots=True);"
   ]
  },
  {
   "cell_type": "markdown",
   "metadata": {},
   "source": [
    "### Second moment of the prediction error "
   ]
  },
  {
   "cell_type": "code",
   "execution_count": 25,
   "metadata": {},
   "outputs": [
    {
     "data": {
      "image/png": "[encoded data removed]",
      "text/plain": [
       "<matplotlib.figure.Figure at 0x113aa6e10>"
      ]
     },
     "metadata": {},
     "output_type": "display_data"
    }
   ],
   "source": [
    "df_persistencia_test[['rmse']].plot(kind='bar',\n",
    "                                    figsize=(15,5),\n",
    "                                    title='Mean Squared Error',\n",
    "                                    subplots=True);"
   ]
  },
  {
   "cell_type": "markdown",
   "metadata": {},
   "source": [
    "## Vertical error"
   ]
  },
  {
   "cell_type": "code",
   "execution_count": 26,
   "metadata": {},
   "outputs": [
    {
     "data": {
      "text/html": [
       "<div>\n",
       "<style>\n",
       "    .dataframe thead tr:only-child th {\n",
       "        text-align: right;\n",
       "    }\n",
       "\n",
       "    .dataframe thead th {\n",
       "        text-align: left;\n",
       "    }\n",
       "\n",
       "    .dataframe tbody tr th {\n",
       "        vertical-align: top;\n",
       "    }\n",
       "</style>\n",
       "<table border=\"1\" class=\"dataframe\">\n",
       "  <thead>\n",
       "    <tr style=\"text-align: right;\">\n",
       "      <th></th>\n",
       "      <th>mae</th>\n",
       "      <th>rmse</th>\n",
       "    </tr>\n",
       "  </thead>\n",
       "  <tbody>\n",
       "    <tr>\n",
       "      <th>persis_h1</th>\n",
       "      <td>0.595239</td>\n",
       "      <td>0.942073</td>\n",
       "    </tr>\n",
       "    <tr>\n",
       "      <th>persis_h2</th>\n",
       "      <td>1.012048</td>\n",
       "      <td>1.542620</td>\n",
       "    </tr>\n",
       "    <tr>\n",
       "      <th>persis_h3</th>\n",
       "      <td>1.333888</td>\n",
       "      <td>1.969268</td>\n",
       "    </tr>\n",
       "    <tr>\n",
       "      <th>persis_h4</th>\n",
       "      <td>1.597696</td>\n",
       "      <td>2.307254</td>\n",
       "    </tr>\n",
       "    <tr>\n",
       "      <th>persis_h5</th>\n",
       "      <td>1.826336</td>\n",
       "      <td>2.594592</td>\n",
       "    </tr>\n",
       "    <tr>\n",
       "      <th>persis_h6</th>\n",
       "      <td>2.024382</td>\n",
       "      <td>2.842946</td>\n",
       "    </tr>\n",
       "    <tr>\n",
       "      <th>persis_h7</th>\n",
       "      <td>2.196770</td>\n",
       "      <td>3.061423</td>\n",
       "    </tr>\n",
       "    <tr>\n",
       "      <th>persis_h8</th>\n",
       "      <td>2.346095</td>\n",
       "      <td>3.251983</td>\n",
       "    </tr>\n",
       "    <tr>\n",
       "      <th>persis_h9</th>\n",
       "      <td>2.472008</td>\n",
       "      <td>3.423460</td>\n",
       "    </tr>\n",
       "    <tr>\n",
       "      <th>persis_h10</th>\n",
       "      <td>2.593528</td>\n",
       "      <td>3.579735</td>\n",
       "    </tr>\n",
       "    <tr>\n",
       "      <th>persis_h11</th>\n",
       "      <td>2.700044</td>\n",
       "      <td>3.718593</td>\n",
       "    </tr>\n",
       "    <tr>\n",
       "      <th>persis_h12</th>\n",
       "      <td>2.791821</td>\n",
       "      <td>3.840348</td>\n",
       "    </tr>\n",
       "    <tr>\n",
       "      <th>persis_h13</th>\n",
       "      <td>2.860961</td>\n",
       "      <td>3.945941</td>\n",
       "    </tr>\n",
       "    <tr>\n",
       "      <th>persis_h14</th>\n",
       "      <td>2.922499</td>\n",
       "      <td>4.038221</td>\n",
       "    </tr>\n",
       "    <tr>\n",
       "      <th>persis_h15</th>\n",
       "      <td>2.973717</td>\n",
       "      <td>4.117041</td>\n",
       "    </tr>\n",
       "    <tr>\n",
       "      <th>persis_h16</th>\n",
       "      <td>3.014937</td>\n",
       "      <td>4.185442</td>\n",
       "    </tr>\n",
       "    <tr>\n",
       "      <th>persis_h17</th>\n",
       "      <td>3.054886</td>\n",
       "      <td>4.249309</td>\n",
       "    </tr>\n",
       "    <tr>\n",
       "      <th>persis_h18</th>\n",
       "      <td>3.091730</td>\n",
       "      <td>4.309446</td>\n",
       "    </tr>\n",
       "    <tr>\n",
       "      <th>persis_h19</th>\n",
       "      <td>3.129540</td>\n",
       "      <td>4.366035</td>\n",
       "    </tr>\n",
       "    <tr>\n",
       "      <th>persis_h20</th>\n",
       "      <td>3.157999</td>\n",
       "      <td>4.415823</td>\n",
       "    </tr>\n",
       "    <tr>\n",
       "      <th>persis_h21</th>\n",
       "      <td>3.178840</td>\n",
       "      <td>4.461588</td>\n",
       "    </tr>\n",
       "    <tr>\n",
       "      <th>persis_h22</th>\n",
       "      <td>3.199257</td>\n",
       "      <td>4.501127</td>\n",
       "    </tr>\n",
       "    <tr>\n",
       "      <th>persis_h23</th>\n",
       "      <td>3.213971</td>\n",
       "      <td>4.536051</td>\n",
       "    </tr>\n",
       "    <tr>\n",
       "      <th>persis_h24</th>\n",
       "      <td>3.231358</td>\n",
       "      <td>4.567471</td>\n",
       "    </tr>\n",
       "  </tbody>\n",
       "</table>\n",
       "</div>"
      ],
      "text/plain": [
       "                 mae      rmse\n",
       "persis_h1   0.595239  0.942073\n",
       "persis_h2   1.012048  1.542620\n",
       "persis_h3   1.333888  1.969268\n",
       "persis_h4   1.597696  2.307254\n",
       "persis_h5   1.826336  2.594592\n",
       "persis_h6   2.024382  2.842946\n",
       "persis_h7   2.196770  3.061423\n",
       "persis_h8   2.346095  3.251983\n",
       "persis_h9   2.472008  3.423460\n",
       "persis_h10  2.593528  3.579735\n",
       "persis_h11  2.700044  3.718593\n",
       "persis_h12  2.791821  3.840348\n",
       "persis_h13  2.860961  3.945941\n",
       "persis_h14  2.922499  4.038221\n",
       "persis_h15  2.973717  4.117041\n",
       "persis_h16  3.014937  4.185442\n",
       "persis_h17  3.054886  4.249309\n",
       "persis_h18  3.091730  4.309446\n",
       "persis_h19  3.129540  4.366035\n",
       "persis_h20  3.157999  4.415823\n",
       "persis_h21  3.178840  4.461588\n",
       "persis_h22  3.199257  4.501127\n",
       "persis_h23  3.213971  4.536051\n",
       "persis_h24  3.231358  4.567471"
      ]
     },
     "execution_count": 26,
     "metadata": {},
     "output_type": "execute_result"
    }
   ],
   "source": [
    "df_persistencia_test\n"
   ]
  },
  {
   "cell_type": "code",
   "execution_count": null,
   "metadata": {
    "collapsed": true
   },
   "outputs": [],
   "source": []
  }
 ],
 "metadata": {
  "kernelspec": {
   "display_name": "Python 3",
   "language": "python",
   "name": "python3"
  },
  "language_info": {
   "codemirror_mode": {
    "name": "ipython",
    "version": 3
   },
   "file_extension": ".py",
   "mimetype": "text/x-python",
   "name": "python",
   "nbconvert_exporter": "python",
   "pygments_lexer": "ipython3",
   "version": "3.6.0"
  }
 },
 "nbformat": 4,
 "nbformat_minor": 2
}
