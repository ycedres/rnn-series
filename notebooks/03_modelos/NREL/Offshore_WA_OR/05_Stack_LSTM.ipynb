{
 "cells": [
  {
   "cell_type": "markdown",
   "metadata": {},
   "source": [
    "# Neural Network - Stack LSTM"
   ]
  },
  {
   "cell_type": "code",
   "execution_count": 1,
   "metadata": {
    "collapsed": true
   },
   "outputs": [],
   "source": [
    "%matplotlib inline\n",
    "import os\n",
    "import sys\n",
    "import glob\n",
    "import numpy as np\n",
    "import pandas as pd\n",
    "import matplotlib.pyplot as plt\n",
    "plt.style.use('ggplot')\n",
    "\n",
    "# import RenewAI\n",
    "sys.path.append('/Users/tmorales/tmp/RNN-windPower/src')\n",
    "from pre_process.split_ml_ts import dataframe_split"
   ]
  },
  {
   "cell_type": "code",
   "execution_count": 2,
   "metadata": {
    "collapsed": true
   },
   "outputs": [],
   "source": [
    "exp_path = '/Users/tmorales/tmp/experiments/NREL/Offshore_WA_OR/turbine_25915'\n",
    "experiment_name = 'nn-stack-lstm'\n",
    "directory = os.path.join(exp_path, experiment_name)\n",
    "if not os.path.exists(directory):\n",
    "    os.makedirs(directory)"
   ]
  },
  {
   "cell_type": "markdown",
   "metadata": {},
   "source": [
    "## Load file"
   ]
  },
  {
   "cell_type": "code",
   "execution_count": 3,
   "metadata": {
    "collapsed": true
   },
   "outputs": [],
   "source": [
    "path = '/Users/tmorales/tmp/RNN-windPower/database/wind_farms/Offshore_WA_OR/Offshore_WA_OR_features'"
   ]
  },
  {
   "cell_type": "code",
   "execution_count": 4,
   "metadata": {},
   "outputs": [
    {
     "data": {
      "text/plain": [
       "['Offshore_WA_OR_features_h_01.csv',\n",
       " 'Offshore_WA_OR_features_h_02.csv',\n",
       " 'Offshore_WA_OR_features_h_03.csv',\n",
       " 'Offshore_WA_OR_features_h_04.csv',\n",
       " 'Offshore_WA_OR_features_h_05.csv',\n",
       " 'Offshore_WA_OR_features_h_06.csv',\n",
       " 'Offshore_WA_OR_features_h_07.csv',\n",
       " 'Offshore_WA_OR_features_h_08.csv',\n",
       " 'Offshore_WA_OR_features_h_09.csv',\n",
       " 'Offshore_WA_OR_features_h_10.csv',\n",
       " 'Offshore_WA_OR_features_h_11.csv',\n",
       " 'Offshore_WA_OR_features_h_12.csv',\n",
       " 'Offshore_WA_OR_features_h_13.csv',\n",
       " 'Offshore_WA_OR_features_h_14.csv',\n",
       " 'Offshore_WA_OR_features_h_15.csv',\n",
       " 'Offshore_WA_OR_features_h_16.csv',\n",
       " 'Offshore_WA_OR_features_h_17.csv',\n",
       " 'Offshore_WA_OR_features_h_18.csv',\n",
       " 'Offshore_WA_OR_features_h_19.csv',\n",
       " 'Offshore_WA_OR_features_h_20.csv',\n",
       " 'Offshore_WA_OR_features_h_21.csv',\n",
       " 'Offshore_WA_OR_features_h_22.csv',\n",
       " 'Offshore_WA_OR_features_h_23.csv',\n",
       " 'Offshore_WA_OR_features_h_24.csv']"
      ]
     },
     "execution_count": 4,
     "metadata": {},
     "output_type": "execute_result"
    }
   ],
   "source": [
    "os.chdir(path)\n",
    "files = [file for file in glob.glob('Offshore_WA_OR_features_*.csv')]\n",
    "files"
   ]
  },
  {
   "cell_type": "markdown",
   "metadata": {},
   "source": [
    "## Paso 1: only one h-step"
   ]
  },
  {
   "cell_type": "code",
   "execution_count": 5,
   "metadata": {
    "collapsed": true
   },
   "outputs": [],
   "source": [
    "h1 = files[0]"
   ]
  },
  {
   "cell_type": "code",
   "execution_count": 6,
   "metadata": {
    "collapsed": true
   },
   "outputs": [],
   "source": [
    "# create directory for each horizont (each horizon is a regressor)\n",
    "horizont = 1\n",
    "directory_by_horizont = os.path.join(exp_path, \n",
    "                                     experiment_name,\n",
    "                                     'model_saved_h={0:03d}'.format(horizont))\n",
    "if not os.path.exists(directory_by_horizont):\n",
    "    os.makedirs(directory_by_horizont)"
   ]
  },
  {
   "cell_type": "code",
   "execution_count": 7,
   "metadata": {},
   "outputs": [
    {
     "data": {
      "text/html": [
       "<div>\n",
       "<table border=\"1\" class=\"dataframe\">\n",
       "  <thead>\n",
       "    <tr style=\"text-align: right;\">\n",
       "      <th></th>\n",
       "      <th>f_0</th>\n",
       "      <th>f_1</th>\n",
       "      <th>f_2</th>\n",
       "      <th>f_3</th>\n",
       "      <th>f_4</th>\n",
       "      <th>f_5</th>\n",
       "      <th>target_h1</th>\n",
       "    </tr>\n",
       "    <tr>\n",
       "      <th>target_date</th>\n",
       "      <th></th>\n",
       "      <th></th>\n",
       "      <th></th>\n",
       "      <th></th>\n",
       "      <th></th>\n",
       "      <th></th>\n",
       "      <th></th>\n",
       "    </tr>\n",
       "  </thead>\n",
       "  <tbody>\n",
       "    <tr>\n",
       "      <th>2004-01-01 06:00:00</th>\n",
       "      <td>6.96</td>\n",
       "      <td>5.28</td>\n",
       "      <td>5.32</td>\n",
       "      <td>4.93</td>\n",
       "      <td>4.05</td>\n",
       "      <td>3.95</td>\n",
       "      <td>4.19</td>\n",
       "    </tr>\n",
       "    <tr>\n",
       "      <th>2004-01-01 07:00:00</th>\n",
       "      <td>5.28</td>\n",
       "      <td>5.32</td>\n",
       "      <td>4.93</td>\n",
       "      <td>4.05</td>\n",
       "      <td>3.95</td>\n",
       "      <td>4.19</td>\n",
       "      <td>4.89</td>\n",
       "    </tr>\n",
       "    <tr>\n",
       "      <th>2004-01-01 08:00:00</th>\n",
       "      <td>5.32</td>\n",
       "      <td>4.93</td>\n",
       "      <td>4.05</td>\n",
       "      <td>3.95</td>\n",
       "      <td>4.19</td>\n",
       "      <td>4.89</td>\n",
       "      <td>5.16</td>\n",
       "    </tr>\n",
       "    <tr>\n",
       "      <th>2004-01-01 09:00:00</th>\n",
       "      <td>4.93</td>\n",
       "      <td>4.05</td>\n",
       "      <td>3.95</td>\n",
       "      <td>4.19</td>\n",
       "      <td>4.89</td>\n",
       "      <td>5.16</td>\n",
       "      <td>5.01</td>\n",
       "    </tr>\n",
       "  </tbody>\n",
       "</table>\n",
       "</div>"
      ],
      "text/plain": [
       "                      f_0   f_1   f_2   f_3   f_4   f_5  target_h1\n",
       "target_date                                                       \n",
       "2004-01-01 06:00:00  6.96  5.28  5.32  4.93  4.05  3.95       4.19\n",
       "2004-01-01 07:00:00  5.28  5.32  4.93  4.05  3.95  4.19       4.89\n",
       "2004-01-01 08:00:00  5.32  4.93  4.05  3.95  4.19  4.89       5.16\n",
       "2004-01-01 09:00:00  4.93  4.05  3.95  4.19  4.89  5.16       5.01"
      ]
     },
     "execution_count": 7,
     "metadata": {},
     "output_type": "execute_result"
    }
   ],
   "source": [
    "# load file\n",
    "df_h1 = pd.read_csv(files[0], delimiter=';', index_col=0)\n",
    "df_h1.head(4)"
   ]
  },
  {
   "cell_type": "code",
   "execution_count": 8,
   "metadata": {
    "collapsed": true
   },
   "outputs": [],
   "source": [
    "# select the best model for h=1\n",
    "\n",
    "# split the dataset in train, val and test\n",
    "data = dataframe_split(df_h1)\n",
    "train_set = data['train_set']\n",
    "validation_set = data['validation_set']\n",
    "test_set = data['test_set']"
   ]
  },
  {
   "cell_type": "code",
   "execution_count": 9,
   "metadata": {
    "collapsed": true
   },
   "outputs": [],
   "source": [
    "# features and target columns\n",
    "features_columns = train_set.columns[1:-1]\n",
    "target_column = train_set.columns[-1:]"
   ]
  },
  {
   "cell_type": "code",
   "execution_count": 10,
   "metadata": {
    "collapsed": true
   },
   "outputs": [],
   "source": [
    "# select the values of features and target columns.\n",
    "features_train_set = train_set[features_columns]\n",
    "target_train_set = train_set[target_column]\n",
    "features_validation_set = validation_set[features_columns]\n",
    "target_validation_set = validation_set[target_column]\n",
    "features_test_set = test_set[features_columns]\n",
    "target_test_set = test_set[target_column]"
   ]
  },
  {
   "cell_type": "code",
   "execution_count": 16,
   "metadata": {
    "collapsed": true
   },
   "outputs": [],
   "source": [
    "# select values\n",
    "x_train = features_train_set.values.astype('float32')\n",
    "y_train = target_train_set.values\n",
    "x_val = features_validation_set.values.astype('float32')\n",
    "y_val = target_validation_set.values"
   ]
  },
  {
   "cell_type": "code",
   "execution_count": 12,
   "metadata": {},
   "outputs": [
    {
     "name": "stdout",
     "output_type": "stream",
     "text": [
      "N of examples: (16830, 5)\n"
     ]
    }
   ],
   "source": [
    "print('N of examples: {0}'.format(x_train.shape))"
   ]
  },
  {
   "cell_type": "code",
   "execution_count": 13,
   "metadata": {},
   "outputs": [
    {
     "data": {
      "text/plain": [
       "22.25"
      ]
     },
     "execution_count": 13,
     "metadata": {},
     "output_type": "execute_result"
    }
   ],
   "source": [
    "x_train.max()"
   ]
  },
  {
   "cell_type": "markdown",
   "metadata": {},
   "source": [
    "## Paso 2: Model defenition"
   ]
  },
  {
   "cell_type": "code",
   "execution_count": 14,
   "metadata": {},
   "outputs": [
    {
     "name": "stderr",
     "output_type": "stream",
     "text": [
      "/Users/tmorales/interpreters/anaconda3/envs/p3tf1/lib/python3.5/site-packages/h5py/__init__.py:34: FutureWarning: Conversion of the second argument of issubdtype from `float` to `np.floating` is deprecated. In future, it will be treated as `np.float64 == np.dtype(float).type`.\n",
      "  from ._conv import register_converters as _register_converters\n",
      "Using TensorFlow backend.\n"
     ]
    }
   ],
   "source": [
    "from keras.models import Model\n",
    "from keras.layers import Input\n",
    "from keras.layers import Dense\n",
    "from keras.layers import LSTM\n",
    "from keras.layers import Dropout\n",
    "from keras.layers import BatchNormalization\n",
    "from keras.optimizers import Adam\n",
    "from keras.utils import plot_model"
   ]
  },
  {
   "cell_type": "code",
   "execution_count": 17,
   "metadata": {},
   "outputs": [
    {
     "name": "stdout",
     "output_type": "stream",
     "text": [
      "(16830, 5)\n",
      "(16830, 5, 1)\n"
     ]
    }
   ],
   "source": [
    "# reshape the data for training LSTM\n",
    "print(x_train.shape)\n",
    "x_train_lstm = np.reshape(x_train, (x_train.shape[0], x_train.shape[1], 1))\n",
    "print(x_train_lstm.shape)\n",
    "\n",
    "x_val_lstm = np.reshape(x_val, (x_val.shape[0], x_val.shape[1], 1))"
   ]
  },
  {
   "cell_type": "code",
   "execution_count": 21,
   "metadata": {
    "collapsed": true
   },
   "outputs": [],
   "source": [
    "def create_model_stack_lstm(time_step, feature_by_timestep,\n",
    "                            plot_title):\n",
    "    # Input layer\n",
    "    input = Input((time_step,\n",
    "                   feature_by_timestep),\n",
    "                   dtype='float32',\n",
    "                   name = 'input-layer')\n",
    "    normalize_input = BatchNormalization(name='normalize-input')(input)\n",
    "    # Stack - RNN - LSTM\n",
    "    x = LSTM(10, return_sequences=True, name='lstm-1')(normalize_input)\n",
    "    x = LSTM(5, name='lstm-2')(x)\n",
    "    # Fully-connect\n",
    "    x = Dense(5, \n",
    "              kernel_initializer='normal', \n",
    "              activation='relu',\n",
    "              name='hidden-layer-1')(x)\n",
    "    x = Dense(3,\n",
    "              kernel_initializer='normal',\n",
    "              activation='relu',\n",
    "              name='hidden-layer-2')(x)\n",
    "    outputs = Dense(1,\n",
    "                    kernel_initializer='normal',\n",
    "                    activation='linear',\n",
    "                    name='output-layer')(x)\n",
    "    # Model\n",
    "    model = Model(inputs=input, outputs=outputs)\n",
    "    model.summary()\n",
    "    \n",
    "    plot_model(model,\n",
    "               to_file='{0}.png'.format(plot_title),\n",
    "               show_shapes=True,\n",
    "               show_layer_names=True,\n",
    "               rankdir='LR')\n",
    "    \n",
    "    return model"
   ]
  },
  {
   "cell_type": "code",
   "execution_count": 22,
   "metadata": {
    "collapsed": true
   },
   "outputs": [],
   "source": [
    "def fit_model(model, x_train, y_train, x_val, y_val, \n",
    "              epochs=100, batch_size=50, lr=0.001):\n",
    "    \n",
    "    opt = Adam(lr=lr)\n",
    "    model.compile(loss='mean_squared_error',\n",
    "                  optimizer=opt,\n",
    "                  metrics=['mae'])\n",
    "    \n",
    "    history = model.fit(x_train,\n",
    "                        y_train,\n",
    "                        batch_size=batch_size,\n",
    "                        epochs=epochs,\n",
    "                        validation_data=(x_val, y_val))\n",
    "    \n",
    "    return model, history"
   ]
  },
  {
   "cell_type": "code",
   "execution_count": 23,
   "metadata": {},
   "outputs": [
    {
     "name": "stdout",
     "output_type": "stream",
     "text": [
      "_________________________________________________________________\n",
      "Layer (type)                 Output Shape              Param #   \n",
      "=================================================================\n",
      "input-layer (InputLayer)     (None, 5, 1)              0         \n",
      "_________________________________________________________________\n",
      "normalize-input (BatchNormal (None, 5, 1)              4         \n",
      "_________________________________________________________________\n",
      "lstm-1 (LSTM)                (None, 5, 10)             480       \n",
      "_________________________________________________________________\n",
      "lstm-2 (LSTM)                (None, 5)                 320       \n",
      "_________________________________________________________________\n",
      "hidden-layer-1 (Dense)       (None, 5)                 30        \n",
      "_________________________________________________________________\n",
      "hidden-layer-2 (Dense)       (None, 3)                 18        \n",
      "_________________________________________________________________\n",
      "output-layer (Dense)         (None, 1)                 4         \n",
      "=================================================================\n",
      "Total params: 856\n",
      "Trainable params: 854\n",
      "Non-trainable params: 2\n",
      "_________________________________________________________________\n",
      "Train on 16830 samples, validate on 4208 samples\n",
      "Epoch 1/100\n",
      "16830/16830 [==============================] - 3s 155us/step - loss: 48.7194 - mean_absolute_error: 6.0765 - val_loss: 51.9018 - val_mean_absolute_error: 6.2576\n",
      "Epoch 2/100\n",
      "16830/16830 [==============================] - 0s 16us/step - loss: 48.4721 - mean_absolute_error: 6.0562 - val_loss: 51.6230 - val_mean_absolute_error: 6.2354\n",
      "Epoch 3/100\n",
      "16830/16830 [==============================] - 0s 18us/step - loss: 48.1863 - mean_absolute_error: 6.0327 - val_loss: 51.2842 - val_mean_absolute_error: 6.2085\n",
      "Epoch 4/100\n",
      "16830/16830 [==============================] - 0s 21us/step - loss: 47.8322 - mean_absolute_error: 6.0039 - val_loss: 50.8353 - val_mean_absolute_error: 6.1732\n",
      "Epoch 5/100\n",
      "16830/16830 [==============================] - 0s 23us/step - loss: 47.3455 - mean_absolute_error: 5.9650 - val_loss: 50.1781 - val_mean_absolute_error: 6.1217\n",
      "Epoch 6/100\n",
      "16830/16830 [==============================] - 0s 17us/step - loss: 46.6003 - mean_absolute_error: 5.9051 - val_loss: 49.1380 - val_mean_absolute_error: 6.0390\n",
      "Epoch 7/100\n",
      "16830/16830 [==============================] - 0s 18us/step - loss: 45.3763 - mean_absolute_error: 5.8051 - val_loss: 47.5409 - val_mean_absolute_error: 5.9066\n",
      "Epoch 8/100\n",
      "16830/16830 [==============================] - 0s 20us/step - loss: 43.5239 - mean_absolute_error: 5.6429 - val_loss: 45.3027 - val_mean_absolute_error: 5.7124\n",
      "Epoch 9/100\n",
      "16830/16830 [==============================] - 0s 23us/step - loss: 41.0567 - mean_absolute_error: 5.4195 - val_loss: 42.5064 - val_mean_absolute_error: 5.4653\n",
      "Epoch 10/100\n",
      "16830/16830 [==============================] - 0s 20us/step - loss: 38.1068 - mean_absolute_error: 5.1474 - val_loss: 39.2741 - val_mean_absolute_error: 5.1727\n",
      "Epoch 11/100\n",
      "16830/16830 [==============================] - 0s 19us/step - loss: 34.9319 - mean_absolute_error: 4.8461 - val_loss: 35.8967 - val_mean_absolute_error: 4.8611\n",
      "Epoch 12/100\n",
      "16830/16830 [==============================] - 0s 20us/step - loss: 31.5998 - mean_absolute_error: 4.5252 - val_loss: 32.3496 - val_mean_absolute_error: 4.5254\n",
      "Epoch 13/100\n",
      "16830/16830 [==============================] - 0s 22us/step - loss: 28.1754 - mean_absolute_error: 4.1888 - val_loss: 28.7614 - val_mean_absolute_error: 4.1813\n",
      "Epoch 14/100\n",
      "16830/16830 [==============================] - 0s 17us/step - loss: 24.7995 - mean_absolute_error: 3.8509 - val_loss: 25.2862 - val_mean_absolute_error: 3.8492\n",
      "Epoch 15/100\n",
      "16830/16830 [==============================] - 0s 22us/step - loss: 21.6141 - mean_absolute_error: 3.5293 - val_loss: 22.1043 - val_mean_absolute_error: 3.5440\n",
      "Epoch 16/100\n",
      "16830/16830 [==============================] - 0s 18us/step - loss: 18.8025 - mean_absolute_error: 3.2435 - val_loss: 19.3298 - val_mean_absolute_error: 3.2763\n",
      "Epoch 17/100\n",
      "16830/16830 [==============================] - 0s 19us/step - loss: 16.4334 - mean_absolute_error: 3.0067 - val_loss: 17.0279 - val_mean_absolute_error: 3.0509\n",
      "Epoch 18/100\n",
      "16830/16830 [==============================] - 0s 17us/step - loss: 14.3397 - mean_absolute_error: 2.7709 - val_loss: 14.6975 - val_mean_absolute_error: 2.7486\n",
      "Epoch 19/100\n",
      "16830/16830 [==============================] - 0s 19us/step - loss: 12.2524 - mean_absolute_error: 2.4583 - val_loss: 12.6768 - val_mean_absolute_error: 2.4698\n",
      "Epoch 20/100\n",
      "16830/16830 [==============================] - 0s 20us/step - loss: 10.6198 - mean_absolute_error: 2.2571 - val_loss: 11.0960 - val_mean_absolute_error: 2.2913\n",
      "Epoch 21/100\n",
      "16830/16830 [==============================] - 0s 21us/step - loss: 9.3053 - mean_absolute_error: 2.0914 - val_loss: 9.7861 - val_mean_absolute_error: 2.1252\n",
      "Epoch 22/100\n",
      "16830/16830 [==============================] - 0s 19us/step - loss: 8.2341 - mean_absolute_error: 1.9550 - val_loss: 8.7007 - val_mean_absolute_error: 1.9879\n",
      "Epoch 23/100\n",
      "16830/16830 [==============================] - 0s 18us/step - loss: 7.3237 - mean_absolute_error: 1.8287 - val_loss: 7.7833 - val_mean_absolute_error: 1.8652\n",
      "Epoch 24/100\n",
      "16830/16830 [==============================] - 0s 19us/step - loss: 6.5457 - mean_absolute_error: 1.7168 - val_loss: 6.9826 - val_mean_absolute_error: 1.7538\n",
      "Epoch 25/100\n",
      "16830/16830 [==============================] - 0s 19us/step - loss: 5.8626 - mean_absolute_error: 1.6122 - val_loss: 6.2606 - val_mean_absolute_error: 1.6439\n",
      "Epoch 26/100\n",
      "16830/16830 [==============================] - 0s 24us/step - loss: 5.2459 - mean_absolute_error: 1.5117 - val_loss: 5.6133 - val_mean_absolute_error: 1.5410\n",
      "Epoch 27/100\n",
      "16830/16830 [==============================] - 0s 15us/step - loss: 4.6903 - mean_absolute_error: 1.4124 - val_loss: 5.0078 - val_mean_absolute_error: 1.4350\n",
      "Epoch 28/100\n",
      "16830/16830 [==============================] - 0s 16us/step - loss: 4.1654 - mean_absolute_error: 1.3117 - val_loss: 4.4532 - val_mean_absolute_error: 1.3341\n",
      "Epoch 29/100\n",
      "16830/16830 [==============================] - 0s 18us/step - loss: 3.6682 - mean_absolute_error: 1.2056 - val_loss: 3.9395 - val_mean_absolute_error: 1.2195\n",
      "Epoch 30/100\n",
      "16830/16830 [==============================] - 0s 18us/step - loss: 3.2234 - mean_absolute_error: 1.1006 - val_loss: 3.4773 - val_mean_absolute_error: 1.1119\n",
      "Epoch 31/100\n",
      "16830/16830 [==============================] - 0s 20us/step - loss: 2.8597 - mean_absolute_error: 1.0174 - val_loss: 3.1234 - val_mean_absolute_error: 1.0332\n",
      "Epoch 32/100\n",
      "16830/16830 [==============================] - 0s 17us/step - loss: 2.5687 - mean_absolute_error: 0.9467 - val_loss: 2.8441 - val_mean_absolute_error: 0.9838\n",
      "Epoch 33/100\n",
      "16830/16830 [==============================] - 0s 17us/step - loss: 2.3443 - mean_absolute_error: 0.8996 - val_loss: 2.6114 - val_mean_absolute_error: 0.9377\n",
      "Epoch 34/100\n",
      "16830/16830 [==============================] - 0s 20us/step - loss: 2.1578 - mean_absolute_error: 0.8606 - val_loss: 2.4123 - val_mean_absolute_error: 0.8988\n",
      "Epoch 35/100\n",
      "16830/16830 [==============================] - 0s 16us/step - loss: 1.9935 - mean_absolute_error: 0.8251 - val_loss: 2.2429 - val_mean_absolute_error: 0.8653\n",
      "Epoch 36/100\n",
      "16830/16830 [==============================] - 0s 19us/step - loss: 1.8614 - mean_absolute_error: 0.8002 - val_loss: 2.1041 - val_mean_absolute_error: 0.8391\n",
      "Epoch 37/100\n",
      "16830/16830 [==============================] - 0s 18us/step - loss: 1.7671 - mean_absolute_error: 0.7899 - val_loss: 1.9791 - val_mean_absolute_error: 0.8194\n",
      "Epoch 38/100\n",
      "16830/16830 [==============================] - 0s 20us/step - loss: 1.6563 - mean_absolute_error: 0.7626 - val_loss: 1.8803 - val_mean_absolute_error: 0.8019\n",
      "Epoch 39/100\n",
      "16830/16830 [==============================] - 0s 19us/step - loss: 1.5836 - mean_absolute_error: 0.7504 - val_loss: 1.7852 - val_mean_absolute_error: 0.7851\n",
      "Epoch 40/100\n",
      "16830/16830 [==============================] - 0s 16us/step - loss: 1.5115 - mean_absolute_error: 0.7380 - val_loss: 1.7042 - val_mean_absolute_error: 0.7716\n",
      "Epoch 41/100\n"
     ]
    },
    {
     "name": "stdout",
     "output_type": "stream",
     "text": [
      "16830/16830 [==============================] - 0s 18us/step - loss: 1.4468 - mean_absolute_error: 0.7264 - val_loss: 1.6637 - val_mean_absolute_error: 0.7739\n",
      "Epoch 42/100\n",
      "16830/16830 [==============================] - 0s 16us/step - loss: 1.4018 - mean_absolute_error: 0.7214 - val_loss: 1.5878 - val_mean_absolute_error: 0.7541\n",
      "Epoch 43/100\n",
      "16830/16830 [==============================] - 0s 18us/step - loss: 1.3578 - mean_absolute_error: 0.7163 - val_loss: 1.5135 - val_mean_absolute_error: 0.7379\n",
      "Epoch 44/100\n",
      "16830/16830 [==============================] - 0s 18us/step - loss: 1.3060 - mean_absolute_error: 0.6996 - val_loss: 1.4633 - val_mean_absolute_error: 0.7316\n",
      "Epoch 45/100\n",
      "16830/16830 [==============================] - 0s 18us/step - loss: 1.2653 - mean_absolute_error: 0.6920 - val_loss: 1.4160 - val_mean_absolute_error: 0.7232\n",
      "Epoch 46/100\n",
      "16830/16830 [==============================] - 0s 15us/step - loss: 1.2352 - mean_absolute_error: 0.6916 - val_loss: 1.3729 - val_mean_absolute_error: 0.7142\n",
      "Epoch 47/100\n",
      "16830/16830 [==============================] - 0s 14us/step - loss: 1.2043 - mean_absolute_error: 0.6835 - val_loss: 1.3385 - val_mean_absolute_error: 0.7088\n",
      "Epoch 48/100\n",
      "16830/16830 [==============================] - 0s 20us/step - loss: 1.1878 - mean_absolute_error: 0.6858 - val_loss: 1.3189 - val_mean_absolute_error: 0.7114\n",
      "Epoch 49/100\n",
      "16830/16830 [==============================] - 0s 20us/step - loss: 1.1592 - mean_absolute_error: 0.6829 - val_loss: 1.3197 - val_mean_absolute_error: 0.7219\n",
      "Epoch 50/100\n",
      "16830/16830 [==============================] - 0s 20us/step - loss: 1.1473 - mean_absolute_error: 0.6859 - val_loss: 1.2407 - val_mean_absolute_error: 0.6898\n",
      "Epoch 51/100\n",
      "16830/16830 [==============================] - 0s 18us/step - loss: 1.1211 - mean_absolute_error: 0.6752 - val_loss: 1.2215 - val_mean_absolute_error: 0.6916\n",
      "Epoch 52/100\n",
      "16830/16830 [==============================] - 0s 17us/step - loss: 1.0799 - mean_absolute_error: 0.6593 - val_loss: 1.1903 - val_mean_absolute_error: 0.6801\n",
      "Epoch 53/100\n",
      "16830/16830 [==============================] - 0s 18us/step - loss: 1.0822 - mean_absolute_error: 0.6675 - val_loss: 1.1793 - val_mean_absolute_error: 0.6893\n",
      "Epoch 54/100\n",
      "16830/16830 [==============================] - 0s 13us/step - loss: 1.0546 - mean_absolute_error: 0.6588 - val_loss: 1.1543 - val_mean_absolute_error: 0.6815\n",
      "Epoch 55/100\n",
      "16830/16830 [==============================] - 0s 19us/step - loss: 1.0409 - mean_absolute_error: 0.6562 - val_loss: 1.1321 - val_mean_absolute_error: 0.6735\n",
      "Epoch 56/100\n",
      "16830/16830 [==============================] - 0s 19us/step - loss: 1.0253 - mean_absolute_error: 0.6507 - val_loss: 1.1217 - val_mean_absolute_error: 0.6730\n",
      "Epoch 57/100\n",
      "16830/16830 [==============================] - 0s 17us/step - loss: 1.0257 - mean_absolute_error: 0.6592 - val_loss: 1.1383 - val_mean_absolute_error: 0.6855\n",
      "Epoch 58/100\n",
      "16830/16830 [==============================] - 0s 13us/step - loss: 1.0152 - mean_absolute_error: 0.6548 - val_loss: 1.1226 - val_mean_absolute_error: 0.6824\n",
      "Epoch 59/100\n",
      "16830/16830 [==============================] - 0s 14us/step - loss: 0.9945 - mean_absolute_error: 0.6518 - val_loss: 1.0720 - val_mean_absolute_error: 0.6583\n",
      "Epoch 60/100\n",
      "16830/16830 [==============================] - 0s 17us/step - loss: 0.9750 - mean_absolute_error: 0.6387 - val_loss: 1.0584 - val_mean_absolute_error: 0.6598\n",
      "Epoch 61/100\n",
      "16830/16830 [==============================] - 0s 16us/step - loss: 0.9798 - mean_absolute_error: 0.6445 - val_loss: 1.0605 - val_mean_absolute_error: 0.6625\n",
      "Epoch 62/100\n",
      "16830/16830 [==============================] - 0s 15us/step - loss: 0.9666 - mean_absolute_error: 0.6417 - val_loss: 1.0439 - val_mean_absolute_error: 0.6556\n",
      "Epoch 63/100\n",
      "16830/16830 [==============================] - 0s 14us/step - loss: 0.9604 - mean_absolute_error: 0.6398 - val_loss: 1.0241 - val_mean_absolute_error: 0.6494\n",
      "Epoch 64/100\n",
      "16830/16830 [==============================] - 0s 13us/step - loss: 0.9675 - mean_absolute_error: 0.6467 - val_loss: 1.0254 - val_mean_absolute_error: 0.6585\n",
      "Epoch 65/100\n",
      "16830/16830 [==============================] - 0s 13us/step - loss: 0.9476 - mean_absolute_error: 0.6393 - val_loss: 1.0062 - val_mean_absolute_error: 0.6435\n",
      "Epoch 66/100\n",
      "16830/16830 [==============================] - 0s 17us/step - loss: 0.9404 - mean_absolute_error: 0.6349 - val_loss: 1.0039 - val_mean_absolute_error: 0.6505\n",
      "Epoch 67/100\n",
      "16830/16830 [==============================] - 0s 19us/step - loss: 0.9298 - mean_absolute_error: 0.6334 - val_loss: 0.9999 - val_mean_absolute_error: 0.6467\n",
      "Epoch 68/100\n",
      "16830/16830 [==============================] - 0s 13us/step - loss: 0.9282 - mean_absolute_error: 0.6351 - val_loss: 0.9861 - val_mean_absolute_error: 0.6407\n",
      "Epoch 69/100\n",
      "16830/16830 [==============================] - 0s 13us/step - loss: 0.9192 - mean_absolute_error: 0.6281 - val_loss: 0.9766 - val_mean_absolute_error: 0.6397\n",
      "Epoch 70/100\n",
      "16830/16830 [==============================] - 0s 18us/step - loss: 0.9190 - mean_absolute_error: 0.6315 - val_loss: 0.9775 - val_mean_absolute_error: 0.6409\n",
      "Epoch 71/100\n",
      "16830/16830 [==============================] - 0s 18us/step - loss: 0.9087 - mean_absolute_error: 0.6262 - val_loss: 0.9665 - val_mean_absolute_error: 0.6372\n",
      "Epoch 72/100\n",
      "16830/16830 [==============================] - 0s 19us/step - loss: 0.9068 - mean_absolute_error: 0.6277 - val_loss: 0.9754 - val_mean_absolute_error: 0.6448\n",
      "Epoch 73/100\n",
      "16830/16830 [==============================] - 0s 15us/step - loss: 0.9062 - mean_absolute_error: 0.6285 - val_loss: 0.9525 - val_mean_absolute_error: 0.6326\n",
      "Epoch 74/100\n",
      "16830/16830 [==============================] - 0s 13us/step - loss: 0.9029 - mean_absolute_error: 0.6249 - val_loss: 0.9530 - val_mean_absolute_error: 0.6398\n",
      "Epoch 75/100\n",
      "16830/16830 [==============================] - 0s 21us/step - loss: 0.9136 - mean_absolute_error: 0.6373 - val_loss: 0.9462 - val_mean_absolute_error: 0.6289\n",
      "Epoch 76/100\n",
      "16830/16830 [==============================] - 0s 15us/step - loss: 0.8968 - mean_absolute_error: 0.6244 - val_loss: 0.9504 - val_mean_absolute_error: 0.6385\n",
      "Epoch 77/100\n",
      "16830/16830 [==============================] - 0s 22us/step - loss: 0.9040 - mean_absolute_error: 0.6302 - val_loss: 0.9536 - val_mean_absolute_error: 0.6389\n",
      "Epoch 78/100\n",
      "16830/16830 [==============================] - 0s 15us/step - loss: 0.8881 - mean_absolute_error: 0.6231 - val_loss: 0.9446 - val_mean_absolute_error: 0.6434\n",
      "Epoch 79/100\n",
      "16830/16830 [==============================] - 0s 14us/step - loss: 0.8996 - mean_absolute_error: 0.6329 - val_loss: 0.9323 - val_mean_absolute_error: 0.6302\n",
      "Epoch 80/100\n",
      "16830/16830 [==============================] - 0s 16us/step - loss: 0.8803 - mean_absolute_error: 0.6222 - val_loss: 0.9239 - val_mean_absolute_error: 0.6272\n",
      "Epoch 81/100\n",
      "16830/16830 [==============================] - 0s 18us/step - loss: 0.8830 - mean_absolute_error: 0.6227 - val_loss: 0.9259 - val_mean_absolute_error: 0.6343\n",
      "Epoch 82/100\n",
      "16830/16830 [==============================] - 0s 19us/step - loss: 0.8775 - mean_absolute_error: 0.6200 - val_loss: 0.9227 - val_mean_absolute_error: 0.6343\n",
      "Epoch 83/100\n",
      "16830/16830 [==============================] - 0s 16us/step - loss: 0.8729 - mean_absolute_error: 0.6180 - val_loss: 0.9290 - val_mean_absolute_error: 0.6336\n",
      "Epoch 84/100\n",
      "16830/16830 [==============================] - 0s 16us/step - loss: 0.8738 - mean_absolute_error: 0.6219 - val_loss: 0.9175 - val_mean_absolute_error: 0.6240\n",
      "Epoch 85/100\n",
      "16830/16830 [==============================] - 0s 21us/step - loss: 0.8743 - mean_absolute_error: 0.6205 - val_loss: 0.9107 - val_mean_absolute_error: 0.6268\n",
      "Epoch 86/100\n",
      "16830/16830 [==============================] - 0s 14us/step - loss: 0.8713 - mean_absolute_error: 0.6164 - val_loss: 0.9100 - val_mean_absolute_error: 0.6268\n",
      "Epoch 87/100\n",
      "16830/16830 [==============================] - 0s 13us/step - loss: 0.8693 - mean_absolute_error: 0.6221 - val_loss: 0.9041 - val_mean_absolute_error: 0.6213\n",
      "Epoch 88/100\n",
      "16830/16830 [==============================] - 0s 14us/step - loss: 0.8703 - mean_absolute_error: 0.6206 - val_loss: 0.9037 - val_mean_absolute_error: 0.6262\n"
     ]
    },
    {
     "name": "stdout",
     "output_type": "stream",
     "text": [
      "Epoch 89/100\n",
      "16830/16830 [==============================] - 0s 13us/step - loss: 0.8635 - mean_absolute_error: 0.6172 - val_loss: 0.8995 - val_mean_absolute_error: 0.6216\n",
      "Epoch 90/100\n",
      "16830/16830 [==============================] - 0s 13us/step - loss: 0.8562 - mean_absolute_error: 0.6133 - val_loss: 0.8973 - val_mean_absolute_error: 0.6215\n",
      "Epoch 91/100\n",
      "16830/16830 [==============================] - 0s 13us/step - loss: 0.8752 - mean_absolute_error: 0.6269 - val_loss: 0.9051 - val_mean_absolute_error: 0.6266\n",
      "Epoch 92/100\n",
      "16830/16830 [==============================] - 0s 13us/step - loss: 0.8611 - mean_absolute_error: 0.6142 - val_loss: 0.8950 - val_mean_absolute_error: 0.6211\n",
      "Epoch 93/100\n",
      "16830/16830 [==============================] - 0s 13us/step - loss: 0.8559 - mean_absolute_error: 0.6138 - val_loss: 0.8926 - val_mean_absolute_error: 0.6198\n",
      "Epoch 94/100\n",
      "16830/16830 [==============================] - 0s 20us/step - loss: 0.8643 - mean_absolute_error: 0.6199 - val_loss: 0.8891 - val_mean_absolute_error: 0.6183\n",
      "Epoch 95/100\n",
      "16830/16830 [==============================] - 0s 18us/step - loss: 0.8434 - mean_absolute_error: 0.6078 - val_loss: 0.8925 - val_mean_absolute_error: 0.6264\n",
      "Epoch 96/100\n",
      "16830/16830 [==============================] - 0s 13us/step - loss: 0.8504 - mean_absolute_error: 0.6110 - val_loss: 0.8862 - val_mean_absolute_error: 0.6173\n",
      "Epoch 97/100\n",
      "16830/16830 [==============================] - 0s 13us/step - loss: 0.8455 - mean_absolute_error: 0.6100 - val_loss: 0.8983 - val_mean_absolute_error: 0.6248\n",
      "Epoch 98/100\n",
      "16830/16830 [==============================] - 0s 18us/step - loss: 0.8528 - mean_absolute_error: 0.6129 - val_loss: 0.8962 - val_mean_absolute_error: 0.6247\n",
      "Epoch 99/100\n",
      "16830/16830 [==============================] - 0s 15us/step - loss: 0.8543 - mean_absolute_error: 0.6169 - val_loss: 0.8830 - val_mean_absolute_error: 0.6147\n",
      "Epoch 100/100\n",
      "16830/16830 [==============================] - 0s 13us/step - loss: 0.8470 - mean_absolute_error: 0.6111 - val_loss: 0.8869 - val_mean_absolute_error: 0.6233\n"
     ]
    }
   ],
   "source": [
    "model = create_model_stack_lstm(5, 1, plot_title='stack-lstm')\n",
    "model, history = fit_model(model, x_train_lstm, y_train, x_val_lstm, y_val,\n",
    "                           batch_size=1024, epochs=100)"
   ]
  },
  {
   "cell_type": "code",
   "execution_count": 24,
   "metadata": {},
   "outputs": [
    {
     "data": {
      "text/plain": [
       "<matplotlib.legend.Legend at 0x120f82908>"
      ]
     },
     "execution_count": 24,
     "metadata": {},
     "output_type": "execute_result"
    },
    {
     "data": {
      "image/png": "[encoded data removed]",
      "text/plain": [
       "<matplotlib.figure.Figure at 0x121956f98>"
      ]
     },
     "metadata": {},
     "output_type": "display_data"
    }
   ],
   "source": [
    "f, (ax1, ax2) = plt.subplots(2,1, figsize=(15,10))\n",
    "ax1.plot(history.history['loss'], lw=2, label='train')\n",
    "ax1.plot(history.history['val_loss'], lw=2, label='val')\n",
    "ax1.set_title('Loss: MSE')\n",
    "ax1.legend()\n",
    "ax2.plot(history.history['mean_absolute_error'], label='train')\n",
    "ax2.plot(history.history['val_mean_absolute_error'], label='val')\n",
    "ax2.set_title('Metric: MAE')\n",
    "ax2.legend()"
   ]
  },
  {
   "cell_type": "markdown",
   "metadata": {},
   "source": [
    "## Paso 3: Prediction"
   ]
  },
  {
   "cell_type": "code",
   "execution_count": 25,
   "metadata": {},
   "outputs": [
    {
     "data": {
      "text/plain": [
       "(5260, 5, 1)"
      ]
     },
     "execution_count": 25,
     "metadata": {},
     "output_type": "execute_result"
    }
   ],
   "source": [
    "x_test = features_test_set.values.astype('float32')\n",
    "x_test_lstm = np.reshape(x_test, (x_test.shape[0], x_test.shape[1], 1))\n",
    "x_test_lstm.shape"
   ]
  },
  {
   "cell_type": "code",
   "execution_count": 26,
   "metadata": {
    "collapsed": true
   },
   "outputs": [],
   "source": [
    "predicted = model.predict(x_test_lstm)"
   ]
  },
  {
   "cell_type": "code",
   "execution_count": 27,
   "metadata": {},
   "outputs": [
    {
     "data": {
      "text/html": [
       "<div>\n",
       "<table border=\"1\" class=\"dataframe\">\n",
       "  <thead>\n",
       "    <tr style=\"text-align: right;\">\n",
       "      <th></th>\n",
       "      <th>f_0</th>\n",
       "      <th>f_1</th>\n",
       "      <th>f_2</th>\n",
       "      <th>f_3</th>\n",
       "      <th>f_4</th>\n",
       "      <th>f_5</th>\n",
       "      <th>target_h1</th>\n",
       "    </tr>\n",
       "    <tr>\n",
       "      <th>target_date</th>\n",
       "      <th></th>\n",
       "      <th></th>\n",
       "      <th></th>\n",
       "      <th></th>\n",
       "      <th></th>\n",
       "      <th></th>\n",
       "      <th></th>\n",
       "    </tr>\n",
       "  </thead>\n",
       "  <tbody>\n",
       "    <tr>\n",
       "      <th>2006-05-26 20:00:00</th>\n",
       "      <td>5.30</td>\n",
       "      <td>5.19</td>\n",
       "      <td>5.24</td>\n",
       "      <td>5.27</td>\n",
       "      <td>4.45</td>\n",
       "      <td>3.92</td>\n",
       "      <td>4.19</td>\n",
       "    </tr>\n",
       "    <tr>\n",
       "      <th>2006-05-26 21:00:00</th>\n",
       "      <td>5.19</td>\n",
       "      <td>5.24</td>\n",
       "      <td>5.27</td>\n",
       "      <td>4.45</td>\n",
       "      <td>3.92</td>\n",
       "      <td>4.19</td>\n",
       "      <td>4.60</td>\n",
       "    </tr>\n",
       "    <tr>\n",
       "      <th>2006-05-26 22:00:00</th>\n",
       "      <td>5.24</td>\n",
       "      <td>5.27</td>\n",
       "      <td>4.45</td>\n",
       "      <td>3.92</td>\n",
       "      <td>4.19</td>\n",
       "      <td>4.60</td>\n",
       "      <td>5.34</td>\n",
       "    </tr>\n",
       "    <tr>\n",
       "      <th>2006-05-26 23:00:00</th>\n",
       "      <td>5.27</td>\n",
       "      <td>4.45</td>\n",
       "      <td>3.92</td>\n",
       "      <td>4.19</td>\n",
       "      <td>4.60</td>\n",
       "      <td>5.34</td>\n",
       "      <td>4.70</td>\n",
       "    </tr>\n",
       "    <tr>\n",
       "      <th>2006-05-27 00:00:00</th>\n",
       "      <td>4.45</td>\n",
       "      <td>3.92</td>\n",
       "      <td>4.19</td>\n",
       "      <td>4.60</td>\n",
       "      <td>5.34</td>\n",
       "      <td>4.70</td>\n",
       "      <td>3.00</td>\n",
       "    </tr>\n",
       "  </tbody>\n",
       "</table>\n",
       "</div>"
      ],
      "text/plain": [
       "                      f_0   f_1   f_2   f_3   f_4   f_5  target_h1\n",
       "target_date                                                       \n",
       "2006-05-26 20:00:00  5.30  5.19  5.24  5.27  4.45  3.92       4.19\n",
       "2006-05-26 21:00:00  5.19  5.24  5.27  4.45  3.92  4.19       4.60\n",
       "2006-05-26 22:00:00  5.24  5.27  4.45  3.92  4.19  4.60       5.34\n",
       "2006-05-26 23:00:00  5.27  4.45  3.92  4.19  4.60  5.34       4.70\n",
       "2006-05-27 00:00:00  4.45  3.92  4.19  4.60  5.34  4.70       3.00"
      ]
     },
     "execution_count": 27,
     "metadata": {},
     "output_type": "execute_result"
    }
   ],
   "source": [
    "df_prediction = test_set.copy()\n",
    "df_prediction.head()"
   ]
  },
  {
   "cell_type": "code",
   "execution_count": 28,
   "metadata": {},
   "outputs": [
    {
     "data": {
      "text/html": [
       "<div>\n",
       "<table border=\"1\" class=\"dataframe\">\n",
       "  <thead>\n",
       "    <tr style=\"text-align: right;\">\n",
       "      <th></th>\n",
       "      <th>f_0</th>\n",
       "      <th>f_1</th>\n",
       "      <th>f_2</th>\n",
       "      <th>f_3</th>\n",
       "      <th>f_4</th>\n",
       "      <th>f_5</th>\n",
       "      <th>target_h1</th>\n",
       "    </tr>\n",
       "    <tr>\n",
       "      <th>target_date</th>\n",
       "      <th></th>\n",
       "      <th></th>\n",
       "      <th></th>\n",
       "      <th></th>\n",
       "      <th></th>\n",
       "      <th></th>\n",
       "      <th></th>\n",
       "    </tr>\n",
       "  </thead>\n",
       "  <tbody>\n",
       "    <tr>\n",
       "      <th>2006-05-26 20:00:00</th>\n",
       "      <td>5.30</td>\n",
       "      <td>5.19</td>\n",
       "      <td>5.24</td>\n",
       "      <td>5.27</td>\n",
       "      <td>4.45</td>\n",
       "      <td>3.92</td>\n",
       "      <td>4.19</td>\n",
       "    </tr>\n",
       "    <tr>\n",
       "      <th>2006-05-26 21:00:00</th>\n",
       "      <td>5.19</td>\n",
       "      <td>5.24</td>\n",
       "      <td>5.27</td>\n",
       "      <td>4.45</td>\n",
       "      <td>3.92</td>\n",
       "      <td>4.19</td>\n",
       "      <td>4.60</td>\n",
       "    </tr>\n",
       "    <tr>\n",
       "      <th>2006-05-26 22:00:00</th>\n",
       "      <td>5.24</td>\n",
       "      <td>5.27</td>\n",
       "      <td>4.45</td>\n",
       "      <td>3.92</td>\n",
       "      <td>4.19</td>\n",
       "      <td>4.60</td>\n",
       "      <td>5.34</td>\n",
       "    </tr>\n",
       "    <tr>\n",
       "      <th>2006-05-26 23:00:00</th>\n",
       "      <td>5.27</td>\n",
       "      <td>4.45</td>\n",
       "      <td>3.92</td>\n",
       "      <td>4.19</td>\n",
       "      <td>4.60</td>\n",
       "      <td>5.34</td>\n",
       "      <td>4.70</td>\n",
       "    </tr>\n",
       "    <tr>\n",
       "      <th>2006-05-27 00:00:00</th>\n",
       "      <td>4.45</td>\n",
       "      <td>3.92</td>\n",
       "      <td>4.19</td>\n",
       "      <td>4.60</td>\n",
       "      <td>5.34</td>\n",
       "      <td>4.70</td>\n",
       "      <td>3.00</td>\n",
       "    </tr>\n",
       "  </tbody>\n",
       "</table>\n",
       "</div>"
      ],
      "text/plain": [
       "                      f_0   f_1   f_2   f_3   f_4   f_5  target_h1\n",
       "target_date                                                       \n",
       "2006-05-26 20:00:00  5.30  5.19  5.24  5.27  4.45  3.92       4.19\n",
       "2006-05-26 21:00:00  5.19  5.24  5.27  4.45  3.92  4.19       4.60\n",
       "2006-05-26 22:00:00  5.24  5.27  4.45  3.92  4.19  4.60       5.34\n",
       "2006-05-26 23:00:00  5.27  4.45  3.92  4.19  4.60  5.34       4.70\n",
       "2006-05-27 00:00:00  4.45  3.92  4.19  4.60  5.34  4.70       3.00"
      ]
     },
     "execution_count": 28,
     "metadata": {},
     "output_type": "execute_result"
    }
   ],
   "source": [
    "df_prediction = test_set.copy()\n",
    "df_prediction.head()"
   ]
  },
  {
   "cell_type": "code",
   "execution_count": 29,
   "metadata": {},
   "outputs": [
    {
     "data": {
      "text/html": [
       "<div>\n",
       "<table border=\"1\" class=\"dataframe\">\n",
       "  <thead>\n",
       "    <tr style=\"text-align: right;\">\n",
       "      <th></th>\n",
       "      <th>f_0</th>\n",
       "      <th>f_1</th>\n",
       "      <th>f_2</th>\n",
       "      <th>f_3</th>\n",
       "      <th>f_4</th>\n",
       "      <th>f_5</th>\n",
       "      <th>target_h1</th>\n",
       "      <th>target_predicted</th>\n",
       "    </tr>\n",
       "    <tr>\n",
       "      <th>target_date</th>\n",
       "      <th></th>\n",
       "      <th></th>\n",
       "      <th></th>\n",
       "      <th></th>\n",
       "      <th></th>\n",
       "      <th></th>\n",
       "      <th></th>\n",
       "      <th></th>\n",
       "    </tr>\n",
       "  </thead>\n",
       "  <tbody>\n",
       "    <tr>\n",
       "      <th>2006-05-26 20:00:00</th>\n",
       "      <td>5.30</td>\n",
       "      <td>5.19</td>\n",
       "      <td>5.24</td>\n",
       "      <td>5.27</td>\n",
       "      <td>4.45</td>\n",
       "      <td>3.92</td>\n",
       "      <td>4.19</td>\n",
       "      <td>3.865367</td>\n",
       "    </tr>\n",
       "    <tr>\n",
       "      <th>2006-05-26 21:00:00</th>\n",
       "      <td>5.19</td>\n",
       "      <td>5.24</td>\n",
       "      <td>5.27</td>\n",
       "      <td>4.45</td>\n",
       "      <td>3.92</td>\n",
       "      <td>4.19</td>\n",
       "      <td>4.60</td>\n",
       "      <td>4.430679</td>\n",
       "    </tr>\n",
       "    <tr>\n",
       "      <th>2006-05-26 22:00:00</th>\n",
       "      <td>5.24</td>\n",
       "      <td>5.27</td>\n",
       "      <td>4.45</td>\n",
       "      <td>3.92</td>\n",
       "      <td>4.19</td>\n",
       "      <td>4.60</td>\n",
       "      <td>5.34</td>\n",
       "      <td>4.818795</td>\n",
       "    </tr>\n",
       "    <tr>\n",
       "      <th>2006-05-26 23:00:00</th>\n",
       "      <td>5.27</td>\n",
       "      <td>4.45</td>\n",
       "      <td>3.92</td>\n",
       "      <td>4.19</td>\n",
       "      <td>4.60</td>\n",
       "      <td>5.34</td>\n",
       "      <td>4.70</td>\n",
       "      <td>5.650919</td>\n",
       "    </tr>\n",
       "    <tr>\n",
       "      <th>2006-05-27 00:00:00</th>\n",
       "      <td>4.45</td>\n",
       "      <td>3.92</td>\n",
       "      <td>4.19</td>\n",
       "      <td>4.60</td>\n",
       "      <td>5.34</td>\n",
       "      <td>4.70</td>\n",
       "      <td>3.00</td>\n",
       "      <td>4.476583</td>\n",
       "    </tr>\n",
       "  </tbody>\n",
       "</table>\n",
       "</div>"
      ],
      "text/plain": [
       "                      f_0   f_1   f_2   f_3   f_4   f_5  target_h1  \\\n",
       "target_date                                                          \n",
       "2006-05-26 20:00:00  5.30  5.19  5.24  5.27  4.45  3.92       4.19   \n",
       "2006-05-26 21:00:00  5.19  5.24  5.27  4.45  3.92  4.19       4.60   \n",
       "2006-05-26 22:00:00  5.24  5.27  4.45  3.92  4.19  4.60       5.34   \n",
       "2006-05-26 23:00:00  5.27  4.45  3.92  4.19  4.60  5.34       4.70   \n",
       "2006-05-27 00:00:00  4.45  3.92  4.19  4.60  5.34  4.70       3.00   \n",
       "\n",
       "                     target_predicted  \n",
       "target_date                            \n",
       "2006-05-26 20:00:00          3.865367  \n",
       "2006-05-26 21:00:00          4.430679  \n",
       "2006-05-26 22:00:00          4.818795  \n",
       "2006-05-26 23:00:00          5.650919  \n",
       "2006-05-27 00:00:00          4.476583  "
      ]
     },
     "execution_count": 29,
     "metadata": {},
     "output_type": "execute_result"
    }
   ],
   "source": [
    "df_prediction['target_predicted'] = predicted\n",
    "df_prediction.head()"
   ]
  },
  {
   "cell_type": "code",
   "execution_count": 30,
   "metadata": {},
   "outputs": [
    {
     "data": {
      "text/plain": [
       "<matplotlib.axes._subplots.AxesSubplot at 0x121956208>"
      ]
     },
     "execution_count": 30,
     "metadata": {},
     "output_type": "execute_result"
    },
    {
     "data": {
      "image/png": "[encoded data removed]",
      "text/plain": [
       "<matplotlib.figure.Figure at 0x118379710>"
      ]
     },
     "metadata": {},
     "output_type": "display_data"
    }
   ],
   "source": [
    "title='Stack-LSTM-10-5-unit_hidden-5-3-1'\n",
    " \n",
    "\n",
    "f, ax = plt.subplots(1,1,figsize=(10,10))\n",
    "x_min = df_prediction.target_h1.min() \n",
    "x_max = df_prediction.target_h1.max()\n",
    "y_min = df_prediction.target_predicted.min()\n",
    "y_max = df_prediction.target_predicted.max()\n",
    "ax.set_title(title)\n",
    "# line\n",
    "ax.set_xlim(x_min+1, x_max+1)\n",
    "ax.set_ylim(x_min+1, x_max+1)\n",
    "ax.plot((x_min, x_max), (x_min, x_max), lw=3, c='r')\n",
    "# scatter\n",
    "df_prediction.plot(ax=ax,\n",
    "                   x='target_h1',\n",
    "                   y='target_predicted',\n",
    "                   kind='scatter',\n",
    "                  )"
   ]
  },
  {
   "cell_type": "code",
   "execution_count": 31,
   "metadata": {},
   "outputs": [
    {
     "data": {
      "text/plain": [
       "<matplotlib.axes._subplots.AxesSubplot at 0x1213c6320>"
      ]
     },
     "execution_count": 31,
     "metadata": {},
     "output_type": "execute_result"
    },
    {
     "data": {
      "image/png": "[encoded data removed]",
      "text/plain": [
       "<matplotlib.figure.Figure at 0x120f1ce10>"
      ]
     },
     "metadata": {},
     "output_type": "display_data"
    }
   ],
   "source": [
    "df_prediction.iloc[:,-2:].plot(figsize=(15,5))"
   ]
  },
  {
   "cell_type": "code",
   "execution_count": 32,
   "metadata": {},
   "outputs": [
    {
     "data": {
      "text/html": [
       "<div>\n",
       "<table border=\"1\" class=\"dataframe\">\n",
       "  <thead>\n",
       "    <tr style=\"text-align: right;\">\n",
       "      <th></th>\n",
       "      <th>f_0</th>\n",
       "      <th>f_1</th>\n",
       "      <th>f_2</th>\n",
       "      <th>f_3</th>\n",
       "      <th>f_4</th>\n",
       "      <th>f_5</th>\n",
       "      <th>target_h1</th>\n",
       "      <th>target_predicted</th>\n",
       "    </tr>\n",
       "    <tr>\n",
       "      <th>target_date</th>\n",
       "      <th></th>\n",
       "      <th></th>\n",
       "      <th></th>\n",
       "      <th></th>\n",
       "      <th></th>\n",
       "      <th></th>\n",
       "      <th></th>\n",
       "      <th></th>\n",
       "    </tr>\n",
       "  </thead>\n",
       "  <tbody>\n",
       "    <tr>\n",
       "      <th>2006-05-26 20:00:00</th>\n",
       "      <td>5.30</td>\n",
       "      <td>5.19</td>\n",
       "      <td>5.24</td>\n",
       "      <td>5.27</td>\n",
       "      <td>4.45</td>\n",
       "      <td>3.92</td>\n",
       "      <td>4.19</td>\n",
       "      <td>3.865367</td>\n",
       "    </tr>\n",
       "    <tr>\n",
       "      <th>2006-05-26 21:00:00</th>\n",
       "      <td>5.19</td>\n",
       "      <td>5.24</td>\n",
       "      <td>5.27</td>\n",
       "      <td>4.45</td>\n",
       "      <td>3.92</td>\n",
       "      <td>4.19</td>\n",
       "      <td>4.60</td>\n",
       "      <td>4.430679</td>\n",
       "    </tr>\n",
       "    <tr>\n",
       "      <th>2006-05-26 22:00:00</th>\n",
       "      <td>5.24</td>\n",
       "      <td>5.27</td>\n",
       "      <td>4.45</td>\n",
       "      <td>3.92</td>\n",
       "      <td>4.19</td>\n",
       "      <td>4.60</td>\n",
       "      <td>5.34</td>\n",
       "      <td>4.818795</td>\n",
       "    </tr>\n",
       "    <tr>\n",
       "      <th>2006-05-26 23:00:00</th>\n",
       "      <td>5.27</td>\n",
       "      <td>4.45</td>\n",
       "      <td>3.92</td>\n",
       "      <td>4.19</td>\n",
       "      <td>4.60</td>\n",
       "      <td>5.34</td>\n",
       "      <td>4.70</td>\n",
       "      <td>5.650919</td>\n",
       "    </tr>\n",
       "    <tr>\n",
       "      <th>2006-05-27 00:00:00</th>\n",
       "      <td>4.45</td>\n",
       "      <td>3.92</td>\n",
       "      <td>4.19</td>\n",
       "      <td>4.60</td>\n",
       "      <td>5.34</td>\n",
       "      <td>4.70</td>\n",
       "      <td>3.00</td>\n",
       "      <td>4.476583</td>\n",
       "    </tr>\n",
       "  </tbody>\n",
       "</table>\n",
       "</div>"
      ],
      "text/plain": [
       "                      f_0   f_1   f_2   f_3   f_4   f_5  target_h1  \\\n",
       "target_date                                                          \n",
       "2006-05-26 20:00:00  5.30  5.19  5.24  5.27  4.45  3.92       4.19   \n",
       "2006-05-26 21:00:00  5.19  5.24  5.27  4.45  3.92  4.19       4.60   \n",
       "2006-05-26 22:00:00  5.24  5.27  4.45  3.92  4.19  4.60       5.34   \n",
       "2006-05-26 23:00:00  5.27  4.45  3.92  4.19  4.60  5.34       4.70   \n",
       "2006-05-27 00:00:00  4.45  3.92  4.19  4.60  5.34  4.70       3.00   \n",
       "\n",
       "                     target_predicted  \n",
       "target_date                            \n",
       "2006-05-26 20:00:00          3.865367  \n",
       "2006-05-26 21:00:00          4.430679  \n",
       "2006-05-26 22:00:00          4.818795  \n",
       "2006-05-26 23:00:00          5.650919  \n",
       "2006-05-27 00:00:00          4.476583  "
      ]
     },
     "execution_count": 32,
     "metadata": {},
     "output_type": "execute_result"
    }
   ],
   "source": [
    "df_prediction.head()"
   ]
  },
  {
   "cell_type": "code",
   "execution_count": 33,
   "metadata": {
    "collapsed": true
   },
   "outputs": [],
   "source": [
    "df_prediction['mse_h1'] = np.power(df_prediction.target_h1 -\n",
    "                                   df_prediction.target_predicted, 2)"
   ]
  },
  {
   "cell_type": "code",
   "execution_count": 34,
   "metadata": {
    "collapsed": true
   },
   "outputs": [],
   "source": [
    "df_prediction['mae_h1'] = np.abs(df_prediction.target_h1 - \n",
    "                                 df_prediction.target_predicted)"
   ]
  },
  {
   "cell_type": "code",
   "execution_count": 35,
   "metadata": {},
   "outputs": [
    {
     "data": {
      "text/html": [
       "<div>\n",
       "<table border=\"1\" class=\"dataframe\">\n",
       "  <thead>\n",
       "    <tr style=\"text-align: right;\">\n",
       "      <th></th>\n",
       "      <th>f_0</th>\n",
       "      <th>f_1</th>\n",
       "      <th>f_2</th>\n",
       "      <th>f_3</th>\n",
       "      <th>f_4</th>\n",
       "      <th>f_5</th>\n",
       "      <th>target_h1</th>\n",
       "      <th>target_predicted</th>\n",
       "      <th>mse_h1</th>\n",
       "      <th>mae_h1</th>\n",
       "    </tr>\n",
       "    <tr>\n",
       "      <th>target_date</th>\n",
       "      <th></th>\n",
       "      <th></th>\n",
       "      <th></th>\n",
       "      <th></th>\n",
       "      <th></th>\n",
       "      <th></th>\n",
       "      <th></th>\n",
       "      <th></th>\n",
       "      <th></th>\n",
       "      <th></th>\n",
       "    </tr>\n",
       "  </thead>\n",
       "  <tbody>\n",
       "    <tr>\n",
       "      <th>2006-05-26 20:00:00</th>\n",
       "      <td>5.30</td>\n",
       "      <td>5.19</td>\n",
       "      <td>5.24</td>\n",
       "      <td>5.27</td>\n",
       "      <td>4.45</td>\n",
       "      <td>3.92</td>\n",
       "      <td>4.19</td>\n",
       "      <td>3.865367</td>\n",
       "      <td>0.105387</td>\n",
       "      <td>0.324633</td>\n",
       "    </tr>\n",
       "    <tr>\n",
       "      <th>2006-05-26 21:00:00</th>\n",
       "      <td>5.19</td>\n",
       "      <td>5.24</td>\n",
       "      <td>5.27</td>\n",
       "      <td>4.45</td>\n",
       "      <td>3.92</td>\n",
       "      <td>4.19</td>\n",
       "      <td>4.60</td>\n",
       "      <td>4.430679</td>\n",
       "      <td>0.028669</td>\n",
       "      <td>0.169321</td>\n",
       "    </tr>\n",
       "    <tr>\n",
       "      <th>2006-05-26 22:00:00</th>\n",
       "      <td>5.24</td>\n",
       "      <td>5.27</td>\n",
       "      <td>4.45</td>\n",
       "      <td>3.92</td>\n",
       "      <td>4.19</td>\n",
       "      <td>4.60</td>\n",
       "      <td>5.34</td>\n",
       "      <td>4.818795</td>\n",
       "      <td>0.271655</td>\n",
       "      <td>0.521205</td>\n",
       "    </tr>\n",
       "    <tr>\n",
       "      <th>2006-05-26 23:00:00</th>\n",
       "      <td>5.27</td>\n",
       "      <td>4.45</td>\n",
       "      <td>3.92</td>\n",
       "      <td>4.19</td>\n",
       "      <td>4.60</td>\n",
       "      <td>5.34</td>\n",
       "      <td>4.70</td>\n",
       "      <td>5.650919</td>\n",
       "      <td>0.904248</td>\n",
       "      <td>0.950919</td>\n",
       "    </tr>\n",
       "    <tr>\n",
       "      <th>2006-05-27 00:00:00</th>\n",
       "      <td>4.45</td>\n",
       "      <td>3.92</td>\n",
       "      <td>4.19</td>\n",
       "      <td>4.60</td>\n",
       "      <td>5.34</td>\n",
       "      <td>4.70</td>\n",
       "      <td>3.00</td>\n",
       "      <td>4.476583</td>\n",
       "      <td>2.180297</td>\n",
       "      <td>1.476583</td>\n",
       "    </tr>\n",
       "  </tbody>\n",
       "</table>\n",
       "</div>"
      ],
      "text/plain": [
       "                      f_0   f_1   f_2   f_3   f_4   f_5  target_h1  \\\n",
       "target_date                                                          \n",
       "2006-05-26 20:00:00  5.30  5.19  5.24  5.27  4.45  3.92       4.19   \n",
       "2006-05-26 21:00:00  5.19  5.24  5.27  4.45  3.92  4.19       4.60   \n",
       "2006-05-26 22:00:00  5.24  5.27  4.45  3.92  4.19  4.60       5.34   \n",
       "2006-05-26 23:00:00  5.27  4.45  3.92  4.19  4.60  5.34       4.70   \n",
       "2006-05-27 00:00:00  4.45  3.92  4.19  4.60  5.34  4.70       3.00   \n",
       "\n",
       "                     target_predicted    mse_h1    mae_h1  \n",
       "target_date                                                \n",
       "2006-05-26 20:00:00          3.865367  0.105387  0.324633  \n",
       "2006-05-26 21:00:00          4.430679  0.028669  0.169321  \n",
       "2006-05-26 22:00:00          4.818795  0.271655  0.521205  \n",
       "2006-05-26 23:00:00          5.650919  0.904248  0.950919  \n",
       "2006-05-27 00:00:00          4.476583  2.180297  1.476583  "
      ]
     },
     "execution_count": 35,
     "metadata": {},
     "output_type": "execute_result"
    }
   ],
   "source": [
    "# write on disk\n",
    "df_prediction.head()"
   ]
  },
  {
   "cell_type": "code",
   "execution_count": 36,
   "metadata": {},
   "outputs": [
    {
     "data": {
      "text/plain": [
       "0.9613289626473819"
      ]
     },
     "execution_count": 36,
     "metadata": {},
     "output_type": "execute_result"
    }
   ],
   "source": [
    "test_mse = df_prediction.mse_h1.sum() / len(df_prediction.mse_h1)\n",
    "test_mse"
   ]
  },
  {
   "cell_type": "code",
   "execution_count": 37,
   "metadata": {},
   "outputs": [
    {
     "data": {
      "text/plain": [
       "0.5649590854934866"
      ]
     },
     "execution_count": 37,
     "metadata": {},
     "output_type": "execute_result"
    }
   ],
   "source": [
    "test_mae = df_prediction.mae_h1.sum() / len(df_prediction.mae_h1)\n",
    "test_mae"
   ]
  },
  {
   "cell_type": "code",
   "execution_count": null,
   "metadata": {
    "collapsed": true
   },
   "outputs": [],
   "source": []
  }
 ],
 "metadata": {
  "kernelspec": {
   "display_name": "Python 3.5 + TensorFlow 1.0",
   "language": "python",
   "name": "p3tf1"
  },
  "language_info": {
   "codemirror_mode": {
    "name": "ipython",
    "version": 3
   },
   "file_extension": ".py",
   "mimetype": "text/x-python",
   "name": "python",
   "nbconvert_exporter": "python",
   "pygments_lexer": "ipython3",
   "version": "3.5.3"
  }
 },
 "nbformat": 4,
 "nbformat_minor": 2
}
