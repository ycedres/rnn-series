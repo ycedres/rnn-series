{
 "cells": [
  {
   "cell_type": "markdown",
   "metadata": {},
   "source": [
    "# NREL - Offshore WA OR - turbine: 25915\n",
    "\n",
    "## Predicción: h = 1 / H = 24\n",
    "\n",
    "## Neural Network - LSTM"
   ]
  },
  {
   "cell_type": "code",
   "execution_count": 1,
   "metadata": {
    "collapsed": true
   },
   "outputs": [],
   "source": [
    "%matplotlib inline\n",
    "import os\n",
    "import sys\n",
    "import glob\n",
    "import numpy as np\n",
    "import pandas as pd\n",
    "import matplotlib.pyplot as plt\n",
    "plt.style.use('ggplot')\n",
    "\n",
    "# import RenewAI\n",
    "sys.path.append('/Users/tmorales/tmp/RNN-windPower/src')\n",
    "from pre_process.split_ml_ts import dataframe_split"
   ]
  },
  {
   "cell_type": "code",
   "execution_count": 2,
   "metadata": {
    "collapsed": true
   },
   "outputs": [],
   "source": [
    "exp_path = '/Users/tmorales/tmp/experiments/NREL/Offshore_WA_OR/turbine_25915'\n",
    "experiment_name = 'nn-lstm_weights-glorot_uniform'\n",
    "directory = os.path.join(exp_path, experiment_name)\n",
    "if not os.path.exists(directory):\n",
    "    os.makedirs(directory)"
   ]
  },
  {
   "cell_type": "markdown",
   "metadata": {},
   "source": [
    "## Load file"
   ]
  },
  {
   "cell_type": "code",
   "execution_count": 3,
   "metadata": {
    "collapsed": true
   },
   "outputs": [],
   "source": [
    "path = '/Users/tmorales/tmp/RNN-windPower/database/wind_farms/Offshore_WA_OR/Offshore_WA_OR_features'"
   ]
  },
  {
   "cell_type": "code",
   "execution_count": 4,
   "metadata": {},
   "outputs": [
    {
     "data": {
      "text/plain": [
       "['Offshore_WA_OR_features_h_01.csv',\n",
       " 'Offshore_WA_OR_features_h_02.csv',\n",
       " 'Offshore_WA_OR_features_h_03.csv',\n",
       " 'Offshore_WA_OR_features_h_04.csv',\n",
       " 'Offshore_WA_OR_features_h_05.csv',\n",
       " 'Offshore_WA_OR_features_h_06.csv',\n",
       " 'Offshore_WA_OR_features_h_07.csv',\n",
       " 'Offshore_WA_OR_features_h_08.csv',\n",
       " 'Offshore_WA_OR_features_h_09.csv',\n",
       " 'Offshore_WA_OR_features_h_10.csv',\n",
       " 'Offshore_WA_OR_features_h_11.csv',\n",
       " 'Offshore_WA_OR_features_h_12.csv',\n",
       " 'Offshore_WA_OR_features_h_13.csv',\n",
       " 'Offshore_WA_OR_features_h_14.csv',\n",
       " 'Offshore_WA_OR_features_h_15.csv',\n",
       " 'Offshore_WA_OR_features_h_16.csv',\n",
       " 'Offshore_WA_OR_features_h_17.csv',\n",
       " 'Offshore_WA_OR_features_h_18.csv',\n",
       " 'Offshore_WA_OR_features_h_19.csv',\n",
       " 'Offshore_WA_OR_features_h_20.csv',\n",
       " 'Offshore_WA_OR_features_h_21.csv',\n",
       " 'Offshore_WA_OR_features_h_22.csv',\n",
       " 'Offshore_WA_OR_features_h_23.csv',\n",
       " 'Offshore_WA_OR_features_h_24.csv']"
      ]
     },
     "execution_count": 4,
     "metadata": {},
     "output_type": "execute_result"
    }
   ],
   "source": [
    "os.chdir(path)\n",
    "files = [file for file in glob.glob('Offshore_WA_OR_features_*.csv')]\n",
    "files"
   ]
  },
  {
   "cell_type": "markdown",
   "metadata": {},
   "source": [
    "## Paso 1: only one h-step"
   ]
  },
  {
   "cell_type": "code",
   "execution_count": 5,
   "metadata": {
    "collapsed": true
   },
   "outputs": [],
   "source": [
    "h1 = files[0]"
   ]
  },
  {
   "cell_type": "code",
   "execution_count": 6,
   "metadata": {
    "collapsed": true
   },
   "outputs": [],
   "source": [
    "# create directory for each horizont (each horizon is a regressor)\n",
    "horizont = 1\n",
    "directory_by_horizont = os.path.join(exp_path, \n",
    "                                     experiment_name,\n",
    "                                     'model_saved_h={0:03d}'.format(horizont))\n",
    "if not os.path.exists(directory_by_horizont):\n",
    "    os.makedirs(directory_by_horizont)"
   ]
  },
  {
   "cell_type": "code",
   "execution_count": 7,
   "metadata": {},
   "outputs": [
    {
     "data": {
      "text/html": [
       "<div>\n",
       "<table border=\"1\" class=\"dataframe\">\n",
       "  <thead>\n",
       "    <tr style=\"text-align: right;\">\n",
       "      <th></th>\n",
       "      <th>f_0</th>\n",
       "      <th>f_1</th>\n",
       "      <th>f_2</th>\n",
       "      <th>f_3</th>\n",
       "      <th>f_4</th>\n",
       "      <th>f_5</th>\n",
       "      <th>target_h1</th>\n",
       "    </tr>\n",
       "    <tr>\n",
       "      <th>target_date</th>\n",
       "      <th></th>\n",
       "      <th></th>\n",
       "      <th></th>\n",
       "      <th></th>\n",
       "      <th></th>\n",
       "      <th></th>\n",
       "      <th></th>\n",
       "    </tr>\n",
       "  </thead>\n",
       "  <tbody>\n",
       "    <tr>\n",
       "      <th>2004-01-01 06:00:00</th>\n",
       "      <td>6.96</td>\n",
       "      <td>5.28</td>\n",
       "      <td>5.32</td>\n",
       "      <td>4.93</td>\n",
       "      <td>4.05</td>\n",
       "      <td>3.95</td>\n",
       "      <td>4.19</td>\n",
       "    </tr>\n",
       "    <tr>\n",
       "      <th>2004-01-01 07:00:00</th>\n",
       "      <td>5.28</td>\n",
       "      <td>5.32</td>\n",
       "      <td>4.93</td>\n",
       "      <td>4.05</td>\n",
       "      <td>3.95</td>\n",
       "      <td>4.19</td>\n",
       "      <td>4.89</td>\n",
       "    </tr>\n",
       "    <tr>\n",
       "      <th>2004-01-01 08:00:00</th>\n",
       "      <td>5.32</td>\n",
       "      <td>4.93</td>\n",
       "      <td>4.05</td>\n",
       "      <td>3.95</td>\n",
       "      <td>4.19</td>\n",
       "      <td>4.89</td>\n",
       "      <td>5.16</td>\n",
       "    </tr>\n",
       "    <tr>\n",
       "      <th>2004-01-01 09:00:00</th>\n",
       "      <td>4.93</td>\n",
       "      <td>4.05</td>\n",
       "      <td>3.95</td>\n",
       "      <td>4.19</td>\n",
       "      <td>4.89</td>\n",
       "      <td>5.16</td>\n",
       "      <td>5.01</td>\n",
       "    </tr>\n",
       "  </tbody>\n",
       "</table>\n",
       "</div>"
      ],
      "text/plain": [
       "                      f_0   f_1   f_2   f_3   f_4   f_5  target_h1\n",
       "target_date                                                       \n",
       "2004-01-01 06:00:00  6.96  5.28  5.32  4.93  4.05  3.95       4.19\n",
       "2004-01-01 07:00:00  5.28  5.32  4.93  4.05  3.95  4.19       4.89\n",
       "2004-01-01 08:00:00  5.32  4.93  4.05  3.95  4.19  4.89       5.16\n",
       "2004-01-01 09:00:00  4.93  4.05  3.95  4.19  4.89  5.16       5.01"
      ]
     },
     "execution_count": 7,
     "metadata": {},
     "output_type": "execute_result"
    }
   ],
   "source": [
    "# load file\n",
    "df_h1 = pd.read_csv(files[0], delimiter=';', index_col=0)\n",
    "df_h1.head(4)"
   ]
  },
  {
   "cell_type": "code",
   "execution_count": 8,
   "metadata": {
    "collapsed": true
   },
   "outputs": [],
   "source": [
    "# select the best model for h=1\n",
    "\n",
    "# split the dataset in train, val and test\n",
    "data = dataframe_split(df_h1)\n",
    "train_set = data['train_set']\n",
    "validation_set = data['validation_set']\n",
    "test_set = data['test_set']"
   ]
  },
  {
   "cell_type": "code",
   "execution_count": 9,
   "metadata": {
    "collapsed": true
   },
   "outputs": [],
   "source": [
    "# features and target columns\n",
    "features_columns = train_set.columns[1:-1]\n",
    "target_column = train_set.columns[-1:]"
   ]
  },
  {
   "cell_type": "code",
   "execution_count": 10,
   "metadata": {
    "collapsed": true
   },
   "outputs": [],
   "source": [
    "# select the values of features and target columns.\n",
    "features_train_set = train_set[features_columns]\n",
    "target_train_set = train_set[target_column]\n",
    "features_validation_set = validation_set[features_columns]\n",
    "target_validation_set = validation_set[target_column]\n",
    "features_test_set = test_set[features_columns]\n",
    "target_test_set = test_set[target_column]"
   ]
  },
  {
   "cell_type": "code",
   "execution_count": 11,
   "metadata": {
    "collapsed": true
   },
   "outputs": [],
   "source": [
    "# select values\n",
    "x_train = features_train_set.values.astype('float32')\n",
    "y_train = target_train_set.values\n",
    "x_val = features_validation_set.values.astype('float32')\n",
    "y_val = target_validation_set.values"
   ]
  },
  {
   "cell_type": "code",
   "execution_count": 12,
   "metadata": {},
   "outputs": [
    {
     "name": "stdout",
     "output_type": "stream",
     "text": [
      "N of examples: (16830, 5)\n"
     ]
    }
   ],
   "source": [
    "print('N of examples: {0}'.format(x_train.shape))"
   ]
  },
  {
   "cell_type": "code",
   "execution_count": 13,
   "metadata": {},
   "outputs": [
    {
     "data": {
      "text/plain": [
       "22.25"
      ]
     },
     "execution_count": 13,
     "metadata": {},
     "output_type": "execute_result"
    }
   ],
   "source": [
    "x_train.max()"
   ]
  },
  {
   "cell_type": "markdown",
   "metadata": {},
   "source": [
    "## Paso 2: Model defenition"
   ]
  },
  {
   "cell_type": "code",
   "execution_count": 14,
   "metadata": {},
   "outputs": [
    {
     "name": "stderr",
     "output_type": "stream",
     "text": [
      "/Users/tmorales/interpreters/anaconda3/envs/p3tf1/lib/python3.5/site-packages/h5py/__init__.py:34: FutureWarning: Conversion of the second argument of issubdtype from `float` to `np.floating` is deprecated. In future, it will be treated as `np.float64 == np.dtype(float).type`.\n",
      "  from ._conv import register_converters as _register_converters\n",
      "Using TensorFlow backend.\n"
     ]
    }
   ],
   "source": [
    "from keras.models import Model\n",
    "from keras.layers import Input\n",
    "from keras.layers import Dense\n",
    "from keras.layers import LSTM\n",
    "from keras.layers import Dropout\n",
    "from keras.layers import BatchNormalization\n",
    "from keras.optimizers import Adam\n",
    "from keras.utils import plot_model\n",
    "from keras.callbacks import TensorBoard"
   ]
  },
  {
   "cell_type": "code",
   "execution_count": 15,
   "metadata": {},
   "outputs": [
    {
     "name": "stdout",
     "output_type": "stream",
     "text": [
      "(16830, 5)\n",
      "(16830, 5, 1)\n"
     ]
    }
   ],
   "source": [
    "# reshape the data for training LSTM\n",
    "print(x_train.shape)\n",
    "x_train_lstm = np.reshape(x_train, (x_train.shape[0], x_train.shape[1], 1))\n",
    "print(x_train_lstm.shape)\n",
    "\n",
    "x_val_lstm = np.reshape(x_val, (x_val.shape[0], x_val.shape[1], 1))\n",
    "#x_test_lstm = np.reshape(x_test, (x_test.shape[0], x_test.shape[1], 1))"
   ]
  },
  {
   "cell_type": "code",
   "execution_count": 16,
   "metadata": {
    "collapsed": true
   },
   "outputs": [],
   "source": [
    "def create_model(time_step, feature_by_timestep,\n",
    "                 plot_title):\n",
    "    # Input layer\n",
    "    input = Input((time_step,\n",
    "                   feature_by_timestep),\n",
    "                   dtype='float32',\n",
    "                   name='input-layer')\n",
    "    normalize_input = BatchNormalization(name='normalize-input')(input)\n",
    "    # RNN - LSTM\n",
    "    x = LSTM(10, \n",
    "             kernel_initializer='glorot_uniform',\n",
    "             name='lstm-layer')(normalize_input)\n",
    "    # Fully-connect\n",
    "    x = Dense(10,\n",
    "              kernel_initializer='normal',\n",
    "              activation='relu',\n",
    "              name='hidden-layer-1')(x)\n",
    "    x = Dense(5, \n",
    "              kernel_initializer='normal', \n",
    "              activation='relu',\n",
    "              name='hidden-layer-2')(x)\n",
    "    x = Dense(3,\n",
    "              kernel_initializer='normal',\n",
    "              activation='relu',\n",
    "              name='hidden-layer-3')(x)\n",
    "    #x = Dropout(rate=0.2)(x)\n",
    "    output = Dense(1, \n",
    "                   kernel_initializer='normal', \n",
    "                   activation='linear',\n",
    "                   name='output-layer')(x)\n",
    "    # Model\n",
    "    model = Model(inputs=input, outputs=output)\n",
    "    model.summary()\n",
    "    \n",
    "    plot_model(model,\n",
    "               to_file='{0}.png'.format(plot_title),\n",
    "               show_shapes=True,\n",
    "               show_layer_names=True,\n",
    "               rankdir='LR')\n",
    "    \n",
    "    return model"
   ]
  },
  {
   "cell_type": "code",
   "execution_count": 17,
   "metadata": {
    "collapsed": true
   },
   "outputs": [],
   "source": [
    "def fit_model(model, x_train, y_train, x_val, y_val, exp_path,\n",
    "              epochs=100, batch_size=50, lr=0.001):\n",
    "    \n",
    "    tensorboard = TensorBoard(log_dir=os.path.join(exp_path, 'graph'),\n",
    "                              histogram_freq=1)\n",
    "    \n",
    "    opt = Adam(lr=lr)\n",
    "    model.compile(loss='mean_squared_error',\n",
    "                  optimizer=opt,\n",
    "                  metrics=['mae'])\n",
    "    \n",
    "    history = model.fit(x_train,\n",
    "                        y_train,\n",
    "                        batch_size=batch_size,\n",
    "                        epochs=epochs,\n",
    "                        validation_data=(x_val, y_val),\n",
    "                        callbacks=[tensorboard])\n",
    "    \n",
    "    return model, history"
   ]
  },
  {
   "cell_type": "code",
   "execution_count": 18,
   "metadata": {},
   "outputs": [
    {
     "name": "stdout",
     "output_type": "stream",
     "text": [
      "_________________________________________________________________\n",
      "Layer (type)                 Output Shape              Param #   \n",
      "=================================================================\n",
      "input-layer (InputLayer)     (None, 5, 1)              0         \n",
      "_________________________________________________________________\n",
      "normalize-input (BatchNormal (None, 5, 1)              4         \n",
      "_________________________________________________________________\n",
      "lstm-layer (LSTM)            (None, 10)                480       \n",
      "_________________________________________________________________\n",
      "hidden-layer-1 (Dense)       (None, 10)                110       \n",
      "_________________________________________________________________\n",
      "hidden-layer-2 (Dense)       (None, 5)                 55        \n",
      "_________________________________________________________________\n",
      "hidden-layer-3 (Dense)       (None, 3)                 18        \n",
      "_________________________________________________________________\n",
      "output-layer (Dense)         (None, 1)                 4         \n",
      "=================================================================\n",
      "Total params: 671\n",
      "Trainable params: 669\n",
      "Non-trainable params: 2\n",
      "_________________________________________________________________\n",
      "Train on 16830 samples, validate on 4208 samples\n",
      "Epoch 1/100\n",
      "16830/16830 [==============================] - 1s 87us/step - loss: 49.3081 - mean_absolute_error: 6.1120 - val_loss: 49.6130 - val_mean_absolute_error: 6.1204\n",
      "Epoch 2/100\n",
      "16830/16830 [==============================] - 1s 73us/step - loss: 49.0911 - mean_absolute_error: 6.0943 - val_loss: 49.3896 - val_mean_absolute_error: 6.1021\n",
      "Epoch 3/100\n",
      "16830/16830 [==============================] - 1s 73us/step - loss: 48.8610 - mean_absolute_error: 6.0754 - val_loss: 49.1484 - val_mean_absolute_error: 6.0824\n",
      "Epoch 4/100\n",
      "16830/16830 [==============================] - 1s 74us/step - loss: 48.6099 - mean_absolute_error: 6.0547 - val_loss: 48.8764 - val_mean_absolute_error: 6.0601\n",
      "Epoch 5/100\n",
      "16830/16830 [==============================] - 1s 72us/step - loss: 48.3196 - mean_absolute_error: 6.0310 - val_loss: 48.5280 - val_mean_absolute_error: 6.0322\n",
      "Epoch 6/100\n",
      "16830/16830 [==============================] - 1s 71us/step - loss: 47.9305 - mean_absolute_error: 6.0004 - val_loss: 47.9813 - val_mean_absolute_error: 5.9900\n",
      "Epoch 7/100\n",
      "16830/16830 [==============================] - 1s 74us/step - loss: 47.2817 - mean_absolute_error: 5.9518 - val_loss: 46.9560 - val_mean_absolute_error: 5.9125\n",
      "Epoch 8/100\n",
      "16830/16830 [==============================] - 1s 70us/step - loss: 45.9999 - mean_absolute_error: 5.8584 - val_loss: 44.9415 - val_mean_absolute_error: 5.7574\n",
      "Epoch 9/100\n",
      "16830/16830 [==============================] - 1s 69us/step - loss: 43.4201 - mean_absolute_error: 5.6588 - val_loss: 41.1717 - val_mean_absolute_error: 5.4440\n",
      "Epoch 10/100\n",
      "16830/16830 [==============================] - 1s 66us/step - loss: 38.6552 - mean_absolute_error: 5.2485 - val_loss: 35.0862 - val_mean_absolute_error: 4.8783\n",
      "Epoch 11/100\n",
      "16830/16830 [==============================] - 1s 65us/step - loss: 31.4688 - mean_absolute_error: 4.5464 - val_loss: 27.1804 - val_mean_absolute_error: 4.0759\n",
      "Epoch 12/100\n",
      "16830/16830 [==============================] - 1s 63us/step - loss: 23.2631 - mean_absolute_error: 3.6767 - val_loss: 19.3382 - val_mean_absolute_error: 3.2789\n",
      "Epoch 13/100\n",
      "16830/16830 [==============================] - 1s 63us/step - loss: 16.1923 - mean_absolute_error: 2.9408 - val_loss: 13.6063 - val_mean_absolute_error: 2.7083\n",
      "Epoch 14/100\n",
      "16830/16830 [==============================] - 1s 65us/step - loss: 11.4755 - mean_absolute_error: 2.4367 - val_loss: 10.0292 - val_mean_absolute_error: 2.2986\n",
      "Epoch 15/100\n",
      "16830/16830 [==============================] - 1s 67us/step - loss: 8.4084 - mean_absolute_error: 2.0194 - val_loss: 7.5628 - val_mean_absolute_error: 1.9349\n",
      "Epoch 16/100\n",
      "16830/16830 [==============================] - 1s 70us/step - loss: 6.6086 - mean_absolute_error: 1.7552 - val_loss: 6.2096 - val_mean_absolute_error: 1.7472\n",
      "Epoch 17/100\n",
      "16830/16830 [==============================] - 1s 75us/step - loss: 5.4887 - mean_absolute_error: 1.5999 - val_loss: 5.2370 - val_mean_absolute_error: 1.5972\n",
      "Epoch 18/100\n",
      "16830/16830 [==============================] - 1s 74us/step - loss: 4.6508 - mean_absolute_error: 1.4705 - val_loss: 4.4680 - val_mean_absolute_error: 1.4630\n",
      "Epoch 19/100\n",
      "16830/16830 [==============================] - 1s 74us/step - loss: 4.0378 - mean_absolute_error: 1.3712 - val_loss: 3.8982 - val_mean_absolute_error: 1.3686\n",
      "Epoch 20/100\n",
      "16830/16830 [==============================] - 1s 74us/step - loss: 3.5638 - mean_absolute_error: 1.2964 - val_loss: 3.4665 - val_mean_absolute_error: 1.2973\n",
      "Epoch 21/100\n",
      "16830/16830 [==============================] - 1s 76us/step - loss: 3.1946 - mean_absolute_error: 1.2379 - val_loss: 3.1139 - val_mean_absolute_error: 1.2360\n",
      "Epoch 22/100\n",
      "16830/16830 [==============================] - 1s 77us/step - loss: 2.8943 - mean_absolute_error: 1.1821 - val_loss: 2.8165 - val_mean_absolute_error: 1.1772\n",
      "Epoch 23/100\n",
      "16830/16830 [==============================] - 1s 79us/step - loss: 2.6433 - mean_absolute_error: 1.1357 - val_loss: 2.5713 - val_mean_absolute_error: 1.1282\n",
      "Epoch 24/100\n",
      "16830/16830 [==============================] - 1s 77us/step - loss: 2.4267 - mean_absolute_error: 1.0925 - val_loss: 2.3621 - val_mean_absolute_error: 1.0844\n",
      "Epoch 25/100\n",
      "16830/16830 [==============================] - 1s 77us/step - loss: 2.2461 - mean_absolute_error: 1.0538 - val_loss: 2.1821 - val_mean_absolute_error: 1.0420\n",
      "Epoch 26/100\n",
      "16830/16830 [==============================] - 1s 77us/step - loss: 2.0971 - mean_absolute_error: 1.0222 - val_loss: 2.0341 - val_mean_absolute_error: 1.0097\n",
      "Epoch 27/100\n",
      "16830/16830 [==============================] - 1s 79us/step - loss: 1.9568 - mean_absolute_error: 0.9905 - val_loss: 1.9074 - val_mean_absolute_error: 0.9786\n",
      "Epoch 28/100\n",
      "16830/16830 [==============================] - 1s 75us/step - loss: 1.8392 - mean_absolute_error: 0.9578 - val_loss: 1.7929 - val_mean_absolute_error: 0.9481\n",
      "Epoch 29/100\n",
      "16830/16830 [==============================] - 1s 79us/step - loss: 1.7357 - mean_absolute_error: 0.9315 - val_loss: 1.6940 - val_mean_absolute_error: 0.9229\n",
      "Epoch 30/100\n",
      "16830/16830 [==============================] - 1s 76us/step - loss: 1.6541 - mean_absolute_error: 0.9110 - val_loss: 1.6051 - val_mean_absolute_error: 0.8988\n",
      "Epoch 31/100\n",
      "16830/16830 [==============================] - 1s 76us/step - loss: 1.5852 - mean_absolute_error: 0.8921 - val_loss: 1.5287 - val_mean_absolute_error: 0.8767\n",
      "Epoch 32/100\n",
      "16830/16830 [==============================] - 1s 76us/step - loss: 1.5040 - mean_absolute_error: 0.8663 - val_loss: 1.4612 - val_mean_absolute_error: 0.8575\n",
      "Epoch 33/100\n",
      "16830/16830 [==============================] - 1s 78us/step - loss: 1.4508 - mean_absolute_error: 0.8492 - val_loss: 1.4024 - val_mean_absolute_error: 0.8396\n",
      "Epoch 34/100\n",
      "16830/16830 [==============================] - 1s 77us/step - loss: 1.4008 - mean_absolute_error: 0.8353 - val_loss: 1.3479 - val_mean_absolute_error: 0.8222\n",
      "Epoch 35/100\n",
      "16830/16830 [==============================] - 1s 79us/step - loss: 1.3511 - mean_absolute_error: 0.8176 - val_loss: 1.3019 - val_mean_absolute_error: 0.8079\n",
      "Epoch 36/100\n",
      "16830/16830 [==============================] - 1s 83us/step - loss: 1.3037 - mean_absolute_error: 0.8016 - val_loss: 1.2592 - val_mean_absolute_error: 0.7965\n",
      "Epoch 37/100\n",
      "16830/16830 [==============================] - 1s 78us/step - loss: 1.2679 - mean_absolute_error: 0.7892 - val_loss: 1.2210 - val_mean_absolute_error: 0.7817\n",
      "Epoch 38/100\n",
      "16830/16830 [==============================] - 1s 76us/step - loss: 1.2389 - mean_absolute_error: 0.7806 - val_loss: 1.1870 - val_mean_absolute_error: 0.7713\n",
      "Epoch 39/100\n",
      "16830/16830 [==============================] - 1s 80us/step - loss: 1.1975 - mean_absolute_error: 0.7635 - val_loss: 1.1550 - val_mean_absolute_error: 0.7601\n",
      "Epoch 40/100\n",
      "16830/16830 [==============================] - 1s 74us/step - loss: 1.1635 - mean_absolute_error: 0.7499 - val_loss: 1.1267 - val_mean_absolute_error: 0.7508\n",
      "Epoch 41/100\n",
      "16830/16830 [==============================] - 1s 73us/step - loss: 1.1424 - mean_absolute_error: 0.7431 - val_loss: 1.1026 - val_mean_absolute_error: 0.7428\n",
      "Epoch 42/100\n",
      "16830/16830 [==============================] - 1s 71us/step - loss: 1.1221 - mean_absolute_error: 0.7367 - val_loss: 1.0787 - val_mean_absolute_error: 0.7346\n",
      "Epoch 43/100\n",
      "16830/16830 [==============================] - 1s 71us/step - loss: 1.1096 - mean_absolute_error: 0.7310 - val_loss: 1.0565 - val_mean_absolute_error: 0.7267\n",
      "Epoch 44/100\n",
      "16830/16830 [==============================] - 1s 78us/step - loss: 1.0846 - mean_absolute_error: 0.7199 - val_loss: 1.0401 - val_mean_absolute_error: 0.7206\n",
      "Epoch 45/100\n",
      "16830/16830 [==============================] - 1s 71us/step - loss: 1.0688 - mean_absolute_error: 0.7159 - val_loss: 1.0244 - val_mean_absolute_error: 0.7142\n",
      "Epoch 46/100\n",
      "16830/16830 [==============================] - 1s 72us/step - loss: 1.0497 - mean_absolute_error: 0.7070 - val_loss: 1.0074 - val_mean_absolute_error: 0.7080\n",
      "Epoch 47/100\n",
      "16830/16830 [==============================] - 1s 72us/step - loss: 1.0476 - mean_absolute_error: 0.7047 - val_loss: 0.9901 - val_mean_absolute_error: 0.7013\n",
      "Epoch 48/100\n",
      "16830/16830 [==============================] - 1s 71us/step - loss: 1.0261 - mean_absolute_error: 0.6965 - val_loss: 0.9766 - val_mean_absolute_error: 0.6959\n",
      "Epoch 49/100\n",
      "16830/16830 [==============================] - 1s 71us/step - loss: 1.0105 - mean_absolute_error: 0.6899 - val_loss: 0.9632 - val_mean_absolute_error: 0.6910\n",
      "Epoch 50/100\n",
      "16830/16830 [==============================] - 1s 71us/step - loss: 1.0022 - mean_absolute_error: 0.6874 - val_loss: 0.9536 - val_mean_absolute_error: 0.6872\n",
      "Epoch 51/100\n",
      "16830/16830 [==============================] - 1s 71us/step - loss: 0.9879 - mean_absolute_error: 0.6803 - val_loss: 0.9423 - val_mean_absolute_error: 0.6827\n",
      "Epoch 52/100\n",
      "16830/16830 [==============================] - 1s 72us/step - loss: 0.9753 - mean_absolute_error: 0.6754 - val_loss: 0.9320 - val_mean_absolute_error: 0.6774\n",
      "Epoch 53/100\n",
      "16830/16830 [==============================] - 1s 72us/step - loss: 0.9782 - mean_absolute_error: 0.6807 - val_loss: 0.9235 - val_mean_absolute_error: 0.6748\n",
      "Epoch 54/100\n",
      "16830/16830 [==============================] - 1s 71us/step - loss: 0.9685 - mean_absolute_error: 0.6726 - val_loss: 0.9163 - val_mean_absolute_error: 0.6716\n",
      "Epoch 55/100\n",
      "16830/16830 [==============================] - 1s 71us/step - loss: 0.9475 - mean_absolute_error: 0.6630 - val_loss: 0.9041 - val_mean_absolute_error: 0.6667\n",
      "Epoch 56/100\n",
      "16830/16830 [==============================] - 1s 72us/step - loss: 0.9440 - mean_absolute_error: 0.6614 - val_loss: 0.8998 - val_mean_absolute_error: 0.6644\n",
      "Epoch 57/100\n",
      "16830/16830 [==============================] - 1s 72us/step - loss: 0.9409 - mean_absolute_error: 0.6594 - val_loss: 0.8892 - val_mean_absolute_error: 0.6600\n",
      "Epoch 58/100\n",
      "16830/16830 [==============================] - 1s 72us/step - loss: 0.9350 - mean_absolute_error: 0.6569 - val_loss: 0.8876 - val_mean_absolute_error: 0.6588\n",
      "Epoch 59/100\n",
      "16830/16830 [==============================] - 1s 73us/step - loss: 0.9330 - mean_absolute_error: 0.6561 - val_loss: 0.8786 - val_mean_absolute_error: 0.6549\n",
      "Epoch 60/100\n",
      "16830/16830 [==============================] - 1s 72us/step - loss: 0.9263 - mean_absolute_error: 0.6541 - val_loss: 0.8749 - val_mean_absolute_error: 0.6533\n",
      "Epoch 61/100\n",
      "16830/16830 [==============================] - 1s 72us/step - loss: 0.9230 - mean_absolute_error: 0.6521 - val_loss: 0.8703 - val_mean_absolute_error: 0.6514\n",
      "Epoch 62/100\n",
      "16830/16830 [==============================] - 1s 80us/step - loss: 0.9215 - mean_absolute_error: 0.6530 - val_loss: 0.8640 - val_mean_absolute_error: 0.6485\n",
      "Epoch 63/100\n",
      "16830/16830 [==============================] - 1s 74us/step - loss: 0.9174 - mean_absolute_error: 0.6490 - val_loss: 0.8597 - val_mean_absolute_error: 0.6455\n",
      "Epoch 64/100\n",
      "16830/16830 [==============================] - 1s 72us/step - loss: 0.9228 - mean_absolute_error: 0.6549 - val_loss: 0.8580 - val_mean_absolute_error: 0.6457\n",
      "Epoch 65/100\n",
      "16830/16830 [==============================] - 1s 73us/step - loss: 0.9057 - mean_absolute_error: 0.6440 - val_loss: 0.8547 - val_mean_absolute_error: 0.6439\n",
      "Epoch 66/100\n",
      "16830/16830 [==============================] - 1s 72us/step - loss: 0.8920 - mean_absolute_error: 0.6359 - val_loss: 0.8481 - val_mean_absolute_error: 0.6405\n",
      "Epoch 67/100\n",
      "16830/16830 [==============================] - 1s 71us/step - loss: 0.9001 - mean_absolute_error: 0.6420 - val_loss: 0.8452 - val_mean_absolute_error: 0.6391\n",
      "Epoch 68/100\n",
      "16830/16830 [==============================] - 1s 72us/step - loss: 0.9014 - mean_absolute_error: 0.6431 - val_loss: 0.8459 - val_mean_absolute_error: 0.6389\n",
      "Epoch 69/100\n",
      "16830/16830 [==============================] - 1s 72us/step - loss: 0.8929 - mean_absolute_error: 0.6382 - val_loss: 0.8434 - val_mean_absolute_error: 0.6388\n",
      "Epoch 70/100\n",
      "16830/16830 [==============================] - 1s 72us/step - loss: 0.8885 - mean_absolute_error: 0.6352 - val_loss: 0.8377 - val_mean_absolute_error: 0.6353\n",
      "Epoch 71/100\n",
      "16830/16830 [==============================] - 1s 72us/step - loss: 0.8909 - mean_absolute_error: 0.6349 - val_loss: 0.8381 - val_mean_absolute_error: 0.6353\n",
      "Epoch 72/100\n",
      "16830/16830 [==============================] - 1s 80us/step - loss: 0.8921 - mean_absolute_error: 0.6387 - val_loss: 0.8330 - val_mean_absolute_error: 0.6330\n",
      "Epoch 73/100\n",
      "16830/16830 [==============================] - 1s 74us/step - loss: 0.8805 - mean_absolute_error: 0.6328 - val_loss: 0.8316 - val_mean_absolute_error: 0.6325\n",
      "Epoch 74/100\n",
      "16830/16830 [==============================] - 1s 74us/step - loss: 0.8799 - mean_absolute_error: 0.6312 - val_loss: 0.8317 - val_mean_absolute_error: 0.6322\n",
      "Epoch 75/100\n",
      "16830/16830 [==============================] - 1s 80us/step - loss: 0.8796 - mean_absolute_error: 0.6319 - val_loss: 0.8292 - val_mean_absolute_error: 0.6308\n",
      "Epoch 76/100\n",
      "16830/16830 [==============================] - 1s 88us/step - loss: 0.8788 - mean_absolute_error: 0.6304 - val_loss: 0.8299 - val_mean_absolute_error: 0.6305\n",
      "Epoch 77/100\n",
      "16830/16830 [==============================] - 2s 96us/step - loss: 0.8769 - mean_absolute_error: 0.6286 - val_loss: 0.8244 - val_mean_absolute_error: 0.6290\n",
      "Epoch 78/100\n",
      "16830/16830 [==============================] - 1s 82us/step - loss: 0.8706 - mean_absolute_error: 0.6268 - val_loss: 0.8280 - val_mean_absolute_error: 0.6297\n",
      "Epoch 79/100\n",
      "16830/16830 [==============================] - 2s 99us/step - loss: 0.8739 - mean_absolute_error: 0.6272 - val_loss: 0.8256 - val_mean_absolute_error: 0.6289\n",
      "Epoch 80/100\n",
      "16830/16830 [==============================] - 2s 125us/step - loss: 0.8741 - mean_absolute_error: 0.6281 - val_loss: 0.8232 - val_mean_absolute_error: 0.6277\n",
      "Epoch 81/100\n",
      "16830/16830 [==============================] - 2s 116us/step - loss: 0.8681 - mean_absolute_error: 0.6247 - val_loss: 0.8209 - val_mean_absolute_error: 0.6264\n",
      "Epoch 82/100\n",
      "16830/16830 [==============================] - 2s 98us/step - loss: 0.8588 - mean_absolute_error: 0.6201 - val_loss: 0.8193 - val_mean_absolute_error: 0.6261\n",
      "Epoch 83/100\n",
      "16830/16830 [==============================] - 2s 96us/step - loss: 0.8760 - mean_absolute_error: 0.6303 - val_loss: 0.8176 - val_mean_absolute_error: 0.6246\n",
      "Epoch 84/100\n",
      "16830/16830 [==============================] - 1s 75us/step - loss: 0.8640 - mean_absolute_error: 0.6223 - val_loss: 0.8177 - val_mean_absolute_error: 0.6241\n",
      "Epoch 85/100\n",
      "16830/16830 [==============================] - 1s 78us/step - loss: 0.8775 - mean_absolute_error: 0.6287 - val_loss: 0.8174 - val_mean_absolute_error: 0.6241\n",
      "Epoch 86/100\n",
      "16830/16830 [==============================] - 1s 73us/step - loss: 0.8711 - mean_absolute_error: 0.6271 - val_loss: 0.8192 - val_mean_absolute_error: 0.6257\n",
      "Epoch 87/100\n",
      "16830/16830 [==============================] - 1s 81us/step - loss: 0.8976 - mean_absolute_error: 0.6400 - val_loss: 0.8263 - val_mean_absolute_error: 0.6295\n",
      "Epoch 88/100\n",
      "16830/16830 [==============================] - 2s 92us/step - loss: 0.8780 - mean_absolute_error: 0.6310 - val_loss: 0.8186 - val_mean_absolute_error: 0.6252\n"
     ]
    },
    {
     "name": "stdout",
     "output_type": "stream",
     "text": [
      "Epoch 89/100\n",
      "16830/16830 [==============================] - 1s 88us/step - loss: 0.8720 - mean_absolute_error: 0.6260 - val_loss: 0.8111 - val_mean_absolute_error: 0.6219\n",
      "Epoch 90/100\n",
      "16830/16830 [==============================] - 1s 84us/step - loss: 0.8724 - mean_absolute_error: 0.6250 - val_loss: 0.8153 - val_mean_absolute_error: 0.6236\n",
      "Epoch 91/100\n",
      "16830/16830 [==============================] - 1s 85us/step - loss: 0.8631 - mean_absolute_error: 0.6204 - val_loss: 0.8091 - val_mean_absolute_error: 0.6193\n",
      "Epoch 92/100\n",
      "16830/16830 [==============================] - 2s 93us/step - loss: 0.8558 - mean_absolute_error: 0.6172 - val_loss: 0.8140 - val_mean_absolute_error: 0.6227\n",
      "Epoch 93/100\n",
      "16830/16830 [==============================] - 2s 102us/step - loss: 0.8599 - mean_absolute_error: 0.6182 - val_loss: 0.8092 - val_mean_absolute_error: 0.6194\n",
      "Epoch 94/100\n",
      "16830/16830 [==============================] - 2s 91us/step - loss: 0.8796 - mean_absolute_error: 0.6297 - val_loss: 0.8145 - val_mean_absolute_error: 0.6235\n",
      "Epoch 95/100\n",
      "16830/16830 [==============================] - 2s 107us/step - loss: 0.8662 - mean_absolute_error: 0.6242 - val_loss: 0.8093 - val_mean_absolute_error: 0.6206\n",
      "Epoch 96/100\n",
      "16830/16830 [==============================] - 1s 80us/step - loss: 0.8602 - mean_absolute_error: 0.6220 - val_loss: 0.8130 - val_mean_absolute_error: 0.6222\n",
      "Epoch 97/100\n",
      "16830/16830 [==============================] - 1s 83us/step - loss: 0.8716 - mean_absolute_error: 0.6259 - val_loss: 0.8152 - val_mean_absolute_error: 0.6229\n",
      "Epoch 98/100\n",
      "16830/16830 [==============================] - 1s 86us/step - loss: 0.8657 - mean_absolute_error: 0.6210 - val_loss: 0.8050 - val_mean_absolute_error: 0.6175\n",
      "Epoch 99/100\n",
      "16830/16830 [==============================] - 2s 107us/step - loss: 0.8823 - mean_absolute_error: 0.6350 - val_loss: 0.8208 - val_mean_absolute_error: 0.6270\n",
      "Epoch 100/100\n",
      "16830/16830 [==============================] - 2s 105us/step - loss: 0.8677 - mean_absolute_error: 0.6256 - val_loss: 0.8058 - val_mean_absolute_error: 0.6188\n"
     ]
    }
   ],
   "source": [
    "model = create_model(5, 1, plot_title='lstm')\n",
    "model, history = fit_model(model, x_train_lstm, y_train, x_val_lstm, y_val,\n",
    "                           exp_path=directory, batch_size=1024, epochs=100)"
   ]
  },
  {
   "cell_type": "code",
   "execution_count": 19,
   "metadata": {},
   "outputs": [
    {
     "data": {
      "text/plain": [
       "<matplotlib.legend.Legend at 0x11dc59390>"
      ]
     },
     "execution_count": 19,
     "metadata": {},
     "output_type": "execute_result"
    },
    {
     "data": {
      "image/png": "[encoded data removed]",
      "text/plain": [
       "<matplotlib.figure.Figure at 0x11cdd2fd0>"
      ]
     },
     "metadata": {},
     "output_type": "display_data"
    }
   ],
   "source": [
    "f, (ax1, ax2) = plt.subplots(2,1, figsize=(15,10))\n",
    "ax1.plot(history.history['loss'], lw=2, label='train')\n",
    "ax1.plot(history.history['val_loss'], lw=2, label='val')\n",
    "ax1.set_title('Loss: MSE')\n",
    "ax1.legend()\n",
    "ax2.plot(history.history['mean_absolute_error'], label='train')\n",
    "ax2.plot(history.history['val_mean_absolute_error'], label='val')\n",
    "ax2.set_title('Metric: MAE')\n",
    "ax2.legend()"
   ]
  },
  {
   "cell_type": "markdown",
   "metadata": {},
   "source": [
    "## Paso 3: Prediction"
   ]
  },
  {
   "cell_type": "code",
   "execution_count": 20,
   "metadata": {},
   "outputs": [
    {
     "data": {
      "text/plain": [
       "(5260, 5, 1)"
      ]
     },
     "execution_count": 20,
     "metadata": {},
     "output_type": "execute_result"
    }
   ],
   "source": [
    "x_test = features_test_set.values.astype('float32')\n",
    "x_test_lstm = np.reshape(x_test, (x_test.shape[0], x_test.shape[1], 1))\n",
    "x_test_lstm.shape"
   ]
  },
  {
   "cell_type": "code",
   "execution_count": 21,
   "metadata": {
    "collapsed": true
   },
   "outputs": [],
   "source": [
    "predicted = model.predict(x_test_lstm)"
   ]
  },
  {
   "cell_type": "code",
   "execution_count": 22,
   "metadata": {},
   "outputs": [
    {
     "data": {
      "text/html": [
       "<div>\n",
       "<table border=\"1\" class=\"dataframe\">\n",
       "  <thead>\n",
       "    <tr style=\"text-align: right;\">\n",
       "      <th></th>\n",
       "      <th>f_0</th>\n",
       "      <th>f_1</th>\n",
       "      <th>f_2</th>\n",
       "      <th>f_3</th>\n",
       "      <th>f_4</th>\n",
       "      <th>f_5</th>\n",
       "      <th>target_h1</th>\n",
       "    </tr>\n",
       "    <tr>\n",
       "      <th>target_date</th>\n",
       "      <th></th>\n",
       "      <th></th>\n",
       "      <th></th>\n",
       "      <th></th>\n",
       "      <th></th>\n",
       "      <th></th>\n",
       "      <th></th>\n",
       "    </tr>\n",
       "  </thead>\n",
       "  <tbody>\n",
       "    <tr>\n",
       "      <th>2006-05-26 20:00:00</th>\n",
       "      <td>5.30</td>\n",
       "      <td>5.19</td>\n",
       "      <td>5.24</td>\n",
       "      <td>5.27</td>\n",
       "      <td>4.45</td>\n",
       "      <td>3.92</td>\n",
       "      <td>4.19</td>\n",
       "    </tr>\n",
       "    <tr>\n",
       "      <th>2006-05-26 21:00:00</th>\n",
       "      <td>5.19</td>\n",
       "      <td>5.24</td>\n",
       "      <td>5.27</td>\n",
       "      <td>4.45</td>\n",
       "      <td>3.92</td>\n",
       "      <td>4.19</td>\n",
       "      <td>4.60</td>\n",
       "    </tr>\n",
       "    <tr>\n",
       "      <th>2006-05-26 22:00:00</th>\n",
       "      <td>5.24</td>\n",
       "      <td>5.27</td>\n",
       "      <td>4.45</td>\n",
       "      <td>3.92</td>\n",
       "      <td>4.19</td>\n",
       "      <td>4.60</td>\n",
       "      <td>5.34</td>\n",
       "    </tr>\n",
       "    <tr>\n",
       "      <th>2006-05-26 23:00:00</th>\n",
       "      <td>5.27</td>\n",
       "      <td>4.45</td>\n",
       "      <td>3.92</td>\n",
       "      <td>4.19</td>\n",
       "      <td>4.60</td>\n",
       "      <td>5.34</td>\n",
       "      <td>4.70</td>\n",
       "    </tr>\n",
       "    <tr>\n",
       "      <th>2006-05-27 00:00:00</th>\n",
       "      <td>4.45</td>\n",
       "      <td>3.92</td>\n",
       "      <td>4.19</td>\n",
       "      <td>4.60</td>\n",
       "      <td>5.34</td>\n",
       "      <td>4.70</td>\n",
       "      <td>3.00</td>\n",
       "    </tr>\n",
       "  </tbody>\n",
       "</table>\n",
       "</div>"
      ],
      "text/plain": [
       "                      f_0   f_1   f_2   f_3   f_4   f_5  target_h1\n",
       "target_date                                                       \n",
       "2006-05-26 20:00:00  5.30  5.19  5.24  5.27  4.45  3.92       4.19\n",
       "2006-05-26 21:00:00  5.19  5.24  5.27  4.45  3.92  4.19       4.60\n",
       "2006-05-26 22:00:00  5.24  5.27  4.45  3.92  4.19  4.60       5.34\n",
       "2006-05-26 23:00:00  5.27  4.45  3.92  4.19  4.60  5.34       4.70\n",
       "2006-05-27 00:00:00  4.45  3.92  4.19  4.60  5.34  4.70       3.00"
      ]
     },
     "execution_count": 22,
     "metadata": {},
     "output_type": "execute_result"
    }
   ],
   "source": [
    "df_prediction = test_set.copy()\n",
    "df_prediction.head()"
   ]
  },
  {
   "cell_type": "code",
   "execution_count": 23,
   "metadata": {},
   "outputs": [
    {
     "data": {
      "text/html": [
       "<div>\n",
       "<table border=\"1\" class=\"dataframe\">\n",
       "  <thead>\n",
       "    <tr style=\"text-align: right;\">\n",
       "      <th></th>\n",
       "      <th>f_0</th>\n",
       "      <th>f_1</th>\n",
       "      <th>f_2</th>\n",
       "      <th>f_3</th>\n",
       "      <th>f_4</th>\n",
       "      <th>f_5</th>\n",
       "      <th>target_h1</th>\n",
       "    </tr>\n",
       "    <tr>\n",
       "      <th>target_date</th>\n",
       "      <th></th>\n",
       "      <th></th>\n",
       "      <th></th>\n",
       "      <th></th>\n",
       "      <th></th>\n",
       "      <th></th>\n",
       "      <th></th>\n",
       "    </tr>\n",
       "  </thead>\n",
       "  <tbody>\n",
       "    <tr>\n",
       "      <th>2006-05-26 20:00:00</th>\n",
       "      <td>5.30</td>\n",
       "      <td>5.19</td>\n",
       "      <td>5.24</td>\n",
       "      <td>5.27</td>\n",
       "      <td>4.45</td>\n",
       "      <td>3.92</td>\n",
       "      <td>4.19</td>\n",
       "    </tr>\n",
       "    <tr>\n",
       "      <th>2006-05-26 21:00:00</th>\n",
       "      <td>5.19</td>\n",
       "      <td>5.24</td>\n",
       "      <td>5.27</td>\n",
       "      <td>4.45</td>\n",
       "      <td>3.92</td>\n",
       "      <td>4.19</td>\n",
       "      <td>4.60</td>\n",
       "    </tr>\n",
       "    <tr>\n",
       "      <th>2006-05-26 22:00:00</th>\n",
       "      <td>5.24</td>\n",
       "      <td>5.27</td>\n",
       "      <td>4.45</td>\n",
       "      <td>3.92</td>\n",
       "      <td>4.19</td>\n",
       "      <td>4.60</td>\n",
       "      <td>5.34</td>\n",
       "    </tr>\n",
       "    <tr>\n",
       "      <th>2006-05-26 23:00:00</th>\n",
       "      <td>5.27</td>\n",
       "      <td>4.45</td>\n",
       "      <td>3.92</td>\n",
       "      <td>4.19</td>\n",
       "      <td>4.60</td>\n",
       "      <td>5.34</td>\n",
       "      <td>4.70</td>\n",
       "    </tr>\n",
       "    <tr>\n",
       "      <th>2006-05-27 00:00:00</th>\n",
       "      <td>4.45</td>\n",
       "      <td>3.92</td>\n",
       "      <td>4.19</td>\n",
       "      <td>4.60</td>\n",
       "      <td>5.34</td>\n",
       "      <td>4.70</td>\n",
       "      <td>3.00</td>\n",
       "    </tr>\n",
       "  </tbody>\n",
       "</table>\n",
       "</div>"
      ],
      "text/plain": [
       "                      f_0   f_1   f_2   f_3   f_4   f_5  target_h1\n",
       "target_date                                                       \n",
       "2006-05-26 20:00:00  5.30  5.19  5.24  5.27  4.45  3.92       4.19\n",
       "2006-05-26 21:00:00  5.19  5.24  5.27  4.45  3.92  4.19       4.60\n",
       "2006-05-26 22:00:00  5.24  5.27  4.45  3.92  4.19  4.60       5.34\n",
       "2006-05-26 23:00:00  5.27  4.45  3.92  4.19  4.60  5.34       4.70\n",
       "2006-05-27 00:00:00  4.45  3.92  4.19  4.60  5.34  4.70       3.00"
      ]
     },
     "execution_count": 23,
     "metadata": {},
     "output_type": "execute_result"
    }
   ],
   "source": [
    "df_prediction = test_set.copy()\n",
    "df_prediction.head()"
   ]
  },
  {
   "cell_type": "code",
   "execution_count": 24,
   "metadata": {},
   "outputs": [
    {
     "data": {
      "text/html": [
       "<div>\n",
       "<table border=\"1\" class=\"dataframe\">\n",
       "  <thead>\n",
       "    <tr style=\"text-align: right;\">\n",
       "      <th></th>\n",
       "      <th>f_0</th>\n",
       "      <th>f_1</th>\n",
       "      <th>f_2</th>\n",
       "      <th>f_3</th>\n",
       "      <th>f_4</th>\n",
       "      <th>f_5</th>\n",
       "      <th>target_h1</th>\n",
       "      <th>target_predicted</th>\n",
       "    </tr>\n",
       "    <tr>\n",
       "      <th>target_date</th>\n",
       "      <th></th>\n",
       "      <th></th>\n",
       "      <th></th>\n",
       "      <th></th>\n",
       "      <th></th>\n",
       "      <th></th>\n",
       "      <th></th>\n",
       "      <th></th>\n",
       "    </tr>\n",
       "  </thead>\n",
       "  <tbody>\n",
       "    <tr>\n",
       "      <th>2006-05-26 20:00:00</th>\n",
       "      <td>5.30</td>\n",
       "      <td>5.19</td>\n",
       "      <td>5.24</td>\n",
       "      <td>5.27</td>\n",
       "      <td>4.45</td>\n",
       "      <td>3.92</td>\n",
       "      <td>4.19</td>\n",
       "      <td>3.909923</td>\n",
       "    </tr>\n",
       "    <tr>\n",
       "      <th>2006-05-26 21:00:00</th>\n",
       "      <td>5.19</td>\n",
       "      <td>5.24</td>\n",
       "      <td>5.27</td>\n",
       "      <td>4.45</td>\n",
       "      <td>3.92</td>\n",
       "      <td>4.19</td>\n",
       "      <td>4.60</td>\n",
       "      <td>4.349475</td>\n",
       "    </tr>\n",
       "    <tr>\n",
       "      <th>2006-05-26 22:00:00</th>\n",
       "      <td>5.24</td>\n",
       "      <td>5.27</td>\n",
       "      <td>4.45</td>\n",
       "      <td>3.92</td>\n",
       "      <td>4.19</td>\n",
       "      <td>4.60</td>\n",
       "      <td>5.34</td>\n",
       "      <td>4.756500</td>\n",
       "    </tr>\n",
       "    <tr>\n",
       "      <th>2006-05-26 23:00:00</th>\n",
       "      <td>5.27</td>\n",
       "      <td>4.45</td>\n",
       "      <td>3.92</td>\n",
       "      <td>4.19</td>\n",
       "      <td>4.60</td>\n",
       "      <td>5.34</td>\n",
       "      <td>4.70</td>\n",
       "      <td>5.587953</td>\n",
       "    </tr>\n",
       "    <tr>\n",
       "      <th>2006-05-27 00:00:00</th>\n",
       "      <td>4.45</td>\n",
       "      <td>3.92</td>\n",
       "      <td>4.19</td>\n",
       "      <td>4.60</td>\n",
       "      <td>5.34</td>\n",
       "      <td>4.70</td>\n",
       "      <td>3.00</td>\n",
       "      <td>4.531353</td>\n",
       "    </tr>\n",
       "  </tbody>\n",
       "</table>\n",
       "</div>"
      ],
      "text/plain": [
       "                      f_0   f_1   f_2   f_3   f_4   f_5  target_h1  \\\n",
       "target_date                                                          \n",
       "2006-05-26 20:00:00  5.30  5.19  5.24  5.27  4.45  3.92       4.19   \n",
       "2006-05-26 21:00:00  5.19  5.24  5.27  4.45  3.92  4.19       4.60   \n",
       "2006-05-26 22:00:00  5.24  5.27  4.45  3.92  4.19  4.60       5.34   \n",
       "2006-05-26 23:00:00  5.27  4.45  3.92  4.19  4.60  5.34       4.70   \n",
       "2006-05-27 00:00:00  4.45  3.92  4.19  4.60  5.34  4.70       3.00   \n",
       "\n",
       "                     target_predicted  \n",
       "target_date                            \n",
       "2006-05-26 20:00:00          3.909923  \n",
       "2006-05-26 21:00:00          4.349475  \n",
       "2006-05-26 22:00:00          4.756500  \n",
       "2006-05-26 23:00:00          5.587953  \n",
       "2006-05-27 00:00:00          4.531353  "
      ]
     },
     "execution_count": 24,
     "metadata": {},
     "output_type": "execute_result"
    }
   ],
   "source": [
    "df_prediction['target_predicted'] = predicted\n",
    "df_prediction.head()"
   ]
  },
  {
   "cell_type": "code",
   "execution_count": 25,
   "metadata": {
    "collapsed": true
   },
   "outputs": [],
   "source": [
    "# save test dataframe (df_prediction)\n",
    "filename =  os.path.join(directory, experiment_name)\n",
    "df_prediction.to_csv('{0}.csv'.format(filename))"
   ]
  },
  {
   "cell_type": "code",
   "execution_count": 26,
   "metadata": {},
   "outputs": [
    {
     "data": {
      "text/plain": [
       "<matplotlib.axes._subplots.AxesSubplot at 0x11d05efd0>"
      ]
     },
     "execution_count": 26,
     "metadata": {},
     "output_type": "execute_result"
    },
    {
     "data": {
      "image/png": "[encoded data removed]",
      "text/plain": [
       "<matplotlib.figure.Figure at 0x10a759630>"
      ]
     },
     "metadata": {},
     "output_type": "display_data"
    }
   ],
   "source": [
    "#title='LSTM-10-unit_hidden-5'\n",
    "title='LSTM-10-unit-hidden-10-5-3'\n",
    "\n",
    "f, ax = plt.subplots(1,1,figsize=(10,10))\n",
    "x_min = df_prediction.target_h1.min() \n",
    "x_max = df_prediction.target_h1.max()\n",
    "y_min = df_prediction.target_predicted.min()\n",
    "y_max = df_prediction.target_predicted.max()\n",
    "ax.set_title(title)\n",
    "# line\n",
    "ax.set_xlim(x_min+1, x_max+1)\n",
    "ax.set_ylim(x_min+1, x_max+1)\n",
    "ax.plot((x_min, x_max), (x_min, x_max), lw=3, c='r')\n",
    "# scatter\n",
    "df_prediction.plot(ax=ax,\n",
    "                   x='target_h1',\n",
    "                   y='target_predicted',\n",
    "                   kind='scatter',\n",
    "                  )"
   ]
  },
  {
   "cell_type": "code",
   "execution_count": 27,
   "metadata": {},
   "outputs": [
    {
     "data": {
      "text/plain": [
       "<matplotlib.axes._subplots.AxesSubplot at 0x11dc204e0>"
      ]
     },
     "execution_count": 27,
     "metadata": {},
     "output_type": "execute_result"
    },
    {
     "data": {
      "image/png": "[encoded data removed]",
      "text/plain": [
       "<matplotlib.figure.Figure at 0x11cdd2048>"
      ]
     },
     "metadata": {},
     "output_type": "display_data"
    }
   ],
   "source": [
    "df_prediction.iloc[:,-2:].plot(figsize=(15,5))"
   ]
  },
  {
   "cell_type": "code",
   "execution_count": 28,
   "metadata": {},
   "outputs": [
    {
     "data": {
      "text/html": [
       "<div>\n",
       "<table border=\"1\" class=\"dataframe\">\n",
       "  <thead>\n",
       "    <tr style=\"text-align: right;\">\n",
       "      <th></th>\n",
       "      <th>f_0</th>\n",
       "      <th>f_1</th>\n",
       "      <th>f_2</th>\n",
       "      <th>f_3</th>\n",
       "      <th>f_4</th>\n",
       "      <th>f_5</th>\n",
       "      <th>target_h1</th>\n",
       "      <th>target_predicted</th>\n",
       "    </tr>\n",
       "    <tr>\n",
       "      <th>target_date</th>\n",
       "      <th></th>\n",
       "      <th></th>\n",
       "      <th></th>\n",
       "      <th></th>\n",
       "      <th></th>\n",
       "      <th></th>\n",
       "      <th></th>\n",
       "      <th></th>\n",
       "    </tr>\n",
       "  </thead>\n",
       "  <tbody>\n",
       "    <tr>\n",
       "      <th>2006-05-26 20:00:00</th>\n",
       "      <td>5.30</td>\n",
       "      <td>5.19</td>\n",
       "      <td>5.24</td>\n",
       "      <td>5.27</td>\n",
       "      <td>4.45</td>\n",
       "      <td>3.92</td>\n",
       "      <td>4.19</td>\n",
       "      <td>3.909923</td>\n",
       "    </tr>\n",
       "    <tr>\n",
       "      <th>2006-05-26 21:00:00</th>\n",
       "      <td>5.19</td>\n",
       "      <td>5.24</td>\n",
       "      <td>5.27</td>\n",
       "      <td>4.45</td>\n",
       "      <td>3.92</td>\n",
       "      <td>4.19</td>\n",
       "      <td>4.60</td>\n",
       "      <td>4.349475</td>\n",
       "    </tr>\n",
       "    <tr>\n",
       "      <th>2006-05-26 22:00:00</th>\n",
       "      <td>5.24</td>\n",
       "      <td>5.27</td>\n",
       "      <td>4.45</td>\n",
       "      <td>3.92</td>\n",
       "      <td>4.19</td>\n",
       "      <td>4.60</td>\n",
       "      <td>5.34</td>\n",
       "      <td>4.756500</td>\n",
       "    </tr>\n",
       "    <tr>\n",
       "      <th>2006-05-26 23:00:00</th>\n",
       "      <td>5.27</td>\n",
       "      <td>4.45</td>\n",
       "      <td>3.92</td>\n",
       "      <td>4.19</td>\n",
       "      <td>4.60</td>\n",
       "      <td>5.34</td>\n",
       "      <td>4.70</td>\n",
       "      <td>5.587953</td>\n",
       "    </tr>\n",
       "    <tr>\n",
       "      <th>2006-05-27 00:00:00</th>\n",
       "      <td>4.45</td>\n",
       "      <td>3.92</td>\n",
       "      <td>4.19</td>\n",
       "      <td>4.60</td>\n",
       "      <td>5.34</td>\n",
       "      <td>4.70</td>\n",
       "      <td>3.00</td>\n",
       "      <td>4.531353</td>\n",
       "    </tr>\n",
       "  </tbody>\n",
       "</table>\n",
       "</div>"
      ],
      "text/plain": [
       "                      f_0   f_1   f_2   f_3   f_4   f_5  target_h1  \\\n",
       "target_date                                                          \n",
       "2006-05-26 20:00:00  5.30  5.19  5.24  5.27  4.45  3.92       4.19   \n",
       "2006-05-26 21:00:00  5.19  5.24  5.27  4.45  3.92  4.19       4.60   \n",
       "2006-05-26 22:00:00  5.24  5.27  4.45  3.92  4.19  4.60       5.34   \n",
       "2006-05-26 23:00:00  5.27  4.45  3.92  4.19  4.60  5.34       4.70   \n",
       "2006-05-27 00:00:00  4.45  3.92  4.19  4.60  5.34  4.70       3.00   \n",
       "\n",
       "                     target_predicted  \n",
       "target_date                            \n",
       "2006-05-26 20:00:00          3.909923  \n",
       "2006-05-26 21:00:00          4.349475  \n",
       "2006-05-26 22:00:00          4.756500  \n",
       "2006-05-26 23:00:00          5.587953  \n",
       "2006-05-27 00:00:00          4.531353  "
      ]
     },
     "execution_count": 28,
     "metadata": {},
     "output_type": "execute_result"
    }
   ],
   "source": [
    " df_prediction.head()"
   ]
  },
  {
   "cell_type": "code",
   "execution_count": 86,
   "metadata": {
    "collapsed": true
   },
   "outputs": [],
   "source": [
    "df_prediction['mse_h1'] = np.power(df_prediction.target_h1 -\n",
    "                                   df_prediction.target_predicted, 2)"
   ]
  },
  {
   "cell_type": "code",
   "execution_count": 87,
   "metadata": {
    "collapsed": true
   },
   "outputs": [],
   "source": [
    "df_prediction['mae_h1'] = np.abs(df_prediction.target_h1 - \n",
    "                                 df_prediction.target_predicted)"
   ]
  },
  {
   "cell_type": "code",
   "execution_count": 88,
   "metadata": {},
   "outputs": [
    {
     "data": {
      "text/html": [
       "<div>\n",
       "<table border=\"1\" class=\"dataframe\">\n",
       "  <thead>\n",
       "    <tr style=\"text-align: right;\">\n",
       "      <th></th>\n",
       "      <th>f_0</th>\n",
       "      <th>f_1</th>\n",
       "      <th>f_2</th>\n",
       "      <th>f_3</th>\n",
       "      <th>f_4</th>\n",
       "      <th>f_5</th>\n",
       "      <th>target_h1</th>\n",
       "      <th>target_predicted</th>\n",
       "      <th>mse_h1</th>\n",
       "      <th>mae_h1</th>\n",
       "    </tr>\n",
       "    <tr>\n",
       "      <th>target_date</th>\n",
       "      <th></th>\n",
       "      <th></th>\n",
       "      <th></th>\n",
       "      <th></th>\n",
       "      <th></th>\n",
       "      <th></th>\n",
       "      <th></th>\n",
       "      <th></th>\n",
       "      <th></th>\n",
       "      <th></th>\n",
       "    </tr>\n",
       "  </thead>\n",
       "  <tbody>\n",
       "    <tr>\n",
       "      <th>2006-05-26 20:00:00</th>\n",
       "      <td>5.30</td>\n",
       "      <td>5.19</td>\n",
       "      <td>5.24</td>\n",
       "      <td>5.27</td>\n",
       "      <td>4.45</td>\n",
       "      <td>3.92</td>\n",
       "      <td>4.19</td>\n",
       "      <td>3.855006</td>\n",
       "      <td>0.112221</td>\n",
       "      <td>0.334994</td>\n",
       "    </tr>\n",
       "    <tr>\n",
       "      <th>2006-05-26 21:00:00</th>\n",
       "      <td>5.19</td>\n",
       "      <td>5.24</td>\n",
       "      <td>5.27</td>\n",
       "      <td>4.45</td>\n",
       "      <td>3.92</td>\n",
       "      <td>4.19</td>\n",
       "      <td>4.60</td>\n",
       "      <td>4.308873</td>\n",
       "      <td>0.084755</td>\n",
       "      <td>0.291127</td>\n",
       "    </tr>\n",
       "    <tr>\n",
       "      <th>2006-05-26 22:00:00</th>\n",
       "      <td>5.24</td>\n",
       "      <td>5.27</td>\n",
       "      <td>4.45</td>\n",
       "      <td>3.92</td>\n",
       "      <td>4.19</td>\n",
       "      <td>4.60</td>\n",
       "      <td>5.34</td>\n",
       "      <td>4.743751</td>\n",
       "      <td>0.355513</td>\n",
       "      <td>0.596249</td>\n",
       "    </tr>\n",
       "    <tr>\n",
       "      <th>2006-05-26 23:00:00</th>\n",
       "      <td>5.27</td>\n",
       "      <td>4.45</td>\n",
       "      <td>3.92</td>\n",
       "      <td>4.19</td>\n",
       "      <td>4.60</td>\n",
       "      <td>5.34</td>\n",
       "      <td>4.70</td>\n",
       "      <td>5.585895</td>\n",
       "      <td>0.784810</td>\n",
       "      <td>0.885895</td>\n",
       "    </tr>\n",
       "    <tr>\n",
       "      <th>2006-05-27 00:00:00</th>\n",
       "      <td>4.45</td>\n",
       "      <td>3.92</td>\n",
       "      <td>4.19</td>\n",
       "      <td>4.60</td>\n",
       "      <td>5.34</td>\n",
       "      <td>4.70</td>\n",
       "      <td>3.00</td>\n",
       "      <td>4.516340</td>\n",
       "      <td>2.299286</td>\n",
       "      <td>1.516340</td>\n",
       "    </tr>\n",
       "  </tbody>\n",
       "</table>\n",
       "</div>"
      ],
      "text/plain": [
       "                      f_0   f_1   f_2   f_3   f_4   f_5  target_h1  \\\n",
       "target_date                                                          \n",
       "2006-05-26 20:00:00  5.30  5.19  5.24  5.27  4.45  3.92       4.19   \n",
       "2006-05-26 21:00:00  5.19  5.24  5.27  4.45  3.92  4.19       4.60   \n",
       "2006-05-26 22:00:00  5.24  5.27  4.45  3.92  4.19  4.60       5.34   \n",
       "2006-05-26 23:00:00  5.27  4.45  3.92  4.19  4.60  5.34       4.70   \n",
       "2006-05-27 00:00:00  4.45  3.92  4.19  4.60  5.34  4.70       3.00   \n",
       "\n",
       "                     target_predicted    mse_h1    mae_h1  \n",
       "target_date                                                \n",
       "2006-05-26 20:00:00          3.855006  0.112221  0.334994  \n",
       "2006-05-26 21:00:00          4.308873  0.084755  0.291127  \n",
       "2006-05-26 22:00:00          4.743751  0.355513  0.596249  \n",
       "2006-05-26 23:00:00          5.585895  0.784810  0.885895  \n",
       "2006-05-27 00:00:00          4.516340  2.299286  1.516340  "
      ]
     },
     "execution_count": 88,
     "metadata": {},
     "output_type": "execute_result"
    }
   ],
   "source": [
    "# write on disk\n",
    "df_prediction.head()"
   ]
  },
  {
   "cell_type": "code",
   "execution_count": 89,
   "metadata": {},
   "outputs": [
    {
     "data": {
      "text/plain": [
       "0.8332889051709461"
      ]
     },
     "execution_count": 89,
     "metadata": {},
     "output_type": "execute_result"
    }
   ],
   "source": [
    "test_mse = df_prediction.mse_h1.sum() / len(df_prediction.mse_h1)\n",
    "test_mse"
   ]
  },
  {
   "cell_type": "code",
   "execution_count": 90,
   "metadata": {},
   "outputs": [
    {
     "data": {
      "text/plain": [
       "0.5578560962799384"
      ]
     },
     "execution_count": 90,
     "metadata": {},
     "output_type": "execute_result"
    }
   ],
   "source": [
    "test_mae = df_prediction.mae_h1.sum() / len(df_prediction.mae_h1)\n",
    "test_mae"
   ]
  },
  {
   "cell_type": "code",
   "execution_count": 91,
   "metadata": {},
   "outputs": [
    {
     "data": {
      "text/plain": [
       "0.67700320038633"
      ]
     },
     "execution_count": 91,
     "metadata": {},
     "output_type": "execute_result"
    }
   ],
   "source": [
    "1/ ( 2*np.sqrt(6/11))"
   ]
  },
  {
   "cell_type": "code",
   "execution_count": null,
   "metadata": {
    "collapsed": true
   },
   "outputs": [],
   "source": []
  },
  {
   "cell_type": "code",
   "execution_count": null,
   "metadata": {
    "collapsed": true
   },
   "outputs": [],
   "source": []
  }
 ],
 "metadata": {
  "kernelspec": {
   "display_name": "Python 3.5 + TensorFlow 1.0",
   "language": "python",
   "name": "p3tf1"
  },
  "language_info": {
   "codemirror_mode": {
    "name": "ipython",
    "version": 3
   },
   "file_extension": ".py",
   "mimetype": "text/x-python",
   "name": "python",
   "nbconvert_exporter": "python",
   "pygments_lexer": "ipython3",
   "version": "3.5.3"
  }
 },
 "nbformat": 4,
 "nbformat_minor": 2
}
