{
 "cells": [
  {
   "cell_type": "markdown",
   "metadata": {},
   "source": [
    "# NREL - Offshore WA OR - turbine: 25915\n",
    "\n",
    "## Predicción: h = 1 / H = 24\n",
    "\n",
    "## Model: Neural Network - Stack LSTM"
   ]
  },
  {
   "cell_type": "code",
   "execution_count": 1,
   "metadata": {
    "collapsed": true
   },
   "outputs": [],
   "source": [
    "%matplotlib inline\n",
    "import os\n",
    "import sys\n",
    "import glob\n",
    "import numpy as np\n",
    "import pandas as pd\n",
    "import matplotlib.pyplot as plt\n",
    "plt.style.use('ggplot')\n",
    "\n",
    "# import RenewAI\n",
    "sys.path.append('/Users/tmorales/tmp/RNN-windPower/src')\n",
    "from pre_process.split_ml_ts import dataframe_split"
   ]
  },
  {
   "cell_type": "code",
   "execution_count": 2,
   "metadata": {
    "collapsed": true
   },
   "outputs": [],
   "source": [
    "exp_path = '/Users/tmorales/tmp/experiments/NREL/Offshore_WA_OR/turbine_25915'\n",
    "experiment_name = 'nn-stack-lstm'\n",
    "directory = os.path.join(exp_path, experiment_name)\n",
    "if not os.path.exists(directory):\n",
    "    os.makedirs(directory)"
   ]
  },
  {
   "cell_type": "markdown",
   "metadata": {},
   "source": [
    "## Load file"
   ]
  },
  {
   "cell_type": "code",
   "execution_count": 3,
   "metadata": {
    "collapsed": true
   },
   "outputs": [],
   "source": [
    "path = '/Users/tmorales/tmp/RNN-windPower/database/wind_farms/Offshore_WA_OR/Offshore_WA_OR_features'"
   ]
  },
  {
   "cell_type": "code",
   "execution_count": 4,
   "metadata": {},
   "outputs": [
    {
     "data": {
      "text/plain": [
       "['Offshore_WA_OR_features_h_01.csv',\n",
       " 'Offshore_WA_OR_features_h_02.csv',\n",
       " 'Offshore_WA_OR_features_h_03.csv',\n",
       " 'Offshore_WA_OR_features_h_04.csv',\n",
       " 'Offshore_WA_OR_features_h_05.csv',\n",
       " 'Offshore_WA_OR_features_h_06.csv',\n",
       " 'Offshore_WA_OR_features_h_07.csv',\n",
       " 'Offshore_WA_OR_features_h_08.csv',\n",
       " 'Offshore_WA_OR_features_h_09.csv',\n",
       " 'Offshore_WA_OR_features_h_10.csv',\n",
       " 'Offshore_WA_OR_features_h_11.csv',\n",
       " 'Offshore_WA_OR_features_h_12.csv',\n",
       " 'Offshore_WA_OR_features_h_13.csv',\n",
       " 'Offshore_WA_OR_features_h_14.csv',\n",
       " 'Offshore_WA_OR_features_h_15.csv',\n",
       " 'Offshore_WA_OR_features_h_16.csv',\n",
       " 'Offshore_WA_OR_features_h_17.csv',\n",
       " 'Offshore_WA_OR_features_h_18.csv',\n",
       " 'Offshore_WA_OR_features_h_19.csv',\n",
       " 'Offshore_WA_OR_features_h_20.csv',\n",
       " 'Offshore_WA_OR_features_h_21.csv',\n",
       " 'Offshore_WA_OR_features_h_22.csv',\n",
       " 'Offshore_WA_OR_features_h_23.csv',\n",
       " 'Offshore_WA_OR_features_h_24.csv']"
      ]
     },
     "execution_count": 4,
     "metadata": {},
     "output_type": "execute_result"
    }
   ],
   "source": [
    "os.chdir(path)\n",
    "files = [file for file in glob.glob('Offshore_WA_OR_features_*.csv')]\n",
    "files"
   ]
  },
  {
   "cell_type": "markdown",
   "metadata": {},
   "source": [
    "## Paso 1: only one h-step"
   ]
  },
  {
   "cell_type": "code",
   "execution_count": 5,
   "metadata": {
    "collapsed": true
   },
   "outputs": [],
   "source": [
    "h1 = files[0]"
   ]
  },
  {
   "cell_type": "code",
   "execution_count": 6,
   "metadata": {
    "collapsed": true
   },
   "outputs": [],
   "source": [
    "# create directory for each horizont (each horizon is a regressor)\n",
    "horizont = 1\n",
    "directory_by_horizont = os.path.join(exp_path, \n",
    "                                     experiment_name,\n",
    "                                     'model_saved_h={0:03d}'.format(horizont))\n",
    "if not os.path.exists(directory_by_horizont):\n",
    "    os.makedirs(directory_by_horizont)"
   ]
  },
  {
   "cell_type": "code",
   "execution_count": 7,
   "metadata": {},
   "outputs": [
    {
     "data": {
      "text/html": [
       "<div>\n",
       "<table border=\"1\" class=\"dataframe\">\n",
       "  <thead>\n",
       "    <tr style=\"text-align: right;\">\n",
       "      <th></th>\n",
       "      <th>f_0</th>\n",
       "      <th>f_1</th>\n",
       "      <th>f_2</th>\n",
       "      <th>f_3</th>\n",
       "      <th>f_4</th>\n",
       "      <th>f_5</th>\n",
       "      <th>target_h1</th>\n",
       "    </tr>\n",
       "    <tr>\n",
       "      <th>target_date</th>\n",
       "      <th></th>\n",
       "      <th></th>\n",
       "      <th></th>\n",
       "      <th></th>\n",
       "      <th></th>\n",
       "      <th></th>\n",
       "      <th></th>\n",
       "    </tr>\n",
       "  </thead>\n",
       "  <tbody>\n",
       "    <tr>\n",
       "      <th>2004-01-01 06:00:00</th>\n",
       "      <td>6.96</td>\n",
       "      <td>5.28</td>\n",
       "      <td>5.32</td>\n",
       "      <td>4.93</td>\n",
       "      <td>4.05</td>\n",
       "      <td>3.95</td>\n",
       "      <td>4.19</td>\n",
       "    </tr>\n",
       "    <tr>\n",
       "      <th>2004-01-01 07:00:00</th>\n",
       "      <td>5.28</td>\n",
       "      <td>5.32</td>\n",
       "      <td>4.93</td>\n",
       "      <td>4.05</td>\n",
       "      <td>3.95</td>\n",
       "      <td>4.19</td>\n",
       "      <td>4.89</td>\n",
       "    </tr>\n",
       "    <tr>\n",
       "      <th>2004-01-01 08:00:00</th>\n",
       "      <td>5.32</td>\n",
       "      <td>4.93</td>\n",
       "      <td>4.05</td>\n",
       "      <td>3.95</td>\n",
       "      <td>4.19</td>\n",
       "      <td>4.89</td>\n",
       "      <td>5.16</td>\n",
       "    </tr>\n",
       "    <tr>\n",
       "      <th>2004-01-01 09:00:00</th>\n",
       "      <td>4.93</td>\n",
       "      <td>4.05</td>\n",
       "      <td>3.95</td>\n",
       "      <td>4.19</td>\n",
       "      <td>4.89</td>\n",
       "      <td>5.16</td>\n",
       "      <td>5.01</td>\n",
       "    </tr>\n",
       "  </tbody>\n",
       "</table>\n",
       "</div>"
      ],
      "text/plain": [
       "                      f_0   f_1   f_2   f_3   f_4   f_5  target_h1\n",
       "target_date                                                       \n",
       "2004-01-01 06:00:00  6.96  5.28  5.32  4.93  4.05  3.95       4.19\n",
       "2004-01-01 07:00:00  5.28  5.32  4.93  4.05  3.95  4.19       4.89\n",
       "2004-01-01 08:00:00  5.32  4.93  4.05  3.95  4.19  4.89       5.16\n",
       "2004-01-01 09:00:00  4.93  4.05  3.95  4.19  4.89  5.16       5.01"
      ]
     },
     "execution_count": 7,
     "metadata": {},
     "output_type": "execute_result"
    }
   ],
   "source": [
    "# load file\n",
    "df_h1 = pd.read_csv(files[0], delimiter=';', index_col=0)\n",
    "df_h1.head(4)"
   ]
  },
  {
   "cell_type": "code",
   "execution_count": 8,
   "metadata": {
    "collapsed": true
   },
   "outputs": [],
   "source": [
    "# select the best model for h=1\n",
    "\n",
    "# split the dataset in train, val and test\n",
    "data = dataframe_split(df_h1)\n",
    "train_set = data['train_set']\n",
    "validation_set = data['validation_set']\n",
    "test_set = data['test_set']"
   ]
  },
  {
   "cell_type": "code",
   "execution_count": 9,
   "metadata": {
    "collapsed": true
   },
   "outputs": [],
   "source": [
    "# features and target columns\n",
    "features_columns = train_set.columns[1:-1]\n",
    "target_column = train_set.columns[-1:]"
   ]
  },
  {
   "cell_type": "code",
   "execution_count": 10,
   "metadata": {
    "collapsed": true
   },
   "outputs": [],
   "source": [
    "# select the values of features and target columns.\n",
    "features_train_set = train_set[features_columns]\n",
    "target_train_set = train_set[target_column]\n",
    "features_validation_set = validation_set[features_columns]\n",
    "target_validation_set = validation_set[target_column]\n",
    "features_test_set = test_set[features_columns]\n",
    "target_test_set = test_set[target_column]"
   ]
  },
  {
   "cell_type": "code",
   "execution_count": 11,
   "metadata": {
    "collapsed": true
   },
   "outputs": [],
   "source": [
    "# select values\n",
    "x_train = features_train_set.values.astype('float32')\n",
    "y_train = target_train_set.values\n",
    "x_val = features_validation_set.values.astype('float32')\n",
    "y_val = target_validation_set.values"
   ]
  },
  {
   "cell_type": "code",
   "execution_count": 12,
   "metadata": {},
   "outputs": [
    {
     "name": "stdout",
     "output_type": "stream",
     "text": [
      "N of examples: (16830, 5)\n"
     ]
    }
   ],
   "source": [
    "print('N of examples: {0}'.format(x_train.shape))"
   ]
  },
  {
   "cell_type": "code",
   "execution_count": 13,
   "metadata": {},
   "outputs": [
    {
     "data": {
      "text/plain": [
       "22.25"
      ]
     },
     "execution_count": 13,
     "metadata": {},
     "output_type": "execute_result"
    }
   ],
   "source": [
    "x_train.max()"
   ]
  },
  {
   "cell_type": "markdown",
   "metadata": {},
   "source": [
    "## Paso 2: Model defenition"
   ]
  },
  {
   "cell_type": "code",
   "execution_count": 20,
   "metadata": {
    "collapsed": true
   },
   "outputs": [],
   "source": [
    "from keras.models import Model\n",
    "from keras.layers import Input\n",
    "from keras.layers import Dense\n",
    "from keras.layers import LSTM\n",
    "from keras.layers import Dropout\n",
    "from keras.layers import BatchNormalization\n",
    "from keras.optimizers import Adam\n",
    "from keras.utils import plot_model\n",
    "from keras.callbacks import TensorBoard"
   ]
  },
  {
   "cell_type": "code",
   "execution_count": 15,
   "metadata": {},
   "outputs": [
    {
     "name": "stdout",
     "output_type": "stream",
     "text": [
      "(16830, 5)\n",
      "(16830, 5, 1)\n"
     ]
    }
   ],
   "source": [
    "# reshape the data for training LSTM\n",
    "print(x_train.shape)\n",
    "x_train_lstm = np.reshape(x_train, (x_train.shape[0], x_train.shape[1], 1))\n",
    "print(x_train_lstm.shape)\n",
    "\n",
    "x_val_lstm = np.reshape(x_val, (x_val.shape[0], x_val.shape[1], 1))"
   ]
  },
  {
   "cell_type": "code",
   "execution_count": 16,
   "metadata": {
    "collapsed": true
   },
   "outputs": [],
   "source": [
    "def create_model_stack_lstm(time_step, feature_by_timestep,\n",
    "                            plot_title):\n",
    "    # Input layer\n",
    "    input = Input((time_step,\n",
    "                   feature_by_timestep),\n",
    "                   dtype='float32',\n",
    "                   name = 'input-layer')\n",
    "    normalize_input = BatchNormalization(name='normalize-input')(input)\n",
    "    # Stack - RNN - LSTM\n",
    "    x = LSTM(10, return_sequences=True, name='lstm-1')(normalize_input)\n",
    "    x = LSTM(5, name='lstm-2')(x)\n",
    "    # Fully-connect\n",
    "    x = Dense(5, \n",
    "              kernel_initializer='normal', \n",
    "              activation='relu',\n",
    "              name='hidden-layer-1')(x)\n",
    "    x = Dense(3,\n",
    "              kernel_initializer='normal',\n",
    "              activation='relu',\n",
    "              name='hidden-layer-2')(x)\n",
    "    outputs = Dense(1,\n",
    "                    kernel_initializer='normal',\n",
    "                    activation='linear',\n",
    "                    name='output-layer')(x)\n",
    "    # Model\n",
    "    model = Model(inputs=input, outputs=outputs)\n",
    "    model.summary()\n",
    "    \n",
    "    plot_model(model,\n",
    "               to_file='{0}.png'.format(plot_title),\n",
    "               show_shapes=True,\n",
    "               show_layer_names=True,\n",
    "               rankdir='LR')\n",
    "    \n",
    "    return model"
   ]
  },
  {
   "cell_type": "code",
   "execution_count": 21,
   "metadata": {
    "collapsed": true
   },
   "outputs": [],
   "source": [
    "def fit_model(model, x_train, y_train, x_val, y_val, exp_path,\n",
    "              epochs=100, batch_size=50, lr=0.001):\n",
    "\n",
    "    tensorboard = TensorBoard(log_dir=os.path.join(exp_path, 'graph'),\n",
    "                              histogram_freq=1)\n",
    "    opt = Adam(lr=lr)\n",
    "    model.compile(loss='mean_squared_error',\n",
    "                  optimizer=opt,\n",
    "                  metrics=['mae'])\n",
    "    \n",
    "    history = model.fit(x_train,\n",
    "                        y_train,\n",
    "                        batch_size=batch_size,\n",
    "                        epochs=epochs,\n",
    "                        validation_data=(x_val, y_val))\n",
    "    \n",
    "    return model, history"
   ]
  },
  {
   "cell_type": "code",
   "execution_count": 22,
   "metadata": {},
   "outputs": [
    {
     "name": "stdout",
     "output_type": "stream",
     "text": [
      "_________________________________________________________________\n",
      "Layer (type)                 Output Shape              Param #   \n",
      "=================================================================\n",
      "input-layer (InputLayer)     (None, 5, 1)              0         \n",
      "_________________________________________________________________\n",
      "normalize-input (BatchNormal (None, 5, 1)              4         \n",
      "_________________________________________________________________\n",
      "lstm-1 (LSTM)                (None, 5, 10)             480       \n",
      "_________________________________________________________________\n",
      "lstm-2 (LSTM)                (None, 5)                 320       \n",
      "_________________________________________________________________\n",
      "hidden-layer-1 (Dense)       (None, 5)                 30        \n",
      "_________________________________________________________________\n",
      "hidden-layer-2 (Dense)       (None, 3)                 18        \n",
      "_________________________________________________________________\n",
      "output-layer (Dense)         (None, 1)                 4         \n",
      "=================================================================\n",
      "Total params: 856\n",
      "Trainable params: 854\n",
      "Non-trainable params: 2\n",
      "_________________________________________________________________\n",
      "Train on 16830 samples, validate on 4208 samples\n",
      "Epoch 1/100\n",
      "16830/16830 [==============================] - 3s 154us/step - loss: 49.2066 - mean_absolute_error: 6.1037 - val_loss: 49.9323 - val_mean_absolute_error: 6.1466\n",
      "Epoch 2/100\n",
      "16830/16830 [==============================] - 0s 15us/step - loss: 48.9362 - mean_absolute_error: 6.0817 - val_loss: 49.6135 - val_mean_absolute_error: 6.1209\n",
      "Epoch 3/100\n",
      "16830/16830 [==============================] - 0s 18us/step - loss: 48.5913 - mean_absolute_error: 6.0541 - val_loss: 49.1495 - val_mean_absolute_error: 6.0842\n",
      "Epoch 4/100\n",
      "16830/16830 [==============================] - 0s 19us/step - loss: 48.0792 - mean_absolute_error: 6.0144 - val_loss: 48.3729 - val_mean_absolute_error: 6.0238\n",
      "Epoch 5/100\n",
      "16830/16830 [==============================] - 0s 20us/step - loss: 47.1991 - mean_absolute_error: 5.9481 - val_loss: 46.9938 - val_mean_absolute_error: 5.9165\n",
      "Epoch 6/100\n",
      "16830/16830 [==============================] - 0s 21us/step - loss: 45.5843 - mean_absolute_error: 5.8253 - val_loss: 44.5963 - val_mean_absolute_error: 5.7240\n",
      "Epoch 7/100\n",
      "16830/16830 [==============================] - 0s 15us/step - loss: 42.7514 - mean_absolute_error: 5.5957 - val_loss: 40.9145 - val_mean_absolute_error: 5.4060\n",
      "Epoch 8/100\n",
      "16830/16830 [==============================] - 0s 15us/step - loss: 38.4600 - mean_absolute_error: 5.2114 - val_loss: 35.9830 - val_mean_absolute_error: 4.9448\n",
      "Epoch 9/100\n",
      "16830/16830 [==============================] - 0s 18us/step - loss: 32.9895 - mean_absolute_error: 4.6789 - val_loss: 30.4301 - val_mean_absolute_error: 4.3933\n",
      "Epoch 10/100\n",
      "16830/16830 [==============================] - 0s 20us/step - loss: 27.3306 - mean_absolute_error: 4.0954 - val_loss: 24.9636 - val_mean_absolute_error: 3.8520\n",
      "Epoch 11/100\n",
      "16830/16830 [==============================] - 0s 18us/step - loss: 22.1281 - mean_absolute_error: 3.5653 - val_loss: 20.0730 - val_mean_absolute_error: 3.3633\n",
      "Epoch 12/100\n",
      "16830/16830 [==============================] - 0s 22us/step - loss: 17.7124 - mean_absolute_error: 3.1133 - val_loss: 16.1563 - val_mean_absolute_error: 2.9606\n",
      "Epoch 13/100\n",
      "16830/16830 [==============================] - 0s 25us/step - loss: 14.2226 - mean_absolute_error: 2.7384 - val_loss: 13.0939 - val_mean_absolute_error: 2.6132\n",
      "Epoch 14/100\n",
      "16830/16830 [==============================] - 0s 26us/step - loss: 11.4527 - mean_absolute_error: 2.3956 - val_loss: 10.6038 - val_mean_absolute_error: 2.2817\n",
      "Epoch 15/100\n",
      "16830/16830 [==============================] - 0s 22us/step - loss: 9.3118 - mean_absolute_error: 2.1003 - val_loss: 8.7989 - val_mean_absolute_error: 2.0389\n",
      "Epoch 16/100\n",
      "16830/16830 [==============================] - 0s 19us/step - loss: 7.8302 - mean_absolute_error: 1.9119 - val_loss: 7.6271 - val_mean_absolute_error: 1.9121\n",
      "Epoch 17/100\n",
      "16830/16830 [==============================] - 0s 18us/step - loss: 6.7765 - mean_absolute_error: 1.7855 - val_loss: 6.6552 - val_mean_absolute_error: 1.7757\n",
      "Epoch 18/100\n",
      "16830/16830 [==============================] - 0s 20us/step - loss: 5.9338 - mean_absolute_error: 1.6564 - val_loss: 5.8244 - val_mean_absolute_error: 1.6448\n",
      "Epoch 19/100\n",
      "16830/16830 [==============================] - 0s 20us/step - loss: 5.2554 - mean_absolute_error: 1.5555 - val_loss: 5.1714 - val_mean_absolute_error: 1.5494\n",
      "Epoch 20/100\n",
      "16830/16830 [==============================] - 0s 19us/step - loss: 4.6925 - mean_absolute_error: 1.4688 - val_loss: 4.6110 - val_mean_absolute_error: 1.4590\n",
      "Epoch 21/100\n",
      "16830/16830 [==============================] - 0s 23us/step - loss: 4.1965 - mean_absolute_error: 1.3880 - val_loss: 4.1283 - val_mean_absolute_error: 1.3776\n",
      "Epoch 22/100\n",
      "16830/16830 [==============================] - 0s 19us/step - loss: 3.7657 - mean_absolute_error: 1.3124 - val_loss: 3.7028 - val_mean_absolute_error: 1.3036\n",
      "Epoch 23/100\n",
      "16830/16830 [==============================] - 0s 15us/step - loss: 3.3838 - mean_absolute_error: 1.2438 - val_loss: 3.3134 - val_mean_absolute_error: 1.2284\n",
      "Epoch 24/100\n",
      "16830/16830 [==============================] - 0s 14us/step - loss: 3.0396 - mean_absolute_error: 1.1744 - val_loss: 2.9708 - val_mean_absolute_error: 1.1619\n",
      "Epoch 25/100\n",
      "16830/16830 [==============================] - 0s 19us/step - loss: 2.7414 - mean_absolute_error: 1.1147 - val_loss: 2.6613 - val_mean_absolute_error: 1.0943\n",
      "Epoch 26/100\n",
      "16830/16830 [==============================] - 0s 17us/step - loss: 2.4665 - mean_absolute_error: 1.0493 - val_loss: 2.3979 - val_mean_absolute_error: 1.0367\n",
      "Epoch 27/100\n",
      "16830/16830 [==============================] - 0s 17us/step - loss: 2.2309 - mean_absolute_error: 0.9955 - val_loss: 2.1509 - val_mean_absolute_error: 0.9741\n",
      "Epoch 28/100\n",
      "16830/16830 [==============================] - 0s 17us/step - loss: 2.0217 - mean_absolute_error: 0.9400 - val_loss: 1.9512 - val_mean_absolute_error: 0.9247\n",
      "Epoch 29/100\n",
      "16830/16830 [==============================] - 0s 14us/step - loss: 1.8502 - mean_absolute_error: 0.8940 - val_loss: 1.7920 - val_mean_absolute_error: 0.8875\n",
      "Epoch 30/100\n",
      "16830/16830 [==============================] - 0s 13us/step - loss: 1.7037 - mean_absolute_error: 0.8574 - val_loss: 1.6423 - val_mean_absolute_error: 0.8388\n",
      "Epoch 31/100\n",
      "16830/16830 [==============================] - 0s 20us/step - loss: 1.5866 - mean_absolute_error: 0.8228 - val_loss: 1.5242 - val_mean_absolute_error: 0.8085\n",
      "Epoch 32/100\n",
      "16830/16830 [==============================] - 0s 23us/step - loss: 1.4772 - mean_absolute_error: 0.7893 - val_loss: 1.4232 - val_mean_absolute_error: 0.7801\n",
      "Epoch 33/100\n",
      "16830/16830 [==============================] - 0s 19us/step - loss: 1.4035 - mean_absolute_error: 0.7715 - val_loss: 1.3413 - val_mean_absolute_error: 0.7575\n",
      "Epoch 34/100\n",
      "16830/16830 [==============================] - 0s 21us/step - loss: 1.3276 - mean_absolute_error: 0.7505 - val_loss: 1.2689 - val_mean_absolute_error: 0.7356\n",
      "Epoch 35/100\n",
      "16830/16830 [==============================] - 0s 23us/step - loss: 1.2743 - mean_absolute_error: 0.7349 - val_loss: 1.2312 - val_mean_absolute_error: 0.7406\n",
      "Epoch 36/100\n",
      "16830/16830 [==============================] - 0s 17us/step - loss: 1.2309 - mean_absolute_error: 0.7276 - val_loss: 1.1646 - val_mean_absolute_error: 0.7064\n",
      "Epoch 37/100\n",
      "16830/16830 [==============================] - 0s 20us/step - loss: 1.1901 - mean_absolute_error: 0.7176 - val_loss: 1.1233 - val_mean_absolute_error: 0.6956\n",
      "Epoch 38/100\n",
      "16830/16830 [==============================] - 0s 20us/step - loss: 1.1535 - mean_absolute_error: 0.7024 - val_loss: 1.0894 - val_mean_absolute_error: 0.6865\n",
      "Epoch 39/100\n",
      "16830/16830 [==============================] - 0s 18us/step - loss: 1.1295 - mean_absolute_error: 0.6984 - val_loss: 1.0612 - val_mean_absolute_error: 0.6818\n",
      "Epoch 40/100\n",
      "16830/16830 [==============================] - 0s 17us/step - loss: 1.0998 - mean_absolute_error: 0.6878 - val_loss: 1.0350 - val_mean_absolute_error: 0.6740\n",
      "Epoch 41/100\n",
      "16830/16830 [==============================] - 0s 18us/step - loss: 1.0715 - mean_absolute_error: 0.6824 - val_loss: 1.0134 - val_mean_absolute_error: 0.6653\n",
      "Epoch 42/100\n",
      "16830/16830 [==============================] - 0s 23us/step - loss: 1.0564 - mean_absolute_error: 0.6760 - val_loss: 0.9932 - val_mean_absolute_error: 0.6604\n",
      "Epoch 43/100\n",
      "16830/16830 [==============================] - 0s 16us/step - loss: 1.0300 - mean_absolute_error: 0.6674 - val_loss: 0.9776 - val_mean_absolute_error: 0.6561\n",
      "Epoch 44/100\n",
      "16830/16830 [==============================] - 0s 13us/step - loss: 1.0342 - mean_absolute_error: 0.6704 - val_loss: 0.9613 - val_mean_absolute_error: 0.6528\n",
      "Epoch 45/100\n",
      "16830/16830 [==============================] - 0s 13us/step - loss: 1.0080 - mean_absolute_error: 0.6646 - val_loss: 0.9587 - val_mean_absolute_error: 0.6570\n",
      "Epoch 46/100\n",
      "16830/16830 [==============================] - 0s 13us/step - loss: 1.0001 - mean_absolute_error: 0.6610 - val_loss: 0.9452 - val_mean_absolute_error: 0.6472\n",
      "Epoch 47/100\n",
      "16830/16830 [==============================] - 0s 13us/step - loss: 0.9892 - mean_absolute_error: 0.6597 - val_loss: 0.9256 - val_mean_absolute_error: 0.6409\n",
      "Epoch 48/100\n",
      "16830/16830 [==============================] - 0s 19us/step - loss: 0.9829 - mean_absolute_error: 0.6595 - val_loss: 0.9254 - val_mean_absolute_error: 0.6485\n",
      "Epoch 49/100\n",
      "16830/16830 [==============================] - 0s 19us/step - loss: 0.9674 - mean_absolute_error: 0.6546 - val_loss: 0.9099 - val_mean_absolute_error: 0.6376\n",
      "Epoch 50/100\n",
      "16830/16830 [==============================] - 0s 13us/step - loss: 0.9611 - mean_absolute_error: 0.6489 - val_loss: 0.9002 - val_mean_absolute_error: 0.6333\n",
      "Epoch 51/100\n",
      "16830/16830 [==============================] - 0s 21us/step - loss: 0.9462 - mean_absolute_error: 0.6440 - val_loss: 0.8917 - val_mean_absolute_error: 0.6296\n",
      "Epoch 52/100\n",
      "16830/16830 [==============================] - 0s 18us/step - loss: 0.9395 - mean_absolute_error: 0.6426 - val_loss: 0.8888 - val_mean_absolute_error: 0.6283\n",
      "Epoch 53/100\n",
      "16830/16830 [==============================] - 0s 13us/step - loss: 0.9364 - mean_absolute_error: 0.6416 - val_loss: 0.8806 - val_mean_absolute_error: 0.6285\n",
      "Epoch 54/100\n",
      "16830/16830 [==============================] - 0s 13us/step - loss: 0.9326 - mean_absolute_error: 0.6417 - val_loss: 0.8851 - val_mean_absolute_error: 0.6292\n",
      "Epoch 55/100\n",
      "16830/16830 [==============================] - 0s 13us/step - loss: 0.9258 - mean_absolute_error: 0.6407 - val_loss: 0.8794 - val_mean_absolute_error: 0.6341\n",
      "Epoch 56/100\n",
      "16830/16830 [==============================] - 0s 15us/step - loss: 0.9187 - mean_absolute_error: 0.6370 - val_loss: 0.8663 - val_mean_absolute_error: 0.6196\n",
      "Epoch 57/100\n",
      "16830/16830 [==============================] - 0s 20us/step - loss: 0.9168 - mean_absolute_error: 0.6351 - val_loss: 0.8633 - val_mean_absolute_error: 0.6219\n",
      "Epoch 58/100\n",
      "16830/16830 [==============================] - 0s 19us/step - loss: 0.9071 - mean_absolute_error: 0.6345 - val_loss: 0.8607 - val_mean_absolute_error: 0.6205\n",
      "Epoch 59/100\n",
      "16830/16830 [==============================] - 0s 15us/step - loss: 0.9078 - mean_absolute_error: 0.6329 - val_loss: 0.8537 - val_mean_absolute_error: 0.6186\n",
      "Epoch 60/100\n",
      "16830/16830 [==============================] - 0s 19us/step - loss: 0.8966 - mean_absolute_error: 0.6283 - val_loss: 0.8493 - val_mean_absolute_error: 0.6160\n",
      "Epoch 61/100\n",
      "16830/16830 [==============================] - 0s 17us/step - loss: 0.8924 - mean_absolute_error: 0.6263 - val_loss: 0.8467 - val_mean_absolute_error: 0.6156\n",
      "Epoch 62/100\n",
      "16830/16830 [==============================] - 0s 20us/step - loss: 0.8863 - mean_absolute_error: 0.6240 - val_loss: 0.8437 - val_mean_absolute_error: 0.6149\n",
      "Epoch 63/100\n",
      "16830/16830 [==============================] - 0s 16us/step - loss: 0.8964 - mean_absolute_error: 0.6322 - val_loss: 0.8411 - val_mean_absolute_error: 0.6118\n",
      "Epoch 64/100\n",
      "16830/16830 [==============================] - 0s 16us/step - loss: 0.8831 - mean_absolute_error: 0.6237 - val_loss: 0.8384 - val_mean_absolute_error: 0.6111\n",
      "Epoch 65/100\n",
      "16830/16830 [==============================] - 0s 13us/step - loss: 0.8890 - mean_absolute_error: 0.6286 - val_loss: 0.8425 - val_mean_absolute_error: 0.6192\n",
      "Epoch 66/100\n",
      "16830/16830 [==============================] - 0s 13us/step - loss: 0.8786 - mean_absolute_error: 0.6221 - val_loss: 0.8360 - val_mean_absolute_error: 0.6118\n",
      "Epoch 67/100\n",
      "16830/16830 [==============================] - 0s 13us/step - loss: 0.8820 - mean_absolute_error: 0.6270 - val_loss: 0.8321 - val_mean_absolute_error: 0.6093\n",
      "Epoch 68/100\n",
      "16830/16830 [==============================] - 0s 19us/step - loss: 0.8810 - mean_absolute_error: 0.6249 - val_loss: 0.8339 - val_mean_absolute_error: 0.6112\n",
      "Epoch 69/100\n",
      "16830/16830 [==============================] - 0s 25us/step - loss: 0.8744 - mean_absolute_error: 0.6226 - val_loss: 0.8286 - val_mean_absolute_error: 0.6089\n",
      "Epoch 70/100\n",
      "16830/16830 [==============================] - 0s 18us/step - loss: 0.8754 - mean_absolute_error: 0.6234 - val_loss: 0.8274 - val_mean_absolute_error: 0.6078\n",
      "Epoch 71/100\n",
      "16830/16830 [==============================] - 0s 14us/step - loss: 0.8671 - mean_absolute_error: 0.6191 - val_loss: 0.8306 - val_mean_absolute_error: 0.6127\n",
      "Epoch 72/100\n",
      "16830/16830 [==============================] - 0s 13us/step - loss: 0.8801 - mean_absolute_error: 0.6292 - val_loss: 0.8395 - val_mean_absolute_error: 0.6196\n",
      "Epoch 73/100\n",
      "16830/16830 [==============================] - 0s 13us/step - loss: 0.8723 - mean_absolute_error: 0.6216 - val_loss: 0.8313 - val_mean_absolute_error: 0.6119\n",
      "Epoch 74/100\n",
      "16830/16830 [==============================] - 0s 13us/step - loss: 0.8804 - mean_absolute_error: 0.6313 - val_loss: 0.8247 - val_mean_absolute_error: 0.6069\n",
      "Epoch 75/100\n",
      "16830/16830 [==============================] - 0s 13us/step - loss: 0.8621 - mean_absolute_error: 0.6175 - val_loss: 0.8208 - val_mean_absolute_error: 0.6068\n",
      "Epoch 76/100\n",
      "16830/16830 [==============================] - 0s 13us/step - loss: 0.8634 - mean_absolute_error: 0.6167 - val_loss: 0.8200 - val_mean_absolute_error: 0.6061\n",
      "Epoch 77/100\n",
      "16830/16830 [==============================] - 0s 18us/step - loss: 0.8611 - mean_absolute_error: 0.6183 - val_loss: 0.8192 - val_mean_absolute_error: 0.6050\n",
      "Epoch 78/100\n",
      "16830/16830 [==============================] - 0s 24us/step - loss: 0.8590 - mean_absolute_error: 0.6182 - val_loss: 0.8175 - val_mean_absolute_error: 0.6053\n",
      "Epoch 79/100\n",
      "16830/16830 [==============================] - 0s 23us/step - loss: 0.8631 - mean_absolute_error: 0.6189 - val_loss: 0.8216 - val_mean_absolute_error: 0.6078\n",
      "Epoch 80/100\n",
      "16830/16830 [==============================] - 0s 16us/step - loss: 0.8552 - mean_absolute_error: 0.6139 - val_loss: 0.8175 - val_mean_absolute_error: 0.6041\n",
      "Epoch 81/100\n",
      "16830/16830 [==============================] - 0s 13us/step - loss: 0.8575 - mean_absolute_error: 0.6209 - val_loss: 0.8154 - val_mean_absolute_error: 0.6031\n",
      "Epoch 82/100\n",
      "16830/16830 [==============================] - 0s 13us/step - loss: 0.8632 - mean_absolute_error: 0.6203 - val_loss: 0.8152 - val_mean_absolute_error: 0.6021\n",
      "Epoch 83/100\n",
      "16830/16830 [==============================] - 0s 13us/step - loss: 0.8610 - mean_absolute_error: 0.6215 - val_loss: 0.8234 - val_mean_absolute_error: 0.6112\n",
      "Epoch 84/100\n",
      "16830/16830 [==============================] - 0s 13us/step - loss: 0.8536 - mean_absolute_error: 0.6146 - val_loss: 0.8128 - val_mean_absolute_error: 0.6021\n",
      "Epoch 85/100\n",
      "16830/16830 [==============================] - 0s 13us/step - loss: 0.8487 - mean_absolute_error: 0.6129 - val_loss: 0.8120 - val_mean_absolute_error: 0.6025\n",
      "Epoch 86/100\n",
      "16830/16830 [==============================] - 0s 13us/step - loss: 0.8507 - mean_absolute_error: 0.6150 - val_loss: 0.8134 - val_mean_absolute_error: 0.6024\n",
      "Epoch 87/100\n",
      "16830/16830 [==============================] - 0s 16us/step - loss: 0.8402 - mean_absolute_error: 0.6093 - val_loss: 0.8109 - val_mean_absolute_error: 0.6028\n",
      "Epoch 88/100\n",
      "16830/16830 [==============================] - 0s 20us/step - loss: 0.8574 - mean_absolute_error: 0.6162 - val_loss: 0.8105 - val_mean_absolute_error: 0.6014\n"
     ]
    },
    {
     "name": "stdout",
     "output_type": "stream",
     "text": [
      "Epoch 89/100\n",
      "16830/16830 [==============================] - 0s 17us/step - loss: 0.8555 - mean_absolute_error: 0.6183 - val_loss: 0.8096 - val_mean_absolute_error: 0.6021\n",
      "Epoch 90/100\n",
      "16830/16830 [==============================] - 0s 14us/step - loss: 0.8414 - mean_absolute_error: 0.6105 - val_loss: 0.8211 - val_mean_absolute_error: 0.6123\n",
      "Epoch 91/100\n",
      "16830/16830 [==============================] - 0s 19us/step - loss: 0.8480 - mean_absolute_error: 0.6105 - val_loss: 0.8106 - val_mean_absolute_error: 0.6022\n",
      "Epoch 92/100\n",
      "16830/16830 [==============================] - 0s 17us/step - loss: 0.8503 - mean_absolute_error: 0.6179 - val_loss: 0.8134 - val_mean_absolute_error: 0.6019\n",
      "Epoch 93/100\n",
      "16830/16830 [==============================] - 0s 17us/step - loss: 0.8431 - mean_absolute_error: 0.6099 - val_loss: 0.8226 - val_mean_absolute_error: 0.6154\n",
      "Epoch 94/100\n",
      "16830/16830 [==============================] - 0s 19us/step - loss: 0.8530 - mean_absolute_error: 0.6181 - val_loss: 0.8094 - val_mean_absolute_error: 0.6017\n",
      "Epoch 95/100\n",
      "16830/16830 [==============================] - 0s 16us/step - loss: 0.8401 - mean_absolute_error: 0.6101 - val_loss: 0.8066 - val_mean_absolute_error: 0.6003\n",
      "Epoch 96/100\n",
      "16830/16830 [==============================] - 0s 16us/step - loss: 0.8484 - mean_absolute_error: 0.6156 - val_loss: 0.8063 - val_mean_absolute_error: 0.6003\n",
      "Epoch 97/100\n",
      "16830/16830 [==============================] - 0s 16us/step - loss: 0.8496 - mean_absolute_error: 0.6141 - val_loss: 0.8079 - val_mean_absolute_error: 0.6034\n",
      "Epoch 98/100\n",
      "16830/16830 [==============================] - 0s 19us/step - loss: 0.8359 - mean_absolute_error: 0.6076 - val_loss: 0.8055 - val_mean_absolute_error: 0.5999\n",
      "Epoch 99/100\n",
      "16830/16830 [==============================] - 0s 18us/step - loss: 0.8480 - mean_absolute_error: 0.6155 - val_loss: 0.8071 - val_mean_absolute_error: 0.6008\n",
      "Epoch 100/100\n",
      "16830/16830 [==============================] - 0s 20us/step - loss: 0.8390 - mean_absolute_error: 0.6097 - val_loss: 0.8070 - val_mean_absolute_error: 0.6022\n"
     ]
    }
   ],
   "source": [
    "model = create_model_stack_lstm(5, 1, plot_title='stack-lstm')\n",
    "model, history = fit_model(model, x_train_lstm, y_train, x_val_lstm, y_val,\n",
    "                           exp_path=directory, batch_size=1024, epochs=100)"
   ]
  },
  {
   "cell_type": "code",
   "execution_count": 23,
   "metadata": {},
   "outputs": [
    {
     "data": {
      "text/plain": [
       "<matplotlib.legend.Legend at 0x1193e5e80>"
      ]
     },
     "execution_count": 23,
     "metadata": {},
     "output_type": "execute_result"
    },
    {
     "data": {
      "image/png": "[encoded data removed]",
      "text/plain": [
       "<matplotlib.figure.Figure at 0x1191de240>"
      ]
     },
     "metadata": {},
     "output_type": "display_data"
    }
   ],
   "source": [
    "f, (ax1, ax2) = plt.subplots(2,1, figsize=(15,10))\n",
    "ax1.plot(history.history['loss'], lw=2, label='train')\n",
    "ax1.plot(history.history['val_loss'], lw=2, label='val')\n",
    "ax1.set_title('Loss: MSE')\n",
    "ax1.legend()\n",
    "ax2.plot(history.history['mean_absolute_error'], label='train')\n",
    "ax2.plot(history.history['val_mean_absolute_error'], label='val')\n",
    "ax2.set_title('Metric: MAE')\n",
    "ax2.legend()"
   ]
  },
  {
   "cell_type": "markdown",
   "metadata": {},
   "source": [
    "## Paso 3: Prediction"
   ]
  },
  {
   "cell_type": "code",
   "execution_count": 24,
   "metadata": {},
   "outputs": [
    {
     "data": {
      "text/plain": [
       "(5260, 5, 1)"
      ]
     },
     "execution_count": 24,
     "metadata": {},
     "output_type": "execute_result"
    }
   ],
   "source": [
    "x_test = features_test_set.values.astype('float32')\n",
    "x_test_lstm = np.reshape(x_test, (x_test.shape[0], x_test.shape[1], 1))\n",
    "x_test_lstm.shape"
   ]
  },
  {
   "cell_type": "code",
   "execution_count": 25,
   "metadata": {
    "collapsed": true
   },
   "outputs": [],
   "source": [
    "predicted = model.predict(x_test_lstm)"
   ]
  },
  {
   "cell_type": "code",
   "execution_count": 26,
   "metadata": {},
   "outputs": [
    {
     "data": {
      "text/html": [
       "<div>\n",
       "<table border=\"1\" class=\"dataframe\">\n",
       "  <thead>\n",
       "    <tr style=\"text-align: right;\">\n",
       "      <th></th>\n",
       "      <th>f_0</th>\n",
       "      <th>f_1</th>\n",
       "      <th>f_2</th>\n",
       "      <th>f_3</th>\n",
       "      <th>f_4</th>\n",
       "      <th>f_5</th>\n",
       "      <th>target_h1</th>\n",
       "    </tr>\n",
       "    <tr>\n",
       "      <th>target_date</th>\n",
       "      <th></th>\n",
       "      <th></th>\n",
       "      <th></th>\n",
       "      <th></th>\n",
       "      <th></th>\n",
       "      <th></th>\n",
       "      <th></th>\n",
       "    </tr>\n",
       "  </thead>\n",
       "  <tbody>\n",
       "    <tr>\n",
       "      <th>2006-05-26 20:00:00</th>\n",
       "      <td>5.30</td>\n",
       "      <td>5.19</td>\n",
       "      <td>5.24</td>\n",
       "      <td>5.27</td>\n",
       "      <td>4.45</td>\n",
       "      <td>3.92</td>\n",
       "      <td>4.19</td>\n",
       "    </tr>\n",
       "    <tr>\n",
       "      <th>2006-05-26 21:00:00</th>\n",
       "      <td>5.19</td>\n",
       "      <td>5.24</td>\n",
       "      <td>5.27</td>\n",
       "      <td>4.45</td>\n",
       "      <td>3.92</td>\n",
       "      <td>4.19</td>\n",
       "      <td>4.60</td>\n",
       "    </tr>\n",
       "    <tr>\n",
       "      <th>2006-05-26 22:00:00</th>\n",
       "      <td>5.24</td>\n",
       "      <td>5.27</td>\n",
       "      <td>4.45</td>\n",
       "      <td>3.92</td>\n",
       "      <td>4.19</td>\n",
       "      <td>4.60</td>\n",
       "      <td>5.34</td>\n",
       "    </tr>\n",
       "    <tr>\n",
       "      <th>2006-05-26 23:00:00</th>\n",
       "      <td>5.27</td>\n",
       "      <td>4.45</td>\n",
       "      <td>3.92</td>\n",
       "      <td>4.19</td>\n",
       "      <td>4.60</td>\n",
       "      <td>5.34</td>\n",
       "      <td>4.70</td>\n",
       "    </tr>\n",
       "    <tr>\n",
       "      <th>2006-05-27 00:00:00</th>\n",
       "      <td>4.45</td>\n",
       "      <td>3.92</td>\n",
       "      <td>4.19</td>\n",
       "      <td>4.60</td>\n",
       "      <td>5.34</td>\n",
       "      <td>4.70</td>\n",
       "      <td>3.00</td>\n",
       "    </tr>\n",
       "  </tbody>\n",
       "</table>\n",
       "</div>"
      ],
      "text/plain": [
       "                      f_0   f_1   f_2   f_3   f_4   f_5  target_h1\n",
       "target_date                                                       \n",
       "2006-05-26 20:00:00  5.30  5.19  5.24  5.27  4.45  3.92       4.19\n",
       "2006-05-26 21:00:00  5.19  5.24  5.27  4.45  3.92  4.19       4.60\n",
       "2006-05-26 22:00:00  5.24  5.27  4.45  3.92  4.19  4.60       5.34\n",
       "2006-05-26 23:00:00  5.27  4.45  3.92  4.19  4.60  5.34       4.70\n",
       "2006-05-27 00:00:00  4.45  3.92  4.19  4.60  5.34  4.70       3.00"
      ]
     },
     "execution_count": 26,
     "metadata": {},
     "output_type": "execute_result"
    }
   ],
   "source": [
    "df_prediction = test_set.copy()\n",
    "df_prediction.head()"
   ]
  },
  {
   "cell_type": "code",
   "execution_count": 27,
   "metadata": {},
   "outputs": [
    {
     "data": {
      "text/html": [
       "<div>\n",
       "<table border=\"1\" class=\"dataframe\">\n",
       "  <thead>\n",
       "    <tr style=\"text-align: right;\">\n",
       "      <th></th>\n",
       "      <th>f_0</th>\n",
       "      <th>f_1</th>\n",
       "      <th>f_2</th>\n",
       "      <th>f_3</th>\n",
       "      <th>f_4</th>\n",
       "      <th>f_5</th>\n",
       "      <th>target_h1</th>\n",
       "    </tr>\n",
       "    <tr>\n",
       "      <th>target_date</th>\n",
       "      <th></th>\n",
       "      <th></th>\n",
       "      <th></th>\n",
       "      <th></th>\n",
       "      <th></th>\n",
       "      <th></th>\n",
       "      <th></th>\n",
       "    </tr>\n",
       "  </thead>\n",
       "  <tbody>\n",
       "    <tr>\n",
       "      <th>2006-05-26 20:00:00</th>\n",
       "      <td>5.30</td>\n",
       "      <td>5.19</td>\n",
       "      <td>5.24</td>\n",
       "      <td>5.27</td>\n",
       "      <td>4.45</td>\n",
       "      <td>3.92</td>\n",
       "      <td>4.19</td>\n",
       "    </tr>\n",
       "    <tr>\n",
       "      <th>2006-05-26 21:00:00</th>\n",
       "      <td>5.19</td>\n",
       "      <td>5.24</td>\n",
       "      <td>5.27</td>\n",
       "      <td>4.45</td>\n",
       "      <td>3.92</td>\n",
       "      <td>4.19</td>\n",
       "      <td>4.60</td>\n",
       "    </tr>\n",
       "    <tr>\n",
       "      <th>2006-05-26 22:00:00</th>\n",
       "      <td>5.24</td>\n",
       "      <td>5.27</td>\n",
       "      <td>4.45</td>\n",
       "      <td>3.92</td>\n",
       "      <td>4.19</td>\n",
       "      <td>4.60</td>\n",
       "      <td>5.34</td>\n",
       "    </tr>\n",
       "    <tr>\n",
       "      <th>2006-05-26 23:00:00</th>\n",
       "      <td>5.27</td>\n",
       "      <td>4.45</td>\n",
       "      <td>3.92</td>\n",
       "      <td>4.19</td>\n",
       "      <td>4.60</td>\n",
       "      <td>5.34</td>\n",
       "      <td>4.70</td>\n",
       "    </tr>\n",
       "    <tr>\n",
       "      <th>2006-05-27 00:00:00</th>\n",
       "      <td>4.45</td>\n",
       "      <td>3.92</td>\n",
       "      <td>4.19</td>\n",
       "      <td>4.60</td>\n",
       "      <td>5.34</td>\n",
       "      <td>4.70</td>\n",
       "      <td>3.00</td>\n",
       "    </tr>\n",
       "  </tbody>\n",
       "</table>\n",
       "</div>"
      ],
      "text/plain": [
       "                      f_0   f_1   f_2   f_3   f_4   f_5  target_h1\n",
       "target_date                                                       \n",
       "2006-05-26 20:00:00  5.30  5.19  5.24  5.27  4.45  3.92       4.19\n",
       "2006-05-26 21:00:00  5.19  5.24  5.27  4.45  3.92  4.19       4.60\n",
       "2006-05-26 22:00:00  5.24  5.27  4.45  3.92  4.19  4.60       5.34\n",
       "2006-05-26 23:00:00  5.27  4.45  3.92  4.19  4.60  5.34       4.70\n",
       "2006-05-27 00:00:00  4.45  3.92  4.19  4.60  5.34  4.70       3.00"
      ]
     },
     "execution_count": 27,
     "metadata": {},
     "output_type": "execute_result"
    }
   ],
   "source": [
    "df_prediction = test_set.copy()\n",
    "df_prediction.head()"
   ]
  },
  {
   "cell_type": "code",
   "execution_count": 28,
   "metadata": {},
   "outputs": [
    {
     "data": {
      "text/html": [
       "<div>\n",
       "<table border=\"1\" class=\"dataframe\">\n",
       "  <thead>\n",
       "    <tr style=\"text-align: right;\">\n",
       "      <th></th>\n",
       "      <th>f_0</th>\n",
       "      <th>f_1</th>\n",
       "      <th>f_2</th>\n",
       "      <th>f_3</th>\n",
       "      <th>f_4</th>\n",
       "      <th>f_5</th>\n",
       "      <th>target_h1</th>\n",
       "      <th>target_predicted</th>\n",
       "    </tr>\n",
       "    <tr>\n",
       "      <th>target_date</th>\n",
       "      <th></th>\n",
       "      <th></th>\n",
       "      <th></th>\n",
       "      <th></th>\n",
       "      <th></th>\n",
       "      <th></th>\n",
       "      <th></th>\n",
       "      <th></th>\n",
       "    </tr>\n",
       "  </thead>\n",
       "  <tbody>\n",
       "    <tr>\n",
       "      <th>2006-05-26 20:00:00</th>\n",
       "      <td>5.30</td>\n",
       "      <td>5.19</td>\n",
       "      <td>5.24</td>\n",
       "      <td>5.27</td>\n",
       "      <td>4.45</td>\n",
       "      <td>3.92</td>\n",
       "      <td>4.19</td>\n",
       "      <td>3.819052</td>\n",
       "    </tr>\n",
       "    <tr>\n",
       "      <th>2006-05-26 21:00:00</th>\n",
       "      <td>5.19</td>\n",
       "      <td>5.24</td>\n",
       "      <td>5.27</td>\n",
       "      <td>4.45</td>\n",
       "      <td>3.92</td>\n",
       "      <td>4.19</td>\n",
       "      <td>4.60</td>\n",
       "      <td>4.388181</td>\n",
       "    </tr>\n",
       "    <tr>\n",
       "      <th>2006-05-26 22:00:00</th>\n",
       "      <td>5.24</td>\n",
       "      <td>5.27</td>\n",
       "      <td>4.45</td>\n",
       "      <td>3.92</td>\n",
       "      <td>4.19</td>\n",
       "      <td>4.60</td>\n",
       "      <td>5.34</td>\n",
       "      <td>4.802082</td>\n",
       "    </tr>\n",
       "    <tr>\n",
       "      <th>2006-05-26 23:00:00</th>\n",
       "      <td>5.27</td>\n",
       "      <td>4.45</td>\n",
       "      <td>3.92</td>\n",
       "      <td>4.19</td>\n",
       "      <td>4.60</td>\n",
       "      <td>5.34</td>\n",
       "      <td>4.70</td>\n",
       "      <td>5.728455</td>\n",
       "    </tr>\n",
       "    <tr>\n",
       "      <th>2006-05-27 00:00:00</th>\n",
       "      <td>4.45</td>\n",
       "      <td>3.92</td>\n",
       "      <td>4.19</td>\n",
       "      <td>4.60</td>\n",
       "      <td>5.34</td>\n",
       "      <td>4.70</td>\n",
       "      <td>3.00</td>\n",
       "      <td>4.421595</td>\n",
       "    </tr>\n",
       "  </tbody>\n",
       "</table>\n",
       "</div>"
      ],
      "text/plain": [
       "                      f_0   f_1   f_2   f_3   f_4   f_5  target_h1  \\\n",
       "target_date                                                          \n",
       "2006-05-26 20:00:00  5.30  5.19  5.24  5.27  4.45  3.92       4.19   \n",
       "2006-05-26 21:00:00  5.19  5.24  5.27  4.45  3.92  4.19       4.60   \n",
       "2006-05-26 22:00:00  5.24  5.27  4.45  3.92  4.19  4.60       5.34   \n",
       "2006-05-26 23:00:00  5.27  4.45  3.92  4.19  4.60  5.34       4.70   \n",
       "2006-05-27 00:00:00  4.45  3.92  4.19  4.60  5.34  4.70       3.00   \n",
       "\n",
       "                     target_predicted  \n",
       "target_date                            \n",
       "2006-05-26 20:00:00          3.819052  \n",
       "2006-05-26 21:00:00          4.388181  \n",
       "2006-05-26 22:00:00          4.802082  \n",
       "2006-05-26 23:00:00          5.728455  \n",
       "2006-05-27 00:00:00          4.421595  "
      ]
     },
     "execution_count": 28,
     "metadata": {},
     "output_type": "execute_result"
    }
   ],
   "source": [
    "df_prediction['target_predicted'] = predicted\n",
    "df_prediction.head()"
   ]
  },
  {
   "cell_type": "code",
   "execution_count": 36,
   "metadata": {
    "collapsed": true
   },
   "outputs": [],
   "source": [
    "# save test dataframe (df_prediction)\n",
    "filename =  os.path.join(directory, experiment_name)\n",
    "df_prediction.to_csv('{0}.csv'.format(filename))"
   ]
  },
  {
   "cell_type": "code",
   "execution_count": 29,
   "metadata": {},
   "outputs": [
    {
     "data": {
      "text/plain": [
       "<matplotlib.axes._subplots.AxesSubplot at 0x1194e9e80>"
      ]
     },
     "execution_count": 29,
     "metadata": {},
     "output_type": "execute_result"
    },
    {
     "data": {
      "image/png": "[encoded data removed]",
      "text/plain": [
       "<matplotlib.figure.Figure at 0x1194ca048>"
      ]
     },
     "metadata": {},
     "output_type": "display_data"
    }
   ],
   "source": [
    "title='Stack-LSTM-10-5-unit_hidden-5-3-1'\n",
    " \n",
    "\n",
    "f, ax = plt.subplots(1,1,figsize=(10,10))\n",
    "x_min = df_prediction.target_h1.min() \n",
    "x_max = df_prediction.target_h1.max()\n",
    "y_min = df_prediction.target_predicted.min()\n",
    "y_max = df_prediction.target_predicted.max()\n",
    "ax.set_title(title)\n",
    "# line\n",
    "ax.set_xlim(x_min+1, x_max+1)\n",
    "ax.set_ylim(x_min+1, x_max+1)\n",
    "ax.plot((x_min, x_max), (x_min, x_max), lw=3, c='r')\n",
    "# scatter\n",
    "df_prediction.plot(ax=ax,\n",
    "                   x='target_h1',\n",
    "                   y='target_predicted',\n",
    "                   kind='scatter',\n",
    "                  )"
   ]
  },
  {
   "cell_type": "code",
   "execution_count": 30,
   "metadata": {},
   "outputs": [
    {
     "data": {
      "text/plain": [
       "<matplotlib.axes._subplots.AxesSubplot at 0x11959a1d0>"
      ]
     },
     "execution_count": 30,
     "metadata": {},
     "output_type": "execute_result"
    },
    {
     "data": {
      "image/png": "[encoded data removed]",
      "text/plain": [
       "<matplotlib.figure.Figure at 0x119358b38>"
      ]
     },
     "metadata": {},
     "output_type": "display_data"
    }
   ],
   "source": [
    "df_prediction.iloc[:,-2:].plot(figsize=(15,5))"
   ]
  },
  {
   "cell_type": "code",
   "execution_count": 31,
   "metadata": {},
   "outputs": [
    {
     "data": {
      "text/html": [
       "<div>\n",
       "<table border=\"1\" class=\"dataframe\">\n",
       "  <thead>\n",
       "    <tr style=\"text-align: right;\">\n",
       "      <th></th>\n",
       "      <th>f_0</th>\n",
       "      <th>f_1</th>\n",
       "      <th>f_2</th>\n",
       "      <th>f_3</th>\n",
       "      <th>f_4</th>\n",
       "      <th>f_5</th>\n",
       "      <th>target_h1</th>\n",
       "      <th>target_predicted</th>\n",
       "    </tr>\n",
       "    <tr>\n",
       "      <th>target_date</th>\n",
       "      <th></th>\n",
       "      <th></th>\n",
       "      <th></th>\n",
       "      <th></th>\n",
       "      <th></th>\n",
       "      <th></th>\n",
       "      <th></th>\n",
       "      <th></th>\n",
       "    </tr>\n",
       "  </thead>\n",
       "  <tbody>\n",
       "    <tr>\n",
       "      <th>2006-05-26 20:00:00</th>\n",
       "      <td>5.30</td>\n",
       "      <td>5.19</td>\n",
       "      <td>5.24</td>\n",
       "      <td>5.27</td>\n",
       "      <td>4.45</td>\n",
       "      <td>3.92</td>\n",
       "      <td>4.19</td>\n",
       "      <td>3.819052</td>\n",
       "    </tr>\n",
       "    <tr>\n",
       "      <th>2006-05-26 21:00:00</th>\n",
       "      <td>5.19</td>\n",
       "      <td>5.24</td>\n",
       "      <td>5.27</td>\n",
       "      <td>4.45</td>\n",
       "      <td>3.92</td>\n",
       "      <td>4.19</td>\n",
       "      <td>4.60</td>\n",
       "      <td>4.388181</td>\n",
       "    </tr>\n",
       "    <tr>\n",
       "      <th>2006-05-26 22:00:00</th>\n",
       "      <td>5.24</td>\n",
       "      <td>5.27</td>\n",
       "      <td>4.45</td>\n",
       "      <td>3.92</td>\n",
       "      <td>4.19</td>\n",
       "      <td>4.60</td>\n",
       "      <td>5.34</td>\n",
       "      <td>4.802082</td>\n",
       "    </tr>\n",
       "    <tr>\n",
       "      <th>2006-05-26 23:00:00</th>\n",
       "      <td>5.27</td>\n",
       "      <td>4.45</td>\n",
       "      <td>3.92</td>\n",
       "      <td>4.19</td>\n",
       "      <td>4.60</td>\n",
       "      <td>5.34</td>\n",
       "      <td>4.70</td>\n",
       "      <td>5.728455</td>\n",
       "    </tr>\n",
       "    <tr>\n",
       "      <th>2006-05-27 00:00:00</th>\n",
       "      <td>4.45</td>\n",
       "      <td>3.92</td>\n",
       "      <td>4.19</td>\n",
       "      <td>4.60</td>\n",
       "      <td>5.34</td>\n",
       "      <td>4.70</td>\n",
       "      <td>3.00</td>\n",
       "      <td>4.421595</td>\n",
       "    </tr>\n",
       "  </tbody>\n",
       "</table>\n",
       "</div>"
      ],
      "text/plain": [
       "                      f_0   f_1   f_2   f_3   f_4   f_5  target_h1  \\\n",
       "target_date                                                          \n",
       "2006-05-26 20:00:00  5.30  5.19  5.24  5.27  4.45  3.92       4.19   \n",
       "2006-05-26 21:00:00  5.19  5.24  5.27  4.45  3.92  4.19       4.60   \n",
       "2006-05-26 22:00:00  5.24  5.27  4.45  3.92  4.19  4.60       5.34   \n",
       "2006-05-26 23:00:00  5.27  4.45  3.92  4.19  4.60  5.34       4.70   \n",
       "2006-05-27 00:00:00  4.45  3.92  4.19  4.60  5.34  4.70       3.00   \n",
       "\n",
       "                     target_predicted  \n",
       "target_date                            \n",
       "2006-05-26 20:00:00          3.819052  \n",
       "2006-05-26 21:00:00          4.388181  \n",
       "2006-05-26 22:00:00          4.802082  \n",
       "2006-05-26 23:00:00          5.728455  \n",
       "2006-05-27 00:00:00          4.421595  "
      ]
     },
     "execution_count": 31,
     "metadata": {},
     "output_type": "execute_result"
    }
   ],
   "source": [
    "df_prediction.head()"
   ]
  },
  {
   "cell_type": "code",
   "execution_count": 32,
   "metadata": {
    "collapsed": true
   },
   "outputs": [],
   "source": [
    "df_prediction['mse_h1'] = np.power(df_prediction.target_h1 -\n",
    "                                   df_prediction.target_predicted, 2)"
   ]
  },
  {
   "cell_type": "code",
   "execution_count": 33,
   "metadata": {
    "collapsed": true
   },
   "outputs": [],
   "source": [
    "df_prediction['mae_h1'] = np.abs(df_prediction.target_h1 - \n",
    "                                 df_prediction.target_predicted)"
   ]
  },
  {
   "cell_type": "code",
   "execution_count": 34,
   "metadata": {},
   "outputs": [
    {
     "data": {
      "text/html": [
       "<div>\n",
       "<table border=\"1\" class=\"dataframe\">\n",
       "  <thead>\n",
       "    <tr style=\"text-align: right;\">\n",
       "      <th></th>\n",
       "      <th>f_0</th>\n",
       "      <th>f_1</th>\n",
       "      <th>f_2</th>\n",
       "      <th>f_3</th>\n",
       "      <th>f_4</th>\n",
       "      <th>f_5</th>\n",
       "      <th>target_h1</th>\n",
       "      <th>target_predicted</th>\n",
       "      <th>mse_h1</th>\n",
       "      <th>mae_h1</th>\n",
       "    </tr>\n",
       "    <tr>\n",
       "      <th>target_date</th>\n",
       "      <th></th>\n",
       "      <th></th>\n",
       "      <th></th>\n",
       "      <th></th>\n",
       "      <th></th>\n",
       "      <th></th>\n",
       "      <th></th>\n",
       "      <th></th>\n",
       "      <th></th>\n",
       "      <th></th>\n",
       "    </tr>\n",
       "  </thead>\n",
       "  <tbody>\n",
       "    <tr>\n",
       "      <th>2006-05-26 20:00:00</th>\n",
       "      <td>5.30</td>\n",
       "      <td>5.19</td>\n",
       "      <td>5.24</td>\n",
       "      <td>5.27</td>\n",
       "      <td>4.45</td>\n",
       "      <td>3.92</td>\n",
       "      <td>4.19</td>\n",
       "      <td>3.819052</td>\n",
       "      <td>0.137602</td>\n",
       "      <td>0.370948</td>\n",
       "    </tr>\n",
       "    <tr>\n",
       "      <th>2006-05-26 21:00:00</th>\n",
       "      <td>5.19</td>\n",
       "      <td>5.24</td>\n",
       "      <td>5.27</td>\n",
       "      <td>4.45</td>\n",
       "      <td>3.92</td>\n",
       "      <td>4.19</td>\n",
       "      <td>4.60</td>\n",
       "      <td>4.388181</td>\n",
       "      <td>0.044867</td>\n",
       "      <td>0.211819</td>\n",
       "    </tr>\n",
       "    <tr>\n",
       "      <th>2006-05-26 22:00:00</th>\n",
       "      <td>5.24</td>\n",
       "      <td>5.27</td>\n",
       "      <td>4.45</td>\n",
       "      <td>3.92</td>\n",
       "      <td>4.19</td>\n",
       "      <td>4.60</td>\n",
       "      <td>5.34</td>\n",
       "      <td>4.802082</td>\n",
       "      <td>0.289356</td>\n",
       "      <td>0.537918</td>\n",
       "    </tr>\n",
       "    <tr>\n",
       "      <th>2006-05-26 23:00:00</th>\n",
       "      <td>5.27</td>\n",
       "      <td>4.45</td>\n",
       "      <td>3.92</td>\n",
       "      <td>4.19</td>\n",
       "      <td>4.60</td>\n",
       "      <td>5.34</td>\n",
       "      <td>4.70</td>\n",
       "      <td>5.728455</td>\n",
       "      <td>1.057720</td>\n",
       "      <td>1.028455</td>\n",
       "    </tr>\n",
       "    <tr>\n",
       "      <th>2006-05-27 00:00:00</th>\n",
       "      <td>4.45</td>\n",
       "      <td>3.92</td>\n",
       "      <td>4.19</td>\n",
       "      <td>4.60</td>\n",
       "      <td>5.34</td>\n",
       "      <td>4.70</td>\n",
       "      <td>3.00</td>\n",
       "      <td>4.421595</td>\n",
       "      <td>2.020933</td>\n",
       "      <td>1.421595</td>\n",
       "    </tr>\n",
       "  </tbody>\n",
       "</table>\n",
       "</div>"
      ],
      "text/plain": [
       "                      f_0   f_1   f_2   f_3   f_4   f_5  target_h1  \\\n",
       "target_date                                                          \n",
       "2006-05-26 20:00:00  5.30  5.19  5.24  5.27  4.45  3.92       4.19   \n",
       "2006-05-26 21:00:00  5.19  5.24  5.27  4.45  3.92  4.19       4.60   \n",
       "2006-05-26 22:00:00  5.24  5.27  4.45  3.92  4.19  4.60       5.34   \n",
       "2006-05-26 23:00:00  5.27  4.45  3.92  4.19  4.60  5.34       4.70   \n",
       "2006-05-27 00:00:00  4.45  3.92  4.19  4.60  5.34  4.70       3.00   \n",
       "\n",
       "                     target_predicted    mse_h1    mae_h1  \n",
       "target_date                                                \n",
       "2006-05-26 20:00:00          3.819052  0.137602  0.370948  \n",
       "2006-05-26 21:00:00          4.388181  0.044867  0.211819  \n",
       "2006-05-26 22:00:00          4.802082  0.289356  0.537918  \n",
       "2006-05-26 23:00:00          5.728455  1.057720  1.028455  \n",
       "2006-05-27 00:00:00          4.421595  2.020933  1.421595  "
      ]
     },
     "execution_count": 34,
     "metadata": {},
     "output_type": "execute_result"
    }
   ],
   "source": [
    "# write on disk\n",
    "df_prediction.head()"
   ]
  },
  {
   "cell_type": "code",
   "execution_count": 35,
   "metadata": {},
   "outputs": [
    {
     "data": {
      "text/plain": [
       "0.8730979878989101"
      ]
     },
     "execution_count": 35,
     "metadata": {},
     "output_type": "execute_result"
    }
   ],
   "source": [
    "test_mse = df_prediction.mse_h1.sum() / len(df_prediction.mse_h1)\n",
    "test_mse"
   ]
  },
  {
   "cell_type": "code",
   "execution_count": 37,
   "metadata": {},
   "outputs": [
    {
     "data": {
      "text/plain": [
       "0.5649590854934866"
      ]
     },
     "execution_count": 37,
     "metadata": {},
     "output_type": "execute_result"
    }
   ],
   "source": [
    "test_mae = df_prediction.mae_h1.sum() / len(df_prediction.mae_h1)\n",
    "test_mae"
   ]
  },
  {
   "cell_type": "code",
   "execution_count": null,
   "metadata": {
    "collapsed": true
   },
   "outputs": [],
   "source": []
  }
 ],
 "metadata": {
  "kernelspec": {
   "display_name": "Python 3.5 + TensorFlow 1.0",
   "language": "python",
   "name": "p3tf1"
  },
  "language_info": {
   "codemirror_mode": {
    "name": "ipython",
    "version": 3
   },
   "file_extension": ".py",
   "mimetype": "text/x-python",
   "name": "python",
   "nbconvert_exporter": "python",
   "pygments_lexer": "ipython3",
   "version": "3.5.3"
  }
 },
 "nbformat": 4,
 "nbformat_minor": 2
}
