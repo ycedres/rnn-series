{
 "cells": [
  {
   "cell_type": "markdown",
   "metadata": {},
   "source": [
    "# NREL - Offshore WA OR - turbine \n",
    "\n",
    "## Predicción: h = 1 / H = 24\n",
    "\n",
    "# K-nearest_regressor\n",
    "\n",
    "**Parámetros:**"
   ]
  },
  {
   "cell_type": "code",
   "execution_count": 22,
   "metadata": {
    "collapsed": true
   },
   "outputs": [],
   "source": [
    "%matplotlib inline\n",
    "import os\n",
    "import sys\n",
    "import glob\n",
    "import numpy as np\n",
    "import pandas as pd\n",
    "import matplotlib.pyplot as plt\n",
    "plt.style.use('ggplot')\n",
    "\n",
    "# import RenewAI\n",
    "sys.path.append('/Users/tmorales/tmp/RNN-windPower/src')\n",
    "from pre_process.split_ml_ts import dataframe_split\n",
    "\n",
    "from sklearn.cross_validation import train_test_split\n",
    "from sklearn.neighbors import KNeighborsRegressor\n",
    "from sklearn.externals import joblib\n",
    "from sklearn.metrics.regression import mean_squared_error\n",
    "from sklearn.metrics.regression import mean_absolute_error"
   ]
  },
  {
   "cell_type": "code",
   "execution_count": 29,
   "metadata": {
    "collapsed": true
   },
   "outputs": [],
   "source": [
    "exp_path = '/Users/tmorales/tmp/experiments/NREL/Offshore_WA_OR/turbine_25915'\n",
    "experiment_name = 'K-nearest-regressor'\n",
    "directory = os.path.join(exp_path, experiment_name)\n",
    "if not os.path.exists(directory):\n",
    "    os.makedirs(directory)"
   ]
  },
  {
   "cell_type": "markdown",
   "metadata": {},
   "source": [
    "## Load file"
   ]
  },
  {
   "cell_type": "code",
   "execution_count": 3,
   "metadata": {
    "collapsed": true
   },
   "outputs": [],
   "source": [
    "path = '/Users/tmorales/tmp/RNN-windPower/database/wind_farms/Offshore_WA_OR/Offshore_WA_OR_features'"
   ]
  },
  {
   "cell_type": "code",
   "execution_count": 4,
   "metadata": {},
   "outputs": [
    {
     "data": {
      "text/plain": [
       "['Offshore_WA_OR_features_h_01.csv',\n",
       " 'Offshore_WA_OR_features_h_02.csv',\n",
       " 'Offshore_WA_OR_features_h_03.csv',\n",
       " 'Offshore_WA_OR_features_h_04.csv',\n",
       " 'Offshore_WA_OR_features_h_05.csv',\n",
       " 'Offshore_WA_OR_features_h_06.csv',\n",
       " 'Offshore_WA_OR_features_h_07.csv',\n",
       " 'Offshore_WA_OR_features_h_08.csv',\n",
       " 'Offshore_WA_OR_features_h_09.csv',\n",
       " 'Offshore_WA_OR_features_h_10.csv',\n",
       " 'Offshore_WA_OR_features_h_11.csv',\n",
       " 'Offshore_WA_OR_features_h_12.csv',\n",
       " 'Offshore_WA_OR_features_h_13.csv',\n",
       " 'Offshore_WA_OR_features_h_14.csv',\n",
       " 'Offshore_WA_OR_features_h_15.csv',\n",
       " 'Offshore_WA_OR_features_h_16.csv',\n",
       " 'Offshore_WA_OR_features_h_17.csv',\n",
       " 'Offshore_WA_OR_features_h_18.csv',\n",
       " 'Offshore_WA_OR_features_h_19.csv',\n",
       " 'Offshore_WA_OR_features_h_20.csv',\n",
       " 'Offshore_WA_OR_features_h_21.csv',\n",
       " 'Offshore_WA_OR_features_h_22.csv',\n",
       " 'Offshore_WA_OR_features_h_23.csv',\n",
       " 'Offshore_WA_OR_features_h_24.csv']"
      ]
     },
     "execution_count": 4,
     "metadata": {},
     "output_type": "execute_result"
    }
   ],
   "source": [
    "os.chdir(path)\n",
    "files = [file for file in glob.glob('Offshore_WA_OR_features_*.csv')]\n",
    "files"
   ]
  },
  {
   "cell_type": "markdown",
   "metadata": {},
   "source": [
    "##  Paso 1: only one h-step"
   ]
  },
  {
   "cell_type": "code",
   "execution_count": 5,
   "metadata": {
    "collapsed": true
   },
   "outputs": [],
   "source": [
    "h1 = files[0]"
   ]
  },
  {
   "cell_type": "code",
   "execution_count": 6,
   "metadata": {
    "collapsed": true
   },
   "outputs": [],
   "source": [
    "# create directory for each horizont (each horizon is a regressor)\n",
    "horizont = 1\n",
    "directory_by_horizont = os.path.join(exp_path, \n",
    "                                     'K-nearest-regressor',\n",
    "                                     'model_saved_h={0:03d}'.format(horizont))\n",
    "if not os.path.exists(directory_by_horizont):\n",
    "    os.makedirs(directory_by_horizont)"
   ]
  },
  {
   "cell_type": "code",
   "execution_count": 7,
   "metadata": {},
   "outputs": [
    {
     "data": {
      "text/html": [
       "<div>\n",
       "<table border=\"1\" class=\"dataframe\">\n",
       "  <thead>\n",
       "    <tr style=\"text-align: right;\">\n",
       "      <th></th>\n",
       "      <th>f_0</th>\n",
       "      <th>f_1</th>\n",
       "      <th>f_2</th>\n",
       "      <th>f_3</th>\n",
       "      <th>f_4</th>\n",
       "      <th>f_5</th>\n",
       "      <th>target_h1</th>\n",
       "    </tr>\n",
       "    <tr>\n",
       "      <th>target_date</th>\n",
       "      <th></th>\n",
       "      <th></th>\n",
       "      <th></th>\n",
       "      <th></th>\n",
       "      <th></th>\n",
       "      <th></th>\n",
       "      <th></th>\n",
       "    </tr>\n",
       "  </thead>\n",
       "  <tbody>\n",
       "    <tr>\n",
       "      <th>2004-01-01 06:00:00</th>\n",
       "      <td>6.96</td>\n",
       "      <td>5.28</td>\n",
       "      <td>5.32</td>\n",
       "      <td>4.93</td>\n",
       "      <td>4.05</td>\n",
       "      <td>3.95</td>\n",
       "      <td>4.19</td>\n",
       "    </tr>\n",
       "    <tr>\n",
       "      <th>2004-01-01 07:00:00</th>\n",
       "      <td>5.28</td>\n",
       "      <td>5.32</td>\n",
       "      <td>4.93</td>\n",
       "      <td>4.05</td>\n",
       "      <td>3.95</td>\n",
       "      <td>4.19</td>\n",
       "      <td>4.89</td>\n",
       "    </tr>\n",
       "    <tr>\n",
       "      <th>2004-01-01 08:00:00</th>\n",
       "      <td>5.32</td>\n",
       "      <td>4.93</td>\n",
       "      <td>4.05</td>\n",
       "      <td>3.95</td>\n",
       "      <td>4.19</td>\n",
       "      <td>4.89</td>\n",
       "      <td>5.16</td>\n",
       "    </tr>\n",
       "    <tr>\n",
       "      <th>2004-01-01 09:00:00</th>\n",
       "      <td>4.93</td>\n",
       "      <td>4.05</td>\n",
       "      <td>3.95</td>\n",
       "      <td>4.19</td>\n",
       "      <td>4.89</td>\n",
       "      <td>5.16</td>\n",
       "      <td>5.01</td>\n",
       "    </tr>\n",
       "  </tbody>\n",
       "</table>\n",
       "</div>"
      ],
      "text/plain": [
       "                      f_0   f_1   f_2   f_3   f_4   f_5  target_h1\n",
       "target_date                                                       \n",
       "2004-01-01 06:00:00  6.96  5.28  5.32  4.93  4.05  3.95       4.19\n",
       "2004-01-01 07:00:00  5.28  5.32  4.93  4.05  3.95  4.19       4.89\n",
       "2004-01-01 08:00:00  5.32  4.93  4.05  3.95  4.19  4.89       5.16\n",
       "2004-01-01 09:00:00  4.93  4.05  3.95  4.19  4.89  5.16       5.01"
      ]
     },
     "execution_count": 7,
     "metadata": {},
     "output_type": "execute_result"
    }
   ],
   "source": [
    "# load file\n",
    "df_h1 = pd.read_csv(files[0], delimiter=';', index_col=0)\n",
    "df_h1.head(4)"
   ]
  },
  {
   "cell_type": "code",
   "execution_count": 20,
   "metadata": {
    "collapsed": true
   },
   "outputs": [],
   "source": [
    "# select the best model for h=1\n",
    "\n",
    "# split the dataset in train, val and test\n",
    "data = dataframe_split(df_h1)\n",
    "train_set = data['train_set']\n",
    "validation_set = data['validation_set']\n",
    "test_set = data['test_set']\n",
    "\n",
    "\n",
    "# features and target columns\n",
    "features_columns = train_set.columns[1:-1]\n",
    "target_column = train_set.columns[-1:]\n",
    "\n",
    "# select the values of features and target columns.\n",
    "features_train_set = train_set[features_columns]\n",
    "target_train_set = train_set[target_column]\n",
    "features_validation_set = validation_set[features_columns]\n",
    "target_validation_set = validation_set[target_column]\n",
    "features_test_set = test_set[features_columns]\n",
    "target_test_set = test_set[target_column]"
   ]
  },
  {
   "cell_type": "code",
   "execution_count": 9,
   "metadata": {},
   "outputs": [
    {
     "name": "stdout",
     "output_type": "stream",
     "text": [
      "features columns: Index(['f_1', 'f_2', 'f_3', 'f_4', 'f_5'], dtype='object')\n",
      "target column: Index(['target_h1'], dtype='object')\n"
     ]
    }
   ],
   "source": [
    "print('features columns: {0}'.format(features_columns))\n",
    "print('target column: {0}'.format(target_column))"
   ]
  },
  {
   "cell_type": "code",
   "execution_count": 10,
   "metadata": {},
   "outputs": [
    {
     "data": {
      "text/html": [
       "<div>\n",
       "<table border=\"1\" class=\"dataframe\">\n",
       "  <thead>\n",
       "    <tr style=\"text-align: right;\">\n",
       "      <th></th>\n",
       "      <th>f_1</th>\n",
       "      <th>f_2</th>\n",
       "      <th>f_3</th>\n",
       "      <th>f_4</th>\n",
       "      <th>f_5</th>\n",
       "    </tr>\n",
       "    <tr>\n",
       "      <th>target_date</th>\n",
       "      <th></th>\n",
       "      <th></th>\n",
       "      <th></th>\n",
       "      <th></th>\n",
       "      <th></th>\n",
       "    </tr>\n",
       "  </thead>\n",
       "  <tbody>\n",
       "    <tr>\n",
       "      <th>2004-10-06 02:00:00</th>\n",
       "      <td>6.89</td>\n",
       "      <td>6.14</td>\n",
       "      <td>6.99</td>\n",
       "      <td>7.34</td>\n",
       "      <td>4.78</td>\n",
       "    </tr>\n",
       "    <tr>\n",
       "      <th>2004-10-15 11:00:00</th>\n",
       "      <td>9.24</td>\n",
       "      <td>8.03</td>\n",
       "      <td>7.28</td>\n",
       "      <td>8.14</td>\n",
       "      <td>8.12</td>\n",
       "    </tr>\n",
       "    <tr>\n",
       "      <th>2006-04-18 12:00:00</th>\n",
       "      <td>3.02</td>\n",
       "      <td>3.46</td>\n",
       "      <td>3.93</td>\n",
       "      <td>4.08</td>\n",
       "      <td>4.47</td>\n",
       "    </tr>\n",
       "    <tr>\n",
       "      <th>2005-01-15 20:00:00</th>\n",
       "      <td>8.29</td>\n",
       "      <td>7.76</td>\n",
       "      <td>7.49</td>\n",
       "      <td>7.80</td>\n",
       "      <td>8.12</td>\n",
       "    </tr>\n",
       "    <tr>\n",
       "      <th>2005-11-14 21:00:00</th>\n",
       "      <td>5.98</td>\n",
       "      <td>5.64</td>\n",
       "      <td>5.70</td>\n",
       "      <td>5.18</td>\n",
       "      <td>4.59</td>\n",
       "    </tr>\n",
       "  </tbody>\n",
       "</table>\n",
       "</div>"
      ],
      "text/plain": [
       "                      f_1   f_2   f_3   f_4   f_5\n",
       "target_date                                      \n",
       "2004-10-06 02:00:00  6.89  6.14  6.99  7.34  4.78\n",
       "2004-10-15 11:00:00  9.24  8.03  7.28  8.14  8.12\n",
       "2006-04-18 12:00:00  3.02  3.46  3.93  4.08  4.47\n",
       "2005-01-15 20:00:00  8.29  7.76  7.49  7.80  8.12\n",
       "2005-11-14 21:00:00  5.98  5.64  5.70  5.18  4.59"
      ]
     },
     "execution_count": 10,
     "metadata": {},
     "output_type": "execute_result"
    }
   ],
   "source": [
    "features_train_set.head()"
   ]
  },
  {
   "cell_type": "code",
   "execution_count": 11,
   "metadata": {},
   "outputs": [
    {
     "data": {
      "text/plain": [
       "array([[6.89, 6.14, 6.99, 7.34, 4.78],\n",
       "       [9.24, 8.03, 7.28, 8.14, 8.12],\n",
       "       [3.02, 3.46, 3.93, 4.08, 4.47],\n",
       "       ...,\n",
       "       [4.54, 4.09, 4.36, 4.61, 4.39],\n",
       "       [6.75, 8.21, 7.61, 7.05, 6.45],\n",
       "       [2.09, 4.71, 5.32, 2.78, 1.76]])"
      ]
     },
     "execution_count": 11,
     "metadata": {},
     "output_type": "execute_result"
    }
   ],
   "source": [
    "features_train_set.values"
   ]
  },
  {
   "cell_type": "code",
   "execution_count": 12,
   "metadata": {},
   "outputs": [
    {
     "data": {
      "text/html": [
       "<div>\n",
       "<table border=\"1\" class=\"dataframe\">\n",
       "  <thead>\n",
       "    <tr style=\"text-align: right;\">\n",
       "      <th></th>\n",
       "      <th>target_h1</th>\n",
       "    </tr>\n",
       "    <tr>\n",
       "      <th>target_date</th>\n",
       "      <th></th>\n",
       "    </tr>\n",
       "  </thead>\n",
       "  <tbody>\n",
       "    <tr>\n",
       "      <th>2004-10-06 02:00:00</th>\n",
       "      <td>3.99</td>\n",
       "    </tr>\n",
       "    <tr>\n",
       "      <th>2004-10-15 11:00:00</th>\n",
       "      <td>7.57</td>\n",
       "    </tr>\n",
       "    <tr>\n",
       "      <th>2006-04-18 12:00:00</th>\n",
       "      <td>4.24</td>\n",
       "    </tr>\n",
       "    <tr>\n",
       "      <th>2005-01-15 20:00:00</th>\n",
       "      <td>7.95</td>\n",
       "    </tr>\n",
       "    <tr>\n",
       "      <th>2005-11-14 21:00:00</th>\n",
       "      <td>4.58</td>\n",
       "    </tr>\n",
       "  </tbody>\n",
       "</table>\n",
       "</div>"
      ],
      "text/plain": [
       "                     target_h1\n",
       "target_date                   \n",
       "2004-10-06 02:00:00       3.99\n",
       "2004-10-15 11:00:00       7.57\n",
       "2006-04-18 12:00:00       4.24\n",
       "2005-01-15 20:00:00       7.95\n",
       "2005-11-14 21:00:00       4.58"
      ]
     },
     "execution_count": 12,
     "metadata": {},
     "output_type": "execute_result"
    }
   ],
   "source": [
    "target_train_set.head()"
   ]
  },
  {
   "cell_type": "code",
   "execution_count": 13,
   "metadata": {},
   "outputs": [
    {
     "data": {
      "text/plain": [
       "array([[3.99],\n",
       "       [7.57],\n",
       "       [4.24],\n",
       "       ...,\n",
       "       [5.36],\n",
       "       [5.82],\n",
       "       [2.06]])"
      ]
     },
     "execution_count": 13,
     "metadata": {},
     "output_type": "execute_result"
    }
   ],
   "source": [
    "target_train_set.values"
   ]
  },
  {
   "cell_type": "code",
   "execution_count": 14,
   "metadata": {},
   "outputs": [
    {
     "data": {
      "text/html": [
       "<div>\n",
       "<table border=\"1\" class=\"dataframe\">\n",
       "  <thead>\n",
       "    <tr style=\"text-align: right;\">\n",
       "      <th></th>\n",
       "      <th>f_1</th>\n",
       "      <th>f_2</th>\n",
       "      <th>f_3</th>\n",
       "      <th>f_4</th>\n",
       "      <th>f_5</th>\n",
       "    </tr>\n",
       "    <tr>\n",
       "      <th>target_date</th>\n",
       "      <th></th>\n",
       "      <th></th>\n",
       "      <th></th>\n",
       "      <th></th>\n",
       "      <th></th>\n",
       "    </tr>\n",
       "  </thead>\n",
       "  <tbody>\n",
       "    <tr>\n",
       "      <th>2005-03-16 21:00:00</th>\n",
       "      <td>12.88</td>\n",
       "      <td>10.07</td>\n",
       "      <td>9.67</td>\n",
       "      <td>8.19</td>\n",
       "      <td>8.20</td>\n",
       "    </tr>\n",
       "    <tr>\n",
       "      <th>2006-05-01 19:00:00</th>\n",
       "      <td>8.70</td>\n",
       "      <td>8.80</td>\n",
       "      <td>8.69</td>\n",
       "      <td>8.31</td>\n",
       "      <td>8.95</td>\n",
       "    </tr>\n",
       "    <tr>\n",
       "      <th>2006-02-22 01:00:00</th>\n",
       "      <td>2.30</td>\n",
       "      <td>1.78</td>\n",
       "      <td>1.36</td>\n",
       "      <td>1.76</td>\n",
       "      <td>2.40</td>\n",
       "    </tr>\n",
       "    <tr>\n",
       "      <th>2004-06-11 21:00:00</th>\n",
       "      <td>2.46</td>\n",
       "      <td>1.93</td>\n",
       "      <td>3.39</td>\n",
       "      <td>3.61</td>\n",
       "      <td>4.47</td>\n",
       "    </tr>\n",
       "    <tr>\n",
       "      <th>2004-06-22 17:00:00</th>\n",
       "      <td>1.15</td>\n",
       "      <td>1.19</td>\n",
       "      <td>1.50</td>\n",
       "      <td>1.01</td>\n",
       "      <td>1.68</td>\n",
       "    </tr>\n",
       "  </tbody>\n",
       "</table>\n",
       "</div>"
      ],
      "text/plain": [
       "                       f_1    f_2   f_3   f_4   f_5\n",
       "target_date                                        \n",
       "2005-03-16 21:00:00  12.88  10.07  9.67  8.19  8.20\n",
       "2006-05-01 19:00:00   8.70   8.80  8.69  8.31  8.95\n",
       "2006-02-22 01:00:00   2.30   1.78  1.36  1.76  2.40\n",
       "2004-06-11 21:00:00   2.46   1.93  3.39  3.61  4.47\n",
       "2004-06-22 17:00:00   1.15   1.19  1.50  1.01  1.68"
      ]
     },
     "execution_count": 14,
     "metadata": {},
     "output_type": "execute_result"
    }
   ],
   "source": [
    "features_validation_set.head()"
   ]
  },
  {
   "cell_type": "code",
   "execution_count": 15,
   "metadata": {},
   "outputs": [
    {
     "data": {
      "text/html": [
       "<div>\n",
       "<table border=\"1\" class=\"dataframe\">\n",
       "  <thead>\n",
       "    <tr style=\"text-align: right;\">\n",
       "      <th></th>\n",
       "      <th>target_h1</th>\n",
       "    </tr>\n",
       "    <tr>\n",
       "      <th>target_date</th>\n",
       "      <th></th>\n",
       "    </tr>\n",
       "  </thead>\n",
       "  <tbody>\n",
       "    <tr>\n",
       "      <th>2005-03-16 21:00:00</th>\n",
       "      <td>8.71</td>\n",
       "    </tr>\n",
       "    <tr>\n",
       "      <th>2006-05-01 19:00:00</th>\n",
       "      <td>9.26</td>\n",
       "    </tr>\n",
       "    <tr>\n",
       "      <th>2006-02-22 01:00:00</th>\n",
       "      <td>2.22</td>\n",
       "    </tr>\n",
       "    <tr>\n",
       "      <th>2004-06-11 21:00:00</th>\n",
       "      <td>4.56</td>\n",
       "    </tr>\n",
       "    <tr>\n",
       "      <th>2004-06-22 17:00:00</th>\n",
       "      <td>2.21</td>\n",
       "    </tr>\n",
       "  </tbody>\n",
       "</table>\n",
       "</div>"
      ],
      "text/plain": [
       "                     target_h1\n",
       "target_date                   \n",
       "2005-03-16 21:00:00       8.71\n",
       "2006-05-01 19:00:00       9.26\n",
       "2006-02-22 01:00:00       2.22\n",
       "2004-06-11 21:00:00       4.56\n",
       "2004-06-22 17:00:00       2.21"
      ]
     },
     "execution_count": 15,
     "metadata": {},
     "output_type": "execute_result"
    }
   ],
   "source": [
    "target_validation_set.head()"
   ]
  },
  {
   "cell_type": "code",
   "execution_count": 16,
   "metadata": {
    "collapsed": true
   },
   "outputs": [],
   "source": [
    "x_train = features_train_set.values; y_train = target_train_set.values\n",
    "x_val = features_validation_set.values; y_val = target_validation_set.values"
   ]
  },
  {
   "cell_type": "code",
   "execution_count": 17,
   "metadata": {},
   "outputs": [
    {
     "name": "stdout",
     "output_type": "stream",
     "text": [
      "*** N neighbors: 2\n",
      "*** N neighbors: 4\n",
      "*** N neighbors: 6\n",
      "*** N neighbors: 8\n",
      "*** N neighbors: 10\n",
      "*** N neighbors: 12\n",
      "*** N neighbors: 14\n",
      "*** N neighbors: 16\n",
      "*** N neighbors: 18\n",
      "*** N neighbors: 20\n",
      "*** N neighbors: 22\n",
      "*** N neighbors: 24\n",
      "*** N neighbors: 26\n",
      "*** N neighbors: 28\n",
      "*** N neighbors: 30\n",
      "*** N neighbors: 32\n",
      "*** N neighbors: 34\n",
      "*** N neighbors: 36\n",
      "*** N neighbors: 38\n"
     ]
    }
   ],
   "source": [
    "# select the best model\n",
    "n_neighbors = 40\n",
    "weights='uniform'\n",
    "\n",
    "history = {} # dictionary with all metrics\n",
    "mse = [] ; val_mse = [] # mean squared error\n",
    "number_neighbors = range(2, n_neighbors, 2)\n",
    "for n_neighbors in number_neighbors:\n",
    "    print('*** N neighbors: {0}'.format(n_neighbors))\n",
    "    # - model parameters\n",
    "    knr = KNeighborsRegressor(n_neighbors=n_neighbors, weights=weights)\n",
    "    # - fit the data \n",
    "    knr = knr.fit(x_train, y_train)\n",
    "    # - save del model\n",
    "    path_model_saved = os.path.join(directory_by_horizont, \n",
    "                                    'K-nearest_regressor_{0:03d}_{1}'.format(n_neighbors,\n",
    "                                                                                 weights))\n",
    "    joblib.dump(knr, path_model_saved)\n",
    "    # - overfitting: evaluate train and validation set on the fitted model. \n",
    "    y_train_eval = knr.predict(x_train)\n",
    "    y_val_eval = knr.predict(x_val)\n",
    "    # - metric calculation\n",
    "    mse_train = mean_squared_error(y_train, y_train_eval)\n",
    "    mse_validation = mean_absolute_error(y_val, y_val_eval)\n",
    "    # for each k-neighbors confoguration save the metrics inside a list \n",
    "    mse.append(mse_train); val_mse.append(mse_validation)\n",
    "\n",
    "history['mse'] = mse\n",
    "history['val_mse'] = val_mse"
   ]
  },
  {
   "cell_type": "code",
   "execution_count": 18,
   "metadata": {},
   "outputs": [
    {
     "data": {
      "text/plain": [
       "<matplotlib.legend.Legend at 0x100cfdbe0>"
      ]
     },
     "execution_count": 18,
     "metadata": {},
     "output_type": "execute_result"
    },
    {
     "data": {
      "image/png": "[encoded data removed]",
      "text/plain": [
       "<matplotlib.figure.Figure at 0x1083a6160>"
      ]
     },
     "metadata": {},
     "output_type": "display_data"
    }
   ],
   "source": [
    "f = plt.figure(figsize=(15, 5))\n",
    "plt.plot(number_neighbors, history['mse'], lw=2, label='train')\n",
    "plt.plot(number_neighbors, history['val_mse'], lw=2, label='val')\n",
    "plt.legend()"
   ]
  },
  {
   "cell_type": "markdown",
   "metadata": {
    "collapsed": true
   },
   "source": [
    "## Paso 3: Prediction"
   ]
  },
  {
   "cell_type": "code",
   "execution_count": 23,
   "metadata": {},
   "outputs": [
    {
     "data": {
      "text/plain": [
       "(5260, 5, 1)"
      ]
     },
     "execution_count": 23,
     "metadata": {},
     "output_type": "execute_result"
    }
   ],
   "source": [
    "x_test = features_test_set.values.astype('float32')\n",
    "x_test_lstm = np.reshape(x_test, (x_test.shape[0], x_test.shape[1], 1))\n",
    "x_test_lstm.shape"
   ]
  },
  {
   "cell_type": "code",
   "execution_count": 24,
   "metadata": {},
   "outputs": [
    {
     "data": {
      "text/plain": [
       "KNeighborsRegressor(algorithm='auto', leaf_size=30, metric='minkowski',\n",
       "          metric_params=None, n_jobs=1, n_neighbors=6, p=2,\n",
       "          weights='uniform')"
      ]
     },
     "execution_count": 24,
     "metadata": {},
     "output_type": "execute_result"
    }
   ],
   "source": [
    "best_model = os.path.join(directory_by_horizont, 'K-nearest_regressor_006_uniform')\n",
    "model = joblib.load(best_model)\n",
    "model"
   ]
  },
  {
   "cell_type": "code",
   "execution_count": 25,
   "metadata": {
    "collapsed": true
   },
   "outputs": [],
   "source": [
    "predicted = model.predict(x_test)"
   ]
  },
  {
   "cell_type": "code",
   "execution_count": 26,
   "metadata": {},
   "outputs": [
    {
     "data": {
      "text/html": [
       "<div>\n",
       "<table border=\"1\" class=\"dataframe\">\n",
       "  <thead>\n",
       "    <tr style=\"text-align: right;\">\n",
       "      <th></th>\n",
       "      <th>f_0</th>\n",
       "      <th>f_1</th>\n",
       "      <th>f_2</th>\n",
       "      <th>f_3</th>\n",
       "      <th>f_4</th>\n",
       "      <th>f_5</th>\n",
       "      <th>target_h1</th>\n",
       "    </tr>\n",
       "    <tr>\n",
       "      <th>target_date</th>\n",
       "      <th></th>\n",
       "      <th></th>\n",
       "      <th></th>\n",
       "      <th></th>\n",
       "      <th></th>\n",
       "      <th></th>\n",
       "      <th></th>\n",
       "    </tr>\n",
       "  </thead>\n",
       "  <tbody>\n",
       "    <tr>\n",
       "      <th>2006-05-26 20:00:00</th>\n",
       "      <td>5.30</td>\n",
       "      <td>5.19</td>\n",
       "      <td>5.24</td>\n",
       "      <td>5.27</td>\n",
       "      <td>4.45</td>\n",
       "      <td>3.92</td>\n",
       "      <td>4.19</td>\n",
       "    </tr>\n",
       "    <tr>\n",
       "      <th>2006-05-26 21:00:00</th>\n",
       "      <td>5.19</td>\n",
       "      <td>5.24</td>\n",
       "      <td>5.27</td>\n",
       "      <td>4.45</td>\n",
       "      <td>3.92</td>\n",
       "      <td>4.19</td>\n",
       "      <td>4.60</td>\n",
       "    </tr>\n",
       "    <tr>\n",
       "      <th>2006-05-26 22:00:00</th>\n",
       "      <td>5.24</td>\n",
       "      <td>5.27</td>\n",
       "      <td>4.45</td>\n",
       "      <td>3.92</td>\n",
       "      <td>4.19</td>\n",
       "      <td>4.60</td>\n",
       "      <td>5.34</td>\n",
       "    </tr>\n",
       "    <tr>\n",
       "      <th>2006-05-26 23:00:00</th>\n",
       "      <td>5.27</td>\n",
       "      <td>4.45</td>\n",
       "      <td>3.92</td>\n",
       "      <td>4.19</td>\n",
       "      <td>4.60</td>\n",
       "      <td>5.34</td>\n",
       "      <td>4.70</td>\n",
       "    </tr>\n",
       "    <tr>\n",
       "      <th>2006-05-27 00:00:00</th>\n",
       "      <td>4.45</td>\n",
       "      <td>3.92</td>\n",
       "      <td>4.19</td>\n",
       "      <td>4.60</td>\n",
       "      <td>5.34</td>\n",
       "      <td>4.70</td>\n",
       "      <td>3.00</td>\n",
       "    </tr>\n",
       "  </tbody>\n",
       "</table>\n",
       "</div>"
      ],
      "text/plain": [
       "                      f_0   f_1   f_2   f_3   f_4   f_5  target_h1\n",
       "target_date                                                       \n",
       "2006-05-26 20:00:00  5.30  5.19  5.24  5.27  4.45  3.92       4.19\n",
       "2006-05-26 21:00:00  5.19  5.24  5.27  4.45  3.92  4.19       4.60\n",
       "2006-05-26 22:00:00  5.24  5.27  4.45  3.92  4.19  4.60       5.34\n",
       "2006-05-26 23:00:00  5.27  4.45  3.92  4.19  4.60  5.34       4.70\n",
       "2006-05-27 00:00:00  4.45  3.92  4.19  4.60  5.34  4.70       3.00"
      ]
     },
     "execution_count": 26,
     "metadata": {},
     "output_type": "execute_result"
    }
   ],
   "source": [
    "df_prediction = test_set.copy()\n",
    "df_prediction.head()"
   ]
  },
  {
   "cell_type": "code",
   "execution_count": 27,
   "metadata": {},
   "outputs": [
    {
     "data": {
      "text/html": [
       "<div>\n",
       "<table border=\"1\" class=\"dataframe\">\n",
       "  <thead>\n",
       "    <tr style=\"text-align: right;\">\n",
       "      <th></th>\n",
       "      <th>f_0</th>\n",
       "      <th>f_1</th>\n",
       "      <th>f_2</th>\n",
       "      <th>f_3</th>\n",
       "      <th>f_4</th>\n",
       "      <th>f_5</th>\n",
       "      <th>target_h1</th>\n",
       "      <th>target_predicted</th>\n",
       "    </tr>\n",
       "    <tr>\n",
       "      <th>target_date</th>\n",
       "      <th></th>\n",
       "      <th></th>\n",
       "      <th></th>\n",
       "      <th></th>\n",
       "      <th></th>\n",
       "      <th></th>\n",
       "      <th></th>\n",
       "      <th></th>\n",
       "    </tr>\n",
       "  </thead>\n",
       "  <tbody>\n",
       "    <tr>\n",
       "      <th>2006-05-26 20:00:00</th>\n",
       "      <td>5.30</td>\n",
       "      <td>5.19</td>\n",
       "      <td>5.24</td>\n",
       "      <td>5.27</td>\n",
       "      <td>4.45</td>\n",
       "      <td>3.92</td>\n",
       "      <td>4.19</td>\n",
       "      <td>3.760000</td>\n",
       "    </tr>\n",
       "    <tr>\n",
       "      <th>2006-05-26 21:00:00</th>\n",
       "      <td>5.19</td>\n",
       "      <td>5.24</td>\n",
       "      <td>5.27</td>\n",
       "      <td>4.45</td>\n",
       "      <td>3.92</td>\n",
       "      <td>4.19</td>\n",
       "      <td>4.60</td>\n",
       "      <td>4.368333</td>\n",
       "    </tr>\n",
       "    <tr>\n",
       "      <th>2006-05-26 22:00:00</th>\n",
       "      <td>5.24</td>\n",
       "      <td>5.27</td>\n",
       "      <td>4.45</td>\n",
       "      <td>3.92</td>\n",
       "      <td>4.19</td>\n",
       "      <td>4.60</td>\n",
       "      <td>5.34</td>\n",
       "      <td>4.555000</td>\n",
       "    </tr>\n",
       "    <tr>\n",
       "      <th>2006-05-26 23:00:00</th>\n",
       "      <td>5.27</td>\n",
       "      <td>4.45</td>\n",
       "      <td>3.92</td>\n",
       "      <td>4.19</td>\n",
       "      <td>4.60</td>\n",
       "      <td>5.34</td>\n",
       "      <td>4.70</td>\n",
       "      <td>5.705000</td>\n",
       "    </tr>\n",
       "    <tr>\n",
       "      <th>2006-05-27 00:00:00</th>\n",
       "      <td>4.45</td>\n",
       "      <td>3.92</td>\n",
       "      <td>4.19</td>\n",
       "      <td>4.60</td>\n",
       "      <td>5.34</td>\n",
       "      <td>4.70</td>\n",
       "      <td>3.00</td>\n",
       "      <td>5.013333</td>\n",
       "    </tr>\n",
       "  </tbody>\n",
       "</table>\n",
       "</div>"
      ],
      "text/plain": [
       "                      f_0   f_1   f_2   f_3   f_4   f_5  target_h1  \\\n",
       "target_date                                                          \n",
       "2006-05-26 20:00:00  5.30  5.19  5.24  5.27  4.45  3.92       4.19   \n",
       "2006-05-26 21:00:00  5.19  5.24  5.27  4.45  3.92  4.19       4.60   \n",
       "2006-05-26 22:00:00  5.24  5.27  4.45  3.92  4.19  4.60       5.34   \n",
       "2006-05-26 23:00:00  5.27  4.45  3.92  4.19  4.60  5.34       4.70   \n",
       "2006-05-27 00:00:00  4.45  3.92  4.19  4.60  5.34  4.70       3.00   \n",
       "\n",
       "                     target_predicted  \n",
       "target_date                            \n",
       "2006-05-26 20:00:00          3.760000  \n",
       "2006-05-26 21:00:00          4.368333  \n",
       "2006-05-26 22:00:00          4.555000  \n",
       "2006-05-26 23:00:00          5.705000  \n",
       "2006-05-27 00:00:00          5.013333  "
      ]
     },
     "execution_count": 27,
     "metadata": {},
     "output_type": "execute_result"
    }
   ],
   "source": [
    "df_prediction['target_predicted'] = predicted\n",
    "df_prediction.head()"
   ]
  },
  {
   "cell_type": "code",
   "execution_count": 30,
   "metadata": {
    "collapsed": true
   },
   "outputs": [],
   "source": [
    "# save test dataframe (df_prediction)\n",
    "filename =  os.path.join(directory_by_horizont, experiment_name)\n",
    "df_prediction.to_csv('{0}.csv'.format(filename))"
   ]
  },
  {
   "cell_type": "code",
   "execution_count": 31,
   "metadata": {},
   "outputs": [
    {
     "data": {
      "text/plain": [
       "<matplotlib.axes._subplots.AxesSubplot at 0x1081edeb8>"
      ]
     },
     "execution_count": 31,
     "metadata": {},
     "output_type": "execute_result"
    },
    {
     "data": {
      "image/png": "[encoded data removed]",
      "text/plain": [
       "<matplotlib.figure.Figure at 0x1081d0ef0>"
      ]
     },
     "metadata": {},
     "output_type": "display_data"
    }
   ],
   "source": [
    "#title='LSTM-10-unit_hidden-5'\n",
    "title='k-Nearest Regressor: weights=uniform'\n",
    "\n",
    "f, ax = plt.subplots(1,1,figsize=(10,10))\n",
    "x_min = df_prediction.target_h1.min() \n",
    "x_max = df_prediction.target_h1.max()\n",
    "y_min = df_prediction.target_predicted.min()\n",
    "y_max = df_prediction.target_predicted.max()\n",
    "ax.set_title(title)\n",
    "# line\n",
    "ax.set_xlim(x_min+1, x_max+1)\n",
    "ax.set_ylim(x_min+1, x_max+1)\n",
    "ax.plot((x_min, x_max), (x_min, x_max), lw=3, c='r')\n",
    "# scatter\n",
    "df_prediction.plot(ax=ax,\n",
    "                   x='target_h1',\n",
    "                   y='target_predicted',\n",
    "                   kind='scatter',\n",
    "                  )"
   ]
  },
  {
   "cell_type": "code",
   "execution_count": 33,
   "metadata": {},
   "outputs": [
    {
     "data": {
      "text/plain": [
       "<matplotlib.axes._subplots.AxesSubplot at 0x1093962e8>"
      ]
     },
     "execution_count": 33,
     "metadata": {},
     "output_type": "execute_result"
    },
    {
     "data": {
      "image/png": "[encoded data removed]",
      "text/plain": [
       "<matplotlib.figure.Figure at 0x1072845c0>"
      ]
     },
     "metadata": {},
     "output_type": "display_data"
    }
   ],
   "source": [
    "df_prediction.iloc[:,-2:].plot(figsize=(15,5))"
   ]
  },
  {
   "cell_type": "code",
   "execution_count": 34,
   "metadata": {},
   "outputs": [
    {
     "data": {
      "text/html": [
       "<div>\n",
       "<table border=\"1\" class=\"dataframe\">\n",
       "  <thead>\n",
       "    <tr style=\"text-align: right;\">\n",
       "      <th></th>\n",
       "      <th>f_0</th>\n",
       "      <th>f_1</th>\n",
       "      <th>f_2</th>\n",
       "      <th>f_3</th>\n",
       "      <th>f_4</th>\n",
       "      <th>f_5</th>\n",
       "      <th>target_h1</th>\n",
       "      <th>target_predicted</th>\n",
       "    </tr>\n",
       "    <tr>\n",
       "      <th>target_date</th>\n",
       "      <th></th>\n",
       "      <th></th>\n",
       "      <th></th>\n",
       "      <th></th>\n",
       "      <th></th>\n",
       "      <th></th>\n",
       "      <th></th>\n",
       "      <th></th>\n",
       "    </tr>\n",
       "  </thead>\n",
       "  <tbody>\n",
       "    <tr>\n",
       "      <th>2006-05-26 20:00:00</th>\n",
       "      <td>5.30</td>\n",
       "      <td>5.19</td>\n",
       "      <td>5.24</td>\n",
       "      <td>5.27</td>\n",
       "      <td>4.45</td>\n",
       "      <td>3.92</td>\n",
       "      <td>4.19</td>\n",
       "      <td>3.760000</td>\n",
       "    </tr>\n",
       "    <tr>\n",
       "      <th>2006-05-26 21:00:00</th>\n",
       "      <td>5.19</td>\n",
       "      <td>5.24</td>\n",
       "      <td>5.27</td>\n",
       "      <td>4.45</td>\n",
       "      <td>3.92</td>\n",
       "      <td>4.19</td>\n",
       "      <td>4.60</td>\n",
       "      <td>4.368333</td>\n",
       "    </tr>\n",
       "    <tr>\n",
       "      <th>2006-05-26 22:00:00</th>\n",
       "      <td>5.24</td>\n",
       "      <td>5.27</td>\n",
       "      <td>4.45</td>\n",
       "      <td>3.92</td>\n",
       "      <td>4.19</td>\n",
       "      <td>4.60</td>\n",
       "      <td>5.34</td>\n",
       "      <td>4.555000</td>\n",
       "    </tr>\n",
       "    <tr>\n",
       "      <th>2006-05-26 23:00:00</th>\n",
       "      <td>5.27</td>\n",
       "      <td>4.45</td>\n",
       "      <td>3.92</td>\n",
       "      <td>4.19</td>\n",
       "      <td>4.60</td>\n",
       "      <td>5.34</td>\n",
       "      <td>4.70</td>\n",
       "      <td>5.705000</td>\n",
       "    </tr>\n",
       "    <tr>\n",
       "      <th>2006-05-27 00:00:00</th>\n",
       "      <td>4.45</td>\n",
       "      <td>3.92</td>\n",
       "      <td>4.19</td>\n",
       "      <td>4.60</td>\n",
       "      <td>5.34</td>\n",
       "      <td>4.70</td>\n",
       "      <td>3.00</td>\n",
       "      <td>5.013333</td>\n",
       "    </tr>\n",
       "  </tbody>\n",
       "</table>\n",
       "</div>"
      ],
      "text/plain": [
       "                      f_0   f_1   f_2   f_3   f_4   f_5  target_h1  \\\n",
       "target_date                                                          \n",
       "2006-05-26 20:00:00  5.30  5.19  5.24  5.27  4.45  3.92       4.19   \n",
       "2006-05-26 21:00:00  5.19  5.24  5.27  4.45  3.92  4.19       4.60   \n",
       "2006-05-26 22:00:00  5.24  5.27  4.45  3.92  4.19  4.60       5.34   \n",
       "2006-05-26 23:00:00  5.27  4.45  3.92  4.19  4.60  5.34       4.70   \n",
       "2006-05-27 00:00:00  4.45  3.92  4.19  4.60  5.34  4.70       3.00   \n",
       "\n",
       "                     target_predicted  \n",
       "target_date                            \n",
       "2006-05-26 20:00:00          3.760000  \n",
       "2006-05-26 21:00:00          4.368333  \n",
       "2006-05-26 22:00:00          4.555000  \n",
       "2006-05-26 23:00:00          5.705000  \n",
       "2006-05-27 00:00:00          5.013333  "
      ]
     },
     "execution_count": 34,
     "metadata": {},
     "output_type": "execute_result"
    }
   ],
   "source": [
    "df_prediction.head()"
   ]
  },
  {
   "cell_type": "code",
   "execution_count": 35,
   "metadata": {
    "collapsed": true
   },
   "outputs": [],
   "source": [
    "df_prediction['mse_h1'] = np.power(df_prediction.target_h1 -\n",
    "                                   df_prediction.target_predicted, 2)"
   ]
  },
  {
   "cell_type": "code",
   "execution_count": 36,
   "metadata": {
    "collapsed": true
   },
   "outputs": [],
   "source": [
    "df_prediction['mae_h1'] = np.abs(df_prediction.target_h1 - \n",
    "                                 df_prediction.target_predicted)"
   ]
  },
  {
   "cell_type": "code",
   "execution_count": 37,
   "metadata": {},
   "outputs": [
    {
     "data": {
      "text/html": [
       "<div>\n",
       "<table border=\"1\" class=\"dataframe\">\n",
       "  <thead>\n",
       "    <tr style=\"text-align: right;\">\n",
       "      <th></th>\n",
       "      <th>f_0</th>\n",
       "      <th>f_1</th>\n",
       "      <th>f_2</th>\n",
       "      <th>f_3</th>\n",
       "      <th>f_4</th>\n",
       "      <th>f_5</th>\n",
       "      <th>target_h1</th>\n",
       "      <th>target_predicted</th>\n",
       "      <th>mse_h1</th>\n",
       "      <th>mae_h1</th>\n",
       "    </tr>\n",
       "    <tr>\n",
       "      <th>target_date</th>\n",
       "      <th></th>\n",
       "      <th></th>\n",
       "      <th></th>\n",
       "      <th></th>\n",
       "      <th></th>\n",
       "      <th></th>\n",
       "      <th></th>\n",
       "      <th></th>\n",
       "      <th></th>\n",
       "      <th></th>\n",
       "    </tr>\n",
       "  </thead>\n",
       "  <tbody>\n",
       "    <tr>\n",
       "      <th>2006-05-26 20:00:00</th>\n",
       "      <td>5.30</td>\n",
       "      <td>5.19</td>\n",
       "      <td>5.24</td>\n",
       "      <td>5.27</td>\n",
       "      <td>4.45</td>\n",
       "      <td>3.92</td>\n",
       "      <td>4.19</td>\n",
       "      <td>3.760000</td>\n",
       "      <td>0.184900</td>\n",
       "      <td>0.430000</td>\n",
       "    </tr>\n",
       "    <tr>\n",
       "      <th>2006-05-26 21:00:00</th>\n",
       "      <td>5.19</td>\n",
       "      <td>5.24</td>\n",
       "      <td>5.27</td>\n",
       "      <td>4.45</td>\n",
       "      <td>3.92</td>\n",
       "      <td>4.19</td>\n",
       "      <td>4.60</td>\n",
       "      <td>4.368333</td>\n",
       "      <td>0.053669</td>\n",
       "      <td>0.231667</td>\n",
       "    </tr>\n",
       "    <tr>\n",
       "      <th>2006-05-26 22:00:00</th>\n",
       "      <td>5.24</td>\n",
       "      <td>5.27</td>\n",
       "      <td>4.45</td>\n",
       "      <td>3.92</td>\n",
       "      <td>4.19</td>\n",
       "      <td>4.60</td>\n",
       "      <td>5.34</td>\n",
       "      <td>4.555000</td>\n",
       "      <td>0.616225</td>\n",
       "      <td>0.785000</td>\n",
       "    </tr>\n",
       "    <tr>\n",
       "      <th>2006-05-26 23:00:00</th>\n",
       "      <td>5.27</td>\n",
       "      <td>4.45</td>\n",
       "      <td>3.92</td>\n",
       "      <td>4.19</td>\n",
       "      <td>4.60</td>\n",
       "      <td>5.34</td>\n",
       "      <td>4.70</td>\n",
       "      <td>5.705000</td>\n",
       "      <td>1.010025</td>\n",
       "      <td>1.005000</td>\n",
       "    </tr>\n",
       "    <tr>\n",
       "      <th>2006-05-27 00:00:00</th>\n",
       "      <td>4.45</td>\n",
       "      <td>3.92</td>\n",
       "      <td>4.19</td>\n",
       "      <td>4.60</td>\n",
       "      <td>5.34</td>\n",
       "      <td>4.70</td>\n",
       "      <td>3.00</td>\n",
       "      <td>5.013333</td>\n",
       "      <td>4.053511</td>\n",
       "      <td>2.013333</td>\n",
       "    </tr>\n",
       "  </tbody>\n",
       "</table>\n",
       "</div>"
      ],
      "text/plain": [
       "                      f_0   f_1   f_2   f_3   f_4   f_5  target_h1  \\\n",
       "target_date                                                          \n",
       "2006-05-26 20:00:00  5.30  5.19  5.24  5.27  4.45  3.92       4.19   \n",
       "2006-05-26 21:00:00  5.19  5.24  5.27  4.45  3.92  4.19       4.60   \n",
       "2006-05-26 22:00:00  5.24  5.27  4.45  3.92  4.19  4.60       5.34   \n",
       "2006-05-26 23:00:00  5.27  4.45  3.92  4.19  4.60  5.34       4.70   \n",
       "2006-05-27 00:00:00  4.45  3.92  4.19  4.60  5.34  4.70       3.00   \n",
       "\n",
       "                     target_predicted    mse_h1    mae_h1  \n",
       "target_date                                                \n",
       "2006-05-26 20:00:00          3.760000  0.184900  0.430000  \n",
       "2006-05-26 21:00:00          4.368333  0.053669  0.231667  \n",
       "2006-05-26 22:00:00          4.555000  0.616225  0.785000  \n",
       "2006-05-26 23:00:00          5.705000  1.010025  1.005000  \n",
       "2006-05-27 00:00:00          5.013333  4.053511  2.013333  "
      ]
     },
     "execution_count": 37,
     "metadata": {},
     "output_type": "execute_result"
    }
   ],
   "source": [
    "# write on disk\n",
    "df_prediction.head()"
   ]
  },
  {
   "cell_type": "code",
   "execution_count": 38,
   "metadata": {},
   "outputs": [
    {
     "data": {
      "text/plain": [
       "0.9601426832488383"
      ]
     },
     "execution_count": 38,
     "metadata": {},
     "output_type": "execute_result"
    }
   ],
   "source": [
    "test_mse = df_prediction.mse_h1.sum() / len(df_prediction.mse_h1)\n",
    "test_mse"
   ]
  },
  {
   "cell_type": "code",
   "execution_count": 39,
   "metadata": {},
   "outputs": [
    {
     "data": {
      "text/plain": [
       "0.6138437896070975"
      ]
     },
     "execution_count": 39,
     "metadata": {},
     "output_type": "execute_result"
    }
   ],
   "source": [
    "test_mae = df_prediction.mae_h1.sum() / len(df_prediction.mae_h1)\n",
    "test_mae"
   ]
  },
  {
   "cell_type": "markdown",
   "metadata": {},
   "source": [
    "## K- Nearest -- operitivización"
   ]
  },
  {
   "cell_type": "code",
   "execution_count": 20,
   "metadata": {
    "collapsed": true
   },
   "outputs": [],
   "source": [
    "# features and target columns\n",
    "features_columns = train_set.columns[1:-1]\n",
    "target_column = train_set.columns[-1:]\n",
    "\n",
    "# select the values of features and target columns.\n",
    "features_train_set = train_set[features_columns]\n",
    "target_train_set = train_set[target_column]\n",
    "features_validation_set = validation_set[features_columns]\n",
    "target_validation_set = validation_set[target_column]"
   ]
  },
  {
   "cell_type": "code",
   "execution_count": 21,
   "metadata": {
    "collapsed": true
   },
   "outputs": [],
   "source": [
    "def plot_fitting(history, path, horizont=None, title='ml-model'):\n",
    "    f = plt.figure(figsize=(15,5))\n",
    "    number_neighbors = range(len(history['mse']))\n",
    "    plt.plot(number_neighbors, history['mse'], lw=2, label='train')\n",
    "    plt.plot(number_neighbors, history['val_mse'], lw=2, label='validation')\n",
    "    plt.title(title)\n",
    "    plt.ylabel('MSE')\n",
    "    plt.xlabel('Neighbor')\n",
    "    plt.grid()\n",
    "    plt.legend()\n",
    "    \n",
    "    plot_directory = os.path.join(path, 'plot_fit')\n",
    "    if not os.path.exists(plot_directory):\n",
    "        os.makedirs(plot_directory)\n",
    "    plt.savefig(os.path.join(plot_directory, 'K-nearest_fit_h{0:02d}.png'.format(horizont)));\n",
    "    print('plot saved in.....')"
   ]
  },
  {
   "cell_type": "code",
   "execution_count": 22,
   "metadata": {
    "collapsed": true
   },
   "outputs": [],
   "source": [
    "def select_best_model(train_set, validation_set, horizont=1,\n",
    "                      n_neighbors=70, weights='uniform',\n",
    "                      exp_path=os.getcwd()):\n",
    "    # features and target columns\n",
    "    features_columns = train_set.columns[1:-1]\n",
    "    target_column = train_set.columns[-1:]\n",
    "\n",
    "    # select the values of features and target columns.\n",
    "    features_train_set = train_set[features_columns]\n",
    "    target_train_set = train_set[target_column]\n",
    "    features_validation_set = validation_set[features_columns]\n",
    "    target_validation_set = validation_set[target_column]\n",
    "    \n",
    "    # select the best model\n",
    "    history = {} # dictionary with all metrics\n",
    "    mse = [] ; val_mse = [] # mean squared error\n",
    "    number_neighbors = range(2, n_neighbors, 2)\n",
    "    for n_neighbors in number_neighbors:\n",
    "        print('*** N neighbors: {0}'.format(n_neighbors))\n",
    "        knr = KNeighborsRegressor(n_neighbors=n_neighbors, weights=weights)\n",
    "        knr = knr.fit(features_train_set, target_train_set)\n",
    "        path_model_saved = os.path.join(exp_path, \n",
    "                                        'K-nearest_regressor_{0:03d}_{1}'.format(n_neighbors,\n",
    "                                                                                 weights))\n",
    "        joblib.dump(knr, path_model_saved)\n",
    "        # overfitting: evaluate train and validation set on the fitted model. \n",
    "        evaluate_train = knr.predict(features_train_set)\n",
    "        evaluate_validation = knr.predict(features_validation_set)\n",
    "        # metric calculation\n",
    "        mse_train = mean_squared_error(target_train_set.values, \n",
    "                                       evaluate_train)\n",
    "        mse_validation = mean_absolute_error(target_validation_set.values,\n",
    "                                             evaluate_validation)\n",
    "        mse.append(mse_train); val_mse.append(mse_validation)\n",
    "        #mean_squared_error()\n",
    "        #mean_absolute_error()\n",
    "    \n",
    "    history['mse'] = mse\n",
    "    history['val_mse'] = val_mse\n",
    "    \n",
    "    return history"
   ]
  },
  {
   "cell_type": "code",
   "execution_count": 23,
   "metadata": {
    "collapsed": true
   },
   "outputs": [],
   "source": [
    "def write_ml_history(history, filename='ml-history'):\n",
    "    df = pd.DataFrame({history}, index='')\n",
    "    df.to_csv('{0}.csv'.format(filename))"
   ]
  },
  {
   "cell_type": "code",
   "execution_count": 24,
   "metadata": {},
   "outputs": [
    {
     "name": "stdout",
     "output_type": "stream",
     "text": [
      "Horizonte: 1\n",
      "N neighbors: 70\n"
     ]
    },
    {
     "ename": "AttributeError",
     "evalue": "'str' object has no attribute 'shape'",
     "output_type": "error",
     "traceback": [
      "\u001b[0;31m---------------------------------------------------------------------------\u001b[0m",
      "\u001b[0;31mAttributeError\u001b[0m                            Traceback (most recent call last)",
      "\u001b[0;32m<ipython-input-24-97f99b6825bb>\u001b[0m in \u001b[0;36m<module>\u001b[0;34m()\u001b[0m\n\u001b[1;32m     14\u001b[0m     \u001b[0mdf\u001b[0m \u001b[0;34m=\u001b[0m \u001b[0mpd\u001b[0m\u001b[0;34m.\u001b[0m\u001b[0mread_csv\u001b[0m\u001b[0;34m(\u001b[0m\u001b[0mfile\u001b[0m\u001b[0;34m,\u001b[0m \u001b[0mdelimiter\u001b[0m\u001b[0;34m=\u001b[0m\u001b[0;34m';'\u001b[0m\u001b[0;34m,\u001b[0m \u001b[0mindex_col\u001b[0m\u001b[0;34m=\u001b[0m\u001b[0;36m0\u001b[0m\u001b[0;34m)\u001b[0m\u001b[0;34m\u001b[0m\u001b[0m\n\u001b[1;32m     15\u001b[0m     \u001b[0;31m# split dataset\u001b[0m\u001b[0;34m\u001b[0m\u001b[0;34m\u001b[0m\u001b[0m\n\u001b[0;32m---> 16\u001b[0;31m     \u001b[0mdata\u001b[0m \u001b[0;34m=\u001b[0m \u001b[0mdataframe_split\u001b[0m\u001b[0;34m(\u001b[0m\u001b[0mh1\u001b[0m\u001b[0;34m)\u001b[0m\u001b[0;34m\u001b[0m\u001b[0m\n\u001b[0m\u001b[1;32m     17\u001b[0m     \u001b[0mtrain_set\u001b[0m \u001b[0;34m=\u001b[0m \u001b[0mdata\u001b[0m\u001b[0;34m[\u001b[0m\u001b[0;34m'train_set'\u001b[0m\u001b[0;34m]\u001b[0m\u001b[0;34m\u001b[0m\u001b[0m\n\u001b[1;32m     18\u001b[0m     \u001b[0mval_set\u001b[0m \u001b[0;34m=\u001b[0m \u001b[0mdata\u001b[0m\u001b[0;34m[\u001b[0m\u001b[0;34m'validation_set'\u001b[0m\u001b[0;34m]\u001b[0m\u001b[0;34m\u001b[0m\u001b[0m\n",
      "\u001b[0;32m/Users/tmorales/tmp/RNN-windPower/src/pre_process/split_ml_ts.py\u001b[0m in \u001b[0;36mdataframe_split\u001b[0;34m(df)\u001b[0m\n\u001b[1;32m     11\u001b[0m     \u001b[0;31m# split the original dataframe in two dataframe.\u001b[0m\u001b[0;34m\u001b[0m\u001b[0;34m\u001b[0m\u001b[0m\n\u001b[1;32m     12\u001b[0m     \u001b[0;31m# 80 % train and 20 % test set.\u001b[0m\u001b[0;34m\u001b[0m\u001b[0;34m\u001b[0m\u001b[0m\n\u001b[0;32m---> 13\u001b[0;31m     \u001b[0mtrain_size\u001b[0m \u001b[0;34m=\u001b[0m \u001b[0mint\u001b[0m\u001b[0;34m(\u001b[0m\u001b[0;34m(\u001b[0m\u001b[0mdf\u001b[0m\u001b[0;34m.\u001b[0m\u001b[0mshape\u001b[0m\u001b[0;34m[\u001b[0m\u001b[0;36m0\u001b[0m\u001b[0;34m]\u001b[0m \u001b[0;34m*\u001b[0m \u001b[0;36m80\u001b[0m\u001b[0;34m)\u001b[0m \u001b[0;34m/\u001b[0m \u001b[0;36m100\u001b[0m\u001b[0;34m)\u001b[0m\u001b[0;34m\u001b[0m\u001b[0m\n\u001b[0m\u001b[1;32m     14\u001b[0m     \u001b[0;31m# Test set.\u001b[0m\u001b[0;34m\u001b[0m\u001b[0;34m\u001b[0m\u001b[0m\n\u001b[1;32m     15\u001b[0m     \u001b[0mdf_train_set\u001b[0m \u001b[0;34m=\u001b[0m \u001b[0mdf\u001b[0m\u001b[0;34m.\u001b[0m\u001b[0miloc\u001b[0m\u001b[0;34m[\u001b[0m\u001b[0;36m0\u001b[0m\u001b[0;34m:\u001b[0m\u001b[0mtrain_size\u001b[0m\u001b[0;34m]\u001b[0m\u001b[0;34m\u001b[0m\u001b[0m\n",
      "\u001b[0;31mAttributeError\u001b[0m: 'str' object has no attribute 'shape'"
     ]
    }
   ],
   "source": [
    "for i, file in enumerate(files):\n",
    "    horizont = i+1\n",
    "    n_neighbors = 70\n",
    "    weights = 'distance'\n",
    "    print('Horizonte: {0}'.format(horizont))\n",
    "    print('N neighbors: {0}'.format(n_neighbors))\n",
    "    # create directory for each horizont (each horizon is a regressor)\n",
    "    directory_by_horizont = os.path.join(exp_path, \n",
    "                                         'K-nearest-regressor',\n",
    "                                         'model_saved_h={0:03d}'.format(horizont))\n",
    "    if not os.path.exists(directory_by_horizont):\n",
    "        os.makedirs(directory_by_horizont)\n",
    "    # load file\n",
    "    df = pd.read_csv(file, delimiter=';', index_col=0)\n",
    "    # split dataset\n",
    "    data = dataframe_split(h1)\n",
    "    train_set = data['train_set']\n",
    "    val_set = data['validation_set']\n",
    "    test_set = data['test_set']\n",
    "    # select the best model\n",
    "    history = select_best_model(train_set, val_set, n_neighbors=n_neighbors, horizont=horizont, \n",
    "                                exp_path=directory_by_horizont)\n",
    "    # plot the histories\n",
    "    title_string = 'k-nearest h = {0}\\nn-neighbors = {1}; weights = {2}'\n",
    "    plot_path = os.path.join(exp_path, 'K-nearest-regressor')\n",
    "    plot_fitting(history, plot_path, horizont=horizont, title=title_string)\n",
    "    # write history\n",
    "    df_history = pd.DataFrame(history)\n",
    "    print(df_history.shape[0])\n",
    "        \n",
    "    "
   ]
  },
  {
   "cell_type": "code",
   "execution_count": 131,
   "metadata": {},
   "outputs": [
    {
     "data": {
      "text/plain": [
       "'/Users/tmorales/tmp/experiments/NREL/Offshore_WA_OR/turbine_25915'"
      ]
     },
     "execution_count": 131,
     "metadata": {},
     "output_type": "execute_result"
    }
   ],
   "source": [
    " \n",
    "    "
   ]
  },
  {
   "cell_type": "code",
   "execution_count": null,
   "metadata": {
    "collapsed": true
   },
   "outputs": [],
   "source": [
    " "
   ]
  },
  {
   "cell_type": "code",
   "execution_count": null,
   "metadata": {
    "collapsed": true
   },
   "outputs": [],
   "source": []
  }
 ],
 "metadata": {
  "kernelspec": {
   "display_name": "Python 3.5 + TensorFlow 1.0",
   "language": "python",
   "name": "p3tf1"
  },
  "language_info": {
   "codemirror_mode": {
    "name": "ipython",
    "version": 3
   },
   "file_extension": ".py",
   "mimetype": "text/x-python",
   "name": "python",
   "nbconvert_exporter": "python",
   "pygments_lexer": "ipython3",
   "version": "3.5.3"
  }
 },
 "nbformat": 4,
 "nbformat_minor": 2
}
