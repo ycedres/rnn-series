{
 "cells": [
  {
   "cell_type": "markdown",
   "metadata": {},
   "source": [
    "# NREL - Offshore WA OR - turbine: 25915\n",
    "\n",
    "## Predicción: h = 1 / H = 24\n",
    "\n",
    "## Mo Decision Tree Regressor\n",
    "\n",
    "**Parámetros:**\n",
    "\n",
    "* criterion:\n",
    " \n",
    "* splitter:\n",
    "\n",
    "* max_depth:\n",
    "\n",
    "* min_samples_split:\n",
    "\n",
    "* min_samples_leaf:\n",
    "\n",
    "* min_weight_fraction_leaf:\n",
    "\n",
    "* max_features:\n",
    "\n",
    "* random_state:\n",
    "\n",
    "* max_leaf_nodes:\n",
    "\n",
    "* min_impurity_decrease:\n",
    "\n",
    "* min_impurity_split:\n",
    "\n",
    "* presort:"
   ]
  },
  {
   "cell_type": "code",
   "execution_count": 33,
   "metadata": {
    "collapsed": true
   },
   "outputs": [],
   "source": [
    "%matplotlib inline\n",
    "import os\n",
    "import sys\n",
    "import glob\n",
    "import numpy as np\n",
    "import pandas as pd\n",
    "import matplotlib.pyplot as plt\n",
    "plt.style.use('ggplot')\n",
    "\n",
    "# import RenewAI\n",
    "sys.path.append('/Users/tmorales/tmp/RNN-windPower/src')\n",
    "from pre_process.split_ml_ts import dataframe_split\n",
    "\n",
    "from sklearn.tree import DecisionTreeRegressor\n",
    "from sklearn.metrics.regression import mean_absolute_error\n",
    "from sklearn.metrics.regression import mean_squared_error\n",
    "from sklearn.externals import joblib"
   ]
  },
  {
   "cell_type": "code",
   "execution_count": 3,
   "metadata": {
    "collapsed": true
   },
   "outputs": [],
   "source": [
    "exp_path = '/Users/tmorales/tmp/experiments/NREL/Offshore_WA_OR/turbine_25915'\n",
    "experiment_name = 'nn-fully-connect-one-hidden'\n",
    "directory = os.path.join(exp_path, experiment_name)\n",
    "if not os.path.exists(directory):\n",
    "    os.makedirs(directory)"
   ]
  },
  {
   "cell_type": "markdown",
   "metadata": {},
   "source": [
    "## Load file"
   ]
  },
  {
   "cell_type": "code",
   "execution_count": 4,
   "metadata": {
    "collapsed": true
   },
   "outputs": [],
   "source": [
    "path = '/Users/tmorales/tmp/RNN-windPower/database/wind_farms/Offshore_WA_OR/Offshore_WA_OR_features'"
   ]
  },
  {
   "cell_type": "code",
   "execution_count": 5,
   "metadata": {},
   "outputs": [
    {
     "data": {
      "text/plain": [
       "['Offshore_WA_OR_features_h_01.csv',\n",
       " 'Offshore_WA_OR_features_h_02.csv',\n",
       " 'Offshore_WA_OR_features_h_03.csv',\n",
       " 'Offshore_WA_OR_features_h_04.csv',\n",
       " 'Offshore_WA_OR_features_h_05.csv',\n",
       " 'Offshore_WA_OR_features_h_06.csv',\n",
       " 'Offshore_WA_OR_features_h_07.csv',\n",
       " 'Offshore_WA_OR_features_h_08.csv',\n",
       " 'Offshore_WA_OR_features_h_09.csv',\n",
       " 'Offshore_WA_OR_features_h_10.csv',\n",
       " 'Offshore_WA_OR_features_h_11.csv',\n",
       " 'Offshore_WA_OR_features_h_12.csv',\n",
       " 'Offshore_WA_OR_features_h_13.csv',\n",
       " 'Offshore_WA_OR_features_h_14.csv',\n",
       " 'Offshore_WA_OR_features_h_15.csv',\n",
       " 'Offshore_WA_OR_features_h_16.csv',\n",
       " 'Offshore_WA_OR_features_h_17.csv',\n",
       " 'Offshore_WA_OR_features_h_18.csv',\n",
       " 'Offshore_WA_OR_features_h_19.csv',\n",
       " 'Offshore_WA_OR_features_h_20.csv',\n",
       " 'Offshore_WA_OR_features_h_21.csv',\n",
       " 'Offshore_WA_OR_features_h_22.csv',\n",
       " 'Offshore_WA_OR_features_h_23.csv',\n",
       " 'Offshore_WA_OR_features_h_24.csv']"
      ]
     },
     "execution_count": 5,
     "metadata": {},
     "output_type": "execute_result"
    }
   ],
   "source": [
    "os.chdir(path)\n",
    "files = [file for file in glob.glob('Offshore_WA_OR_features_*.csv')]\n",
    "files"
   ]
  },
  {
   "cell_type": "markdown",
   "metadata": {},
   "source": [
    "## Paso 1: only one h-step"
   ]
  },
  {
   "cell_type": "code",
   "execution_count": 6,
   "metadata": {
    "collapsed": true
   },
   "outputs": [],
   "source": [
    "h1 = files[0]"
   ]
  },
  {
   "cell_type": "code",
   "execution_count": 30,
   "metadata": {
    "collapsed": true
   },
   "outputs": [],
   "source": [
    "# create directory for each horizont (each horizon is a regressor)\n",
    "horizont = 1\n",
    "directory_by_horizont = os.path.join(exp_path, \n",
    "                                     'decision_tree_regressor',\n",
    "                                     'model_saved_h={0:03d}'.format(horizont))\n",
    "if not os.path.exists(directory_by_horizont):\n",
    "    os.makedirs(directory_by_horizont)"
   ]
  },
  {
   "cell_type": "code",
   "execution_count": 7,
   "metadata": {
    "collapsed": true
   },
   "outputs": [],
   "source": [
    "# create directory for each horizont (each horizon is a regressor)\n",
    "horizont = 1\n",
    "directory_by_horizont = os.path.join(exp_path, \n",
    "                                     experiment_name,\n",
    "                                     'model_saved_h={0:03d}'.format(horizont))\n",
    "if not os.path.exists(directory_by_horizont):\n",
    "    os.makedirs(directory_by_horizont)"
   ]
  },
  {
   "cell_type": "code",
   "execution_count": 8,
   "metadata": {},
   "outputs": [
    {
     "data": {
      "text/html": [
       "<div>\n",
       "<style>\n",
       "    .dataframe thead tr:only-child th {\n",
       "        text-align: right;\n",
       "    }\n",
       "\n",
       "    .dataframe thead th {\n",
       "        text-align: left;\n",
       "    }\n",
       "\n",
       "    .dataframe tbody tr th {\n",
       "        vertical-align: top;\n",
       "    }\n",
       "</style>\n",
       "<table border=\"1\" class=\"dataframe\">\n",
       "  <thead>\n",
       "    <tr style=\"text-align: right;\">\n",
       "      <th></th>\n",
       "      <th>f_0</th>\n",
       "      <th>f_1</th>\n",
       "      <th>f_2</th>\n",
       "      <th>f_3</th>\n",
       "      <th>f_4</th>\n",
       "      <th>f_5</th>\n",
       "      <th>target_h1</th>\n",
       "    </tr>\n",
       "    <tr>\n",
       "      <th>target_date</th>\n",
       "      <th></th>\n",
       "      <th></th>\n",
       "      <th></th>\n",
       "      <th></th>\n",
       "      <th></th>\n",
       "      <th></th>\n",
       "      <th></th>\n",
       "    </tr>\n",
       "  </thead>\n",
       "  <tbody>\n",
       "    <tr>\n",
       "      <th>2004-01-01 06:00:00</th>\n",
       "      <td>6.96</td>\n",
       "      <td>5.28</td>\n",
       "      <td>5.32</td>\n",
       "      <td>4.93</td>\n",
       "      <td>4.05</td>\n",
       "      <td>3.95</td>\n",
       "      <td>4.19</td>\n",
       "    </tr>\n",
       "    <tr>\n",
       "      <th>2004-01-01 07:00:00</th>\n",
       "      <td>5.28</td>\n",
       "      <td>5.32</td>\n",
       "      <td>4.93</td>\n",
       "      <td>4.05</td>\n",
       "      <td>3.95</td>\n",
       "      <td>4.19</td>\n",
       "      <td>4.89</td>\n",
       "    </tr>\n",
       "    <tr>\n",
       "      <th>2004-01-01 08:00:00</th>\n",
       "      <td>5.32</td>\n",
       "      <td>4.93</td>\n",
       "      <td>4.05</td>\n",
       "      <td>3.95</td>\n",
       "      <td>4.19</td>\n",
       "      <td>4.89</td>\n",
       "      <td>5.16</td>\n",
       "    </tr>\n",
       "    <tr>\n",
       "      <th>2004-01-01 09:00:00</th>\n",
       "      <td>4.93</td>\n",
       "      <td>4.05</td>\n",
       "      <td>3.95</td>\n",
       "      <td>4.19</td>\n",
       "      <td>4.89</td>\n",
       "      <td>5.16</td>\n",
       "      <td>5.01</td>\n",
       "    </tr>\n",
       "  </tbody>\n",
       "</table>\n",
       "</div>"
      ],
      "text/plain": [
       "                      f_0   f_1   f_2   f_3   f_4   f_5  target_h1\n",
       "target_date                                                       \n",
       "2004-01-01 06:00:00  6.96  5.28  5.32  4.93  4.05  3.95       4.19\n",
       "2004-01-01 07:00:00  5.28  5.32  4.93  4.05  3.95  4.19       4.89\n",
       "2004-01-01 08:00:00  5.32  4.93  4.05  3.95  4.19  4.89       5.16\n",
       "2004-01-01 09:00:00  4.93  4.05  3.95  4.19  4.89  5.16       5.01"
      ]
     },
     "execution_count": 8,
     "metadata": {},
     "output_type": "execute_result"
    }
   ],
   "source": [
    "# load file\n",
    "df_h1 = pd.read_csv(files[0], delimiter=';', index_col=0)\n",
    "df_h1.head(4)"
   ]
  },
  {
   "cell_type": "code",
   "execution_count": 9,
   "metadata": {
    "collapsed": true
   },
   "outputs": [],
   "source": [
    "# select the best model for h=1\n",
    "\n",
    "# split the dataset in train, val and test\n",
    "data = dataframe_split(df_h1)\n",
    "train_set = data['train_set']\n",
    "validation_set = data['validation_set']\n",
    "test_set = data['test_set']"
   ]
  },
  {
   "cell_type": "code",
   "execution_count": 10,
   "metadata": {
    "collapsed": true
   },
   "outputs": [],
   "source": [
    "# features and target columns\n",
    "features_columns = train_set.columns[1:-1]\n",
    "target_column = train_set.columns[-1:]"
   ]
  },
  {
   "cell_type": "code",
   "execution_count": 21,
   "metadata": {
    "collapsed": true
   },
   "outputs": [],
   "source": [
    "# select the values of features and target columns.\n",
    "features_train_set = train_set[features_columns]\n",
    "target_train_set = train_set[target_column]\n",
    "features_validation_set = validation_set[features_columns]\n",
    "target_validation_set = validation_set[target_column]\n",
    "features_test_set = test_set[features_columns]\n",
    "target_test_set = test_set[target_column]"
   ]
  },
  {
   "cell_type": "code",
   "execution_count": 12,
   "metadata": {},
   "outputs": [
    {
     "name": "stdout",
     "output_type": "stream",
     "text": [
      "features columns: Index(['f_1', 'f_2', 'f_3', 'f_4', 'f_5'], dtype='object')\n",
      "target column: Index(['target_h1'], dtype='object')\n"
     ]
    }
   ],
   "source": [
    "print('features columns: {0}'.format(features_columns))\n",
    "print('target column: {0}'.format(target_column))"
   ]
  },
  {
   "cell_type": "code",
   "execution_count": 13,
   "metadata": {
    "collapsed": true
   },
   "outputs": [],
   "source": [
    "x_train = features_train_set.values; y_train = target_train_set.values\n",
    "x_val = features_validation_set.values; y_val = target_validation_set.values"
   ]
  },
  {
   "cell_type": "markdown",
   "metadata": {},
   "source": [
    "## Paso 2: Model defenition"
   ]
  },
  {
   "cell_type": "code",
   "execution_count": 34,
   "metadata": {},
   "outputs": [
    {
     "name": "stdout",
     "output_type": "stream",
     "text": [
      "*** Max depth: 2\n",
      "*** Max depth: 4\n",
      "*** Max depth: 6\n",
      "*** Max depth: 8\n",
      "*** Max depth: 10\n",
      "*** Max depth: 12\n",
      "*** Max depth: 14\n",
      "*** Max depth: 16\n",
      "*** Max depth: 18\n",
      "*** Max depth: 20\n",
      "*** Max depth: 22\n",
      "*** Max depth: 24\n",
      "*** Max depth: 26\n",
      "*** Max depth: 28\n",
      "*** Max depth: 30\n",
      "*** Max depth: 32\n",
      "*** Max depth: 34\n",
      "*** Max depth: 36\n",
      "*** Max depth: 38\n"
     ]
    }
   ],
   "source": [
    "# select best model\n",
    "max_depth = 40\n",
    "\n",
    "history = {} # dictionary with all metrics\n",
    "mse = [] ; val_mse = [] # mean squared error\n",
    "max_depth_range = range(2, max_depth, 2 )\n",
    "\n",
    "for m_depth in max_depth_range:\n",
    "    print('*** Max depth: {0}'.format(m_depth))\n",
    "    # - model parameters\n",
    "    dtr = DecisionTreeRegressor(\n",
    "        criterion=\"mse\",\n",
    "        splitter=\"best\",\n",
    "        max_depth=m_depth,\n",
    "        min_samples_split=2,\n",
    "        min_samples_leaf=1)\n",
    "    # - fit the data \n",
    "    dtr = dtr.fit(x_train, y_train)\n",
    "    # - save del model\n",
    "    path_model_saved = os.path.join(directory_by_horizont, \n",
    "                                    'decision_tree_{0:03d}'.format(m_depth))\n",
    "    joblib.dump(dtr, path_model_saved)\n",
    "    # - overfitting: evaluate train and validation set on the fitted model. \n",
    "    y_train_eval = dtr.predict(x_train)\n",
    "    y_val_eval = dtr.predict(x_val)\n",
    "    # - metric calculation\n",
    "    mse_train = mean_squared_error(y_train, y_train_eval)\n",
    "    mse_validation = mean_absolute_error(y_val, y_val_eval)\n",
    "    # for each depp confoguration save the metrics inside a list \n",
    "    mse.append(mse_train); val_mse.append(mse_validation)\n",
    "\n",
    "history['mse'] = mse\n",
    "history['val_mse'] = val_mse"
   ]
  },
  {
   "cell_type": "code",
   "execution_count": 15,
   "metadata": {},
   "outputs": [
    {
     "data": {
      "text/plain": [
       "<matplotlib.legend.Legend at 0x1114b53c8>"
      ]
     },
     "execution_count": 15,
     "metadata": {},
     "output_type": "execute_result"
    },
    {
     "data": {
      "image/png": "[encoded data removed]",
      "text/plain": [
       "<matplotlib.figure.Figure at 0x1068a3dd8>"
      ]
     },
     "metadata": {},
     "output_type": "display_data"
    }
   ],
   "source": [
    "f = plt.figure(figsize=(15, 5))\n",
    "plt.plot(max_depth_range, history['mse'], lw=2, label='train')\n",
    "plt.plot(max_depth_range, history['val_mse'], lw=2, label='val')\n",
    "plt.legend()"
   ]
  },
  {
   "cell_type": "markdown",
   "metadata": {
    "collapsed": true
   },
   "source": [
    "## Paso 3: Prediction"
   ]
  },
  {
   "cell_type": "code",
   "execution_count": 24,
   "metadata": {},
   "outputs": [
    {
     "data": {
      "text/plain": [
       "(5260, 5, 1)"
      ]
     },
     "execution_count": 24,
     "metadata": {},
     "output_type": "execute_result"
    }
   ],
   "source": [
    "x_test = features_test_set.values.astype('float32')\n",
    "x_test_lstm = np.reshape(x_test, (x_test.shape[0], x_test.shape[1], 1))\n",
    "x_test_lstm.shape"
   ]
  },
  {
   "cell_type": "code",
   "execution_count": 37,
   "metadata": {},
   "outputs": [
    {
     "data": {
      "text/plain": [
       "DecisionTreeRegressor(criterion='mse', max_depth=8, max_features=None,\n",
       "           max_leaf_nodes=None, min_impurity_decrease=0.0,\n",
       "           min_impurity_split=None, min_samples_leaf=1,\n",
       "           min_samples_split=2, min_weight_fraction_leaf=0.0,\n",
       "           presort=False, random_state=None, splitter='best')"
      ]
     },
     "execution_count": 37,
     "metadata": {},
     "output_type": "execute_result"
    }
   ],
   "source": [
    "best_model = os.path.join(directory_by_horizont, 'decision_tree_008')\n",
    "model = joblib.load(best_model)\n",
    "model"
   ]
  },
  {
   "cell_type": "code",
   "execution_count": 39,
   "metadata": {
    "collapsed": true
   },
   "outputs": [],
   "source": [
    "predicted = model.predict(x_test)"
   ]
  },
  {
   "cell_type": "code",
   "execution_count": 40,
   "metadata": {},
   "outputs": [
    {
     "data": {
      "text/html": [
       "<div>\n",
       "<style>\n",
       "    .dataframe thead tr:only-child th {\n",
       "        text-align: right;\n",
       "    }\n",
       "\n",
       "    .dataframe thead th {\n",
       "        text-align: left;\n",
       "    }\n",
       "\n",
       "    .dataframe tbody tr th {\n",
       "        vertical-align: top;\n",
       "    }\n",
       "</style>\n",
       "<table border=\"1\" class=\"dataframe\">\n",
       "  <thead>\n",
       "    <tr style=\"text-align: right;\">\n",
       "      <th></th>\n",
       "      <th>f_0</th>\n",
       "      <th>f_1</th>\n",
       "      <th>f_2</th>\n",
       "      <th>f_3</th>\n",
       "      <th>f_4</th>\n",
       "      <th>f_5</th>\n",
       "      <th>target_h1</th>\n",
       "    </tr>\n",
       "    <tr>\n",
       "      <th>target_date</th>\n",
       "      <th></th>\n",
       "      <th></th>\n",
       "      <th></th>\n",
       "      <th></th>\n",
       "      <th></th>\n",
       "      <th></th>\n",
       "      <th></th>\n",
       "    </tr>\n",
       "  </thead>\n",
       "  <tbody>\n",
       "    <tr>\n",
       "      <th>2006-05-26 20:00:00</th>\n",
       "      <td>5.30</td>\n",
       "      <td>5.19</td>\n",
       "      <td>5.24</td>\n",
       "      <td>5.27</td>\n",
       "      <td>4.45</td>\n",
       "      <td>3.92</td>\n",
       "      <td>4.19</td>\n",
       "    </tr>\n",
       "    <tr>\n",
       "      <th>2006-05-26 21:00:00</th>\n",
       "      <td>5.19</td>\n",
       "      <td>5.24</td>\n",
       "      <td>5.27</td>\n",
       "      <td>4.45</td>\n",
       "      <td>3.92</td>\n",
       "      <td>4.19</td>\n",
       "      <td>4.60</td>\n",
       "    </tr>\n",
       "    <tr>\n",
       "      <th>2006-05-26 22:00:00</th>\n",
       "      <td>5.24</td>\n",
       "      <td>5.27</td>\n",
       "      <td>4.45</td>\n",
       "      <td>3.92</td>\n",
       "      <td>4.19</td>\n",
       "      <td>4.60</td>\n",
       "      <td>5.34</td>\n",
       "    </tr>\n",
       "    <tr>\n",
       "      <th>2006-05-26 23:00:00</th>\n",
       "      <td>5.27</td>\n",
       "      <td>4.45</td>\n",
       "      <td>3.92</td>\n",
       "      <td>4.19</td>\n",
       "      <td>4.60</td>\n",
       "      <td>5.34</td>\n",
       "      <td>4.70</td>\n",
       "    </tr>\n",
       "    <tr>\n",
       "      <th>2006-05-27 00:00:00</th>\n",
       "      <td>4.45</td>\n",
       "      <td>3.92</td>\n",
       "      <td>4.19</td>\n",
       "      <td>4.60</td>\n",
       "      <td>5.34</td>\n",
       "      <td>4.70</td>\n",
       "      <td>3.00</td>\n",
       "    </tr>\n",
       "  </tbody>\n",
       "</table>\n",
       "</div>"
      ],
      "text/plain": [
       "                      f_0   f_1   f_2   f_3   f_4   f_5  target_h1\n",
       "target_date                                                       \n",
       "2006-05-26 20:00:00  5.30  5.19  5.24  5.27  4.45  3.92       4.19\n",
       "2006-05-26 21:00:00  5.19  5.24  5.27  4.45  3.92  4.19       4.60\n",
       "2006-05-26 22:00:00  5.24  5.27  4.45  3.92  4.19  4.60       5.34\n",
       "2006-05-26 23:00:00  5.27  4.45  3.92  4.19  4.60  5.34       4.70\n",
       "2006-05-27 00:00:00  4.45  3.92  4.19  4.60  5.34  4.70       3.00"
      ]
     },
     "execution_count": 40,
     "metadata": {},
     "output_type": "execute_result"
    }
   ],
   "source": [
    "df_prediction = test_set.copy()\n",
    "df_prediction.head()"
   ]
  },
  {
   "cell_type": "code",
   "execution_count": 41,
   "metadata": {},
   "outputs": [
    {
     "data": {
      "text/html": [
       "<div>\n",
       "<style>\n",
       "    .dataframe thead tr:only-child th {\n",
       "        text-align: right;\n",
       "    }\n",
       "\n",
       "    .dataframe thead th {\n",
       "        text-align: left;\n",
       "    }\n",
       "\n",
       "    .dataframe tbody tr th {\n",
       "        vertical-align: top;\n",
       "    }\n",
       "</style>\n",
       "<table border=\"1\" class=\"dataframe\">\n",
       "  <thead>\n",
       "    <tr style=\"text-align: right;\">\n",
       "      <th></th>\n",
       "      <th>f_0</th>\n",
       "      <th>f_1</th>\n",
       "      <th>f_2</th>\n",
       "      <th>f_3</th>\n",
       "      <th>f_4</th>\n",
       "      <th>f_5</th>\n",
       "      <th>target_h1</th>\n",
       "      <th>target_predicted</th>\n",
       "    </tr>\n",
       "    <tr>\n",
       "      <th>target_date</th>\n",
       "      <th></th>\n",
       "      <th></th>\n",
       "      <th></th>\n",
       "      <th></th>\n",
       "      <th></th>\n",
       "      <th></th>\n",
       "      <th></th>\n",
       "      <th></th>\n",
       "    </tr>\n",
       "  </thead>\n",
       "  <tbody>\n",
       "    <tr>\n",
       "      <th>2006-05-26 20:00:00</th>\n",
       "      <td>5.30</td>\n",
       "      <td>5.19</td>\n",
       "      <td>5.24</td>\n",
       "      <td>5.27</td>\n",
       "      <td>4.45</td>\n",
       "      <td>3.92</td>\n",
       "      <td>4.19</td>\n",
       "      <td>3.666258</td>\n",
       "    </tr>\n",
       "    <tr>\n",
       "      <th>2006-05-26 21:00:00</th>\n",
       "      <td>5.19</td>\n",
       "      <td>5.24</td>\n",
       "      <td>5.27</td>\n",
       "      <td>4.45</td>\n",
       "      <td>3.92</td>\n",
       "      <td>4.19</td>\n",
       "      <td>4.60</td>\n",
       "      <td>4.617167</td>\n",
       "    </tr>\n",
       "    <tr>\n",
       "      <th>2006-05-26 22:00:00</th>\n",
       "      <td>5.24</td>\n",
       "      <td>5.27</td>\n",
       "      <td>4.45</td>\n",
       "      <td>3.92</td>\n",
       "      <td>4.19</td>\n",
       "      <td>4.60</td>\n",
       "      <td>5.34</td>\n",
       "      <td>4.553725</td>\n",
       "    </tr>\n",
       "    <tr>\n",
       "      <th>2006-05-26 23:00:00</th>\n",
       "      <td>5.27</td>\n",
       "      <td>4.45</td>\n",
       "      <td>3.92</td>\n",
       "      <td>4.19</td>\n",
       "      <td>4.60</td>\n",
       "      <td>5.34</td>\n",
       "      <td>4.70</td>\n",
       "      <td>5.687908</td>\n",
       "    </tr>\n",
       "    <tr>\n",
       "      <th>2006-05-27 00:00:00</th>\n",
       "      <td>4.45</td>\n",
       "      <td>3.92</td>\n",
       "      <td>4.19</td>\n",
       "      <td>4.60</td>\n",
       "      <td>5.34</td>\n",
       "      <td>4.70</td>\n",
       "      <td>3.00</td>\n",
       "      <td>4.553725</td>\n",
       "    </tr>\n",
       "  </tbody>\n",
       "</table>\n",
       "</div>"
      ],
      "text/plain": [
       "                      f_0   f_1   f_2   f_3   f_4   f_5  target_h1  \\\n",
       "target_date                                                          \n",
       "2006-05-26 20:00:00  5.30  5.19  5.24  5.27  4.45  3.92       4.19   \n",
       "2006-05-26 21:00:00  5.19  5.24  5.27  4.45  3.92  4.19       4.60   \n",
       "2006-05-26 22:00:00  5.24  5.27  4.45  3.92  4.19  4.60       5.34   \n",
       "2006-05-26 23:00:00  5.27  4.45  3.92  4.19  4.60  5.34       4.70   \n",
       "2006-05-27 00:00:00  4.45  3.92  4.19  4.60  5.34  4.70       3.00   \n",
       "\n",
       "                     target_predicted  \n",
       "target_date                            \n",
       "2006-05-26 20:00:00          3.666258  \n",
       "2006-05-26 21:00:00          4.617167  \n",
       "2006-05-26 22:00:00          4.553725  \n",
       "2006-05-26 23:00:00          5.687908  \n",
       "2006-05-27 00:00:00          4.553725  "
      ]
     },
     "execution_count": 41,
     "metadata": {},
     "output_type": "execute_result"
    }
   ],
   "source": [
    "df_prediction['target_predicted'] = predicted\n",
    "df_prediction.head()"
   ]
  },
  {
   "cell_type": "code",
   "execution_count": 42,
   "metadata": {
    "collapsed": true
   },
   "outputs": [],
   "source": [
    "# save test dataframe (df_prediction)\n",
    "filename =  os.path.join(directory_by_horizont, experiment_name)\n",
    "df_prediction.to_csv('{0}.csv'.format(filename))"
   ]
  },
  {
   "cell_type": "code",
   "execution_count": 43,
   "metadata": {},
   "outputs": [
    {
     "data": {
      "text/plain": [
       "<matplotlib.axes._subplots.AxesSubplot at 0x1116b1550>"
      ]
     },
     "execution_count": 43,
     "metadata": {},
     "output_type": "execute_result"
    },
    {
     "data": {
      "image/png": "[encoded data removed]",
      "text/plain": [
       "<matplotlib.figure.Figure at 0x111699160>"
      ]
     },
     "metadata": {},
     "output_type": "display_data"
    }
   ],
   "source": [
    "#title='LSTM-10-unit_hidden-5'\n",
    "title='Decision Tree Regressor'\n",
    "\n",
    "f, ax = plt.subplots(1,1,figsize=(10,10))\n",
    "x_min = df_prediction.target_h1.min() \n",
    "x_max = df_prediction.target_h1.max()\n",
    "y_min = df_prediction.target_predicted.min()\n",
    "y_max = df_prediction.target_predicted.max()\n",
    "ax.set_title(title)\n",
    "# line\n",
    "ax.set_xlim(x_min+1, x_max+1)\n",
    "ax.set_ylim(x_min+1, x_max+1)\n",
    "ax.plot((x_min, x_max), (x_min, x_max), lw=3, c='r')\n",
    "# scatter\n",
    "df_prediction.plot(ax=ax,\n",
    "                   x='target_h1',\n",
    "                   y='target_predicted',\n",
    "                   kind='scatter',\n",
    "                  )"
   ]
  },
  {
   "cell_type": "code",
   "execution_count": 44,
   "metadata": {},
   "outputs": [
    {
     "data": {
      "text/plain": [
       "<matplotlib.axes._subplots.AxesSubplot at 0x112837940>"
      ]
     },
     "execution_count": 44,
     "metadata": {},
     "output_type": "execute_result"
    },
    {
     "data": {
      "image/png": "[encoded data removed]",
      "text/plain": [
       "<matplotlib.figure.Figure at 0x112aa1390>"
      ]
     },
     "metadata": {},
     "output_type": "display_data"
    }
   ],
   "source": [
    "df_prediction.iloc[:,-2:].plot(figsize=(15,5))"
   ]
  },
  {
   "cell_type": "code",
   "execution_count": 45,
   "metadata": {
    "scrolled": true
   },
   "outputs": [
    {
     "data": {
      "text/html": [
       "<div>\n",
       "<style>\n",
       "    .dataframe thead tr:only-child th {\n",
       "        text-align: right;\n",
       "    }\n",
       "\n",
       "    .dataframe thead th {\n",
       "        text-align: left;\n",
       "    }\n",
       "\n",
       "    .dataframe tbody tr th {\n",
       "        vertical-align: top;\n",
       "    }\n",
       "</style>\n",
       "<table border=\"1\" class=\"dataframe\">\n",
       "  <thead>\n",
       "    <tr style=\"text-align: right;\">\n",
       "      <th></th>\n",
       "      <th>f_0</th>\n",
       "      <th>f_1</th>\n",
       "      <th>f_2</th>\n",
       "      <th>f_3</th>\n",
       "      <th>f_4</th>\n",
       "      <th>f_5</th>\n",
       "      <th>target_h1</th>\n",
       "      <th>target_predicted</th>\n",
       "    </tr>\n",
       "    <tr>\n",
       "      <th>target_date</th>\n",
       "      <th></th>\n",
       "      <th></th>\n",
       "      <th></th>\n",
       "      <th></th>\n",
       "      <th></th>\n",
       "      <th></th>\n",
       "      <th></th>\n",
       "      <th></th>\n",
       "    </tr>\n",
       "  </thead>\n",
       "  <tbody>\n",
       "    <tr>\n",
       "      <th>2006-05-26 20:00:00</th>\n",
       "      <td>5.30</td>\n",
       "      <td>5.19</td>\n",
       "      <td>5.24</td>\n",
       "      <td>5.27</td>\n",
       "      <td>4.45</td>\n",
       "      <td>3.92</td>\n",
       "      <td>4.19</td>\n",
       "      <td>3.666258</td>\n",
       "    </tr>\n",
       "    <tr>\n",
       "      <th>2006-05-26 21:00:00</th>\n",
       "      <td>5.19</td>\n",
       "      <td>5.24</td>\n",
       "      <td>5.27</td>\n",
       "      <td>4.45</td>\n",
       "      <td>3.92</td>\n",
       "      <td>4.19</td>\n",
       "      <td>4.60</td>\n",
       "      <td>4.617167</td>\n",
       "    </tr>\n",
       "    <tr>\n",
       "      <th>2006-05-26 22:00:00</th>\n",
       "      <td>5.24</td>\n",
       "      <td>5.27</td>\n",
       "      <td>4.45</td>\n",
       "      <td>3.92</td>\n",
       "      <td>4.19</td>\n",
       "      <td>4.60</td>\n",
       "      <td>5.34</td>\n",
       "      <td>4.553725</td>\n",
       "    </tr>\n",
       "    <tr>\n",
       "      <th>2006-05-26 23:00:00</th>\n",
       "      <td>5.27</td>\n",
       "      <td>4.45</td>\n",
       "      <td>3.92</td>\n",
       "      <td>4.19</td>\n",
       "      <td>4.60</td>\n",
       "      <td>5.34</td>\n",
       "      <td>4.70</td>\n",
       "      <td>5.687908</td>\n",
       "    </tr>\n",
       "    <tr>\n",
       "      <th>2006-05-27 00:00:00</th>\n",
       "      <td>4.45</td>\n",
       "      <td>3.92</td>\n",
       "      <td>4.19</td>\n",
       "      <td>4.60</td>\n",
       "      <td>5.34</td>\n",
       "      <td>4.70</td>\n",
       "      <td>3.00</td>\n",
       "      <td>4.553725</td>\n",
       "    </tr>\n",
       "  </tbody>\n",
       "</table>\n",
       "</div>"
      ],
      "text/plain": [
       "                      f_0   f_1   f_2   f_3   f_4   f_5  target_h1  \\\n",
       "target_date                                                          \n",
       "2006-05-26 20:00:00  5.30  5.19  5.24  5.27  4.45  3.92       4.19   \n",
       "2006-05-26 21:00:00  5.19  5.24  5.27  4.45  3.92  4.19       4.60   \n",
       "2006-05-26 22:00:00  5.24  5.27  4.45  3.92  4.19  4.60       5.34   \n",
       "2006-05-26 23:00:00  5.27  4.45  3.92  4.19  4.60  5.34       4.70   \n",
       "2006-05-27 00:00:00  4.45  3.92  4.19  4.60  5.34  4.70       3.00   \n",
       "\n",
       "                     target_predicted  \n",
       "target_date                            \n",
       "2006-05-26 20:00:00          3.666258  \n",
       "2006-05-26 21:00:00          4.617167  \n",
       "2006-05-26 22:00:00          4.553725  \n",
       "2006-05-26 23:00:00          5.687908  \n",
       "2006-05-27 00:00:00          4.553725  "
      ]
     },
     "execution_count": 45,
     "metadata": {},
     "output_type": "execute_result"
    }
   ],
   "source": [
    "df_prediction.head()"
   ]
  },
  {
   "cell_type": "code",
   "execution_count": 46,
   "metadata": {
    "collapsed": true
   },
   "outputs": [],
   "source": [
    "df_prediction['mse_h1'] = np.power(df_prediction.target_h1 -\n",
    "                                   df_prediction.target_predicted, 2)"
   ]
  },
  {
   "cell_type": "code",
   "execution_count": 47,
   "metadata": {
    "collapsed": true
   },
   "outputs": [],
   "source": [
    "df_prediction['mae_h1'] = np.abs(df_prediction.target_h1 - \n",
    "                                 df_prediction.target_predicted)"
   ]
  },
  {
   "cell_type": "code",
   "execution_count": 48,
   "metadata": {},
   "outputs": [
    {
     "data": {
      "text/html": [
       "<div>\n",
       "<style>\n",
       "    .dataframe thead tr:only-child th {\n",
       "        text-align: right;\n",
       "    }\n",
       "\n",
       "    .dataframe thead th {\n",
       "        text-align: left;\n",
       "    }\n",
       "\n",
       "    .dataframe tbody tr th {\n",
       "        vertical-align: top;\n",
       "    }\n",
       "</style>\n",
       "<table border=\"1\" class=\"dataframe\">\n",
       "  <thead>\n",
       "    <tr style=\"text-align: right;\">\n",
       "      <th></th>\n",
       "      <th>f_0</th>\n",
       "      <th>f_1</th>\n",
       "      <th>f_2</th>\n",
       "      <th>f_3</th>\n",
       "      <th>f_4</th>\n",
       "      <th>f_5</th>\n",
       "      <th>target_h1</th>\n",
       "      <th>target_predicted</th>\n",
       "      <th>mse_h1</th>\n",
       "      <th>mae_h1</th>\n",
       "    </tr>\n",
       "    <tr>\n",
       "      <th>target_date</th>\n",
       "      <th></th>\n",
       "      <th></th>\n",
       "      <th></th>\n",
       "      <th></th>\n",
       "      <th></th>\n",
       "      <th></th>\n",
       "      <th></th>\n",
       "      <th></th>\n",
       "      <th></th>\n",
       "      <th></th>\n",
       "    </tr>\n",
       "  </thead>\n",
       "  <tbody>\n",
       "    <tr>\n",
       "      <th>2006-05-26 20:00:00</th>\n",
       "      <td>5.30</td>\n",
       "      <td>5.19</td>\n",
       "      <td>5.24</td>\n",
       "      <td>5.27</td>\n",
       "      <td>4.45</td>\n",
       "      <td>3.92</td>\n",
       "      <td>4.19</td>\n",
       "      <td>3.666258</td>\n",
       "      <td>0.274306</td>\n",
       "      <td>0.523742</td>\n",
       "    </tr>\n",
       "    <tr>\n",
       "      <th>2006-05-26 21:00:00</th>\n",
       "      <td>5.19</td>\n",
       "      <td>5.24</td>\n",
       "      <td>5.27</td>\n",
       "      <td>4.45</td>\n",
       "      <td>3.92</td>\n",
       "      <td>4.19</td>\n",
       "      <td>4.60</td>\n",
       "      <td>4.617167</td>\n",
       "      <td>0.000295</td>\n",
       "      <td>0.017167</td>\n",
       "    </tr>\n",
       "    <tr>\n",
       "      <th>2006-05-26 22:00:00</th>\n",
       "      <td>5.24</td>\n",
       "      <td>5.27</td>\n",
       "      <td>4.45</td>\n",
       "      <td>3.92</td>\n",
       "      <td>4.19</td>\n",
       "      <td>4.60</td>\n",
       "      <td>5.34</td>\n",
       "      <td>4.553725</td>\n",
       "      <td>0.618228</td>\n",
       "      <td>0.786275</td>\n",
       "    </tr>\n",
       "    <tr>\n",
       "      <th>2006-05-26 23:00:00</th>\n",
       "      <td>5.27</td>\n",
       "      <td>4.45</td>\n",
       "      <td>3.92</td>\n",
       "      <td>4.19</td>\n",
       "      <td>4.60</td>\n",
       "      <td>5.34</td>\n",
       "      <td>4.70</td>\n",
       "      <td>5.687908</td>\n",
       "      <td>0.975962</td>\n",
       "      <td>0.987908</td>\n",
       "    </tr>\n",
       "    <tr>\n",
       "      <th>2006-05-27 00:00:00</th>\n",
       "      <td>4.45</td>\n",
       "      <td>3.92</td>\n",
       "      <td>4.19</td>\n",
       "      <td>4.60</td>\n",
       "      <td>5.34</td>\n",
       "      <td>4.70</td>\n",
       "      <td>3.00</td>\n",
       "      <td>4.553725</td>\n",
       "      <td>2.414062</td>\n",
       "      <td>1.553725</td>\n",
       "    </tr>\n",
       "  </tbody>\n",
       "</table>\n",
       "</div>"
      ],
      "text/plain": [
       "                      f_0   f_1   f_2   f_3   f_4   f_5  target_h1  \\\n",
       "target_date                                                          \n",
       "2006-05-26 20:00:00  5.30  5.19  5.24  5.27  4.45  3.92       4.19   \n",
       "2006-05-26 21:00:00  5.19  5.24  5.27  4.45  3.92  4.19       4.60   \n",
       "2006-05-26 22:00:00  5.24  5.27  4.45  3.92  4.19  4.60       5.34   \n",
       "2006-05-26 23:00:00  5.27  4.45  3.92  4.19  4.60  5.34       4.70   \n",
       "2006-05-27 00:00:00  4.45  3.92  4.19  4.60  5.34  4.70       3.00   \n",
       "\n",
       "                     target_predicted    mse_h1    mae_h1  \n",
       "target_date                                                \n",
       "2006-05-26 20:00:00          3.666258  0.274306  0.523742  \n",
       "2006-05-26 21:00:00          4.617167  0.000295  0.017167  \n",
       "2006-05-26 22:00:00          4.553725  0.618228  0.786275  \n",
       "2006-05-26 23:00:00          5.687908  0.975962  0.987908  \n",
       "2006-05-27 00:00:00          4.553725  2.414062  1.553725  "
      ]
     },
     "execution_count": 48,
     "metadata": {},
     "output_type": "execute_result"
    }
   ],
   "source": [
    "# write on disk\n",
    "df_prediction.head()"
   ]
  },
  {
   "cell_type": "code",
   "execution_count": 49,
   "metadata": {},
   "outputs": [
    {
     "data": {
      "text/plain": [
       "1.4185704929134642"
      ]
     },
     "execution_count": 49,
     "metadata": {},
     "output_type": "execute_result"
    }
   ],
   "source": [
    "test_mse = df_prediction.mse_h1.sum() / len(df_prediction.mse_h1)\n",
    "test_mse"
   ]
  },
  {
   "cell_type": "code",
   "execution_count": 50,
   "metadata": {},
   "outputs": [
    {
     "data": {
      "text/plain": [
       "0.626193593491266"
      ]
     },
     "execution_count": 50,
     "metadata": {},
     "output_type": "execute_result"
    }
   ],
   "source": [
    "test_mae = df_prediction.mae_h1.sum() / len(df_prediction.mae_h1)\n",
    "test_mae"
   ]
  },
  {
   "cell_type": "code",
   "execution_count": null,
   "metadata": {
    "collapsed": true
   },
   "outputs": [],
   "source": []
  }
 ],
 "metadata": {
  "kernelspec": {
   "display_name": "Python [default]",
   "language": "python",
   "name": "python3"
  },
  "language_info": {
   "codemirror_mode": {
    "name": "ipython",
    "version": 3
   },
   "file_extension": ".py",
   "mimetype": "text/x-python",
   "name": "python",
   "nbconvert_exporter": "python",
   "pygments_lexer": "ipython3",
   "version": "3.6.0"
  }
 },
 "nbformat": 4,
 "nbformat_minor": 2
}
