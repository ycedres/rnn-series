{
 "cells": [
  {
   "cell_type": "markdown",
   "metadata": {},
   "source": [
    "# Neural Network - LSTM"
   ]
  },
  {
   "cell_type": "code",
   "execution_count": 44,
   "metadata": {
    "collapsed": true
   },
   "outputs": [],
   "source": [
    "%matplotlib inline\n",
    "import os\n",
    "import sys\n",
    "import glob\n",
    "import numpy as np\n",
    "import pandas as pd\n",
    "import matplotlib.pyplot as plt\n",
    "plt.style.use('ggplot')\n",
    "\n",
    "# import RenewAI\n",
    "sys.path.append('/Users/tmorales/tmp/RNN-windPower/src')\n",
    "from pre_process.split_ml_ts import dataframe_split"
   ]
  },
  {
   "cell_type": "code",
   "execution_count": 30,
   "metadata": {
    "collapsed": true
   },
   "outputs": [],
   "source": [
    "exp_path = '/Users/tmorales/tmp/experiments/NREL/Offshore_WA_OR/turbine_25915'\n",
    "experiment_name = 'nn-lstm'\n",
    "directory = os.path.join(exp_path, experiment_name)\n",
    "if not os.path.exists(directory):\n",
    "    os.makedirs(directory)"
   ]
  },
  {
   "cell_type": "markdown",
   "metadata": {},
   "source": [
    "## Load file"
   ]
  },
  {
   "cell_type": "code",
   "execution_count": 31,
   "metadata": {
    "collapsed": true
   },
   "outputs": [],
   "source": [
    "path = '/Users/tmorales/tmp/RNN-windPower/database/wind_farms/Offshore_WA_OR/Offshore_WA_OR_features'"
   ]
  },
  {
   "cell_type": "code",
   "execution_count": 32,
   "metadata": {},
   "outputs": [
    {
     "data": {
      "text/plain": [
       "['Offshore_WA_OR_features_h_01.csv',\n",
       " 'Offshore_WA_OR_features_h_02.csv',\n",
       " 'Offshore_WA_OR_features_h_03.csv',\n",
       " 'Offshore_WA_OR_features_h_04.csv',\n",
       " 'Offshore_WA_OR_features_h_05.csv',\n",
       " 'Offshore_WA_OR_features_h_06.csv',\n",
       " 'Offshore_WA_OR_features_h_07.csv',\n",
       " 'Offshore_WA_OR_features_h_08.csv',\n",
       " 'Offshore_WA_OR_features_h_09.csv',\n",
       " 'Offshore_WA_OR_features_h_10.csv',\n",
       " 'Offshore_WA_OR_features_h_11.csv',\n",
       " 'Offshore_WA_OR_features_h_12.csv',\n",
       " 'Offshore_WA_OR_features_h_13.csv',\n",
       " 'Offshore_WA_OR_features_h_14.csv',\n",
       " 'Offshore_WA_OR_features_h_15.csv',\n",
       " 'Offshore_WA_OR_features_h_16.csv',\n",
       " 'Offshore_WA_OR_features_h_17.csv',\n",
       " 'Offshore_WA_OR_features_h_18.csv',\n",
       " 'Offshore_WA_OR_features_h_19.csv',\n",
       " 'Offshore_WA_OR_features_h_20.csv',\n",
       " 'Offshore_WA_OR_features_h_21.csv',\n",
       " 'Offshore_WA_OR_features_h_22.csv',\n",
       " 'Offshore_WA_OR_features_h_23.csv',\n",
       " 'Offshore_WA_OR_features_h_24.csv']"
      ]
     },
     "execution_count": 32,
     "metadata": {},
     "output_type": "execute_result"
    }
   ],
   "source": [
    "os.chdir(path)\n",
    "files = [file for file in glob.glob('Offshore_WA_OR_features_*.csv')]\n",
    "files"
   ]
  },
  {
   "cell_type": "markdown",
   "metadata": {},
   "source": [
    "## Paso 1: only one h-step"
   ]
  },
  {
   "cell_type": "code",
   "execution_count": 33,
   "metadata": {
    "collapsed": true
   },
   "outputs": [],
   "source": [
    "h1 = files[0]"
   ]
  },
  {
   "cell_type": "code",
   "execution_count": 34,
   "metadata": {
    "collapsed": true
   },
   "outputs": [],
   "source": [
    "# create directory for each horizont (each horizon is a regressor)\n",
    "horizont = 1\n",
    "directory_by_horizont = os.path.join(exp_path, \n",
    "                                     experiment_name,\n",
    "                                     'model_saved_h={0:03d}'.format(horizont))\n",
    "if not os.path.exists(directory_by_horizont):\n",
    "    os.makedirs(directory_by_horizont)"
   ]
  },
  {
   "cell_type": "code",
   "execution_count": 35,
   "metadata": {},
   "outputs": [
    {
     "data": {
      "text/html": [
       "<div>\n",
       "<table border=\"1\" class=\"dataframe\">\n",
       "  <thead>\n",
       "    <tr style=\"text-align: right;\">\n",
       "      <th></th>\n",
       "      <th>f_0</th>\n",
       "      <th>f_1</th>\n",
       "      <th>f_2</th>\n",
       "      <th>f_3</th>\n",
       "      <th>f_4</th>\n",
       "      <th>f_5</th>\n",
       "      <th>target_h1</th>\n",
       "    </tr>\n",
       "    <tr>\n",
       "      <th>target_date</th>\n",
       "      <th></th>\n",
       "      <th></th>\n",
       "      <th></th>\n",
       "      <th></th>\n",
       "      <th></th>\n",
       "      <th></th>\n",
       "      <th></th>\n",
       "    </tr>\n",
       "  </thead>\n",
       "  <tbody>\n",
       "    <tr>\n",
       "      <th>2004-01-01 06:00:00</th>\n",
       "      <td>6.96</td>\n",
       "      <td>5.28</td>\n",
       "      <td>5.32</td>\n",
       "      <td>4.93</td>\n",
       "      <td>4.05</td>\n",
       "      <td>3.95</td>\n",
       "      <td>4.19</td>\n",
       "    </tr>\n",
       "    <tr>\n",
       "      <th>2004-01-01 07:00:00</th>\n",
       "      <td>5.28</td>\n",
       "      <td>5.32</td>\n",
       "      <td>4.93</td>\n",
       "      <td>4.05</td>\n",
       "      <td>3.95</td>\n",
       "      <td>4.19</td>\n",
       "      <td>4.89</td>\n",
       "    </tr>\n",
       "    <tr>\n",
       "      <th>2004-01-01 08:00:00</th>\n",
       "      <td>5.32</td>\n",
       "      <td>4.93</td>\n",
       "      <td>4.05</td>\n",
       "      <td>3.95</td>\n",
       "      <td>4.19</td>\n",
       "      <td>4.89</td>\n",
       "      <td>5.16</td>\n",
       "    </tr>\n",
       "    <tr>\n",
       "      <th>2004-01-01 09:00:00</th>\n",
       "      <td>4.93</td>\n",
       "      <td>4.05</td>\n",
       "      <td>3.95</td>\n",
       "      <td>4.19</td>\n",
       "      <td>4.89</td>\n",
       "      <td>5.16</td>\n",
       "      <td>5.01</td>\n",
       "    </tr>\n",
       "  </tbody>\n",
       "</table>\n",
       "</div>"
      ],
      "text/plain": [
       "                      f_0   f_1   f_2   f_3   f_4   f_5  target_h1\n",
       "target_date                                                       \n",
       "2004-01-01 06:00:00  6.96  5.28  5.32  4.93  4.05  3.95       4.19\n",
       "2004-01-01 07:00:00  5.28  5.32  4.93  4.05  3.95  4.19       4.89\n",
       "2004-01-01 08:00:00  5.32  4.93  4.05  3.95  4.19  4.89       5.16\n",
       "2004-01-01 09:00:00  4.93  4.05  3.95  4.19  4.89  5.16       5.01"
      ]
     },
     "execution_count": 35,
     "metadata": {},
     "output_type": "execute_result"
    }
   ],
   "source": [
    "# load file\n",
    "df_h1 = pd.read_csv(files[0], delimiter=';', index_col=0)\n",
    "df_h1.head(4)"
   ]
  },
  {
   "cell_type": "code",
   "execution_count": 36,
   "metadata": {
    "collapsed": true
   },
   "outputs": [],
   "source": [
    "# select the best model for h=1\n",
    "\n",
    "# split the dataset in train, val and test\n",
    "data = dataframe_split(df_h1)\n",
    "train_set = data['train_set']\n",
    "validation_set = data['validation_set']\n",
    "test_set = data['test_set']"
   ]
  },
  {
   "cell_type": "code",
   "execution_count": 37,
   "metadata": {
    "collapsed": true
   },
   "outputs": [],
   "source": [
    "# features and target columns\n",
    "features_columns = train_set.columns[1:-1]\n",
    "target_column = train_set.columns[-1:]"
   ]
  },
  {
   "cell_type": "code",
   "execution_count": 48,
   "metadata": {
    "collapsed": true
   },
   "outputs": [],
   "source": [
    "# select the values of features and target columns.\n",
    "features_train_set = train_set[features_columns]\n",
    "target_train_set = train_set[target_column]\n",
    "features_validation_set = validation_set[features_columns]\n",
    "target_validation_set = validation_set[target_column]\n",
    "features_test_set = test_set[features_columns]\n",
    "target_test_set = test_set[target_column]"
   ]
  },
  {
   "cell_type": "code",
   "execution_count": 62,
   "metadata": {
    "collapsed": true
   },
   "outputs": [],
   "source": [
    "# select values\n",
    "x_train = features_train_set.values.astype('float32')\n",
    "y_train = target_train_set.values\n",
    "x_val = features_validation_set.values.astype('float32')\n",
    "y_val = target_validation_set.values"
   ]
  },
  {
   "cell_type": "code",
   "execution_count": 40,
   "metadata": {},
   "outputs": [
    {
     "name": "stdout",
     "output_type": "stream",
     "text": [
      "N of examples: (16830, 5)\n"
     ]
    }
   ],
   "source": [
    "print('N of examples: {0}'.format(x_train.shape))"
   ]
  },
  {
   "cell_type": "code",
   "execution_count": 41,
   "metadata": {},
   "outputs": [
    {
     "data": {
      "text/plain": [
       "22.25"
      ]
     },
     "execution_count": 41,
     "metadata": {},
     "output_type": "execute_result"
    }
   ],
   "source": [
    "x_train.max()"
   ]
  },
  {
   "cell_type": "markdown",
   "metadata": {},
   "source": [
    "## Paso 2: Model defenition"
   ]
  },
  {
   "cell_type": "code",
   "execution_count": 80,
   "metadata": {
    "collapsed": true
   },
   "outputs": [],
   "source": [
    "from keras.models import Model\n",
    "from keras.layers import Input\n",
    "from keras.layers import Dense\n",
    "from keras.layers import LSTM\n",
    "from keras.layers import Dropout\n",
    "from keras.layers import BatchNormalization\n",
    "from keras.optimizers import Adam\n",
    "from keras.utils import plot_model"
   ]
  },
  {
   "cell_type": "code",
   "execution_count": 52,
   "metadata": {},
   "outputs": [
    {
     "name": "stdout",
     "output_type": "stream",
     "text": [
      "(16830, 5)\n",
      "(16830, 5, 1)\n"
     ]
    }
   ],
   "source": [
    "# reshape the data for training LSTM\n",
    "print(x_train.shape)\n",
    "x_train_lstm = np.reshape(x_train, (x_train.shape[0], x_train.shape[1], 1))\n",
    "print(x_train_lstm.shape)\n",
    "\n",
    "x_val_lstm = np.reshape(x_val, (x_val.shape[0], x_val.shape[1], 1))\n",
    "x_test_lstm = np.reshape(x_test, (x_test.shape[0], x_test.shape[1], 1))"
   ]
  },
  {
   "cell_type": "code",
   "execution_count": 158,
   "metadata": {
    "collapsed": true
   },
   "outputs": [],
   "source": [
    "def create_model(time_step, feature_by_timestep,\n",
    "                 plot_title):\n",
    "    # Input layer\n",
    "    input = Input((time_step,\n",
    "                   feature_by_timestep),\n",
    "                   dtype='float32',\n",
    "                   name='input-layer')\n",
    "    normalize_input = BatchNormalization(name='normalize-input')(input)\n",
    "    # RNN - LSTM\n",
    "    x = LSTM(10, name='lstm-layer')(normalize_input)\n",
    "    # Fully-connect\n",
    "    x = Dense(10,\n",
    "              kernel_initializer='normal',\n",
    "              activation='relu',\n",
    "              name='hidden-layer-1')(x)\n",
    "    x = Dense(5, \n",
    "              kernel_initializer='normal', \n",
    "              activation='relu',\n",
    "              name='hidden-layer-2')(x)\n",
    "    x = Dense(3,\n",
    "              kernel_initializer='normal',\n",
    "              activation='relu',\n",
    "              name='hidden-layer-3')(x)\n",
    "    #x = Dropout(rate=0.2)(x)\n",
    "    output = Dense(1, \n",
    "                   kernel_initializer='normal', \n",
    "                   activation='linear',\n",
    "                   name='output-layer')(x)\n",
    "    # Model\n",
    "    model = Model(inputs=input, outputs=output)\n",
    "    model.summary()\n",
    "    \n",
    "    plot_model(model,\n",
    "               to_file='{0}.png'.format(plot_title),\n",
    "               show_shapes=True,\n",
    "               show_layer_names=True,\n",
    "               rankdir='LR')\n",
    "    \n",
    "    return model"
   ]
  },
  {
   "cell_type": "code",
   "execution_count": 159,
   "metadata": {
    "collapsed": true
   },
   "outputs": [],
   "source": [
    "def fit_model(model, x_train, y_train, x_val, y_val, \n",
    "              epochs=100, batch_size=50, lr=0.001):\n",
    "    \n",
    "    opt = Adam(lr=lr)\n",
    "    model.compile(loss='mean_squared_error',\n",
    "                  optimizer=opt,\n",
    "                  metrics=['mae'])\n",
    "    \n",
    "    history = model.fit(x_train,\n",
    "                        y_train,\n",
    "                        batch_size=batch_size,\n",
    "                        epochs=epochs,\n",
    "                        validation_data=(x_val, y_val))\n",
    "    \n",
    "    return model, history"
   ]
  },
  {
   "cell_type": "code",
   "execution_count": 160,
   "metadata": {},
   "outputs": [
    {
     "name": "stdout",
     "output_type": "stream",
     "text": [
      "_________________________________________________________________\n",
      "Layer (type)                 Output Shape              Param #   \n",
      "=================================================================\n",
      "input-layer (InputLayer)     (None, 5, 1)              0         \n",
      "_________________________________________________________________\n",
      "normalize-input (BatchNormal (None, 5, 1)              4         \n",
      "_________________________________________________________________\n",
      "lstm-layer (LSTM)            (None, 10)                480       \n",
      "_________________________________________________________________\n",
      "hidden-layer-1 (Dense)       (None, 10)                110       \n",
      "_________________________________________________________________\n",
      "hidden-layer-2 (Dense)       (None, 5)                 55        \n",
      "_________________________________________________________________\n",
      "hidden-layer-3 (Dense)       (None, 3)                 18        \n",
      "_________________________________________________________________\n",
      "output-layer (Dense)         (None, 1)                 4         \n",
      "=================================================================\n",
      "Total params: 671\n",
      "Trainable params: 669\n",
      "Non-trainable params: 2\n",
      "_________________________________________________________________\n",
      "Train on 16830 samples, validate on 4208 samples\n",
      "Epoch 1/100\n",
      "16830/16830 [==============================] - 2s 147us/step - loss: 49.5781 - mean_absolute_error: 6.1265 - val_loss: 48.4769 - val_mean_absolute_error: 6.0580\n",
      "Epoch 2/100\n",
      "16830/16830 [==============================] - 0s 16us/step - loss: 49.3291 - mean_absolute_error: 6.1062 - val_loss: 48.2057 - val_mean_absolute_error: 6.0357\n",
      "Epoch 3/100\n",
      "16830/16830 [==============================] - 0s 18us/step - loss: 49.0338 - mean_absolute_error: 6.0823 - val_loss: 47.8471 - val_mean_absolute_error: 6.0065\n",
      "Epoch 4/100\n",
      "16830/16830 [==============================] - 0s 17us/step - loss: 48.6158 - mean_absolute_error: 6.0493 - val_loss: 47.2397 - val_mean_absolute_error: 5.9583\n",
      "Epoch 5/100\n",
      "16830/16830 [==============================] - 0s 18us/step - loss: 47.8604 - mean_absolute_error: 5.9927 - val_loss: 45.9450 - val_mean_absolute_error: 5.8584\n",
      "Epoch 6/100\n",
      "16830/16830 [==============================] - 0s 14us/step - loss: 46.1918 - mean_absolute_error: 5.8737 - val_loss: 42.9557 - val_mean_absolute_error: 5.6279\n",
      "Epoch 7/100\n",
      "16830/16830 [==============================] - 0s 16us/step - loss: 42.3372 - mean_absolute_error: 5.5943 - val_loss: 36.5778 - val_mean_absolute_error: 5.1024\n",
      "Epoch 8/100\n",
      "16830/16830 [==============================] - 0s 17us/step - loss: 34.2538 - mean_absolute_error: 4.9336 - val_loss: 25.5770 - val_mean_absolute_error: 4.0246\n",
      "Epoch 9/100\n",
      "16830/16830 [==============================] - 0s 15us/step - loss: 21.4453 - mean_absolute_error: 3.5917 - val_loss: 13.3644 - val_mean_absolute_error: 2.5993\n",
      "Epoch 10/100\n",
      "16830/16830 [==============================] - 0s 23us/step - loss: 10.6258 - mean_absolute_error: 2.2736 - val_loss: 8.9212 - val_mean_absolute_error: 2.2824\n",
      "Epoch 11/100\n",
      "16830/16830 [==============================] - 0s 23us/step - loss: 7.4233 - mean_absolute_error: 2.0020 - val_loss: 7.6864 - val_mean_absolute_error: 2.1508\n",
      "Epoch 12/100\n",
      "16830/16830 [==============================] - 0s 18us/step - loss: 6.1514 - mean_absolute_error: 1.7740 - val_loss: 6.2119 - val_mean_absolute_error: 1.8632\n",
      "Epoch 13/100\n",
      "16830/16830 [==============================] - 0s 15us/step - loss: 5.3232 - mean_absolute_error: 1.6195 - val_loss: 5.3245 - val_mean_absolute_error: 1.7107\n",
      "Epoch 14/100\n",
      "16830/16830 [==============================] - 0s 18us/step - loss: 4.6512 - mean_absolute_error: 1.5155 - val_loss: 4.6503 - val_mean_absolute_error: 1.6014\n",
      "Epoch 15/100\n",
      "16830/16830 [==============================] - 0s 15us/step - loss: 4.1049 - mean_absolute_error: 1.4255 - val_loss: 4.0394 - val_mean_absolute_error: 1.4845\n",
      "Epoch 16/100\n",
      "16830/16830 [==============================] - 0s 13us/step - loss: 3.6732 - mean_absolute_error: 1.3454 - val_loss: 3.5648 - val_mean_absolute_error: 1.3880\n",
      "Epoch 17/100\n",
      "16830/16830 [==============================] - 0s 13us/step - loss: 3.3248 - mean_absolute_error: 1.2917 - val_loss: 3.2139 - val_mean_absolute_error: 1.3224\n",
      "Epoch 18/100\n",
      "16830/16830 [==============================] - 0s 13us/step - loss: 3.0258 - mean_absolute_error: 1.2348 - val_loss: 2.8843 - val_mean_absolute_error: 1.2441\n",
      "Epoch 19/100\n",
      "16830/16830 [==============================] - 0s 14us/step - loss: 2.7862 - mean_absolute_error: 1.1850 - val_loss: 2.6483 - val_mean_absolute_error: 1.1922\n",
      "Epoch 20/100\n",
      "16830/16830 [==============================] - 0s 13us/step - loss: 2.5789 - mean_absolute_error: 1.1496 - val_loss: 2.4432 - val_mean_absolute_error: 1.1470\n",
      "Epoch 21/100\n",
      "16830/16830 [==============================] - 0s 25us/step - loss: 2.4009 - mean_absolute_error: 1.1108 - val_loss: 2.2530 - val_mean_absolute_error: 1.0980\n",
      "Epoch 22/100\n",
      "16830/16830 [==============================] - 0s 22us/step - loss: 2.2569 - mean_absolute_error: 1.0794 - val_loss: 2.1216 - val_mean_absolute_error: 1.0708\n",
      "Epoch 23/100\n",
      "16830/16830 [==============================] - 0s 14us/step - loss: 2.1229 - mean_absolute_error: 1.0512 - val_loss: 1.9827 - val_mean_absolute_error: 1.0318\n",
      "Epoch 24/100\n",
      "16830/16830 [==============================] - 0s 13us/step - loss: 2.0138 - mean_absolute_error: 1.0236 - val_loss: 1.8776 - val_mean_absolute_error: 1.0041\n",
      "Epoch 25/100\n",
      "16830/16830 [==============================] - 0s 14us/step - loss: 1.9107 - mean_absolute_error: 0.9986 - val_loss: 1.7770 - val_mean_absolute_error: 0.9743\n",
      "Epoch 26/100\n",
      "16830/16830 [==============================] - 0s 16us/step - loss: 1.8124 - mean_absolute_error: 0.9705 - val_loss: 1.6962 - val_mean_absolute_error: 0.9519\n",
      "Epoch 27/100\n",
      "16830/16830 [==============================] - 0s 14us/step - loss: 1.7363 - mean_absolute_error: 0.9513 - val_loss: 1.6147 - val_mean_absolute_error: 0.9262\n",
      "Epoch 28/100\n",
      "16830/16830 [==============================] - 0s 13us/step - loss: 1.6586 - mean_absolute_error: 0.9250 - val_loss: 1.5470 - val_mean_absolute_error: 0.9061\n",
      "Epoch 29/100\n",
      "16830/16830 [==============================] - 0s 13us/step - loss: 1.5881 - mean_absolute_error: 0.9061 - val_loss: 1.4797 - val_mean_absolute_error: 0.8834\n",
      "Epoch 30/100\n",
      "16830/16830 [==============================] - 0s 12us/step - loss: 1.5261 - mean_absolute_error: 0.8852 - val_loss: 1.4221 - val_mean_absolute_error: 0.8654\n",
      "Epoch 31/100\n",
      "16830/16830 [==============================] - 0s 12us/step - loss: 1.4802 - mean_absolute_error: 0.8719 - val_loss: 1.3707 - val_mean_absolute_error: 0.8479\n",
      "Epoch 32/100\n",
      "16830/16830 [==============================] - 0s 11us/step - loss: 1.4253 - mean_absolute_error: 0.8535 - val_loss: 1.3189 - val_mean_absolute_error: 0.8286\n",
      "Epoch 33/100\n",
      "16830/16830 [==============================] - 0s 12us/step - loss: 1.3787 - mean_absolute_error: 0.8349 - val_loss: 1.2824 - val_mean_absolute_error: 0.8159\n",
      "Epoch 34/100\n",
      "16830/16830 [==============================] - 0s 12us/step - loss: 1.3544 - mean_absolute_error: 0.8288 - val_loss: 1.2336 - val_mean_absolute_error: 0.7973\n",
      "Epoch 35/100\n",
      "16830/16830 [==============================] - 0s 13us/step - loss: 1.2936 - mean_absolute_error: 0.8057 - val_loss: 1.2003 - val_mean_absolute_error: 0.7845\n",
      "Epoch 36/100\n",
      "16830/16830 [==============================] - 0s 23us/step - loss: 1.2710 - mean_absolute_error: 0.7986 - val_loss: 1.1737 - val_mean_absolute_error: 0.7751\n",
      "Epoch 37/100\n",
      "16830/16830 [==============================] - 0s 22us/step - loss: 1.2288 - mean_absolute_error: 0.7804 - val_loss: 1.1372 - val_mean_absolute_error: 0.7603\n",
      "Epoch 38/100\n",
      "16830/16830 [==============================] - 0s 15us/step - loss: 1.2047 - mean_absolute_error: 0.7710 - val_loss: 1.1116 - val_mean_absolute_error: 0.7503\n",
      "Epoch 39/100\n",
      "16830/16830 [==============================] - 0s 20us/step - loss: 1.1723 - mean_absolute_error: 0.7572 - val_loss: 1.0913 - val_mean_absolute_error: 0.7419\n",
      "Epoch 40/100\n",
      "16830/16830 [==============================] - 0s 18us/step - loss: 1.1635 - mean_absolute_error: 0.7559 - val_loss: 1.0685 - val_mean_absolute_error: 0.7332\n",
      "Epoch 41/100\n",
      "16830/16830 [==============================] - 0s 15us/step - loss: 1.1388 - mean_absolute_error: 0.7435 - val_loss: 1.0503 - val_mean_absolute_error: 0.7260\n",
      "Epoch 42/100\n",
      "16830/16830 [==============================] - 0s 15us/step - loss: 1.1172 - mean_absolute_error: 0.7369 - val_loss: 1.0334 - val_mean_absolute_error: 0.7178\n",
      "Epoch 43/100\n",
      "16830/16830 [==============================] - 0s 14us/step - loss: 1.1008 - mean_absolute_error: 0.7289 - val_loss: 1.0203 - val_mean_absolute_error: 0.7122\n",
      "Epoch 44/100\n",
      "16830/16830 [==============================] - 0s 13us/step - loss: 1.0857 - mean_absolute_error: 0.7221 - val_loss: 1.0052 - val_mean_absolute_error: 0.7065\n",
      "Epoch 45/100\n",
      "16830/16830 [==============================] - 0s 11us/step - loss: 1.0822 - mean_absolute_error: 0.7223 - val_loss: 1.0035 - val_mean_absolute_error: 0.7046\n",
      "Epoch 46/100\n",
      "16830/16830 [==============================] - 0s 11us/step - loss: 1.0577 - mean_absolute_error: 0.7091 - val_loss: 0.9858 - val_mean_absolute_error: 0.7010\n",
      "Epoch 47/100\n",
      "16830/16830 [==============================] - 0s 12us/step - loss: 1.0517 - mean_absolute_error: 0.7100 - val_loss: 0.9674 - val_mean_absolute_error: 0.6892\n",
      "Epoch 48/100\n",
      "16830/16830 [==============================] - 0s 14us/step - loss: 1.0345 - mean_absolute_error: 0.7003 - val_loss: 0.9545 - val_mean_absolute_error: 0.6839\n",
      "Epoch 49/100\n",
      "16830/16830 [==============================] - 0s 13us/step - loss: 1.0330 - mean_absolute_error: 0.7006 - val_loss: 0.9440 - val_mean_absolute_error: 0.6789\n",
      "Epoch 50/100\n",
      "16830/16830 [==============================] - 0s 12us/step - loss: 1.0155 - mean_absolute_error: 0.6923 - val_loss: 0.9334 - val_mean_absolute_error: 0.6742\n",
      "Epoch 51/100\n",
      "16830/16830 [==============================] - 0s 13us/step - loss: 1.0044 - mean_absolute_error: 0.6876 - val_loss: 0.9263 - val_mean_absolute_error: 0.6708\n",
      "Epoch 52/100\n",
      "16830/16830 [==============================] - 0s 12us/step - loss: 0.9974 - mean_absolute_error: 0.6824 - val_loss: 0.9175 - val_mean_absolute_error: 0.6667\n",
      "Epoch 53/100\n",
      "16830/16830 [==============================] - 0s 12us/step - loss: 0.9852 - mean_absolute_error: 0.6783 - val_loss: 0.9120 - val_mean_absolute_error: 0.6644\n",
      "Epoch 54/100\n",
      "16830/16830 [==============================] - 0s 13us/step - loss: 0.9847 - mean_absolute_error: 0.6792 - val_loss: 0.9009 - val_mean_absolute_error: 0.6595\n",
      "Epoch 55/100\n",
      "16830/16830 [==============================] - 0s 13us/step - loss: 0.9769 - mean_absolute_error: 0.6754 - val_loss: 0.8972 - val_mean_absolute_error: 0.6577\n",
      "Epoch 56/100\n",
      "16830/16830 [==============================] - 0s 11us/step - loss: 0.9738 - mean_absolute_error: 0.6723 - val_loss: 0.8997 - val_mean_absolute_error: 0.6586\n",
      "Epoch 57/100\n",
      "16830/16830 [==============================] - 0s 12us/step - loss: 0.9769 - mean_absolute_error: 0.6748 - val_loss: 0.8868 - val_mean_absolute_error: 0.6557\n",
      "Epoch 58/100\n",
      "16830/16830 [==============================] - 0s 13us/step - loss: 0.9514 - mean_absolute_error: 0.6626 - val_loss: 0.8803 - val_mean_absolute_error: 0.6503\n",
      "Epoch 59/100\n",
      "16830/16830 [==============================] - 0s 12us/step - loss: 0.9453 - mean_absolute_error: 0.6597 - val_loss: 0.8715 - val_mean_absolute_error: 0.6471\n",
      "Epoch 60/100\n",
      "16830/16830 [==============================] - 0s 12us/step - loss: 0.9483 - mean_absolute_error: 0.6634 - val_loss: 0.8698 - val_mean_absolute_error: 0.6478\n",
      "Epoch 61/100\n",
      "16830/16830 [==============================] - 0s 13us/step - loss: 0.9460 - mean_absolute_error: 0.6639 - val_loss: 0.8615 - val_mean_absolute_error: 0.6430\n",
      "Epoch 62/100\n",
      "16830/16830 [==============================] - 0s 12us/step - loss: 0.9464 - mean_absolute_error: 0.6606 - val_loss: 0.8650 - val_mean_absolute_error: 0.6436\n",
      "Epoch 63/100\n",
      "16830/16830 [==============================] - 0s 12us/step - loss: 0.9354 - mean_absolute_error: 0.6553 - val_loss: 0.8537 - val_mean_absolute_error: 0.6386\n",
      "Epoch 64/100\n",
      "16830/16830 [==============================] - 0s 11us/step - loss: 0.9313 - mean_absolute_error: 0.6553 - val_loss: 0.8585 - val_mean_absolute_error: 0.6423\n",
      "Epoch 65/100\n",
      "16830/16830 [==============================] - 0s 11us/step - loss: 0.9221 - mean_absolute_error: 0.6524 - val_loss: 0.8461 - val_mean_absolute_error: 0.6360\n",
      "Epoch 66/100\n",
      "16830/16830 [==============================] - 0s 13us/step - loss: 0.9317 - mean_absolute_error: 0.6546 - val_loss: 0.8442 - val_mean_absolute_error: 0.6346\n",
      "Epoch 67/100\n",
      "16830/16830 [==============================] - 0s 12us/step - loss: 0.9153 - mean_absolute_error: 0.6475 - val_loss: 0.8400 - val_mean_absolute_error: 0.6328\n",
      "Epoch 68/100\n",
      "16830/16830 [==============================] - 0s 12us/step - loss: 0.9117 - mean_absolute_error: 0.6446 - val_loss: 0.8418 - val_mean_absolute_error: 0.6330\n",
      "Epoch 69/100\n",
      "16830/16830 [==============================] - 0s 13us/step - loss: 0.9091 - mean_absolute_error: 0.6436 - val_loss: 0.8364 - val_mean_absolute_error: 0.6325\n",
      "Epoch 70/100\n",
      "16830/16830 [==============================] - 0s 12us/step - loss: 0.9138 - mean_absolute_error: 0.6475 - val_loss: 0.8432 - val_mean_absolute_error: 0.6350\n",
      "Epoch 71/100\n",
      "16830/16830 [==============================] - 0s 13us/step - loss: 0.9070 - mean_absolute_error: 0.6429 - val_loss: 0.8291 - val_mean_absolute_error: 0.6284\n",
      "Epoch 72/100\n",
      "16830/16830 [==============================] - 0s 12us/step - loss: 0.9141 - mean_absolute_error: 0.6477 - val_loss: 0.8290 - val_mean_absolute_error: 0.6289\n",
      "Epoch 73/100\n",
      "16830/16830 [==============================] - 0s 11us/step - loss: 0.9151 - mean_absolute_error: 0.6476 - val_loss: 0.8314 - val_mean_absolute_error: 0.6287\n",
      "Epoch 74/100\n",
      "16830/16830 [==============================] - 0s 15us/step - loss: 0.8953 - mean_absolute_error: 0.6366 - val_loss: 0.8223 - val_mean_absolute_error: 0.6245\n",
      "Epoch 75/100\n",
      "16830/16830 [==============================] - 0s 15us/step - loss: 0.8998 - mean_absolute_error: 0.6393 - val_loss: 0.8211 - val_mean_absolute_error: 0.6242\n",
      "Epoch 76/100\n",
      "16830/16830 [==============================] - 0s 12us/step - loss: 0.9057 - mean_absolute_error: 0.6459 - val_loss: 0.8182 - val_mean_absolute_error: 0.6234\n",
      "Epoch 77/100\n",
      "16830/16830 [==============================] - 0s 13us/step - loss: 0.8965 - mean_absolute_error: 0.6374 - val_loss: 0.8184 - val_mean_absolute_error: 0.6222\n",
      "Epoch 78/100\n",
      "16830/16830 [==============================] - 0s 18us/step - loss: 0.8996 - mean_absolute_error: 0.6382 - val_loss: 0.8152 - val_mean_absolute_error: 0.6206\n",
      "Epoch 79/100\n",
      "16830/16830 [==============================] - 0s 18us/step - loss: 0.8850 - mean_absolute_error: 0.6328 - val_loss: 0.8144 - val_mean_absolute_error: 0.6210\n",
      "Epoch 80/100\n",
      "16830/16830 [==============================] - 0s 16us/step - loss: 0.8972 - mean_absolute_error: 0.6384 - val_loss: 0.8198 - val_mean_absolute_error: 0.6225\n",
      "Epoch 81/100\n",
      "16830/16830 [==============================] - 0s 19us/step - loss: 0.9093 - mean_absolute_error: 0.6447 - val_loss: 0.8236 - val_mean_absolute_error: 0.6262\n",
      "Epoch 82/100\n",
      "16830/16830 [==============================] - 0s 19us/step - loss: 0.8968 - mean_absolute_error: 0.6381 - val_loss: 0.8141 - val_mean_absolute_error: 0.6219\n",
      "Epoch 83/100\n",
      "16830/16830 [==============================] - 0s 18us/step - loss: 0.8886 - mean_absolute_error: 0.6364 - val_loss: 0.8094 - val_mean_absolute_error: 0.6180\n",
      "Epoch 84/100\n",
      "16830/16830 [==============================] - 0s 24us/step - loss: 0.8914 - mean_absolute_error: 0.6348 - val_loss: 0.8133 - val_mean_absolute_error: 0.6199\n",
      "Epoch 85/100\n",
      "16830/16830 [==============================] - 0s 18us/step - loss: 0.8865 - mean_absolute_error: 0.6327 - val_loss: 0.8054 - val_mean_absolute_error: 0.6168\n",
      "Epoch 86/100\n",
      "16830/16830 [==============================] - 0s 25us/step - loss: 0.8812 - mean_absolute_error: 0.6300 - val_loss: 0.8032 - val_mean_absolute_error: 0.6151\n",
      "Epoch 87/100\n",
      "16830/16830 [==============================] - 0s 23us/step - loss: 0.8838 - mean_absolute_error: 0.6322 - val_loss: 0.8030 - val_mean_absolute_error: 0.6151\n",
      "Epoch 88/100\n",
      "16830/16830 [==============================] - 0s 17us/step - loss: 0.8702 - mean_absolute_error: 0.6246 - val_loss: 0.7999 - val_mean_absolute_error: 0.6128\n"
     ]
    },
    {
     "name": "stdout",
     "output_type": "stream",
     "text": [
      "Epoch 89/100\n",
      "16830/16830 [==============================] - 0s 13us/step - loss: 0.8814 - mean_absolute_error: 0.6300 - val_loss: 0.7985 - val_mean_absolute_error: 0.6125\n",
      "Epoch 90/100\n",
      "16830/16830 [==============================] - 0s 13us/step - loss: 0.8891 - mean_absolute_error: 0.6374 - val_loss: 0.7979 - val_mean_absolute_error: 0.6126\n",
      "Epoch 91/100\n",
      "16830/16830 [==============================] - 0s 19us/step - loss: 0.8819 - mean_absolute_error: 0.6306 - val_loss: 0.8059 - val_mean_absolute_error: 0.6158\n",
      "Epoch 92/100\n",
      "16830/16830 [==============================] - 0s 13us/step - loss: 0.8858 - mean_absolute_error: 0.6352 - val_loss: 0.7949 - val_mean_absolute_error: 0.6111\n",
      "Epoch 93/100\n",
      "16830/16830 [==============================] - 0s 15us/step - loss: 0.8790 - mean_absolute_error: 0.6309 - val_loss: 0.7961 - val_mean_absolute_error: 0.6119\n",
      "Epoch 94/100\n",
      "16830/16830 [==============================] - 0s 15us/step - loss: 0.8773 - mean_absolute_error: 0.6277 - val_loss: 0.8017 - val_mean_absolute_error: 0.6135\n",
      "Epoch 95/100\n",
      "16830/16830 [==============================] - 0s 11us/step - loss: 0.8653 - mean_absolute_error: 0.6223 - val_loss: 0.7937 - val_mean_absolute_error: 0.6107\n",
      "Epoch 96/100\n",
      "16830/16830 [==============================] - 0s 12us/step - loss: 0.8681 - mean_absolute_error: 0.6242 - val_loss: 0.7922 - val_mean_absolute_error: 0.6096\n",
      "Epoch 97/100\n",
      "16830/16830 [==============================] - 0s 17us/step - loss: 0.8823 - mean_absolute_error: 0.6287 - val_loss: 0.7906 - val_mean_absolute_error: 0.6078\n",
      "Epoch 98/100\n",
      "16830/16830 [==============================] - 0s 15us/step - loss: 0.8768 - mean_absolute_error: 0.6284 - val_loss: 0.7906 - val_mean_absolute_error: 0.6085\n",
      "Epoch 99/100\n",
      "16830/16830 [==============================] - 0s 14us/step - loss: 0.8688 - mean_absolute_error: 0.6263 - val_loss: 0.7985 - val_mean_absolute_error: 0.6141\n",
      "Epoch 100/100\n",
      "16830/16830 [==============================] - 0s 18us/step - loss: 0.8671 - mean_absolute_error: 0.6220 - val_loss: 0.7887 - val_mean_absolute_error: 0.6060\n"
     ]
    }
   ],
   "source": [
    "model = create_model(5, 1, plot_title='lstm')\n",
    "model, history = fit_model(model, x_train_lstm, y_train, x_val_lstm, y_val,\n",
    "                           batch_size=1024, epochs=100)"
   ]
  },
  {
   "cell_type": "code",
   "execution_count": 161,
   "metadata": {},
   "outputs": [
    {
     "data": {
      "text/plain": [
       "<matplotlib.legend.Legend at 0x129092fd0>"
      ]
     },
     "execution_count": 161,
     "metadata": {},
     "output_type": "execute_result"
    },
    {
     "data": {
      "image/png": "[encoded data removed]",
      "text/plain": [
       "<matplotlib.figure.Figure at 0x1291f4c50>"
      ]
     },
     "metadata": {},
     "output_type": "display_data"
    }
   ],
   "source": [
    "f, (ax1, ax2) = plt.subplots(2,1, figsize=(15,10))\n",
    "ax1.plot(history.history['loss'], lw=2, label='train')\n",
    "ax1.plot(history.history['val_loss'], lw=2, label='val')\n",
    "ax1.set_title('Loss: MSE')\n",
    "ax1.legend()\n",
    "ax2.plot(history.history['mean_absolute_error'], label='train')\n",
    "ax2.plot(history.history['val_mean_absolute_error'], label='val')\n",
    "ax2.set_title('Metric: MAE')\n",
    "ax2.legend()"
   ]
  },
  {
   "cell_type": "markdown",
   "metadata": {},
   "source": [
    "## Paso 3: Prediction"
   ]
  },
  {
   "cell_type": "code",
   "execution_count": 162,
   "metadata": {},
   "outputs": [
    {
     "data": {
      "text/plain": [
       "(5260, 5, 1)"
      ]
     },
     "execution_count": 162,
     "metadata": {},
     "output_type": "execute_result"
    }
   ],
   "source": [
    "x_test = features_test_set.values.astype('float32')\n",
    "x_test_lstm = np.reshape(x_test, (x_test.shape[0], x_test.shape[1], 1))\n",
    "x_test_lstm.shape"
   ]
  },
  {
   "cell_type": "code",
   "execution_count": 163,
   "metadata": {
    "collapsed": true
   },
   "outputs": [],
   "source": [
    "predicted = model.predict(x_test_lstm)"
   ]
  },
  {
   "cell_type": "code",
   "execution_count": 164,
   "metadata": {},
   "outputs": [
    {
     "data": {
      "text/html": [
       "<div>\n",
       "<table border=\"1\" class=\"dataframe\">\n",
       "  <thead>\n",
       "    <tr style=\"text-align: right;\">\n",
       "      <th></th>\n",
       "      <th>f_0</th>\n",
       "      <th>f_1</th>\n",
       "      <th>f_2</th>\n",
       "      <th>f_3</th>\n",
       "      <th>f_4</th>\n",
       "      <th>f_5</th>\n",
       "      <th>target_h1</th>\n",
       "    </tr>\n",
       "    <tr>\n",
       "      <th>target_date</th>\n",
       "      <th></th>\n",
       "      <th></th>\n",
       "      <th></th>\n",
       "      <th></th>\n",
       "      <th></th>\n",
       "      <th></th>\n",
       "      <th></th>\n",
       "    </tr>\n",
       "  </thead>\n",
       "  <tbody>\n",
       "    <tr>\n",
       "      <th>2006-05-26 20:00:00</th>\n",
       "      <td>5.30</td>\n",
       "      <td>5.19</td>\n",
       "      <td>5.24</td>\n",
       "      <td>5.27</td>\n",
       "      <td>4.45</td>\n",
       "      <td>3.92</td>\n",
       "      <td>4.19</td>\n",
       "    </tr>\n",
       "    <tr>\n",
       "      <th>2006-05-26 21:00:00</th>\n",
       "      <td>5.19</td>\n",
       "      <td>5.24</td>\n",
       "      <td>5.27</td>\n",
       "      <td>4.45</td>\n",
       "      <td>3.92</td>\n",
       "      <td>4.19</td>\n",
       "      <td>4.60</td>\n",
       "    </tr>\n",
       "    <tr>\n",
       "      <th>2006-05-26 22:00:00</th>\n",
       "      <td>5.24</td>\n",
       "      <td>5.27</td>\n",
       "      <td>4.45</td>\n",
       "      <td>3.92</td>\n",
       "      <td>4.19</td>\n",
       "      <td>4.60</td>\n",
       "      <td>5.34</td>\n",
       "    </tr>\n",
       "    <tr>\n",
       "      <th>2006-05-26 23:00:00</th>\n",
       "      <td>5.27</td>\n",
       "      <td>4.45</td>\n",
       "      <td>3.92</td>\n",
       "      <td>4.19</td>\n",
       "      <td>4.60</td>\n",
       "      <td>5.34</td>\n",
       "      <td>4.70</td>\n",
       "    </tr>\n",
       "    <tr>\n",
       "      <th>2006-05-27 00:00:00</th>\n",
       "      <td>4.45</td>\n",
       "      <td>3.92</td>\n",
       "      <td>4.19</td>\n",
       "      <td>4.60</td>\n",
       "      <td>5.34</td>\n",
       "      <td>4.70</td>\n",
       "      <td>3.00</td>\n",
       "    </tr>\n",
       "  </tbody>\n",
       "</table>\n",
       "</div>"
      ],
      "text/plain": [
       "                      f_0   f_1   f_2   f_3   f_4   f_5  target_h1\n",
       "target_date                                                       \n",
       "2006-05-26 20:00:00  5.30  5.19  5.24  5.27  4.45  3.92       4.19\n",
       "2006-05-26 21:00:00  5.19  5.24  5.27  4.45  3.92  4.19       4.60\n",
       "2006-05-26 22:00:00  5.24  5.27  4.45  3.92  4.19  4.60       5.34\n",
       "2006-05-26 23:00:00  5.27  4.45  3.92  4.19  4.60  5.34       4.70\n",
       "2006-05-27 00:00:00  4.45  3.92  4.19  4.60  5.34  4.70       3.00"
      ]
     },
     "execution_count": 164,
     "metadata": {},
     "output_type": "execute_result"
    }
   ],
   "source": [
    "df_prediction = test_set.copy()\n",
    "df_prediction.head()"
   ]
  },
  {
   "cell_type": "code",
   "execution_count": 165,
   "metadata": {},
   "outputs": [
    {
     "data": {
      "text/html": [
       "<div>\n",
       "<table border=\"1\" class=\"dataframe\">\n",
       "  <thead>\n",
       "    <tr style=\"text-align: right;\">\n",
       "      <th></th>\n",
       "      <th>f_0</th>\n",
       "      <th>f_1</th>\n",
       "      <th>f_2</th>\n",
       "      <th>f_3</th>\n",
       "      <th>f_4</th>\n",
       "      <th>f_5</th>\n",
       "      <th>target_h1</th>\n",
       "    </tr>\n",
       "    <tr>\n",
       "      <th>target_date</th>\n",
       "      <th></th>\n",
       "      <th></th>\n",
       "      <th></th>\n",
       "      <th></th>\n",
       "      <th></th>\n",
       "      <th></th>\n",
       "      <th></th>\n",
       "    </tr>\n",
       "  </thead>\n",
       "  <tbody>\n",
       "    <tr>\n",
       "      <th>2006-05-26 20:00:00</th>\n",
       "      <td>5.30</td>\n",
       "      <td>5.19</td>\n",
       "      <td>5.24</td>\n",
       "      <td>5.27</td>\n",
       "      <td>4.45</td>\n",
       "      <td>3.92</td>\n",
       "      <td>4.19</td>\n",
       "    </tr>\n",
       "    <tr>\n",
       "      <th>2006-05-26 21:00:00</th>\n",
       "      <td>5.19</td>\n",
       "      <td>5.24</td>\n",
       "      <td>5.27</td>\n",
       "      <td>4.45</td>\n",
       "      <td>3.92</td>\n",
       "      <td>4.19</td>\n",
       "      <td>4.60</td>\n",
       "    </tr>\n",
       "    <tr>\n",
       "      <th>2006-05-26 22:00:00</th>\n",
       "      <td>5.24</td>\n",
       "      <td>5.27</td>\n",
       "      <td>4.45</td>\n",
       "      <td>3.92</td>\n",
       "      <td>4.19</td>\n",
       "      <td>4.60</td>\n",
       "      <td>5.34</td>\n",
       "    </tr>\n",
       "    <tr>\n",
       "      <th>2006-05-26 23:00:00</th>\n",
       "      <td>5.27</td>\n",
       "      <td>4.45</td>\n",
       "      <td>3.92</td>\n",
       "      <td>4.19</td>\n",
       "      <td>4.60</td>\n",
       "      <td>5.34</td>\n",
       "      <td>4.70</td>\n",
       "    </tr>\n",
       "    <tr>\n",
       "      <th>2006-05-27 00:00:00</th>\n",
       "      <td>4.45</td>\n",
       "      <td>3.92</td>\n",
       "      <td>4.19</td>\n",
       "      <td>4.60</td>\n",
       "      <td>5.34</td>\n",
       "      <td>4.70</td>\n",
       "      <td>3.00</td>\n",
       "    </tr>\n",
       "  </tbody>\n",
       "</table>\n",
       "</div>"
      ],
      "text/plain": [
       "                      f_0   f_1   f_2   f_3   f_4   f_5  target_h1\n",
       "target_date                                                       \n",
       "2006-05-26 20:00:00  5.30  5.19  5.24  5.27  4.45  3.92       4.19\n",
       "2006-05-26 21:00:00  5.19  5.24  5.27  4.45  3.92  4.19       4.60\n",
       "2006-05-26 22:00:00  5.24  5.27  4.45  3.92  4.19  4.60       5.34\n",
       "2006-05-26 23:00:00  5.27  4.45  3.92  4.19  4.60  5.34       4.70\n",
       "2006-05-27 00:00:00  4.45  3.92  4.19  4.60  5.34  4.70       3.00"
      ]
     },
     "execution_count": 165,
     "metadata": {},
     "output_type": "execute_result"
    }
   ],
   "source": [
    "df_prediction = test_set.copy()\n",
    "df_prediction.head()"
   ]
  },
  {
   "cell_type": "code",
   "execution_count": 166,
   "metadata": {},
   "outputs": [
    {
     "data": {
      "text/html": [
       "<div>\n",
       "<table border=\"1\" class=\"dataframe\">\n",
       "  <thead>\n",
       "    <tr style=\"text-align: right;\">\n",
       "      <th></th>\n",
       "      <th>f_0</th>\n",
       "      <th>f_1</th>\n",
       "      <th>f_2</th>\n",
       "      <th>f_3</th>\n",
       "      <th>f_4</th>\n",
       "      <th>f_5</th>\n",
       "      <th>target_h1</th>\n",
       "      <th>target_predicted</th>\n",
       "    </tr>\n",
       "    <tr>\n",
       "      <th>target_date</th>\n",
       "      <th></th>\n",
       "      <th></th>\n",
       "      <th></th>\n",
       "      <th></th>\n",
       "      <th></th>\n",
       "      <th></th>\n",
       "      <th></th>\n",
       "      <th></th>\n",
       "    </tr>\n",
       "  </thead>\n",
       "  <tbody>\n",
       "    <tr>\n",
       "      <th>2006-05-26 20:00:00</th>\n",
       "      <td>5.30</td>\n",
       "      <td>5.19</td>\n",
       "      <td>5.24</td>\n",
       "      <td>5.27</td>\n",
       "      <td>4.45</td>\n",
       "      <td>3.92</td>\n",
       "      <td>4.19</td>\n",
       "      <td>3.852135</td>\n",
       "    </tr>\n",
       "    <tr>\n",
       "      <th>2006-05-26 21:00:00</th>\n",
       "      <td>5.19</td>\n",
       "      <td>5.24</td>\n",
       "      <td>5.27</td>\n",
       "      <td>4.45</td>\n",
       "      <td>3.92</td>\n",
       "      <td>4.19</td>\n",
       "      <td>4.60</td>\n",
       "      <td>4.271173</td>\n",
       "    </tr>\n",
       "    <tr>\n",
       "      <th>2006-05-26 22:00:00</th>\n",
       "      <td>5.24</td>\n",
       "      <td>5.27</td>\n",
       "      <td>4.45</td>\n",
       "      <td>3.92</td>\n",
       "      <td>4.19</td>\n",
       "      <td>4.60</td>\n",
       "      <td>5.34</td>\n",
       "      <td>4.732131</td>\n",
       "    </tr>\n",
       "    <tr>\n",
       "      <th>2006-05-26 23:00:00</th>\n",
       "      <td>5.27</td>\n",
       "      <td>4.45</td>\n",
       "      <td>3.92</td>\n",
       "      <td>4.19</td>\n",
       "      <td>4.60</td>\n",
       "      <td>5.34</td>\n",
       "      <td>4.70</td>\n",
       "      <td>5.578436</td>\n",
       "    </tr>\n",
       "    <tr>\n",
       "      <th>2006-05-27 00:00:00</th>\n",
       "      <td>4.45</td>\n",
       "      <td>3.92</td>\n",
       "      <td>4.19</td>\n",
       "      <td>4.60</td>\n",
       "      <td>5.34</td>\n",
       "      <td>4.70</td>\n",
       "      <td>3.00</td>\n",
       "      <td>4.583254</td>\n",
       "    </tr>\n",
       "  </tbody>\n",
       "</table>\n",
       "</div>"
      ],
      "text/plain": [
       "                      f_0   f_1   f_2   f_3   f_4   f_5  target_h1  \\\n",
       "target_date                                                          \n",
       "2006-05-26 20:00:00  5.30  5.19  5.24  5.27  4.45  3.92       4.19   \n",
       "2006-05-26 21:00:00  5.19  5.24  5.27  4.45  3.92  4.19       4.60   \n",
       "2006-05-26 22:00:00  5.24  5.27  4.45  3.92  4.19  4.60       5.34   \n",
       "2006-05-26 23:00:00  5.27  4.45  3.92  4.19  4.60  5.34       4.70   \n",
       "2006-05-27 00:00:00  4.45  3.92  4.19  4.60  5.34  4.70       3.00   \n",
       "\n",
       "                     target_predicted  \n",
       "target_date                            \n",
       "2006-05-26 20:00:00          3.852135  \n",
       "2006-05-26 21:00:00          4.271173  \n",
       "2006-05-26 22:00:00          4.732131  \n",
       "2006-05-26 23:00:00          5.578436  \n",
       "2006-05-27 00:00:00          4.583254  "
      ]
     },
     "execution_count": 166,
     "metadata": {},
     "output_type": "execute_result"
    }
   ],
   "source": [
    "df_prediction['target_predicted'] = predicted\n",
    "df_prediction.head()"
   ]
  },
  {
   "cell_type": "code",
   "execution_count": 169,
   "metadata": {},
   "outputs": [
    {
     "data": {
      "text/plain": [
       "<matplotlib.axes._subplots.AxesSubplot at 0x12924b8d0>"
      ]
     },
     "execution_count": 169,
     "metadata": {},
     "output_type": "execute_result"
    },
    {
     "data": {
      "image/png": "[encoded data removed]",
      "text/plain": [
       "<matplotlib.figure.Figure at 0x129181630>"
      ]
     },
     "metadata": {},
     "output_type": "display_data"
    }
   ],
   "source": [
    "#title='LSTM-10-unit_hidden-5'\n",
    "title='LSTM-10-unit-hidden-10-5-3'\n",
    "\n",
    "f, ax = plt.subplots(1,1,figsize=(10,10))\n",
    "x_min = df_prediction.target_h1.min() \n",
    "x_max = df_prediction.target_h1.max()\n",
    "y_min = df_prediction.target_predicted.min()\n",
    "y_max = df_prediction.target_predicted.max()\n",
    "ax.set_title(title)\n",
    "# line\n",
    "ax.set_xlim(x_min+1, x_max+1)\n",
    "ax.set_ylim(x_min+1, x_max+1)\n",
    "ax.plot((x_min, x_max), (x_min, x_max), lw=3, c='r')\n",
    "# scatter\n",
    "df_prediction.plot(ax=ax,\n",
    "                   x='target_h1',\n",
    "                   y='target_predicted',\n",
    "                   kind='scatter',\n",
    "                  )"
   ]
  },
  {
   "cell_type": "code",
   "execution_count": 168,
   "metadata": {},
   "outputs": [
    {
     "data": {
      "text/plain": [
       "<matplotlib.axes._subplots.AxesSubplot at 0x1292c0da0>"
      ]
     },
     "execution_count": 168,
     "metadata": {},
     "output_type": "execute_result"
    },
    {
     "data": {
      "image/png": "[encoded data removed]",
      "text/plain": [
       "<matplotlib.figure.Figure at 0x1291cb240>"
      ]
     },
     "metadata": {},
     "output_type": "display_data"
    }
   ],
   "source": [
    "df_prediction.iloc[:,-2:].plot(figsize=(15,5))"
   ]
  },
  {
   "cell_type": "code",
   "execution_count": 170,
   "metadata": {},
   "outputs": [
    {
     "data": {
      "text/html": [
       "<div>\n",
       "<table border=\"1\" class=\"dataframe\">\n",
       "  <thead>\n",
       "    <tr style=\"text-align: right;\">\n",
       "      <th></th>\n",
       "      <th>f_0</th>\n",
       "      <th>f_1</th>\n",
       "      <th>f_2</th>\n",
       "      <th>f_3</th>\n",
       "      <th>f_4</th>\n",
       "      <th>f_5</th>\n",
       "      <th>target_h1</th>\n",
       "      <th>target_predicted</th>\n",
       "    </tr>\n",
       "    <tr>\n",
       "      <th>target_date</th>\n",
       "      <th></th>\n",
       "      <th></th>\n",
       "      <th></th>\n",
       "      <th></th>\n",
       "      <th></th>\n",
       "      <th></th>\n",
       "      <th></th>\n",
       "      <th></th>\n",
       "    </tr>\n",
       "  </thead>\n",
       "  <tbody>\n",
       "    <tr>\n",
       "      <th>2006-05-26 20:00:00</th>\n",
       "      <td>5.30</td>\n",
       "      <td>5.19</td>\n",
       "      <td>5.24</td>\n",
       "      <td>5.27</td>\n",
       "      <td>4.45</td>\n",
       "      <td>3.92</td>\n",
       "      <td>4.19</td>\n",
       "      <td>3.852135</td>\n",
       "    </tr>\n",
       "    <tr>\n",
       "      <th>2006-05-26 21:00:00</th>\n",
       "      <td>5.19</td>\n",
       "      <td>5.24</td>\n",
       "      <td>5.27</td>\n",
       "      <td>4.45</td>\n",
       "      <td>3.92</td>\n",
       "      <td>4.19</td>\n",
       "      <td>4.60</td>\n",
       "      <td>4.271173</td>\n",
       "    </tr>\n",
       "    <tr>\n",
       "      <th>2006-05-26 22:00:00</th>\n",
       "      <td>5.24</td>\n",
       "      <td>5.27</td>\n",
       "      <td>4.45</td>\n",
       "      <td>3.92</td>\n",
       "      <td>4.19</td>\n",
       "      <td>4.60</td>\n",
       "      <td>5.34</td>\n",
       "      <td>4.732131</td>\n",
       "    </tr>\n",
       "    <tr>\n",
       "      <th>2006-05-26 23:00:00</th>\n",
       "      <td>5.27</td>\n",
       "      <td>4.45</td>\n",
       "      <td>3.92</td>\n",
       "      <td>4.19</td>\n",
       "      <td>4.60</td>\n",
       "      <td>5.34</td>\n",
       "      <td>4.70</td>\n",
       "      <td>5.578436</td>\n",
       "    </tr>\n",
       "    <tr>\n",
       "      <th>2006-05-27 00:00:00</th>\n",
       "      <td>4.45</td>\n",
       "      <td>3.92</td>\n",
       "      <td>4.19</td>\n",
       "      <td>4.60</td>\n",
       "      <td>5.34</td>\n",
       "      <td>4.70</td>\n",
       "      <td>3.00</td>\n",
       "      <td>4.583254</td>\n",
       "    </tr>\n",
       "  </tbody>\n",
       "</table>\n",
       "</div>"
      ],
      "text/plain": [
       "                      f_0   f_1   f_2   f_3   f_4   f_5  target_h1  \\\n",
       "target_date                                                          \n",
       "2006-05-26 20:00:00  5.30  5.19  5.24  5.27  4.45  3.92       4.19   \n",
       "2006-05-26 21:00:00  5.19  5.24  5.27  4.45  3.92  4.19       4.60   \n",
       "2006-05-26 22:00:00  5.24  5.27  4.45  3.92  4.19  4.60       5.34   \n",
       "2006-05-26 23:00:00  5.27  4.45  3.92  4.19  4.60  5.34       4.70   \n",
       "2006-05-27 00:00:00  4.45  3.92  4.19  4.60  5.34  4.70       3.00   \n",
       "\n",
       "                     target_predicted  \n",
       "target_date                            \n",
       "2006-05-26 20:00:00          3.852135  \n",
       "2006-05-26 21:00:00          4.271173  \n",
       "2006-05-26 22:00:00          4.732131  \n",
       "2006-05-26 23:00:00          5.578436  \n",
       "2006-05-27 00:00:00          4.583254  "
      ]
     },
     "execution_count": 170,
     "metadata": {},
     "output_type": "execute_result"
    }
   ],
   "source": [
    " df_prediction.head()"
   ]
  },
  {
   "cell_type": "code",
   "execution_count": 171,
   "metadata": {},
   "outputs": [],
   "source": [
    "df_prediction['mse_h1'] = np.power(df_prediction.target_h1 -\n",
    "                                   df_prediction.target_predicted, 2)"
   ]
  },
  {
   "cell_type": "code",
   "execution_count": 172,
   "metadata": {},
   "outputs": [],
   "source": [
    "df_prediction['mae_h1'] = np.abs(df_prediction.target_h1 - \n",
    "                                 df_prediction.target_predicted)"
   ]
  },
  {
   "cell_type": "code",
   "execution_count": 173,
   "metadata": {},
   "outputs": [
    {
     "data": {
      "text/html": [
       "<div>\n",
       "<table border=\"1\" class=\"dataframe\">\n",
       "  <thead>\n",
       "    <tr style=\"text-align: right;\">\n",
       "      <th></th>\n",
       "      <th>f_0</th>\n",
       "      <th>f_1</th>\n",
       "      <th>f_2</th>\n",
       "      <th>f_3</th>\n",
       "      <th>f_4</th>\n",
       "      <th>f_5</th>\n",
       "      <th>target_h1</th>\n",
       "      <th>target_predicted</th>\n",
       "      <th>mse_h1</th>\n",
       "      <th>mae_h1</th>\n",
       "    </tr>\n",
       "    <tr>\n",
       "      <th>target_date</th>\n",
       "      <th></th>\n",
       "      <th></th>\n",
       "      <th></th>\n",
       "      <th></th>\n",
       "      <th></th>\n",
       "      <th></th>\n",
       "      <th></th>\n",
       "      <th></th>\n",
       "      <th></th>\n",
       "      <th></th>\n",
       "    </tr>\n",
       "  </thead>\n",
       "  <tbody>\n",
       "    <tr>\n",
       "      <th>2006-05-26 20:00:00</th>\n",
       "      <td>5.30</td>\n",
       "      <td>5.19</td>\n",
       "      <td>5.24</td>\n",
       "      <td>5.27</td>\n",
       "      <td>4.45</td>\n",
       "      <td>3.92</td>\n",
       "      <td>4.19</td>\n",
       "      <td>3.852135</td>\n",
       "      <td>0.114153</td>\n",
       "      <td>0.337865</td>\n",
       "    </tr>\n",
       "    <tr>\n",
       "      <th>2006-05-26 21:00:00</th>\n",
       "      <td>5.19</td>\n",
       "      <td>5.24</td>\n",
       "      <td>5.27</td>\n",
       "      <td>4.45</td>\n",
       "      <td>3.92</td>\n",
       "      <td>4.19</td>\n",
       "      <td>4.60</td>\n",
       "      <td>4.271173</td>\n",
       "      <td>0.108127</td>\n",
       "      <td>0.328827</td>\n",
       "    </tr>\n",
       "    <tr>\n",
       "      <th>2006-05-26 22:00:00</th>\n",
       "      <td>5.24</td>\n",
       "      <td>5.27</td>\n",
       "      <td>4.45</td>\n",
       "      <td>3.92</td>\n",
       "      <td>4.19</td>\n",
       "      <td>4.60</td>\n",
       "      <td>5.34</td>\n",
       "      <td>4.732131</td>\n",
       "      <td>0.369505</td>\n",
       "      <td>0.607869</td>\n",
       "    </tr>\n",
       "    <tr>\n",
       "      <th>2006-05-26 23:00:00</th>\n",
       "      <td>5.27</td>\n",
       "      <td>4.45</td>\n",
       "      <td>3.92</td>\n",
       "      <td>4.19</td>\n",
       "      <td>4.60</td>\n",
       "      <td>5.34</td>\n",
       "      <td>4.70</td>\n",
       "      <td>5.578436</td>\n",
       "      <td>0.771650</td>\n",
       "      <td>0.878436</td>\n",
       "    </tr>\n",
       "    <tr>\n",
       "      <th>2006-05-27 00:00:00</th>\n",
       "      <td>4.45</td>\n",
       "      <td>3.92</td>\n",
       "      <td>4.19</td>\n",
       "      <td>4.60</td>\n",
       "      <td>5.34</td>\n",
       "      <td>4.70</td>\n",
       "      <td>3.00</td>\n",
       "      <td>4.583254</td>\n",
       "      <td>2.506693</td>\n",
       "      <td>1.583254</td>\n",
       "    </tr>\n",
       "  </tbody>\n",
       "</table>\n",
       "</div>"
      ],
      "text/plain": [
       "                      f_0   f_1   f_2   f_3   f_4   f_5  target_h1  \\\n",
       "target_date                                                          \n",
       "2006-05-26 20:00:00  5.30  5.19  5.24  5.27  4.45  3.92       4.19   \n",
       "2006-05-26 21:00:00  5.19  5.24  5.27  4.45  3.92  4.19       4.60   \n",
       "2006-05-26 22:00:00  5.24  5.27  4.45  3.92  4.19  4.60       5.34   \n",
       "2006-05-26 23:00:00  5.27  4.45  3.92  4.19  4.60  5.34       4.70   \n",
       "2006-05-27 00:00:00  4.45  3.92  4.19  4.60  5.34  4.70       3.00   \n",
       "\n",
       "                     target_predicted    mse_h1    mae_h1  \n",
       "target_date                                                \n",
       "2006-05-26 20:00:00          3.852135  0.114153  0.337865  \n",
       "2006-05-26 21:00:00          4.271173  0.108127  0.328827  \n",
       "2006-05-26 22:00:00          4.732131  0.369505  0.607869  \n",
       "2006-05-26 23:00:00          5.578436  0.771650  0.878436  \n",
       "2006-05-27 00:00:00          4.583254  2.506693  1.583254  "
      ]
     },
     "execution_count": 173,
     "metadata": {},
     "output_type": "execute_result"
    }
   ],
   "source": [
    "# write on disk\n",
    "df_prediction.head()"
   ]
  },
  {
   "cell_type": "code",
   "execution_count": 174,
   "metadata": {},
   "outputs": [
    {
     "data": {
      "text/plain": [
       "0.8167876982808187"
      ]
     },
     "execution_count": 174,
     "metadata": {},
     "output_type": "execute_result"
    }
   ],
   "source": [
    "test_mse = df_prediction.mse_h1.sum() / len(df_prediction.mse_h1)\n",
    "test_mse"
   ]
  },
  {
   "cell_type": "code",
   "execution_count": 175,
   "metadata": {},
   "outputs": [
    {
     "data": {
      "text/plain": [
       "0.5562301339160354"
      ]
     },
     "execution_count": 175,
     "metadata": {},
     "output_type": "execute_result"
    }
   ],
   "source": [
    "test_mae = df_prediction.mae_h1.sum() / len(df_prediction.mae_h1)\n",
    "test_mae"
   ]
  },
  {
   "cell_type": "code",
   "execution_count": null,
   "metadata": {
    "collapsed": true
   },
   "outputs": [],
   "source": []
  }
 ],
 "metadata": {
  "kernelspec": {
   "display_name": "Python 3.5 + TensorFlow 1.0",
   "language": "python",
   "name": "p3tf1"
  },
  "language_info": {
   "codemirror_mode": {
    "name": "ipython",
    "version": 3
   },
   "file_extension": ".py",
   "mimetype": "text/x-python",
   "name": "python",
   "nbconvert_exporter": "python",
   "pygments_lexer": "ipython3",
   "version": "3.5.3"
  }
 },
 "nbformat": 4,
 "nbformat_minor": 2
}
