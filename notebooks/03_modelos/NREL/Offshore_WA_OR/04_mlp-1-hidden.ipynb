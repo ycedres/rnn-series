{
 "cells": [
  {
   "cell_type": "markdown",
   "metadata": {},
   "source": [
    "# Neural Network - Fully-connected"
   ]
  },
  {
   "cell_type": "code",
   "execution_count": 72,
   "metadata": {
    "collapsed": true
   },
   "outputs": [],
   "source": [
    "%matplotlib inline\n",
    "import os\n",
    "import sys\n",
    "import glob\n",
    "import pandas as pd\n",
    "import matplotlib.pyplot as plt\n",
    "plt.style.use('ggplot')\n",
    "\n",
    "# import RenewAI\n",
    "sys.path.append('/Users/tmorales/tmp/RNN-windPower/src')\n",
    "from pre_process.split_ml_ts import dataframe_split\n",
    "\n",
    "import numpy as np"
   ]
  },
  {
   "cell_type": "code",
   "execution_count": 2,
   "metadata": {
    "collapsed": true
   },
   "outputs": [],
   "source": [
    "exp_path = '/Users/tmorales/tmp/experiments/NREL/Offshore_WA_OR/turbine_25915'\n",
    "experiment_name = 'nn-fully-connect-one-hidden'\n",
    "directory = os.path.join(exp_path, experiment_name)\n",
    "if not os.path.exists(directory):\n",
    "    os.makedirs(directory)"
   ]
  },
  {
   "cell_type": "markdown",
   "metadata": {},
   "source": [
    "## Load file"
   ]
  },
  {
   "cell_type": "code",
   "execution_count": 3,
   "metadata": {
    "collapsed": true
   },
   "outputs": [],
   "source": [
    "path = '/Users/tmorales/tmp/RNN-windPower/database/wind_farms/Offshore_WA_OR/Offshore_WA_OR_features'"
   ]
  },
  {
   "cell_type": "code",
   "execution_count": 4,
   "metadata": {},
   "outputs": [
    {
     "data": {
      "text/plain": [
       "['Offshore_WA_OR_features_h_01.csv',\n",
       " 'Offshore_WA_OR_features_h_02.csv',\n",
       " 'Offshore_WA_OR_features_h_03.csv',\n",
       " 'Offshore_WA_OR_features_h_04.csv',\n",
       " 'Offshore_WA_OR_features_h_05.csv',\n",
       " 'Offshore_WA_OR_features_h_06.csv',\n",
       " 'Offshore_WA_OR_features_h_07.csv',\n",
       " 'Offshore_WA_OR_features_h_08.csv',\n",
       " 'Offshore_WA_OR_features_h_09.csv',\n",
       " 'Offshore_WA_OR_features_h_10.csv',\n",
       " 'Offshore_WA_OR_features_h_11.csv',\n",
       " 'Offshore_WA_OR_features_h_12.csv',\n",
       " 'Offshore_WA_OR_features_h_13.csv',\n",
       " 'Offshore_WA_OR_features_h_14.csv',\n",
       " 'Offshore_WA_OR_features_h_15.csv',\n",
       " 'Offshore_WA_OR_features_h_16.csv',\n",
       " 'Offshore_WA_OR_features_h_17.csv',\n",
       " 'Offshore_WA_OR_features_h_18.csv',\n",
       " 'Offshore_WA_OR_features_h_19.csv',\n",
       " 'Offshore_WA_OR_features_h_20.csv',\n",
       " 'Offshore_WA_OR_features_h_21.csv',\n",
       " 'Offshore_WA_OR_features_h_22.csv',\n",
       " 'Offshore_WA_OR_features_h_23.csv',\n",
       " 'Offshore_WA_OR_features_h_24.csv']"
      ]
     },
     "execution_count": 4,
     "metadata": {},
     "output_type": "execute_result"
    }
   ],
   "source": [
    "os.chdir(path)\n",
    "files = [file for file in glob.glob('Offshore_WA_OR_features_*.csv')]\n",
    "files"
   ]
  },
  {
   "cell_type": "markdown",
   "metadata": {},
   "source": [
    "## Paso 1: only one h-step"
   ]
  },
  {
   "cell_type": "code",
   "execution_count": 5,
   "metadata": {
    "collapsed": true
   },
   "outputs": [],
   "source": [
    "h1 = files[0]"
   ]
  },
  {
   "cell_type": "code",
   "execution_count": 6,
   "metadata": {
    "collapsed": true
   },
   "outputs": [],
   "source": [
    "# create directory for each horizont (each horizon is a regressor)\n",
    "horizont = 1\n",
    "directory_by_horizont = os.path.join(exp_path, \n",
    "                                     experiment_name,\n",
    "                                     'model_saved_h={0:03d}'.format(horizont))\n",
    "if not os.path.exists(directory_by_horizont):\n",
    "    os.makedirs(directory_by_horizont)"
   ]
  },
  {
   "cell_type": "code",
   "execution_count": 7,
   "metadata": {},
   "outputs": [
    {
     "data": {
      "text/html": [
       "<div>\n",
       "<table border=\"1\" class=\"dataframe\">\n",
       "  <thead>\n",
       "    <tr style=\"text-align: right;\">\n",
       "      <th></th>\n",
       "      <th>f_0</th>\n",
       "      <th>f_1</th>\n",
       "      <th>f_2</th>\n",
       "      <th>f_3</th>\n",
       "      <th>f_4</th>\n",
       "      <th>f_5</th>\n",
       "      <th>target_h1</th>\n",
       "    </tr>\n",
       "    <tr>\n",
       "      <th>target_date</th>\n",
       "      <th></th>\n",
       "      <th></th>\n",
       "      <th></th>\n",
       "      <th></th>\n",
       "      <th></th>\n",
       "      <th></th>\n",
       "      <th></th>\n",
       "    </tr>\n",
       "  </thead>\n",
       "  <tbody>\n",
       "    <tr>\n",
       "      <th>2004-01-01 06:00:00</th>\n",
       "      <td>6.96</td>\n",
       "      <td>5.28</td>\n",
       "      <td>5.32</td>\n",
       "      <td>4.93</td>\n",
       "      <td>4.05</td>\n",
       "      <td>3.95</td>\n",
       "      <td>4.19</td>\n",
       "    </tr>\n",
       "    <tr>\n",
       "      <th>2004-01-01 07:00:00</th>\n",
       "      <td>5.28</td>\n",
       "      <td>5.32</td>\n",
       "      <td>4.93</td>\n",
       "      <td>4.05</td>\n",
       "      <td>3.95</td>\n",
       "      <td>4.19</td>\n",
       "      <td>4.89</td>\n",
       "    </tr>\n",
       "    <tr>\n",
       "      <th>2004-01-01 08:00:00</th>\n",
       "      <td>5.32</td>\n",
       "      <td>4.93</td>\n",
       "      <td>4.05</td>\n",
       "      <td>3.95</td>\n",
       "      <td>4.19</td>\n",
       "      <td>4.89</td>\n",
       "      <td>5.16</td>\n",
       "    </tr>\n",
       "    <tr>\n",
       "      <th>2004-01-01 09:00:00</th>\n",
       "      <td>4.93</td>\n",
       "      <td>4.05</td>\n",
       "      <td>3.95</td>\n",
       "      <td>4.19</td>\n",
       "      <td>4.89</td>\n",
       "      <td>5.16</td>\n",
       "      <td>5.01</td>\n",
       "    </tr>\n",
       "  </tbody>\n",
       "</table>\n",
       "</div>"
      ],
      "text/plain": [
       "                      f_0   f_1   f_2   f_3   f_4   f_5  target_h1\n",
       "target_date                                                       \n",
       "2004-01-01 06:00:00  6.96  5.28  5.32  4.93  4.05  3.95       4.19\n",
       "2004-01-01 07:00:00  5.28  5.32  4.93  4.05  3.95  4.19       4.89\n",
       "2004-01-01 08:00:00  5.32  4.93  4.05  3.95  4.19  4.89       5.16\n",
       "2004-01-01 09:00:00  4.93  4.05  3.95  4.19  4.89  5.16       5.01"
      ]
     },
     "execution_count": 7,
     "metadata": {},
     "output_type": "execute_result"
    }
   ],
   "source": [
    "# load file\n",
    "df_h1 = pd.read_csv(files[0], delimiter=';', index_col=0)\n",
    "df_h1.head(4)"
   ]
  },
  {
   "cell_type": "code",
   "execution_count": 8,
   "metadata": {
    "collapsed": true
   },
   "outputs": [],
   "source": [
    "# select the best model for h=1\n",
    "\n",
    "# split the dataset in train, val and test\n",
    "data = dataframe_split(df_h1)\n",
    "train_set = data['train_set']\n",
    "validation_set = data['validation_set']\n",
    "test_set = data['test_set']"
   ]
  },
  {
   "cell_type": "code",
   "execution_count": 9,
   "metadata": {
    "collapsed": true
   },
   "outputs": [],
   "source": [
    "# features and target columns\n",
    "features_columns = train_set.columns[1:-1]\n",
    "target_column = train_set.columns[-1:]"
   ]
  },
  {
   "cell_type": "code",
   "execution_count": 10,
   "metadata": {
    "collapsed": true
   },
   "outputs": [],
   "source": [
    "# select the values of features and target columns.\n",
    "features_train_set = train_set[features_columns]\n",
    "target_train_set = train_set[target_column]\n",
    "features_validation_set = validation_set[features_columns]\n",
    "target_validation_set = validation_set[target_column]"
   ]
  },
  {
   "cell_type": "code",
   "execution_count": 11,
   "metadata": {
    "collapsed": true
   },
   "outputs": [],
   "source": [
    "# select values\n",
    "x_train = features_train_set.values; y_train = target_train_set.values\n",
    "x_val = features_validation_set.values; y_val = target_validation_set.values"
   ]
  },
  {
   "cell_type": "code",
   "execution_count": 12,
   "metadata": {},
   "outputs": [
    {
     "name": "stdout",
     "output_type": "stream",
     "text": [
      "N of examples: (16830, 5)\n"
     ]
    }
   ],
   "source": [
    "print('N of examples: {0}'.format(x_train.shape))"
   ]
  },
  {
   "cell_type": "code",
   "execution_count": 13,
   "metadata": {},
   "outputs": [
    {
     "data": {
      "text/plain": [
       "22.25"
      ]
     },
     "execution_count": 13,
     "metadata": {},
     "output_type": "execute_result"
    }
   ],
   "source": [
    "x_train.max()"
   ]
  },
  {
   "cell_type": "markdown",
   "metadata": {},
   "source": [
    "## Paso 2: Model defenition"
   ]
  },
  {
   "cell_type": "code",
   "execution_count": 14,
   "metadata": {},
   "outputs": [
    {
     "name": "stderr",
     "output_type": "stream",
     "text": [
      "/Users/tmorales/interpreters/anaconda3/envs/p3tf1/lib/python3.5/site-packages/h5py/__init__.py:34: FutureWarning: Conversion of the second argument of issubdtype from `float` to `np.floating` is deprecated. In future, it will be treated as `np.float64 == np.dtype(float).type`.\n",
      "  from ._conv import register_converters as _register_converters\n",
      "Using TensorFlow backend.\n"
     ]
    }
   ],
   "source": [
    "from keras.layers import Input\n",
    "from keras.layers import Dense\n",
    "from keras.layers import BatchNormalization\n",
    "from keras.models import Model\n",
    "from keras.optimizers import Adam\n",
    "from keras.utils import plot_model"
   ]
  },
  {
   "cell_type": "code",
   "execution_count": 15,
   "metadata": {
    "collapsed": true
   },
   "outputs": [],
   "source": [
    "n_input = 5\n",
    "neurons = 4\n",
    "output = 1\n",
    "lr = 0.001\n",
    "epochs = 100\n",
    "batch_size = 1024"
   ]
  },
  {
   "cell_type": "code",
   "execution_count": 16,
   "metadata": {},
   "outputs": [
    {
     "name": "stdout",
     "output_type": "stream",
     "text": [
      "_________________________________________________________________\n",
      "Layer (type)                 Output Shape              Param #   \n",
      "=================================================================\n",
      "input-layer (InputLayer)     (None, 5)                 0         \n",
      "_________________________________________________________________\n",
      "batch_normalization (BatchNo (None, 5)                 20        \n",
      "_________________________________________________________________\n",
      "hidden (Dense)               (None, 4)                 24        \n",
      "_________________________________________________________________\n",
      "output-layer (Dense)         (None, 1)                 5         \n",
      "=================================================================\n",
      "Total params: 49\n",
      "Trainable params: 39\n",
      "Non-trainable params: 10\n",
      "_________________________________________________________________\n"
     ]
    }
   ],
   "source": [
    "# -- topology\n",
    "inputs = Input(shape = (n_input,), name='input-layer')\n",
    "batch_normalization = BatchNormalization(name='batch_normalization')(inputs)\n",
    "hidden = Dense(neurons, activation='relu', name='hidden')(batch_normalization)\n",
    "output = Dense(output, activation='linear', name='output-layer')(hidden)\n",
    "\n",
    "model = Model(inputs=inputs, outputs=output)\n",
    "model.summary()\n",
    "\n",
    "plot_model(model,\n",
    "          to_file='mlp-hidden-1.png',\n",
    "          show_shapes=True,\n",
    "          show_layer_names=True,\n",
    "          rankdir='LR')"
   ]
  },
  {
   "cell_type": "code",
   "execution_count": 17,
   "metadata": {
    "collapsed": true
   },
   "outputs": [],
   "source": [
    "# -- compile\n",
    "opt = Adam(lr = lr)\n",
    "model.compile(loss='mean_squared_error',\n",
    "              optimizer = opt,\n",
    "              metrics = ['mae']) "
   ]
  },
  {
   "cell_type": "code",
   "execution_count": 18,
   "metadata": {
    "scrolled": false
   },
   "outputs": [
    {
     "name": "stdout",
     "output_type": "stream",
     "text": [
      "Train on 16830 samples, validate on 4208 samples\n",
      "Epoch 1/100\n",
      "16830/16830 [==============================] - 0s 29us/step - loss: 45.3528 - mean_absolute_error: 5.8897 - val_loss: 30.6028 - val_mean_absolute_error: 4.8430\n",
      "Epoch 2/100\n",
      "16830/16830 [==============================] - 0s 3us/step - loss: 43.5124 - mean_absolute_error: 5.7746 - val_loss: 29.6612 - val_mean_absolute_error: 4.7919\n",
      "Epoch 3/100\n",
      "16830/16830 [==============================] - 0s 3us/step - loss: 41.4962 - mean_absolute_error: 5.6439 - val_loss: 28.4487 - val_mean_absolute_error: 4.7124\n",
      "Epoch 4/100\n",
      "16830/16830 [==============================] - 0s 4us/step - loss: 39.3989 - mean_absolute_error: 5.5057 - val_loss: 27.1815 - val_mean_absolute_error: 4.6228\n",
      "Epoch 5/100\n",
      "16830/16830 [==============================] - 0s 5us/step - loss: 37.2369 - mean_absolute_error: 5.3593 - val_loss: 25.9431 - val_mean_absolute_error: 4.5294\n",
      "Epoch 6/100\n",
      "16830/16830 [==============================] - 0s 5us/step - loss: 35.0485 - mean_absolute_error: 5.2073 - val_loss: 24.7164 - val_mean_absolute_error: 4.4316\n",
      "Epoch 7/100\n",
      "16830/16830 [==============================] - 0s 4us/step - loss: 32.8615 - mean_absolute_error: 5.0497 - val_loss: 23.4713 - val_mean_absolute_error: 4.3269\n",
      "Epoch 8/100\n",
      "16830/16830 [==============================] - 0s 4us/step - loss: 30.6719 - mean_absolute_error: 4.8870 - val_loss: 22.2027 - val_mean_absolute_error: 4.2148\n",
      "Epoch 9/100\n",
      "16830/16830 [==============================] - 0s 3us/step - loss: 28.5077 - mean_absolute_error: 4.7196 - val_loss: 20.9154 - val_mean_absolute_error: 4.0953\n",
      "Epoch 10/100\n",
      "16830/16830 [==============================] - 0s 3us/step - loss: 26.3887 - mean_absolute_error: 4.5481 - val_loss: 19.6251 - val_mean_absolute_error: 3.9697\n",
      "Epoch 11/100\n",
      "16830/16830 [==============================] - 0s 3us/step - loss: 24.3162 - mean_absolute_error: 4.3738 - val_loss: 18.3308 - val_mean_absolute_error: 3.8383\n",
      "Epoch 12/100\n",
      "16830/16830 [==============================] - 0s 3us/step - loss: 22.3268 - mean_absolute_error: 4.1951 - val_loss: 16.9974 - val_mean_absolute_error: 3.6980\n",
      "Epoch 13/100\n",
      "16830/16830 [==============================] - 0s 3us/step - loss: 20.3940 - mean_absolute_error: 4.0173 - val_loss: 15.7285 - val_mean_absolute_error: 3.5582\n",
      "Epoch 14/100\n",
      "16830/16830 [==============================] - 0s 3us/step - loss: 18.5777 - mean_absolute_error: 3.8383 - val_loss: 14.4768 - val_mean_absolute_error: 3.4137\n",
      "Epoch 15/100\n",
      "16830/16830 [==============================] - 0s 3us/step - loss: 16.8560 - mean_absolute_error: 3.6602 - val_loss: 13.3055 - val_mean_absolute_error: 3.2712\n",
      "Epoch 16/100\n",
      "16830/16830 [==============================] - 0s 3us/step - loss: 15.2476 - mean_absolute_error: 3.4814 - val_loss: 12.1745 - val_mean_absolute_error: 3.1253\n",
      "Epoch 17/100\n",
      "16830/16830 [==============================] - 0s 3us/step - loss: 13.7419 - mean_absolute_error: 3.3059 - val_loss: 11.1014 - val_mean_absolute_error: 2.9791\n",
      "Epoch 18/100\n",
      "16830/16830 [==============================] - 0s 3us/step - loss: 12.3842 - mean_absolute_error: 3.1325 - val_loss: 10.0885 - val_mean_absolute_error: 2.8327\n",
      "Epoch 19/100\n",
      "16830/16830 [==============================] - 0s 3us/step - loss: 11.1144 - mean_absolute_error: 2.9632 - val_loss: 9.1794 - val_mean_absolute_error: 2.6937\n",
      "Epoch 20/100\n",
      "16830/16830 [==============================] - 0s 3us/step - loss: 9.9754 - mean_absolute_error: 2.7987 - val_loss: 8.3252 - val_mean_absolute_error: 2.5549\n",
      "Epoch 21/100\n",
      "16830/16830 [==============================] - 0s 3us/step - loss: 8.9275 - mean_absolute_error: 2.6362 - val_loss: 7.5378 - val_mean_absolute_error: 2.4194\n",
      "Epoch 22/100\n",
      "16830/16830 [==============================] - 0s 3us/step - loss: 7.9791 - mean_absolute_error: 2.4784 - val_loss: 6.7982 - val_mean_absolute_error: 2.2843\n",
      "Epoch 23/100\n",
      "16830/16830 [==============================] - 0s 3us/step - loss: 7.1275 - mean_absolute_error: 2.3270 - val_loss: 6.1347 - val_mean_absolute_error: 2.1580\n",
      "Epoch 24/100\n",
      "16830/16830 [==============================] - 0s 3us/step - loss: 6.3632 - mean_absolute_error: 2.1854 - val_loss: 5.5418 - val_mean_absolute_error: 2.0406\n",
      "Epoch 25/100\n",
      "16830/16830 [==============================] - 0s 3us/step - loss: 5.7029 - mean_absolute_error: 2.0540 - val_loss: 5.0023 - val_mean_absolute_error: 1.9278\n",
      "Epoch 26/100\n",
      "16830/16830 [==============================] - 0s 3us/step - loss: 5.1155 - mean_absolute_error: 1.9328 - val_loss: 4.5330 - val_mean_absolute_error: 1.8234\n",
      "Epoch 27/100\n",
      "16830/16830 [==============================] - 0s 3us/step - loss: 4.6036 - mean_absolute_error: 1.8200 - val_loss: 4.1088 - val_mean_absolute_error: 1.7229\n",
      "Epoch 28/100\n",
      "16830/16830 [==============================] - 0s 3us/step - loss: 4.1521 - mean_absolute_error: 1.7146 - val_loss: 3.7303 - val_mean_absolute_error: 1.6283\n",
      "Epoch 29/100\n",
      "16830/16830 [==============================] - 0s 3us/step - loss: 3.7529 - mean_absolute_error: 1.6163 - val_loss: 3.3992 - val_mean_absolute_error: 1.5409\n",
      "Epoch 30/100\n",
      "16830/16830 [==============================] - 0s 3us/step - loss: 3.4191 - mean_absolute_error: 1.5271 - val_loss: 3.0980 - val_mean_absolute_error: 1.4548\n",
      "Epoch 31/100\n",
      "16830/16830 [==============================] - 0s 3us/step - loss: 3.1037 - mean_absolute_error: 1.4391 - val_loss: 2.8359 - val_mean_absolute_error: 1.3747\n",
      "Epoch 32/100\n",
      "16830/16830 [==============================] - 0s 4us/step - loss: 2.8445 - mean_absolute_error: 1.3597 - val_loss: 2.6055 - val_mean_absolute_error: 1.2995\n",
      "Epoch 33/100\n",
      "16830/16830 [==============================] - 0s 4us/step - loss: 2.6222 - mean_absolute_error: 1.2862 - val_loss: 2.4040 - val_mean_absolute_error: 1.2314\n",
      "Epoch 34/100\n",
      "16830/16830 [==============================] - 0s 4us/step - loss: 2.4135 - mean_absolute_error: 1.2156 - val_loss: 2.2252 - val_mean_absolute_error: 1.1663\n",
      "Epoch 35/100\n",
      "16830/16830 [==============================] - 0s 3us/step - loss: 2.2378 - mean_absolute_error: 1.1539 - val_loss: 2.0709 - val_mean_absolute_error: 1.1098\n",
      "Epoch 36/100\n",
      "16830/16830 [==============================] - 0s 3us/step - loss: 2.0825 - mean_absolute_error: 1.0975 - val_loss: 1.9338 - val_mean_absolute_error: 1.0573\n",
      "Epoch 37/100\n",
      "16830/16830 [==============================] - 0s 4us/step - loss: 1.9550 - mean_absolute_error: 1.0480 - val_loss: 1.8136 - val_mean_absolute_error: 1.0104\n",
      "Epoch 38/100\n",
      "16830/16830 [==============================] - 0s 3us/step - loss: 1.8491 - mean_absolute_error: 1.0075 - val_loss: 1.7092 - val_mean_absolute_error: 0.9701\n",
      "Epoch 39/100\n",
      "16830/16830 [==============================] - 0s 3us/step - loss: 1.7486 - mean_absolute_error: 0.9707 - val_loss: 1.6174 - val_mean_absolute_error: 0.9332\n",
      "Epoch 40/100\n",
      "16830/16830 [==============================] - 0s 3us/step - loss: 1.6491 - mean_absolute_error: 0.9319 - val_loss: 1.5409 - val_mean_absolute_error: 0.9032\n",
      "Epoch 41/100\n",
      "16830/16830 [==============================] - 0s 3us/step - loss: 1.5847 - mean_absolute_error: 0.9054 - val_loss: 1.4739 - val_mean_absolute_error: 0.8758\n",
      "Epoch 42/100\n",
      "16830/16830 [==============================] - 0s 3us/step - loss: 1.5184 - mean_absolute_error: 0.8800 - val_loss: 1.4151 - val_mean_absolute_error: 0.8497\n",
      "Epoch 43/100\n",
      "16830/16830 [==============================] - 0s 3us/step - loss: 1.4755 - mean_absolute_error: 0.8619 - val_loss: 1.3647 - val_mean_absolute_error: 0.8281\n",
      "Epoch 44/100\n",
      "16830/16830 [==============================] - 0s 3us/step - loss: 1.4212 - mean_absolute_error: 0.8399 - val_loss: 1.3220 - val_mean_absolute_error: 0.8092\n",
      "Epoch 45/100\n",
      "16830/16830 [==============================] - 0s 3us/step - loss: 1.3741 - mean_absolute_error: 0.8225 - val_loss: 1.2868 - val_mean_absolute_error: 0.7945\n",
      "Epoch 46/100\n",
      "16830/16830 [==============================] - 0s 3us/step - loss: 1.3490 - mean_absolute_error: 0.8084 - val_loss: 1.2567 - val_mean_absolute_error: 0.7812\n",
      "Epoch 47/100\n",
      "16830/16830 [==============================] - 0s 3us/step - loss: 1.3162 - mean_absolute_error: 0.7954 - val_loss: 1.2319 - val_mean_absolute_error: 0.7701\n",
      "Epoch 48/100\n",
      "16830/16830 [==============================] - 0s 4us/step - loss: 1.2983 - mean_absolute_error: 0.7869 - val_loss: 1.2112 - val_mean_absolute_error: 0.7611\n"
     ]
    },
    {
     "name": "stdout",
     "output_type": "stream",
     "text": [
      "Epoch 49/100\n",
      "16830/16830 [==============================] - 0s 5us/step - loss: 1.2823 - mean_absolute_error: 0.7816 - val_loss: 1.1943 - val_mean_absolute_error: 0.7533\n",
      "Epoch 50/100\n",
      "16830/16830 [==============================] - 0s 3us/step - loss: 1.2541 - mean_absolute_error: 0.7703 - val_loss: 1.1800 - val_mean_absolute_error: 0.7475\n",
      "Epoch 51/100\n",
      "16830/16830 [==============================] - 0s 4us/step - loss: 1.2474 - mean_absolute_error: 0.7669 - val_loss: 1.1681 - val_mean_absolute_error: 0.7422\n",
      "Epoch 52/100\n",
      "16830/16830 [==============================] - 0s 3us/step - loss: 1.2361 - mean_absolute_error: 0.7621 - val_loss: 1.1575 - val_mean_absolute_error: 0.7374\n",
      "Epoch 53/100\n",
      "16830/16830 [==============================] - 0s 3us/step - loss: 1.2192 - mean_absolute_error: 0.7577 - val_loss: 1.1484 - val_mean_absolute_error: 0.7334\n",
      "Epoch 54/100\n",
      "16830/16830 [==============================] - 0s 3us/step - loss: 1.2129 - mean_absolute_error: 0.7532 - val_loss: 1.1409 - val_mean_absolute_error: 0.7305\n",
      "Epoch 55/100\n",
      "16830/16830 [==============================] - 0s 3us/step - loss: 1.2008 - mean_absolute_error: 0.7476 - val_loss: 1.1339 - val_mean_absolute_error: 0.7274\n",
      "Epoch 56/100\n",
      "16830/16830 [==============================] - 0s 3us/step - loss: 1.2089 - mean_absolute_error: 0.7520 - val_loss: 1.1276 - val_mean_absolute_error: 0.7247\n",
      "Epoch 57/100\n",
      "16830/16830 [==============================] - 0s 3us/step - loss: 1.1951 - mean_absolute_error: 0.7469 - val_loss: 1.1219 - val_mean_absolute_error: 0.7228\n",
      "Epoch 58/100\n",
      "16830/16830 [==============================] - 0s 3us/step - loss: 1.1861 - mean_absolute_error: 0.7437 - val_loss: 1.1167 - val_mean_absolute_error: 0.7206\n",
      "Epoch 59/100\n",
      "16830/16830 [==============================] - 0s 3us/step - loss: 1.1899 - mean_absolute_error: 0.7447 - val_loss: 1.1116 - val_mean_absolute_error: 0.7185\n",
      "Epoch 60/100\n",
      "16830/16830 [==============================] - 0s 3us/step - loss: 1.1877 - mean_absolute_error: 0.7454 - val_loss: 1.1070 - val_mean_absolute_error: 0.7166\n",
      "Epoch 61/100\n",
      "16830/16830 [==============================] - 0s 4us/step - loss: 1.1801 - mean_absolute_error: 0.7437 - val_loss: 1.1026 - val_mean_absolute_error: 0.7145\n",
      "Epoch 62/100\n",
      "16830/16830 [==============================] - 0s 4us/step - loss: 1.1737 - mean_absolute_error: 0.7391 - val_loss: 1.0984 - val_mean_absolute_error: 0.7127\n",
      "Epoch 63/100\n",
      "16830/16830 [==============================] - 0s 4us/step - loss: 1.1737 - mean_absolute_error: 0.7401 - val_loss: 1.0945 - val_mean_absolute_error: 0.7118\n",
      "Epoch 64/100\n",
      "16830/16830 [==============================] - 0s 3us/step - loss: 1.1673 - mean_absolute_error: 0.7386 - val_loss: 1.0905 - val_mean_absolute_error: 0.7101\n",
      "Epoch 65/100\n",
      "16830/16830 [==============================] - 0s 3us/step - loss: 1.1632 - mean_absolute_error: 0.7347 - val_loss: 1.0866 - val_mean_absolute_error: 0.7086\n",
      "Epoch 66/100\n",
      "16830/16830 [==============================] - 0s 3us/step - loss: 1.1514 - mean_absolute_error: 0.7324 - val_loss: 1.0827 - val_mean_absolute_error: 0.7070\n",
      "Epoch 67/100\n",
      "16830/16830 [==============================] - 0s 3us/step - loss: 1.1546 - mean_absolute_error: 0.7342 - val_loss: 1.0792 - val_mean_absolute_error: 0.7058\n",
      "Epoch 68/100\n",
      "16830/16830 [==============================] - 0s 3us/step - loss: 1.1497 - mean_absolute_error: 0.7318 - val_loss: 1.0753 - val_mean_absolute_error: 0.7043\n",
      "Epoch 69/100\n",
      "16830/16830 [==============================] - 0s 3us/step - loss: 1.1572 - mean_absolute_error: 0.7342 - val_loss: 1.0715 - val_mean_absolute_error: 0.7023\n",
      "Epoch 70/100\n",
      "16830/16830 [==============================] - 0s 3us/step - loss: 1.1495 - mean_absolute_error: 0.7321 - val_loss: 1.0680 - val_mean_absolute_error: 0.7006\n",
      "Epoch 71/100\n",
      "16830/16830 [==============================] - 0s 3us/step - loss: 1.1435 - mean_absolute_error: 0.7282 - val_loss: 1.0646 - val_mean_absolute_error: 0.6995\n",
      "Epoch 72/100\n",
      "16830/16830 [==============================] - 0s 3us/step - loss: 1.1339 - mean_absolute_error: 0.7254 - val_loss: 1.0612 - val_mean_absolute_error: 0.6983\n",
      "Epoch 73/100\n",
      "16830/16830 [==============================] - 0s 3us/step - loss: 1.1371 - mean_absolute_error: 0.7281 - val_loss: 1.0577 - val_mean_absolute_error: 0.6969\n",
      "Epoch 74/100\n",
      "16830/16830 [==============================] - 0s 3us/step - loss: 1.1272 - mean_absolute_error: 0.7229 - val_loss: 1.0540 - val_mean_absolute_error: 0.6954\n",
      "Epoch 75/100\n",
      "16830/16830 [==============================] - 0s 3us/step - loss: 1.1264 - mean_absolute_error: 0.7207 - val_loss: 1.0504 - val_mean_absolute_error: 0.6938\n",
      "Epoch 76/100\n",
      "16830/16830 [==============================] - 0s 3us/step - loss: 1.1259 - mean_absolute_error: 0.7226 - val_loss: 1.0469 - val_mean_absolute_error: 0.6923\n",
      "Epoch 77/100\n",
      "16830/16830 [==============================] - 0s 3us/step - loss: 1.1372 - mean_absolute_error: 0.7240 - val_loss: 1.0433 - val_mean_absolute_error: 0.6900\n",
      "Epoch 78/100\n",
      "16830/16830 [==============================] - 0s 3us/step - loss: 1.1139 - mean_absolute_error: 0.7193 - val_loss: 1.0403 - val_mean_absolute_error: 0.6895\n",
      "Epoch 79/100\n",
      "16830/16830 [==============================] - 0s 3us/step - loss: 1.1197 - mean_absolute_error: 0.7208 - val_loss: 1.0363 - val_mean_absolute_error: 0.6875\n",
      "Epoch 80/100\n",
      "16830/16830 [==============================] - 0s 3us/step - loss: 1.1087 - mean_absolute_error: 0.7166 - val_loss: 1.0327 - val_mean_absolute_error: 0.6860\n",
      "Epoch 81/100\n",
      "16830/16830 [==============================] - 0s 3us/step - loss: 1.1116 - mean_absolute_error: 0.7157 - val_loss: 1.0296 - val_mean_absolute_error: 0.6844\n",
      "Epoch 82/100\n",
      "16830/16830 [==============================] - 0s 3us/step - loss: 1.0966 - mean_absolute_error: 0.7104 - val_loss: 1.0256 - val_mean_absolute_error: 0.6828\n",
      "Epoch 83/100\n",
      "16830/16830 [==============================] - 0s 3us/step - loss: 1.0989 - mean_absolute_error: 0.7108 - val_loss: 1.0219 - val_mean_absolute_error: 0.6807\n",
      "Epoch 84/100\n",
      "16830/16830 [==============================] - 0s 3us/step - loss: 1.0971 - mean_absolute_error: 0.7096 - val_loss: 1.0185 - val_mean_absolute_error: 0.6791\n",
      "Epoch 85/100\n",
      "16830/16830 [==============================] - 0s 3us/step - loss: 1.0869 - mean_absolute_error: 0.7058 - val_loss: 1.0153 - val_mean_absolute_error: 0.6777\n",
      "Epoch 86/100\n",
      "16830/16830 [==============================] - 0s 3us/step - loss: 1.0882 - mean_absolute_error: 0.7083 - val_loss: 1.0116 - val_mean_absolute_error: 0.6759\n",
      "Epoch 87/100\n",
      "16830/16830 [==============================] - 0s 3us/step - loss: 1.0819 - mean_absolute_error: 0.7035 - val_loss: 1.0084 - val_mean_absolute_error: 0.6745\n",
      "Epoch 88/100\n",
      "16830/16830 [==============================] - 0s 5us/step - loss: 1.0819 - mean_absolute_error: 0.7021 - val_loss: 1.0045 - val_mean_absolute_error: 0.6723\n",
      "Epoch 89/100\n",
      "16830/16830 [==============================] - 0s 5us/step - loss: 1.0775 - mean_absolute_error: 0.7003 - val_loss: 1.0012 - val_mean_absolute_error: 0.6714\n",
      "Epoch 90/100\n",
      "16830/16830 [==============================] - 0s 4us/step - loss: 1.0738 - mean_absolute_error: 0.7000 - val_loss: 0.9972 - val_mean_absolute_error: 0.6689\n",
      "Epoch 91/100\n",
      "16830/16830 [==============================] - 0s 4us/step - loss: 1.0687 - mean_absolute_error: 0.6983 - val_loss: 0.9941 - val_mean_absolute_error: 0.6680\n",
      "Epoch 92/100\n",
      "16830/16830 [==============================] - 0s 5us/step - loss: 1.0716 - mean_absolute_error: 0.6980 - val_loss: 0.9906 - val_mean_absolute_error: 0.6664\n",
      "Epoch 93/100\n",
      "16830/16830 [==============================] - 0s 4us/step - loss: 1.0624 - mean_absolute_error: 0.6952 - val_loss: 0.9871 - val_mean_absolute_error: 0.6647\n",
      "Epoch 94/100\n",
      "16830/16830 [==============================] - 0s 4us/step - loss: 1.0661 - mean_absolute_error: 0.6983 - val_loss: 0.9840 - val_mean_absolute_error: 0.6631\n",
      "Epoch 95/100\n",
      "16830/16830 [==============================] - 0s 4us/step - loss: 1.0543 - mean_absolute_error: 0.6926 - val_loss: 0.9807 - val_mean_absolute_error: 0.6619\n",
      "Epoch 96/100\n",
      "16830/16830 [==============================] - 0s 5us/step - loss: 1.0592 - mean_absolute_error: 0.6936 - val_loss: 0.9777 - val_mean_absolute_error: 0.6605\n",
      "Epoch 97/100\n",
      "16830/16830 [==============================] - 0s 4us/step - loss: 1.0430 - mean_absolute_error: 0.6867 - val_loss: 0.9751 - val_mean_absolute_error: 0.6598\n",
      "Epoch 98/100\n",
      "16830/16830 [==============================] - 0s 4us/step - loss: 1.0517 - mean_absolute_error: 0.6925 - val_loss: 0.9723 - val_mean_absolute_error: 0.6592\n",
      "Epoch 99/100\n",
      "16830/16830 [==============================] - 0s 4us/step - loss: 1.0429 - mean_absolute_error: 0.6867 - val_loss: 0.9692 - val_mean_absolute_error: 0.6567\n",
      "Epoch 100/100\n",
      "16830/16830 [==============================] - 0s 5us/step - loss: 1.0372 - mean_absolute_error: 0.6845 - val_loss: 0.9663 - val_mean_absolute_error: 0.6554\n"
     ]
    }
   ],
   "source": [
    "# -- fit \n",
    "history = model.fit(x_train, y_train,\n",
    "                    epochs=epochs,\n",
    "                    batch_size = batch_size,\n",
    "                    validation_data = (x_val, y_val))"
   ]
  },
  {
   "cell_type": "code",
   "execution_count": 19,
   "metadata": {},
   "outputs": [
    {
     "data": {
      "text/plain": [
       "<matplotlib.legend.Legend at 0x11f9d9a58>"
      ]
     },
     "execution_count": 19,
     "metadata": {},
     "output_type": "execute_result"
    },
    {
     "data": {
      "image/png": "[encoded data removed]",
      "text/plain": [
       "<matplotlib.figure.Figure at 0x11f4c23c8>"
      ]
     },
     "metadata": {},
     "output_type": "display_data"
    }
   ],
   "source": [
    "f, (ax1, ax2) = plt.subplots(2,1, figsize=(15,10))\n",
    "ax1.plot(history.history['loss'], lw=2, label='train')\n",
    "ax1.plot(history.history['val_loss'], lw=2, label='val')\n",
    "ax1.set_title('Loss: MSE')\n",
    "ax1.legend()\n",
    "ax2.plot(history.history['mean_absolute_error'], label='train')\n",
    "ax2.plot(history.history['val_mean_absolute_error'], label='val')\n",
    "ax2.set_title('Metric: MAE')\n",
    "ax2.legend()"
   ]
  },
  {
   "cell_type": "markdown",
   "metadata": {},
   "source": [
    "## Paso 3: Prediction"
   ]
  },
  {
   "cell_type": "code",
   "execution_count": 20,
   "metadata": {
    "collapsed": true
   },
   "outputs": [],
   "source": [
    "x_test = test_set[features_columns].values"
   ]
  },
  {
   "cell_type": "code",
   "execution_count": 21,
   "metadata": {
    "collapsed": true
   },
   "outputs": [],
   "source": [
    "predicted = model.predict(x_test)"
   ]
  },
  {
   "cell_type": "code",
   "execution_count": 22,
   "metadata": {},
   "outputs": [
    {
     "data": {
      "text/html": [
       "<div>\n",
       "<table border=\"1\" class=\"dataframe\">\n",
       "  <thead>\n",
       "    <tr style=\"text-align: right;\">\n",
       "      <th></th>\n",
       "      <th>f_0</th>\n",
       "      <th>f_1</th>\n",
       "      <th>f_2</th>\n",
       "      <th>f_3</th>\n",
       "      <th>f_4</th>\n",
       "      <th>f_5</th>\n",
       "      <th>target_h1</th>\n",
       "    </tr>\n",
       "    <tr>\n",
       "      <th>target_date</th>\n",
       "      <th></th>\n",
       "      <th></th>\n",
       "      <th></th>\n",
       "      <th></th>\n",
       "      <th></th>\n",
       "      <th></th>\n",
       "      <th></th>\n",
       "    </tr>\n",
       "  </thead>\n",
       "  <tbody>\n",
       "    <tr>\n",
       "      <th>2006-05-26 20:00:00</th>\n",
       "      <td>5.30</td>\n",
       "      <td>5.19</td>\n",
       "      <td>5.24</td>\n",
       "      <td>5.27</td>\n",
       "      <td>4.45</td>\n",
       "      <td>3.92</td>\n",
       "      <td>4.19</td>\n",
       "    </tr>\n",
       "    <tr>\n",
       "      <th>2006-05-26 21:00:00</th>\n",
       "      <td>5.19</td>\n",
       "      <td>5.24</td>\n",
       "      <td>5.27</td>\n",
       "      <td>4.45</td>\n",
       "      <td>3.92</td>\n",
       "      <td>4.19</td>\n",
       "      <td>4.60</td>\n",
       "    </tr>\n",
       "    <tr>\n",
       "      <th>2006-05-26 22:00:00</th>\n",
       "      <td>5.24</td>\n",
       "      <td>5.27</td>\n",
       "      <td>4.45</td>\n",
       "      <td>3.92</td>\n",
       "      <td>4.19</td>\n",
       "      <td>4.60</td>\n",
       "      <td>5.34</td>\n",
       "    </tr>\n",
       "    <tr>\n",
       "      <th>2006-05-26 23:00:00</th>\n",
       "      <td>5.27</td>\n",
       "      <td>4.45</td>\n",
       "      <td>3.92</td>\n",
       "      <td>4.19</td>\n",
       "      <td>4.60</td>\n",
       "      <td>5.34</td>\n",
       "      <td>4.70</td>\n",
       "    </tr>\n",
       "    <tr>\n",
       "      <th>2006-05-27 00:00:00</th>\n",
       "      <td>4.45</td>\n",
       "      <td>3.92</td>\n",
       "      <td>4.19</td>\n",
       "      <td>4.60</td>\n",
       "      <td>5.34</td>\n",
       "      <td>4.70</td>\n",
       "      <td>3.00</td>\n",
       "    </tr>\n",
       "  </tbody>\n",
       "</table>\n",
       "</div>"
      ],
      "text/plain": [
       "                      f_0   f_1   f_2   f_3   f_4   f_5  target_h1\n",
       "target_date                                                       \n",
       "2006-05-26 20:00:00  5.30  5.19  5.24  5.27  4.45  3.92       4.19\n",
       "2006-05-26 21:00:00  5.19  5.24  5.27  4.45  3.92  4.19       4.60\n",
       "2006-05-26 22:00:00  5.24  5.27  4.45  3.92  4.19  4.60       5.34\n",
       "2006-05-26 23:00:00  5.27  4.45  3.92  4.19  4.60  5.34       4.70\n",
       "2006-05-27 00:00:00  4.45  3.92  4.19  4.60  5.34  4.70       3.00"
      ]
     },
     "execution_count": 22,
     "metadata": {},
     "output_type": "execute_result"
    }
   ],
   "source": [
    "df_prediction = test_set.copy()\n",
    "df_prediction.head()"
   ]
  },
  {
   "cell_type": "code",
   "execution_count": 23,
   "metadata": {},
   "outputs": [
    {
     "data": {
      "text/html": [
       "<div>\n",
       "<table border=\"1\" class=\"dataframe\">\n",
       "  <thead>\n",
       "    <tr style=\"text-align: right;\">\n",
       "      <th></th>\n",
       "      <th>f_0</th>\n",
       "      <th>f_1</th>\n",
       "      <th>f_2</th>\n",
       "      <th>f_3</th>\n",
       "      <th>f_4</th>\n",
       "      <th>f_5</th>\n",
       "      <th>target_h1</th>\n",
       "      <th>target_predicted</th>\n",
       "    </tr>\n",
       "    <tr>\n",
       "      <th>target_date</th>\n",
       "      <th></th>\n",
       "      <th></th>\n",
       "      <th></th>\n",
       "      <th></th>\n",
       "      <th></th>\n",
       "      <th></th>\n",
       "      <th></th>\n",
       "      <th></th>\n",
       "    </tr>\n",
       "  </thead>\n",
       "  <tbody>\n",
       "    <tr>\n",
       "      <th>2006-05-26 20:00:00</th>\n",
       "      <td>5.30</td>\n",
       "      <td>5.19</td>\n",
       "      <td>5.24</td>\n",
       "      <td>5.27</td>\n",
       "      <td>4.45</td>\n",
       "      <td>3.92</td>\n",
       "      <td>4.19</td>\n",
       "      <td>3.741346</td>\n",
       "    </tr>\n",
       "    <tr>\n",
       "      <th>2006-05-26 21:00:00</th>\n",
       "      <td>5.19</td>\n",
       "      <td>5.24</td>\n",
       "      <td>5.27</td>\n",
       "      <td>4.45</td>\n",
       "      <td>3.92</td>\n",
       "      <td>4.19</td>\n",
       "      <td>4.60</td>\n",
       "      <td>4.337496</td>\n",
       "    </tr>\n",
       "    <tr>\n",
       "      <th>2006-05-26 22:00:00</th>\n",
       "      <td>5.24</td>\n",
       "      <td>5.27</td>\n",
       "      <td>4.45</td>\n",
       "      <td>3.92</td>\n",
       "      <td>4.19</td>\n",
       "      <td>4.60</td>\n",
       "      <td>5.34</td>\n",
       "      <td>4.733466</td>\n",
       "    </tr>\n",
       "    <tr>\n",
       "      <th>2006-05-26 23:00:00</th>\n",
       "      <td>5.27</td>\n",
       "      <td>4.45</td>\n",
       "      <td>3.92</td>\n",
       "      <td>4.19</td>\n",
       "      <td>4.60</td>\n",
       "      <td>5.34</td>\n",
       "      <td>4.70</td>\n",
       "      <td>5.397212</td>\n",
       "    </tr>\n",
       "    <tr>\n",
       "      <th>2006-05-27 00:00:00</th>\n",
       "      <td>4.45</td>\n",
       "      <td>3.92</td>\n",
       "      <td>4.19</td>\n",
       "      <td>4.60</td>\n",
       "      <td>5.34</td>\n",
       "      <td>4.70</td>\n",
       "      <td>3.00</td>\n",
       "      <td>4.840327</td>\n",
       "    </tr>\n",
       "  </tbody>\n",
       "</table>\n",
       "</div>"
      ],
      "text/plain": [
       "                      f_0   f_1   f_2   f_3   f_4   f_5  target_h1  \\\n",
       "target_date                                                          \n",
       "2006-05-26 20:00:00  5.30  5.19  5.24  5.27  4.45  3.92       4.19   \n",
       "2006-05-26 21:00:00  5.19  5.24  5.27  4.45  3.92  4.19       4.60   \n",
       "2006-05-26 22:00:00  5.24  5.27  4.45  3.92  4.19  4.60       5.34   \n",
       "2006-05-26 23:00:00  5.27  4.45  3.92  4.19  4.60  5.34       4.70   \n",
       "2006-05-27 00:00:00  4.45  3.92  4.19  4.60  5.34  4.70       3.00   \n",
       "\n",
       "                     target_predicted  \n",
       "target_date                            \n",
       "2006-05-26 20:00:00          3.741346  \n",
       "2006-05-26 21:00:00          4.337496  \n",
       "2006-05-26 22:00:00          4.733466  \n",
       "2006-05-26 23:00:00          5.397212  \n",
       "2006-05-27 00:00:00          4.840327  "
      ]
     },
     "execution_count": 23,
     "metadata": {},
     "output_type": "execute_result"
    }
   ],
   "source": [
    "df_prediction['target_predicted'] = predicted\n",
    "df_prediction.head()"
   ]
  },
  {
   "cell_type": "code",
   "execution_count": 68,
   "metadata": {},
   "outputs": [
    {
     "data": {
      "text/plain": [
       "<matplotlib.axes._subplots.AxesSubplot at 0x120186128>"
      ]
     },
     "execution_count": 68,
     "metadata": {},
     "output_type": "execute_result"
    },
    {
     "data": {
      "image/png": "[encoded data removed]",
      "text/plain": [
       "<matplotlib.figure.Figure at 0x120180748>"
      ]
     },
     "metadata": {},
     "output_type": "display_data"
    }
   ],
   "source": [
    "title='MLP-hidden1-5n'\n",
    "\n",
    "f, ax = plt.subplots(1,1,figsize=(10,10))\n",
    "x_min = df_prediction.target_h1.min() \n",
    "x_max = df_prediction.target_h1.max()\n",
    "y_min = df_prediction.target_predicted.min()\n",
    "y_max = df_prediction.target_predicted.max()\n",
    "# line\n",
    "ax.set_xlim(x_min+1, x_max+1)\n",
    "ax.set_ylim(x_min+1, x_max+1)\n",
    "ax.plot((x_min, x_max), (x_min, x_max), lw=3, c='r')\n",
    "# scatter\n",
    "df_prediction.plot(ax=ax,\n",
    "                   x='target_h1',\n",
    "                   y='target_predicted',\n",
    "                   kind='scatter',\n",
    "                  )"
   ]
  },
  {
   "cell_type": "code",
   "execution_count": 57,
   "metadata": {},
   "outputs": [
    {
     "data": {
      "text/plain": [
       "<matplotlib.axes._subplots.AxesSubplot at 0x120e3b898>"
      ]
     },
     "execution_count": 57,
     "metadata": {},
     "output_type": "execute_result"
    },
    {
     "data": {
      "image/png": "[encoded data removed]",
      "text/plain": [
       "<matplotlib.figure.Figure at 0x120f8a048>"
      ]
     },
     "metadata": {},
     "output_type": "display_data"
    }
   ],
   "source": [
    "df_prediction.iloc[:,-2:].plot(figsize=(15,5))"
   ]
  },
  {
   "cell_type": "code",
   "execution_count": 70,
   "metadata": {},
   "outputs": [
    {
     "data": {
      "text/html": [
       "<div>\n",
       "<table border=\"1\" class=\"dataframe\">\n",
       "  <thead>\n",
       "    <tr style=\"text-align: right;\">\n",
       "      <th></th>\n",
       "      <th>f_0</th>\n",
       "      <th>f_1</th>\n",
       "      <th>f_2</th>\n",
       "      <th>f_3</th>\n",
       "      <th>f_4</th>\n",
       "      <th>f_5</th>\n",
       "      <th>target_h1</th>\n",
       "      <th>target_predicted</th>\n",
       "    </tr>\n",
       "    <tr>\n",
       "      <th>target_date</th>\n",
       "      <th></th>\n",
       "      <th></th>\n",
       "      <th></th>\n",
       "      <th></th>\n",
       "      <th></th>\n",
       "      <th></th>\n",
       "      <th></th>\n",
       "      <th></th>\n",
       "    </tr>\n",
       "  </thead>\n",
       "  <tbody>\n",
       "    <tr>\n",
       "      <th>2006-05-26 20:00:00</th>\n",
       "      <td>5.30</td>\n",
       "      <td>5.19</td>\n",
       "      <td>5.24</td>\n",
       "      <td>5.27</td>\n",
       "      <td>4.45</td>\n",
       "      <td>3.92</td>\n",
       "      <td>4.19</td>\n",
       "      <td>3.741346</td>\n",
       "    </tr>\n",
       "    <tr>\n",
       "      <th>2006-05-26 21:00:00</th>\n",
       "      <td>5.19</td>\n",
       "      <td>5.24</td>\n",
       "      <td>5.27</td>\n",
       "      <td>4.45</td>\n",
       "      <td>3.92</td>\n",
       "      <td>4.19</td>\n",
       "      <td>4.60</td>\n",
       "      <td>4.337496</td>\n",
       "    </tr>\n",
       "    <tr>\n",
       "      <th>2006-05-26 22:00:00</th>\n",
       "      <td>5.24</td>\n",
       "      <td>5.27</td>\n",
       "      <td>4.45</td>\n",
       "      <td>3.92</td>\n",
       "      <td>4.19</td>\n",
       "      <td>4.60</td>\n",
       "      <td>5.34</td>\n",
       "      <td>4.733466</td>\n",
       "    </tr>\n",
       "    <tr>\n",
       "      <th>2006-05-26 23:00:00</th>\n",
       "      <td>5.27</td>\n",
       "      <td>4.45</td>\n",
       "      <td>3.92</td>\n",
       "      <td>4.19</td>\n",
       "      <td>4.60</td>\n",
       "      <td>5.34</td>\n",
       "      <td>4.70</td>\n",
       "      <td>5.397212</td>\n",
       "    </tr>\n",
       "    <tr>\n",
       "      <th>2006-05-27 00:00:00</th>\n",
       "      <td>4.45</td>\n",
       "      <td>3.92</td>\n",
       "      <td>4.19</td>\n",
       "      <td>4.60</td>\n",
       "      <td>5.34</td>\n",
       "      <td>4.70</td>\n",
       "      <td>3.00</td>\n",
       "      <td>4.840327</td>\n",
       "    </tr>\n",
       "  </tbody>\n",
       "</table>\n",
       "</div>"
      ],
      "text/plain": [
       "                      f_0   f_1   f_2   f_3   f_4   f_5  target_h1  \\\n",
       "target_date                                                          \n",
       "2006-05-26 20:00:00  5.30  5.19  5.24  5.27  4.45  3.92       4.19   \n",
       "2006-05-26 21:00:00  5.19  5.24  5.27  4.45  3.92  4.19       4.60   \n",
       "2006-05-26 22:00:00  5.24  5.27  4.45  3.92  4.19  4.60       5.34   \n",
       "2006-05-26 23:00:00  5.27  4.45  3.92  4.19  4.60  5.34       4.70   \n",
       "2006-05-27 00:00:00  4.45  3.92  4.19  4.60  5.34  4.70       3.00   \n",
       "\n",
       "                     target_predicted  \n",
       "target_date                            \n",
       "2006-05-26 20:00:00          3.741346  \n",
       "2006-05-26 21:00:00          4.337496  \n",
       "2006-05-26 22:00:00          4.733466  \n",
       "2006-05-26 23:00:00          5.397212  \n",
       "2006-05-27 00:00:00          4.840327  "
      ]
     },
     "execution_count": 70,
     "metadata": {},
     "output_type": "execute_result"
    }
   ],
   "source": [
    "df_prediction.head()"
   ]
  },
  {
   "cell_type": "code",
   "execution_count": 75,
   "metadata": {},
   "outputs": [],
   "source": [
    "df_prediction['mse_h1'] = np.power(df_prediction.target_h1 -\n",
    "                                   df_prediction.target_predicted, 2)"
   ]
  },
  {
   "cell_type": "code",
   "execution_count": 78,
   "metadata": {},
   "outputs": [],
   "source": [
    "df_prediction['mae_h1'] = np.abs(df_prediction.target_h1 - \n",
    "                                 df_prediction.target_predicted)"
   ]
  },
  {
   "cell_type": "code",
   "execution_count": 79,
   "metadata": {},
   "outputs": [
    {
     "data": {
      "text/html": [
       "<div>\n",
       "<table border=\"1\" class=\"dataframe\">\n",
       "  <thead>\n",
       "    <tr style=\"text-align: right;\">\n",
       "      <th></th>\n",
       "      <th>f_0</th>\n",
       "      <th>f_1</th>\n",
       "      <th>f_2</th>\n",
       "      <th>f_3</th>\n",
       "      <th>f_4</th>\n",
       "      <th>f_5</th>\n",
       "      <th>target_h1</th>\n",
       "      <th>target_predicted</th>\n",
       "      <th>mse_h1</th>\n",
       "      <th>mae_h1</th>\n",
       "    </tr>\n",
       "    <tr>\n",
       "      <th>target_date</th>\n",
       "      <th></th>\n",
       "      <th></th>\n",
       "      <th></th>\n",
       "      <th></th>\n",
       "      <th></th>\n",
       "      <th></th>\n",
       "      <th></th>\n",
       "      <th></th>\n",
       "      <th></th>\n",
       "      <th></th>\n",
       "    </tr>\n",
       "  </thead>\n",
       "  <tbody>\n",
       "    <tr>\n",
       "      <th>2006-05-26 20:00:00</th>\n",
       "      <td>5.30</td>\n",
       "      <td>5.19</td>\n",
       "      <td>5.24</td>\n",
       "      <td>5.27</td>\n",
       "      <td>4.45</td>\n",
       "      <td>3.92</td>\n",
       "      <td>4.19</td>\n",
       "      <td>3.741346</td>\n",
       "      <td>0.201290</td>\n",
       "      <td>0.448654</td>\n",
       "    </tr>\n",
       "    <tr>\n",
       "      <th>2006-05-26 21:00:00</th>\n",
       "      <td>5.19</td>\n",
       "      <td>5.24</td>\n",
       "      <td>5.27</td>\n",
       "      <td>4.45</td>\n",
       "      <td>3.92</td>\n",
       "      <td>4.19</td>\n",
       "      <td>4.60</td>\n",
       "      <td>4.337496</td>\n",
       "      <td>0.068908</td>\n",
       "      <td>0.262504</td>\n",
       "    </tr>\n",
       "    <tr>\n",
       "      <th>2006-05-26 22:00:00</th>\n",
       "      <td>5.24</td>\n",
       "      <td>5.27</td>\n",
       "      <td>4.45</td>\n",
       "      <td>3.92</td>\n",
       "      <td>4.19</td>\n",
       "      <td>4.60</td>\n",
       "      <td>5.34</td>\n",
       "      <td>4.733466</td>\n",
       "      <td>0.367883</td>\n",
       "      <td>0.606534</td>\n",
       "    </tr>\n",
       "    <tr>\n",
       "      <th>2006-05-26 23:00:00</th>\n",
       "      <td>5.27</td>\n",
       "      <td>4.45</td>\n",
       "      <td>3.92</td>\n",
       "      <td>4.19</td>\n",
       "      <td>4.60</td>\n",
       "      <td>5.34</td>\n",
       "      <td>4.70</td>\n",
       "      <td>5.397212</td>\n",
       "      <td>0.486105</td>\n",
       "      <td>0.697212</td>\n",
       "    </tr>\n",
       "    <tr>\n",
       "      <th>2006-05-27 00:00:00</th>\n",
       "      <td>4.45</td>\n",
       "      <td>3.92</td>\n",
       "      <td>4.19</td>\n",
       "      <td>4.60</td>\n",
       "      <td>5.34</td>\n",
       "      <td>4.70</td>\n",
       "      <td>3.00</td>\n",
       "      <td>4.840327</td>\n",
       "      <td>3.386803</td>\n",
       "      <td>1.840327</td>\n",
       "    </tr>\n",
       "  </tbody>\n",
       "</table>\n",
       "</div>"
      ],
      "text/plain": [
       "                      f_0   f_1   f_2   f_3   f_4   f_5  target_h1  \\\n",
       "target_date                                                          \n",
       "2006-05-26 20:00:00  5.30  5.19  5.24  5.27  4.45  3.92       4.19   \n",
       "2006-05-26 21:00:00  5.19  5.24  5.27  4.45  3.92  4.19       4.60   \n",
       "2006-05-26 22:00:00  5.24  5.27  4.45  3.92  4.19  4.60       5.34   \n",
       "2006-05-26 23:00:00  5.27  4.45  3.92  4.19  4.60  5.34       4.70   \n",
       "2006-05-27 00:00:00  4.45  3.92  4.19  4.60  5.34  4.70       3.00   \n",
       "\n",
       "                     target_predicted    mse_h1    mae_h1  \n",
       "target_date                                                \n",
       "2006-05-26 20:00:00          3.741346  0.201290  0.448654  \n",
       "2006-05-26 21:00:00          4.337496  0.068908  0.262504  \n",
       "2006-05-26 22:00:00          4.733466  0.367883  0.606534  \n",
       "2006-05-26 23:00:00          5.397212  0.486105  0.697212  \n",
       "2006-05-27 00:00:00          4.840327  3.386803  1.840327  "
      ]
     },
     "execution_count": 79,
     "metadata": {},
     "output_type": "execute_result"
    }
   ],
   "source": [
    "# write on disk\n",
    "df_prediction.head()"
   ]
  },
  {
   "cell_type": "code",
   "execution_count": 82,
   "metadata": {},
   "outputs": [
    {
     "data": {
      "text/plain": [
       "0.9597418274494136"
      ]
     },
     "execution_count": 82,
     "metadata": {},
     "output_type": "execute_result"
    }
   ],
   "source": [
    "test_mse = df_prediction.mse_h1.sum() / len(df_prediction.mse_h1)\n",
    "test_mse"
   ]
  },
  {
   "cell_type": "code",
   "execution_count": 84,
   "metadata": {},
   "outputs": [
    {
     "data": {
      "text/plain": [
       "0.6129641344792035"
      ]
     },
     "execution_count": 84,
     "metadata": {},
     "output_type": "execute_result"
    }
   ],
   "source": [
    "test_mae = df_prediction.mae_h1.sum() / len(df_prediction.mae_h1)\n",
    "test_mae"
   ]
  },
  {
   "cell_type": "code",
   "execution_count": null,
   "metadata": {
    "collapsed": true
   },
   "outputs": [],
   "source": []
  }
 ],
 "metadata": {
  "kernelspec": {
   "display_name": "Python 3.5 + TensorFlow 1.0",
   "language": "python",
   "name": "p3tf1"
  },
  "language_info": {
   "codemirror_mode": {
    "name": "ipython",
    "version": 3
   },
   "file_extension": ".py",
   "mimetype": "text/x-python",
   "name": "python",
   "nbconvert_exporter": "python",
   "pygments_lexer": "ipython3",
   "version": "3.5.3"
  }
 },
 "nbformat": 4,
 "nbformat_minor": 2
}
