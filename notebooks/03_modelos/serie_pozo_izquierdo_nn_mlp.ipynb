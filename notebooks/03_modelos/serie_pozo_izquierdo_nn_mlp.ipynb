{
 "cells": [
  {
   "cell_type": "code",
   "execution_count": 63,
   "metadata": {},
   "outputs": [],
   "source": [
    "%matplotlib inline\n",
    "import matplotlib.pyplot as plt \n",
    "\n",
    "from keras.models import Model\n",
    "from keras.layers import Input\n",
    "from keras.layers import Dense\n",
    "from keras.layers import Dropout\n",
    "from keras.layers import BatchNormalization\n",
    "from keras.optimizers import Adam\n",
    "from keras.utils import plot_model"
   ]
  },
  {
   "cell_type": "code",
   "execution_count": 21,
   "metadata": {},
   "outputs": [
    {
     "data": {
      "text/html": [
       "<div>\n",
       "<table border=\"1\" class=\"dataframe\">\n",
       "  <thead>\n",
       "    <tr style=\"text-align: right;\">\n",
       "      <th></th>\n",
       "      <th>target_date</th>\n",
       "      <th>f_0</th>\n",
       "      <th>f_1</th>\n",
       "      <th>f_2</th>\n",
       "      <th>f_3</th>\n",
       "      <th>f_4</th>\n",
       "      <th>f_5</th>\n",
       "      <th>f_6</th>\n",
       "      <th>f_7</th>\n",
       "      <th>f_8</th>\n",
       "      <th>f_9</th>\n",
       "      <th>target</th>\n",
       "    </tr>\n",
       "  </thead>\n",
       "  <tbody>\n",
       "    <tr>\n",
       "      <th>0</th>\n",
       "      <td>2004-07-01 00:10:00</td>\n",
       "      <td>9.6</td>\n",
       "      <td>9.6</td>\n",
       "      <td>9.8</td>\n",
       "      <td>9.6</td>\n",
       "      <td>10.2</td>\n",
       "      <td>10.2</td>\n",
       "      <td>10.8</td>\n",
       "      <td>10.5</td>\n",
       "      <td>10.4</td>\n",
       "      <td>10.7</td>\n",
       "      <td>11.5</td>\n",
       "    </tr>\n",
       "    <tr>\n",
       "      <th>1</th>\n",
       "      <td>2004-07-01 00:11:00</td>\n",
       "      <td>9.6</td>\n",
       "      <td>9.8</td>\n",
       "      <td>9.6</td>\n",
       "      <td>10.2</td>\n",
       "      <td>10.2</td>\n",
       "      <td>10.8</td>\n",
       "      <td>10.5</td>\n",
       "      <td>10.4</td>\n",
       "      <td>10.7</td>\n",
       "      <td>11.5</td>\n",
       "      <td>12.2</td>\n",
       "    </tr>\n",
       "    <tr>\n",
       "      <th>2</th>\n",
       "      <td>2004-07-01 00:12:00</td>\n",
       "      <td>9.8</td>\n",
       "      <td>9.6</td>\n",
       "      <td>10.2</td>\n",
       "      <td>10.2</td>\n",
       "      <td>10.8</td>\n",
       "      <td>10.5</td>\n",
       "      <td>10.4</td>\n",
       "      <td>10.7</td>\n",
       "      <td>11.5</td>\n",
       "      <td>12.2</td>\n",
       "      <td>12.3</td>\n",
       "    </tr>\n",
       "    <tr>\n",
       "      <th>3</th>\n",
       "      <td>2004-07-01 00:13:00</td>\n",
       "      <td>9.6</td>\n",
       "      <td>10.2</td>\n",
       "      <td>10.2</td>\n",
       "      <td>10.8</td>\n",
       "      <td>10.5</td>\n",
       "      <td>10.4</td>\n",
       "      <td>10.7</td>\n",
       "      <td>11.5</td>\n",
       "      <td>12.2</td>\n",
       "      <td>12.3</td>\n",
       "      <td>11.7</td>\n",
       "    </tr>\n",
       "    <tr>\n",
       "      <th>4</th>\n",
       "      <td>2004-07-01 00:14:00</td>\n",
       "      <td>10.2</td>\n",
       "      <td>10.2</td>\n",
       "      <td>10.8</td>\n",
       "      <td>10.5</td>\n",
       "      <td>10.4</td>\n",
       "      <td>10.7</td>\n",
       "      <td>11.5</td>\n",
       "      <td>12.2</td>\n",
       "      <td>12.3</td>\n",
       "      <td>11.7</td>\n",
       "      <td>12.5</td>\n",
       "    </tr>\n",
       "  </tbody>\n",
       "</table>\n",
       "</div>"
      ],
      "text/plain": [
       "           target_date   f_0   f_1   f_2   f_3   f_4   f_5   f_6   f_7   f_8  \\\n",
       "0  2004-07-01 00:10:00   9.6   9.6   9.8   9.6  10.2  10.2  10.8  10.5  10.4   \n",
       "1  2004-07-01 00:11:00   9.6   9.8   9.6  10.2  10.2  10.8  10.5  10.4  10.7   \n",
       "2  2004-07-01 00:12:00   9.8   9.6  10.2  10.2  10.8  10.5  10.4  10.7  11.5   \n",
       "3  2004-07-01 00:13:00   9.6  10.2  10.2  10.8  10.5  10.4  10.7  11.5  12.2   \n",
       "4  2004-07-01 00:14:00  10.2  10.2  10.8  10.5  10.4  10.7  11.5  12.2  12.3   \n",
       "\n",
       "    f_9  target  \n",
       "0  10.7    11.5  \n",
       "1  11.5    12.2  \n",
       "2  12.2    12.3  \n",
       "3  12.3    11.7  \n",
       "4  11.7    12.5  "
      ]
     },
     "execution_count": 21,
     "metadata": {},
     "output_type": "execute_result"
    }
   ],
   "source": [
    "# cargamos el horizonte de la serie a predecir con las features\n",
    "df_v40_hour_h1 = pd.read_csv('pozo_izquierdo_torre_me_h_1.csv', delimiter=';')\n",
    "df_v40_hour_h1.head()"
   ]
  },
  {
   "cell_type": "code",
   "execution_count": 22,
   "metadata": {
    "collapsed": true
   },
   "outputs": [],
   "source": [
    "def dataframe_split(df):\n",
    "    train_size = int((df.shape[0] * 80) / 100)\n",
    "    # split: df in train and test sets\n",
    "    df_train_set = df.iloc[0:train_size]\n",
    "    df_test_set = df.iloc[train_size:]\n",
    "    # split: train in train and validation sets\n",
    "    df_train_set, df_validation_set = train_test_split(df_train_set, test_size=0.2)\n",
    "    \n",
    "    return {'train_set' : df_train_set,\n",
    "            'validation_set': df_validation_set,\n",
    "            'test_set': df_test_set}"
   ]
  },
  {
   "cell_type": "code",
   "execution_count": 23,
   "metadata": {
    "collapsed": true
   },
   "outputs": [],
   "source": [
    "data = dataframe_split(df_v40_hour_h1)\n",
    "train_set = data['train_set']\n",
    "validation_set = data['validation_set']\n",
    "test_set = data['test_set']"
   ]
  },
  {
   "cell_type": "code",
   "execution_count": 24,
   "metadata": {
    "collapsed": true
   },
   "outputs": [],
   "source": [
    "train_set = train_set.fillna(0.0)\n",
    "validation_set = validation_set.fillna(0.0)"
   ]
  },
  {
   "cell_type": "code",
   "execution_count": 25,
   "metadata": {
    "collapsed": true
   },
   "outputs": [],
   "source": [
    "features_columns = train_set.columns[1:-1]\n",
    "target_column = train_set.columns[-1:]\n",
    "\n",
    "features_train_set = train_set[features_columns]\n",
    "target_train_set = train_set[target_column]\n",
    "features_validation_set = validation_set[features_columns]\n",
    "target_validation_set = validation_set[target_column]"
   ]
  },
  {
   "cell_type": "code",
   "execution_count": null,
   "metadata": {
    "collapsed": true
   },
   "outputs": [],
   "source": []
  },
  {
   "cell_type": "code",
   "execution_count": 48,
   "metadata": {},
   "outputs": [],
   "source": [
    "# normalize values"
   ]
  },
  {
   "cell_type": "code",
   "execution_count": null,
   "metadata": {
    "collapsed": true
   },
   "outputs": [],
   "source": []
  },
  {
   "cell_type": "code",
   "execution_count": null,
   "metadata": {
    "collapsed": true
   },
   "outputs": [],
   "source": []
  },
  {
   "cell_type": "code",
   "execution_count": null,
   "metadata": {
    "collapsed": true
   },
   "outputs": [],
   "source": []
  },
  {
   "cell_type": "code",
   "execution_count": 117,
   "metadata": {
    "collapsed": true
   },
   "outputs": [],
   "source": [
    "n_input = 10\n",
    "n_hidden = [10, 8, 4]\n",
    "dropouts = [0, 0.4, 0.4]\n",
    "n_output = 1"
   ]
  },
  {
   "cell_type": "code",
   "execution_count": 118,
   "metadata": {},
   "outputs": [
    {
     "name": "stdout",
     "output_type": "stream",
     "text": [
      "_________________________________________________________________\n",
      "Layer (type)                 Output Shape              Param #   \n",
      "=================================================================\n",
      "Input-Layer (InputLayer)     (None, 10)                0         \n",
      "_________________________________________________________________\n",
      "normalization_batch (BatchNo (None, 10)                40        \n",
      "_________________________________________________________________\n",
      "Hidden_0 (Dense)             (None, 10)                110       \n",
      "_________________________________________________________________\n",
      "Hidden_1 (Dense)             (None, 8)                 88        \n",
      "_________________________________________________________________\n",
      "dropout_23 (Dropout)         (None, 8)                 0         \n",
      "_________________________________________________________________\n",
      "Hidden_2 (Dense)             (None, 4)                 36        \n",
      "_________________________________________________________________\n",
      "dropout_24 (Dropout)         (None, 4)                 0         \n",
      "_________________________________________________________________\n",
      "Output-Layer (Dense)         (None, 1)                 5         \n",
      "=================================================================\n",
      "Total params: 279\n",
      "Trainable params: 259\n",
      "Non-trainable params: 20\n",
      "_________________________________________________________________\n"
     ]
    }
   ],
   "source": [
    "# -- topology\n",
    "inputs = Input(shape=(n_input,), name='Input-Layer')\n",
    "normalization_batch = BatchNormalization(axis =-1,epsilon=0.02,momentum=0.97,\n",
    "                                         name='normalization_batch')(inputs)\n",
    "for neurons, dropout, layer in zip(n_hidden, dropouts, range(len(n_hidden))):\n",
    "    if layer == 0:\n",
    "        x = Dense(neurons, activation='relu', name='Hidden_{0}'.format(layer))(normalization_batch)\n",
    "        if dropout != 0:\n",
    "            x = Dropout(dropout)(x)\n",
    "    else:\n",
    "        x = Dense(neurons, activation='relu', name='Hidden_{0}'.format(layer))(x)\n",
    "        if dropout != 0:\n",
    "            x = Dropout(dropout)(x)\n",
    "predictions = Dense(n_output, activation='linear', name='Output-Layer')(x)\n",
    "model = Model(inputs=inputs, outputs=predictions)\n",
    "model.summary()"
   ]
  },
  {
   "cell_type": "code",
   "execution_count": 119,
   "metadata": {},
   "outputs": [],
   "source": [
    "plot_model(model, to_file='mlp_topology.png',\n",
    "           show_shapes=True, show_layer_names=True, rankdir='LR')"
   ]
  },
  {
   "cell_type": "markdown",
   "metadata": {},
   "source": [
    "<img src=\"mlp_topology.png\">"
   ]
  },
  {
   "cell_type": "code",
   "execution_count": 120,
   "metadata": {
    "collapsed": true
   },
   "outputs": [],
   "source": [
    "model.compile(loss='mean_squared_error', optimizer='adam', metrics=['mae'])"
   ]
  },
  {
   "cell_type": "code",
   "execution_count": 121,
   "metadata": {},
   "outputs": [
    {
     "name": "stdout",
     "output_type": "stream",
     "text": [
      "(55752, 10)\n"
     ]
    }
   ],
   "source": [
    "print(features_train_set.values.shape)\n",
    "epochs = 100\n",
    "batch = 5000"
   ]
  },
  {
   "cell_type": "code",
   "execution_count": 122,
   "metadata": {},
   "outputs": [
    {
     "name": "stdout",
     "output_type": "stream",
     "text": [
      "Train on 55752 samples, validate on 13938 samples\n",
      "Epoch 1/100\n",
      "55752/55752 [==============================] - 1s 22us/step - loss: 115.6929 - mean_absolute_error: 10.0923 - val_loss: 18.9211 - val_mean_absolute_error: 4.1365\n",
      "Epoch 2/100\n",
      "55752/55752 [==============================] - 0s 3us/step - loss: 105.6024 - mean_absolute_error: 9.6267 - val_loss: 27.0553 - val_mean_absolute_error: 4.9821\n",
      "Epoch 3/100\n",
      "55752/55752 [==============================] - 0s 3us/step - loss: 97.1593 - mean_absolute_error: 9.1715 - val_loss: 33.1792 - val_mean_absolute_error: 5.5012\n",
      "Epoch 4/100\n",
      "55752/55752 [==============================] - 0s 3us/step - loss: 89.4431 - mean_absolute_error: 8.7127 - val_loss: 37.0860 - val_mean_absolute_error: 5.7846\n",
      "Epoch 5/100\n",
      "55752/55752 [==============================] - 0s 3us/step - loss: 83.5533 - mean_absolute_error: 8.3424 - val_loss: 38.8298 - val_mean_absolute_error: 5.8780\n",
      "Epoch 6/100\n",
      "55752/55752 [==============================] - 0s 3us/step - loss: 78.7198 - mean_absolute_error: 8.0184 - val_loss: 39.4841 - val_mean_absolute_error: 5.8853\n",
      "Epoch 7/100\n",
      "55752/55752 [==============================] - 0s 3us/step - loss: 75.4001 - mean_absolute_error: 7.7704 - val_loss: 39.7299 - val_mean_absolute_error: 5.8725\n",
      "Epoch 8/100\n",
      "55752/55752 [==============================] - 0s 3us/step - loss: 73.0015 - mean_absolute_error: 7.5735 - val_loss: 39.8411 - val_mean_absolute_error: 5.8690\n",
      "Epoch 9/100\n",
      "55752/55752 [==============================] - 0s 3us/step - loss: 71.2332 - mean_absolute_error: 7.4223 - val_loss: 39.6344 - val_mean_absolute_error: 5.8591\n",
      "Epoch 10/100\n",
      "55752/55752 [==============================] - 0s 3us/step - loss: 69.0706 - mean_absolute_error: 7.2494 - val_loss: 38.6271 - val_mean_absolute_error: 5.7939\n",
      "Epoch 11/100\n",
      "55752/55752 [==============================] - 0s 3us/step - loss: 66.8371 - mean_absolute_error: 7.0726 - val_loss: 36.7217 - val_mean_absolute_error: 5.6520\n",
      "Epoch 12/100\n",
      "55752/55752 [==============================] - 0s 3us/step - loss: 64.4424 - mean_absolute_error: 6.8819 - val_loss: 34.8297 - val_mean_absolute_error: 5.5152\n",
      "Epoch 13/100\n",
      "55752/55752 [==============================] - 0s 3us/step - loss: 61.5363 - mean_absolute_error: 6.6634 - val_loss: 32.4735 - val_mean_absolute_error: 5.3293\n",
      "Epoch 14/100\n",
      "55752/55752 [==============================] - 0s 3us/step - loss: 59.8555 - mean_absolute_error: 6.5093 - val_loss: 29.9625 - val_mean_absolute_error: 5.1196\n",
      "Epoch 15/100\n",
      "55752/55752 [==============================] - 0s 3us/step - loss: 57.7199 - mean_absolute_error: 6.3384 - val_loss: 28.0561 - val_mean_absolute_error: 4.9559\n",
      "Epoch 16/100\n",
      "55752/55752 [==============================] - 0s 3us/step - loss: 55.4920 - mean_absolute_error: 6.1788 - val_loss: 26.5772 - val_mean_absolute_error: 4.8178\n",
      "Epoch 17/100\n",
      "55752/55752 [==============================] - 0s 3us/step - loss: 54.5606 - mean_absolute_error: 6.0840 - val_loss: 25.4112 - val_mean_absolute_error: 4.7064\n",
      "Epoch 18/100\n",
      "55752/55752 [==============================] - 0s 3us/step - loss: 52.9083 - mean_absolute_error: 5.9854 - val_loss: 24.1872 - val_mean_absolute_error: 4.5816\n",
      "Epoch 19/100\n",
      "55752/55752 [==============================] - 0s 3us/step - loss: 51.7350 - mean_absolute_error: 5.8940 - val_loss: 23.4643 - val_mean_absolute_error: 4.5041\n",
      "Epoch 20/100\n",
      "55752/55752 [==============================] - 0s 3us/step - loss: 50.2321 - mean_absolute_error: 5.8094 - val_loss: 22.2096 - val_mean_absolute_error: 4.3715\n",
      "Epoch 21/100\n",
      "55752/55752 [==============================] - 0s 4us/step - loss: 49.4928 - mean_absolute_error: 5.7522 - val_loss: 21.3894 - val_mean_absolute_error: 4.2784\n",
      "Epoch 22/100\n",
      "55752/55752 [==============================] - 0s 5us/step - loss: 48.7806 - mean_absolute_error: 5.7009 - val_loss: 20.7822 - val_mean_absolute_error: 4.2098\n",
      "Epoch 23/100\n",
      "55752/55752 [==============================] - 0s 3us/step - loss: 47.8505 - mean_absolute_error: 5.6412 - val_loss: 19.7762 - val_mean_absolute_error: 4.1012\n",
      "Epoch 24/100\n",
      "55752/55752 [==============================] - 0s 3us/step - loss: 46.8429 - mean_absolute_error: 5.5760 - val_loss: 19.4582 - val_mean_absolute_error: 4.0556\n",
      "Epoch 25/100\n",
      "55752/55752 [==============================] - 0s 3us/step - loss: 46.3539 - mean_absolute_error: 5.5284 - val_loss: 18.4749 - val_mean_absolute_error: 3.9502\n",
      "Epoch 26/100\n",
      "55752/55752 [==============================] - 0s 3us/step - loss: 45.6373 - mean_absolute_error: 5.4758 - val_loss: 18.2848 - val_mean_absolute_error: 3.9215\n",
      "Epoch 27/100\n",
      "55752/55752 [==============================] - 0s 3us/step - loss: 44.7876 - mean_absolute_error: 5.4395 - val_loss: 17.6225 - val_mean_absolute_error: 3.8506\n",
      "Epoch 28/100\n",
      "55752/55752 [==============================] - 0s 3us/step - loss: 44.0458 - mean_absolute_error: 5.3671 - val_loss: 16.7874 - val_mean_absolute_error: 3.7472\n",
      "Epoch 29/100\n",
      "55752/55752 [==============================] - 0s 3us/step - loss: 42.9828 - mean_absolute_error: 5.2966 - val_loss: 16.3897 - val_mean_absolute_error: 3.6924\n",
      "Epoch 30/100\n",
      "55752/55752 [==============================] - 0s 3us/step - loss: 42.8579 - mean_absolute_error: 5.2887 - val_loss: 15.8901 - val_mean_absolute_error: 3.6407\n",
      "Epoch 31/100\n",
      "55752/55752 [==============================] - 0s 3us/step - loss: 42.0161 - mean_absolute_error: 5.2329 - val_loss: 15.9442 - val_mean_absolute_error: 3.6388\n",
      "Epoch 32/100\n",
      "55752/55752 [==============================] - 0s 3us/step - loss: 41.0994 - mean_absolute_error: 5.1672 - val_loss: 15.0497 - val_mean_absolute_error: 3.5356\n",
      "Epoch 33/100\n",
      "55752/55752 [==============================] - 0s 4us/step - loss: 41.1188 - mean_absolute_error: 5.1640 - val_loss: 14.8995 - val_mean_absolute_error: 3.5185\n",
      "Epoch 34/100\n",
      "55752/55752 [==============================] - 0s 3us/step - loss: 40.3070 - mean_absolute_error: 5.0972 - val_loss: 14.3092 - val_mean_absolute_error: 3.4423\n",
      "Epoch 35/100\n",
      "55752/55752 [==============================] - 0s 3us/step - loss: 39.8843 - mean_absolute_error: 5.0651 - val_loss: 14.0441 - val_mean_absolute_error: 3.4112\n",
      "Epoch 36/100\n",
      "55752/55752 [==============================] - 0s 3us/step - loss: 39.4281 - mean_absolute_error: 5.0253 - val_loss: 14.0819 - val_mean_absolute_error: 3.4140\n",
      "Epoch 37/100\n",
      "55752/55752 [==============================] - 0s 4us/step - loss: 38.7591 - mean_absolute_error: 4.9724 - val_loss: 13.3532 - val_mean_absolute_error: 3.3291\n",
      "Epoch 38/100\n",
      "55752/55752 [==============================] - 0s 6us/step - loss: 38.2985 - mean_absolute_error: 4.9384 - val_loss: 13.0527 - val_mean_absolute_error: 3.2823\n",
      "Epoch 39/100\n",
      "55752/55752 [==============================] - 0s 3us/step - loss: 37.9601 - mean_absolute_error: 4.9168 - val_loss: 12.7060 - val_mean_absolute_error: 3.2443\n",
      "Epoch 40/100\n",
      "55752/55752 [==============================] - 0s 3us/step - loss: 37.6295 - mean_absolute_error: 4.8827 - val_loss: 12.6827 - val_mean_absolute_error: 3.2386\n",
      "Epoch 41/100\n",
      "55752/55752 [==============================] - 0s 3us/step - loss: 37.4558 - mean_absolute_error: 4.8676 - val_loss: 12.6053 - val_mean_absolute_error: 3.2320\n",
      "Epoch 42/100\n",
      "55752/55752 [==============================] - 0s 3us/step - loss: 37.1596 - mean_absolute_error: 4.8503 - val_loss: 12.1804 - val_mean_absolute_error: 3.1769\n",
      "Epoch 43/100\n",
      "55752/55752 [==============================] - 0s 3us/step - loss: 36.9370 - mean_absolute_error: 4.8266 - val_loss: 12.0118 - val_mean_absolute_error: 3.1457\n",
      "Epoch 44/100\n",
      "55752/55752 [==============================] - 0s 3us/step - loss: 36.7019 - mean_absolute_error: 4.8096 - val_loss: 11.9395 - val_mean_absolute_error: 3.1386\n",
      "Epoch 45/100\n",
      "55752/55752 [==============================] - 0s 3us/step - loss: 36.5960 - mean_absolute_error: 4.7881 - val_loss: 12.1317 - val_mean_absolute_error: 3.1630\n",
      "Epoch 46/100\n",
      "55752/55752 [==============================] - 0s 3us/step - loss: 36.0361 - mean_absolute_error: 4.7509 - val_loss: 11.7852 - val_mean_absolute_error: 3.1241\n",
      "Epoch 47/100\n",
      "55752/55752 [==============================] - 0s 3us/step - loss: 36.2075 - mean_absolute_error: 4.7726 - val_loss: 11.6368 - val_mean_absolute_error: 3.0988\n",
      "Epoch 48/100\n"
     ]
    },
    {
     "name": "stdout",
     "output_type": "stream",
     "text": [
      "55752/55752 [==============================] - 0s 3us/step - loss: 35.6018 - mean_absolute_error: 4.7127 - val_loss: 11.8874 - val_mean_absolute_error: 3.1290\n",
      "Epoch 49/100\n",
      "55752/55752 [==============================] - 0s 2us/step - loss: 35.1493 - mean_absolute_error: 4.6922 - val_loss: 11.3998 - val_mean_absolute_error: 3.0752\n",
      "Epoch 50/100\n",
      "55752/55752 [==============================] - 0s 2us/step - loss: 35.5031 - mean_absolute_error: 4.7035 - val_loss: 11.7476 - val_mean_absolute_error: 3.1040\n",
      "Epoch 51/100\n",
      "55752/55752 [==============================] - 0s 2us/step - loss: 35.1735 - mean_absolute_error: 4.6858 - val_loss: 11.4031 - val_mean_absolute_error: 3.0713\n",
      "Epoch 52/100\n",
      "55752/55752 [==============================] - 0s 2us/step - loss: 34.5858 - mean_absolute_error: 4.6456 - val_loss: 11.1968 - val_mean_absolute_error: 3.0412\n",
      "Epoch 53/100\n",
      "55752/55752 [==============================] - 0s 2us/step - loss: 34.7773 - mean_absolute_error: 4.6475 - val_loss: 11.1002 - val_mean_absolute_error: 3.0263\n",
      "Epoch 54/100\n",
      "55752/55752 [==============================] - 0s 2us/step - loss: 34.4879 - mean_absolute_error: 4.6214 - val_loss: 11.1190 - val_mean_absolute_error: 3.0230\n",
      "Epoch 55/100\n",
      "55752/55752 [==============================] - 0s 2us/step - loss: 34.4561 - mean_absolute_error: 4.6244 - val_loss: 11.2578 - val_mean_absolute_error: 3.0448\n",
      "Epoch 56/100\n",
      "55752/55752 [==============================] - 0s 2us/step - loss: 34.1892 - mean_absolute_error: 4.6045 - val_loss: 11.3161 - val_mean_absolute_error: 3.0605\n",
      "Epoch 57/100\n",
      "55752/55752 [==============================] - 0s 3us/step - loss: 34.1497 - mean_absolute_error: 4.6063 - val_loss: 10.9184 - val_mean_absolute_error: 2.9984\n",
      "Epoch 58/100\n",
      "55752/55752 [==============================] - 0s 2us/step - loss: 34.0485 - mean_absolute_error: 4.5906 - val_loss: 10.8463 - val_mean_absolute_error: 2.9893\n",
      "Epoch 59/100\n",
      "55752/55752 [==============================] - 0s 2us/step - loss: 33.7484 - mean_absolute_error: 4.5604 - val_loss: 10.5585 - val_mean_absolute_error: 2.9532\n",
      "Epoch 60/100\n",
      "55752/55752 [==============================] - 0s 2us/step - loss: 33.5496 - mean_absolute_error: 4.5511 - val_loss: 10.3603 - val_mean_absolute_error: 2.9220\n",
      "Epoch 61/100\n",
      "55752/55752 [==============================] - 0s 2us/step - loss: 33.7318 - mean_absolute_error: 4.5671 - val_loss: 10.4625 - val_mean_absolute_error: 2.9407\n",
      "Epoch 62/100\n",
      "55752/55752 [==============================] - 0s 2us/step - loss: 33.0526 - mean_absolute_error: 4.5080 - val_loss: 10.5515 - val_mean_absolute_error: 2.9424\n",
      "Epoch 63/100\n",
      "55752/55752 [==============================] - 0s 3us/step - loss: 33.2553 - mean_absolute_error: 4.5256 - val_loss: 10.1979 - val_mean_absolute_error: 2.8946\n",
      "Epoch 64/100\n",
      "55752/55752 [==============================] - 0s 4us/step - loss: 33.3243 - mean_absolute_error: 4.5174 - val_loss: 10.5870 - val_mean_absolute_error: 2.9514\n",
      "Epoch 65/100\n",
      "55752/55752 [==============================] - 0s 6us/step - loss: 33.1952 - mean_absolute_error: 4.5180 - val_loss: 10.8348 - val_mean_absolute_error: 2.9886\n",
      "Epoch 66/100\n",
      "55752/55752 [==============================] - 0s 4us/step - loss: 32.8054 - mean_absolute_error: 4.4905 - val_loss: 10.0128 - val_mean_absolute_error: 2.8798\n",
      "Epoch 67/100\n",
      "55752/55752 [==============================] - 0s 3us/step - loss: 32.5837 - mean_absolute_error: 4.4832 - val_loss: 10.4094 - val_mean_absolute_error: 2.9234\n",
      "Epoch 68/100\n",
      "55752/55752 [==============================] - 0s 3us/step - loss: 32.6762 - mean_absolute_error: 4.4787 - val_loss: 10.0387 - val_mean_absolute_error: 2.8730\n",
      "Epoch 69/100\n",
      "55752/55752 [==============================] - 0s 2us/step - loss: 32.6346 - mean_absolute_error: 4.4810 - val_loss: 10.7063 - val_mean_absolute_error: 2.9603\n",
      "Epoch 70/100\n",
      "55752/55752 [==============================] - 0s 3us/step - loss: 32.4764 - mean_absolute_error: 4.4683 - val_loss: 10.0055 - val_mean_absolute_error: 2.8757\n",
      "Epoch 71/100\n",
      "55752/55752 [==============================] - 0s 3us/step - loss: 32.2140 - mean_absolute_error: 4.4444 - val_loss: 10.2162 - val_mean_absolute_error: 2.8925\n",
      "Epoch 72/100\n",
      "55752/55752 [==============================] - 0s 3us/step - loss: 31.8024 - mean_absolute_error: 4.4133 - val_loss: 9.9228 - val_mean_absolute_error: 2.8624\n",
      "Epoch 73/100\n",
      "55752/55752 [==============================] - 0s 3us/step - loss: 31.8434 - mean_absolute_error: 4.4161 - val_loss: 9.6916 - val_mean_absolute_error: 2.8231\n",
      "Epoch 74/100\n",
      "55752/55752 [==============================] - 0s 3us/step - loss: 31.9898 - mean_absolute_error: 4.4324 - val_loss: 9.9463 - val_mean_absolute_error: 2.8572\n",
      "Epoch 75/100\n",
      "55752/55752 [==============================] - 0s 3us/step - loss: 31.7265 - mean_absolute_error: 4.4038 - val_loss: 9.8554 - val_mean_absolute_error: 2.8486\n",
      "Epoch 76/100\n",
      "55752/55752 [==============================] - 0s 2us/step - loss: 31.7628 - mean_absolute_error: 4.4072 - val_loss: 9.8763 - val_mean_absolute_error: 2.8492\n",
      "Epoch 77/100\n",
      "55752/55752 [==============================] - 0s 3us/step - loss: 31.0010 - mean_absolute_error: 4.3569 - val_loss: 9.4247 - val_mean_absolute_error: 2.7823\n",
      "Epoch 78/100\n",
      "55752/55752 [==============================] - 0s 2us/step - loss: 31.2196 - mean_absolute_error: 4.3595 - val_loss: 9.5786 - val_mean_absolute_error: 2.7995\n",
      "Epoch 79/100\n",
      "55752/55752 [==============================] - 0s 3us/step - loss: 31.2148 - mean_absolute_error: 4.3721 - val_loss: 9.5647 - val_mean_absolute_error: 2.8064\n",
      "Epoch 80/100\n",
      "55752/55752 [==============================] - 0s 3us/step - loss: 30.9270 - mean_absolute_error: 4.3467 - val_loss: 9.6664 - val_mean_absolute_error: 2.8179\n",
      "Epoch 81/100\n",
      "55752/55752 [==============================] - 0s 4us/step - loss: 30.9617 - mean_absolute_error: 4.3548 - val_loss: 9.4487 - val_mean_absolute_error: 2.7847\n",
      "Epoch 82/100\n",
      "55752/55752 [==============================] - 0s 4us/step - loss: 30.8707 - mean_absolute_error: 4.3432 - val_loss: 9.1804 - val_mean_absolute_error: 2.7574\n",
      "Epoch 83/100\n",
      "55752/55752 [==============================] - 0s 3us/step - loss: 30.5914 - mean_absolute_error: 4.3237 - val_loss: 9.5428 - val_mean_absolute_error: 2.8055\n",
      "Epoch 84/100\n",
      "55752/55752 [==============================] - 0s 3us/step - loss: 30.4984 - mean_absolute_error: 4.3066 - val_loss: 9.5235 - val_mean_absolute_error: 2.7924\n",
      "Epoch 85/100\n",
      "55752/55752 [==============================] - 0s 2us/step - loss: 30.4463 - mean_absolute_error: 4.3103 - val_loss: 9.2214 - val_mean_absolute_error: 2.7530\n",
      "Epoch 86/100\n",
      "55752/55752 [==============================] - 0s 2us/step - loss: 30.4715 - mean_absolute_error: 4.3048 - val_loss: 9.2344 - val_mean_absolute_error: 2.7570\n",
      "Epoch 87/100\n",
      "55752/55752 [==============================] - 0s 2us/step - loss: 29.9484 - mean_absolute_error: 4.2641 - val_loss: 9.0938 - val_mean_absolute_error: 2.7372\n",
      "Epoch 88/100\n",
      "55752/55752 [==============================] - 0s 2us/step - loss: 29.8805 - mean_absolute_error: 4.2602 - val_loss: 9.2509 - val_mean_absolute_error: 2.7473\n",
      "Epoch 89/100\n",
      "55752/55752 [==============================] - 0s 3us/step - loss: 29.9936 - mean_absolute_error: 4.2763 - val_loss: 9.0425 - val_mean_absolute_error: 2.7260\n",
      "Epoch 90/100\n",
      "55752/55752 [==============================] - 0s 2us/step - loss: 29.8743 - mean_absolute_error: 4.2642 - val_loss: 9.3349 - val_mean_absolute_error: 2.7609\n",
      "Epoch 91/100\n",
      "55752/55752 [==============================] - 0s 2us/step - loss: 29.7558 - mean_absolute_error: 4.2515 - val_loss: 9.0183 - val_mean_absolute_error: 2.7172\n",
      "Epoch 92/100\n",
      "55752/55752 [==============================] - 0s 4us/step - loss: 29.4765 - mean_absolute_error: 4.2320 - val_loss: 9.0829 - val_mean_absolute_error: 2.7250\n",
      "Epoch 93/100\n",
      "55752/55752 [==============================] - 0s 3us/step - loss: 29.4545 - mean_absolute_error: 4.2300 - val_loss: 8.7759 - val_mean_absolute_error: 2.6890\n",
      "Epoch 94/100\n",
      "55752/55752 [==============================] - 0s 2us/step - loss: 29.3692 - mean_absolute_error: 4.2202 - val_loss: 9.0357 - val_mean_absolute_error: 2.7134\n",
      "Epoch 95/100\n",
      "55752/55752 [==============================] - 0s 2us/step - loss: 29.5121 - mean_absolute_error: 4.2329 - val_loss: 8.8805 - val_mean_absolute_error: 2.6931\n"
     ]
    },
    {
     "name": "stdout",
     "output_type": "stream",
     "text": [
      "Epoch 96/100\n",
      "55752/55752 [==============================] - 0s 3us/step - loss: 29.1495 - mean_absolute_error: 4.2110 - val_loss: 8.7998 - val_mean_absolute_error: 2.6821\n",
      "Epoch 97/100\n",
      "55752/55752 [==============================] - 0s 5us/step - loss: 28.8293 - mean_absolute_error: 4.1785 - val_loss: 8.7149 - val_mean_absolute_error: 2.6721\n",
      "Epoch 98/100\n",
      "55752/55752 [==============================] - 0s 3us/step - loss: 28.8256 - mean_absolute_error: 4.1759 - val_loss: 8.6991 - val_mean_absolute_error: 2.6718\n",
      "Epoch 99/100\n",
      "55752/55752 [==============================] - 0s 2us/step - loss: 28.8371 - mean_absolute_error: 4.1768 - val_loss: 9.0116 - val_mean_absolute_error: 2.7125\n",
      "Epoch 100/100\n",
      "55752/55752 [==============================] - 0s 2us/step - loss: 28.6064 - mean_absolute_error: 4.1603 - val_loss: 8.8616 - val_mean_absolute_error: 2.6884\n"
     ]
    }
   ],
   "source": [
    "history = model.fit(features_train_set.values, target_train_set.values,\n",
    "                    batch_size=batch, epochs=epochs,\n",
    "                    #callbacks\n",
    "                    validation_data=(features_validation_set.values, \n",
    "                                     target_validation_set.values))"
   ]
  },
  {
   "cell_type": "code",
   "execution_count": 123,
   "metadata": {},
   "outputs": [
    {
     "data": {
      "text/plain": [
       "dict_keys(['mean_absolute_error', 'val_mean_absolute_error', 'val_loss', 'loss'])"
      ]
     },
     "execution_count": 123,
     "metadata": {},
     "output_type": "execute_result"
    }
   ],
   "source": [
    "history.history.keys()"
   ]
  },
  {
   "cell_type": "code",
   "execution_count": 126,
   "metadata": {},
   "outputs": [
    {
     "data": {
      "text/plain": [
       "<matplotlib.legend.Legend at 0x11eca82e8>"
      ]
     },
     "execution_count": 126,
     "metadata": {},
     "output_type": "execute_result"
    },
    {
     "data": {
      "image/png": "[encoded data removed]",
      "text/plain": [
       "<matplotlib.figure.Figure at 0x11e62e898>"
      ]
     },
     "metadata": {},
     "output_type": "display_data"
    }
   ],
   "source": [
    "plt.plot(history.history['loss'], label='train')\n",
    "plt.plot(history.history['val_loss'], label='validation')\n",
    "plt.legend()"
   ]
  },
  {
   "cell_type": "code",
   "execution_count": 128,
   "metadata": {},
   "outputs": [
    {
     "data": {
      "text/plain": [
       "<matplotlib.legend.Legend at 0x11d5d7ac8>"
      ]
     },
     "execution_count": 128,
     "metadata": {},
     "output_type": "execute_result"
    },
    {
     "data": {
      "image/png": "[encoded data removed]",
      "text/plain": [
       "<matplotlib.figure.Figure at 0x11ee20da0>"
      ]
     },
     "metadata": {},
     "output_type": "display_data"
    }
   ],
   "source": [
    "plt.plot(history.history['mean_absolute_error'], label='train')\n",
    "plt.plot(history.history['val_mean_absolute_error'], label='validation')\n",
    "plt.legend()"
   ]
  },
  {
   "cell_type": "code",
   "execution_count": 129,
   "metadata": {
    "collapsed": true
   },
   "outputs": [],
   "source": [
    "features_test_set = test_set[features_columns]\n",
    "predicted = model.predict(features_test_set.values)"
   ]
  },
  {
   "cell_type": "code",
   "execution_count": 130,
   "metadata": {},
   "outputs": [
    {
     "data": {
      "text/html": [
       "<div>\n",
       "<table border=\"1\" class=\"dataframe\">\n",
       "  <thead>\n",
       "    <tr style=\"text-align: right;\">\n",
       "      <th></th>\n",
       "      <th>target</th>\n",
       "    </tr>\n",
       "    <tr>\n",
       "      <th>target_date</th>\n",
       "      <th></th>\n",
       "    </tr>\n",
       "  </thead>\n",
       "  <tbody>\n",
       "    <tr>\n",
       "      <th>2004-08-19 21:36:00</th>\n",
       "      <td>11.7</td>\n",
       "    </tr>\n",
       "    <tr>\n",
       "      <th>2004-08-19 21:37:00</th>\n",
       "      <td>12.2</td>\n",
       "    </tr>\n",
       "    <tr>\n",
       "      <th>2004-08-19 21:38:00</th>\n",
       "      <td>11.2</td>\n",
       "    </tr>\n",
       "    <tr>\n",
       "      <th>2004-08-19 21:39:00</th>\n",
       "      <td>10.2</td>\n",
       "    </tr>\n",
       "    <tr>\n",
       "      <th>2004-08-19 21:40:00</th>\n",
       "      <td>10.1</td>\n",
       "    </tr>\n",
       "  </tbody>\n",
       "</table>\n",
       "</div>"
      ],
      "text/plain": [
       "                     target\n",
       "target_date                \n",
       "2004-08-19 21:36:00    11.7\n",
       "2004-08-19 21:37:00    12.2\n",
       "2004-08-19 21:38:00    11.2\n",
       "2004-08-19 21:39:00    10.2\n",
       "2004-08-19 21:40:00    10.1"
      ]
     },
     "execution_count": 130,
     "metadata": {},
     "output_type": "execute_result"
    }
   ],
   "source": [
    "df_target = test_set[['target_date', 'target']]\n",
    "df_target.set_index(['target_date'], inplace=True)\n",
    "df_target.head(5)"
   ]
  },
  {
   "cell_type": "code",
   "execution_count": 131,
   "metadata": {},
   "outputs": [
    {
     "name": "stderr",
     "output_type": "stream",
     "text": [
      "/Users/tmorales/interpreters/anaconda3/envs/p3tf1/lib/python3.5/site-packages/pandas/core/indexing.py:297: SettingWithCopyWarning: \n",
      "A value is trying to be set on a copy of a slice from a DataFrame.\n",
      "Try using .loc[row_indexer,col_indexer] = value instead\n",
      "\n",
      "See the caveats in the documentation: http://pandas.pydata.org/pandas-docs/stable/indexing.html#indexing-view-versus-copy\n",
      "  self.obj[key] = _infer_fill_value(value)\n",
      "/Users/tmorales/interpreters/anaconda3/envs/p3tf1/lib/python3.5/site-packages/pandas/core/indexing.py:561: SettingWithCopyWarning: \n",
      "A value is trying to be set on a copy of a slice from a DataFrame.\n",
      "Try using .loc[row_indexer,col_indexer] = value instead\n",
      "\n",
      "See the caveats in the documentation: http://pandas.pydata.org/pandas-docs/stable/indexing.html#indexing-view-versus-copy\n",
      "  self.obj[item_labels[indexer[info_axis]]] = value\n"
     ]
    }
   ],
   "source": [
    "df_target.loc[:, 'predicted'] = predicted[:,0]"
   ]
  },
  {
   "cell_type": "code",
   "execution_count": 132,
   "metadata": {},
   "outputs": [
    {
     "data": {
      "text/html": [
       "<div>\n",
       "<table border=\"1\" class=\"dataframe\">\n",
       "  <thead>\n",
       "    <tr style=\"text-align: right;\">\n",
       "      <th></th>\n",
       "      <th>target</th>\n",
       "      <th>predicted</th>\n",
       "    </tr>\n",
       "    <tr>\n",
       "      <th>target_date</th>\n",
       "      <th></th>\n",
       "      <th></th>\n",
       "    </tr>\n",
       "  </thead>\n",
       "  <tbody>\n",
       "    <tr>\n",
       "      <th>2004-08-19 21:36:00</th>\n",
       "      <td>11.7</td>\n",
       "      <td>8.567653</td>\n",
       "    </tr>\n",
       "    <tr>\n",
       "      <th>2004-08-19 21:37:00</th>\n",
       "      <td>12.2</td>\n",
       "      <td>8.464381</td>\n",
       "    </tr>\n",
       "    <tr>\n",
       "      <th>2004-08-19 21:38:00</th>\n",
       "      <td>11.2</td>\n",
       "      <td>8.629628</td>\n",
       "    </tr>\n",
       "    <tr>\n",
       "      <th>2004-08-19 21:39:00</th>\n",
       "      <td>10.2</td>\n",
       "      <td>8.492764</td>\n",
       "    </tr>\n",
       "    <tr>\n",
       "      <th>2004-08-19 21:40:00</th>\n",
       "      <td>10.1</td>\n",
       "      <td>8.305281</td>\n",
       "    </tr>\n",
       "    <tr>\n",
       "      <th>2004-08-19 21:41:00</th>\n",
       "      <td>9.8</td>\n",
       "      <td>7.963768</td>\n",
       "    </tr>\n",
       "    <tr>\n",
       "      <th>2004-08-19 21:42:00</th>\n",
       "      <td>9.4</td>\n",
       "      <td>7.792343</td>\n",
       "    </tr>\n",
       "    <tr>\n",
       "      <th>2004-08-19 21:43:00</th>\n",
       "      <td>10.8</td>\n",
       "      <td>7.633560</td>\n",
       "    </tr>\n",
       "    <tr>\n",
       "      <th>2004-08-19 21:44:00</th>\n",
       "      <td>10.8</td>\n",
       "      <td>8.186681</td>\n",
       "    </tr>\n",
       "    <tr>\n",
       "      <th>2004-08-19 21:45:00</th>\n",
       "      <td>11.4</td>\n",
       "      <td>8.181262</td>\n",
       "    </tr>\n",
       "    <tr>\n",
       "      <th>2004-08-19 21:46:00</th>\n",
       "      <td>10.4</td>\n",
       "      <td>8.387818</td>\n",
       "    </tr>\n",
       "    <tr>\n",
       "      <th>2004-08-19 21:47:00</th>\n",
       "      <td>10.4</td>\n",
       "      <td>8.041234</td>\n",
       "    </tr>\n",
       "    <tr>\n",
       "      <th>2004-08-19 21:48:00</th>\n",
       "      <td>10.3</td>\n",
       "      <td>8.276223</td>\n",
       "    </tr>\n",
       "    <tr>\n",
       "      <th>2004-08-19 21:49:00</th>\n",
       "      <td>10.0</td>\n",
       "      <td>7.649308</td>\n",
       "    </tr>\n",
       "    <tr>\n",
       "      <th>2004-08-19 21:50:00</th>\n",
       "      <td>9.8</td>\n",
       "      <td>7.827474</td>\n",
       "    </tr>\n",
       "    <tr>\n",
       "      <th>2004-08-19 21:51:00</th>\n",
       "      <td>10.1</td>\n",
       "      <td>7.753012</td>\n",
       "    </tr>\n",
       "    <tr>\n",
       "      <th>2004-08-19 21:52:00</th>\n",
       "      <td>11.5</td>\n",
       "      <td>7.789973</td>\n",
       "    </tr>\n",
       "    <tr>\n",
       "      <th>2004-08-19 21:53:00</th>\n",
       "      <td>10.4</td>\n",
       "      <td>8.303919</td>\n",
       "    </tr>\n",
       "    <tr>\n",
       "      <th>2004-08-19 21:54:00</th>\n",
       "      <td>10.6</td>\n",
       "      <td>8.135454</td>\n",
       "    </tr>\n",
       "    <tr>\n",
       "      <th>2004-08-19 21:55:00</th>\n",
       "      <td>10.9</td>\n",
       "      <td>8.315417</td>\n",
       "    </tr>\n",
       "    <tr>\n",
       "      <th>2004-08-19 21:56:00</th>\n",
       "      <td>9.7</td>\n",
       "      <td>8.062094</td>\n",
       "    </tr>\n",
       "    <tr>\n",
       "      <th>2004-08-19 21:57:00</th>\n",
       "      <td>8.9</td>\n",
       "      <td>7.747276</td>\n",
       "    </tr>\n",
       "    <tr>\n",
       "      <th>2004-08-19 21:58:00</th>\n",
       "      <td>9.9</td>\n",
       "      <td>7.374125</td>\n",
       "    </tr>\n",
       "    <tr>\n",
       "      <th>2004-08-19 21:59:00</th>\n",
       "      <td>11.1</td>\n",
       "      <td>7.817970</td>\n",
       "    </tr>\n",
       "    <tr>\n",
       "      <th>2004-08-19 22:00:00</th>\n",
       "      <td>10.3</td>\n",
       "      <td>8.037749</td>\n",
       "    </tr>\n",
       "    <tr>\n",
       "      <th>2004-08-19 22:01:00</th>\n",
       "      <td>10.5</td>\n",
       "      <td>8.033654</td>\n",
       "    </tr>\n",
       "    <tr>\n",
       "      <th>2004-08-19 22:02:00</th>\n",
       "      <td>10.4</td>\n",
       "      <td>8.305140</td>\n",
       "    </tr>\n",
       "    <tr>\n",
       "      <th>2004-08-19 22:03:00</th>\n",
       "      <td>10.9</td>\n",
       "      <td>7.990698</td>\n",
       "    </tr>\n",
       "    <tr>\n",
       "      <th>2004-08-19 22:04:00</th>\n",
       "      <td>9.1</td>\n",
       "      <td>7.902397</td>\n",
       "    </tr>\n",
       "    <tr>\n",
       "      <th>2004-08-19 22:05:00</th>\n",
       "      <td>9.8</td>\n",
       "      <td>7.340430</td>\n",
       "    </tr>\n",
       "    <tr>\n",
       "      <th>...</th>\n",
       "      <td>...</td>\n",
       "      <td>...</td>\n",
       "    </tr>\n",
       "    <tr>\n",
       "      <th>2004-08-31 23:29:00</th>\n",
       "      <td>14.1</td>\n",
       "      <td>10.068584</td>\n",
       "    </tr>\n",
       "    <tr>\n",
       "      <th>2004-08-31 23:30:00</th>\n",
       "      <td>14.0</td>\n",
       "      <td>10.100154</td>\n",
       "    </tr>\n",
       "    <tr>\n",
       "      <th>2004-08-31 23:31:00</th>\n",
       "      <td>14.4</td>\n",
       "      <td>10.161796</td>\n",
       "    </tr>\n",
       "    <tr>\n",
       "      <th>2004-08-31 23:32:00</th>\n",
       "      <td>14.3</td>\n",
       "      <td>10.638828</td>\n",
       "    </tr>\n",
       "    <tr>\n",
       "      <th>2004-08-31 23:33:00</th>\n",
       "      <td>14.5</td>\n",
       "      <td>10.185484</td>\n",
       "    </tr>\n",
       "    <tr>\n",
       "      <th>2004-08-31 23:34:00</th>\n",
       "      <td>14.4</td>\n",
       "      <td>10.556733</td>\n",
       "    </tr>\n",
       "    <tr>\n",
       "      <th>2004-08-31 23:35:00</th>\n",
       "      <td>14.1</td>\n",
       "      <td>10.456281</td>\n",
       "    </tr>\n",
       "    <tr>\n",
       "      <th>2004-08-31 23:36:00</th>\n",
       "      <td>14.7</td>\n",
       "      <td>10.389518</td>\n",
       "    </tr>\n",
       "    <tr>\n",
       "      <th>2004-08-31 23:37:00</th>\n",
       "      <td>14.3</td>\n",
       "      <td>10.641210</td>\n",
       "    </tr>\n",
       "    <tr>\n",
       "      <th>2004-08-31 23:38:00</th>\n",
       "      <td>14.7</td>\n",
       "      <td>10.408575</td>\n",
       "    </tr>\n",
       "    <tr>\n",
       "      <th>2004-08-31 23:39:00</th>\n",
       "      <td>14.2</td>\n",
       "      <td>10.748458</td>\n",
       "    </tr>\n",
       "    <tr>\n",
       "      <th>2004-08-31 23:40:00</th>\n",
       "      <td>13.7</td>\n",
       "      <td>10.423724</td>\n",
       "    </tr>\n",
       "    <tr>\n",
       "      <th>2004-08-31 23:41:00</th>\n",
       "      <td>14.4</td>\n",
       "      <td>10.497452</td>\n",
       "    </tr>\n",
       "    <tr>\n",
       "      <th>2004-08-31 23:42:00</th>\n",
       "      <td>14.5</td>\n",
       "      <td>10.415879</td>\n",
       "    </tr>\n",
       "    <tr>\n",
       "      <th>2004-08-31 23:43:00</th>\n",
       "      <td>13.8</td>\n",
       "      <td>10.559337</td>\n",
       "    </tr>\n",
       "    <tr>\n",
       "      <th>2004-08-31 23:44:00</th>\n",
       "      <td>14.7</td>\n",
       "      <td>10.403426</td>\n",
       "    </tr>\n",
       "    <tr>\n",
       "      <th>2004-08-31 23:45:00</th>\n",
       "      <td>14.2</td>\n",
       "      <td>10.632696</td>\n",
       "    </tr>\n",
       "    <tr>\n",
       "      <th>2004-08-31 23:46:00</th>\n",
       "      <td>13.9</td>\n",
       "      <td>10.555578</td>\n",
       "    </tr>\n",
       "    <tr>\n",
       "      <th>2004-08-31 23:47:00</th>\n",
       "      <td>13.9</td>\n",
       "      <td>10.325764</td>\n",
       "    </tr>\n",
       "    <tr>\n",
       "      <th>2004-08-31 23:48:00</th>\n",
       "      <td>15.0</td>\n",
       "      <td>10.284966</td>\n",
       "    </tr>\n",
       "    <tr>\n",
       "      <th>2004-08-31 23:49:00</th>\n",
       "      <td>13.6</td>\n",
       "      <td>10.912913</td>\n",
       "    </tr>\n",
       "    <tr>\n",
       "      <th>2004-08-31 23:50:00</th>\n",
       "      <td>14.4</td>\n",
       "      <td>10.196214</td>\n",
       "    </tr>\n",
       "    <tr>\n",
       "      <th>2004-08-31 23:51:00</th>\n",
       "      <td>14.9</td>\n",
       "      <td>10.659339</td>\n",
       "    </tr>\n",
       "    <tr>\n",
       "      <th>2004-08-31 23:52:00</th>\n",
       "      <td>14.5</td>\n",
       "      <td>10.723617</td>\n",
       "    </tr>\n",
       "    <tr>\n",
       "      <th>2004-08-31 23:53:00</th>\n",
       "      <td>13.7</td>\n",
       "      <td>10.559883</td>\n",
       "    </tr>\n",
       "    <tr>\n",
       "      <th>2004-08-31 23:54:00</th>\n",
       "      <td>14.8</td>\n",
       "      <td>10.338603</td>\n",
       "    </tr>\n",
       "    <tr>\n",
       "      <th>2004-08-31 23:55:00</th>\n",
       "      <td>14.3</td>\n",
       "      <td>10.925658</td>\n",
       "    </tr>\n",
       "    <tr>\n",
       "      <th>2004-08-31 23:56:00</th>\n",
       "      <td>14.5</td>\n",
       "      <td>10.427566</td>\n",
       "    </tr>\n",
       "    <tr>\n",
       "      <th>2004-08-31 23:57:00</th>\n",
       "      <td>14.4</td>\n",
       "      <td>10.417692</td>\n",
       "    </tr>\n",
       "    <tr>\n",
       "      <th>2004-08-31 23:58:00</th>\n",
       "      <td>14.1</td>\n",
       "      <td>10.738809</td>\n",
       "    </tr>\n",
       "  </tbody>\n",
       "</table>\n",
       "<p>17423 rows × 2 columns</p>\n",
       "</div>"
      ],
      "text/plain": [
       "                     target  predicted\n",
       "target_date                           \n",
       "2004-08-19 21:36:00    11.7   8.567653\n",
       "2004-08-19 21:37:00    12.2   8.464381\n",
       "2004-08-19 21:38:00    11.2   8.629628\n",
       "2004-08-19 21:39:00    10.2   8.492764\n",
       "2004-08-19 21:40:00    10.1   8.305281\n",
       "2004-08-19 21:41:00     9.8   7.963768\n",
       "2004-08-19 21:42:00     9.4   7.792343\n",
       "2004-08-19 21:43:00    10.8   7.633560\n",
       "2004-08-19 21:44:00    10.8   8.186681\n",
       "2004-08-19 21:45:00    11.4   8.181262\n",
       "2004-08-19 21:46:00    10.4   8.387818\n",
       "2004-08-19 21:47:00    10.4   8.041234\n",
       "2004-08-19 21:48:00    10.3   8.276223\n",
       "2004-08-19 21:49:00    10.0   7.649308\n",
       "2004-08-19 21:50:00     9.8   7.827474\n",
       "2004-08-19 21:51:00    10.1   7.753012\n",
       "2004-08-19 21:52:00    11.5   7.789973\n",
       "2004-08-19 21:53:00    10.4   8.303919\n",
       "2004-08-19 21:54:00    10.6   8.135454\n",
       "2004-08-19 21:55:00    10.9   8.315417\n",
       "2004-08-19 21:56:00     9.7   8.062094\n",
       "2004-08-19 21:57:00     8.9   7.747276\n",
       "2004-08-19 21:58:00     9.9   7.374125\n",
       "2004-08-19 21:59:00    11.1   7.817970\n",
       "2004-08-19 22:00:00    10.3   8.037749\n",
       "2004-08-19 22:01:00    10.5   8.033654\n",
       "2004-08-19 22:02:00    10.4   8.305140\n",
       "2004-08-19 22:03:00    10.9   7.990698\n",
       "2004-08-19 22:04:00     9.1   7.902397\n",
       "2004-08-19 22:05:00     9.8   7.340430\n",
       "...                     ...        ...\n",
       "2004-08-31 23:29:00    14.1  10.068584\n",
       "2004-08-31 23:30:00    14.0  10.100154\n",
       "2004-08-31 23:31:00    14.4  10.161796\n",
       "2004-08-31 23:32:00    14.3  10.638828\n",
       "2004-08-31 23:33:00    14.5  10.185484\n",
       "2004-08-31 23:34:00    14.4  10.556733\n",
       "2004-08-31 23:35:00    14.1  10.456281\n",
       "2004-08-31 23:36:00    14.7  10.389518\n",
       "2004-08-31 23:37:00    14.3  10.641210\n",
       "2004-08-31 23:38:00    14.7  10.408575\n",
       "2004-08-31 23:39:00    14.2  10.748458\n",
       "2004-08-31 23:40:00    13.7  10.423724\n",
       "2004-08-31 23:41:00    14.4  10.497452\n",
       "2004-08-31 23:42:00    14.5  10.415879\n",
       "2004-08-31 23:43:00    13.8  10.559337\n",
       "2004-08-31 23:44:00    14.7  10.403426\n",
       "2004-08-31 23:45:00    14.2  10.632696\n",
       "2004-08-31 23:46:00    13.9  10.555578\n",
       "2004-08-31 23:47:00    13.9  10.325764\n",
       "2004-08-31 23:48:00    15.0  10.284966\n",
       "2004-08-31 23:49:00    13.6  10.912913\n",
       "2004-08-31 23:50:00    14.4  10.196214\n",
       "2004-08-31 23:51:00    14.9  10.659339\n",
       "2004-08-31 23:52:00    14.5  10.723617\n",
       "2004-08-31 23:53:00    13.7  10.559883\n",
       "2004-08-31 23:54:00    14.8  10.338603\n",
       "2004-08-31 23:55:00    14.3  10.925658\n",
       "2004-08-31 23:56:00    14.5  10.427566\n",
       "2004-08-31 23:57:00    14.4  10.417692\n",
       "2004-08-31 23:58:00    14.1  10.738809\n",
       "\n",
       "[17423 rows x 2 columns]"
      ]
     },
     "execution_count": 132,
     "metadata": {},
     "output_type": "execute_result"
    }
   ],
   "source": [
    "df_target"
   ]
  },
  {
   "cell_type": "code",
   "execution_count": 133,
   "metadata": {},
   "outputs": [
    {
     "data": {
      "text/plain": [
       "<matplotlib.axes._subplots.AxesSubplot at 0x11ce79160>"
      ]
     },
     "execution_count": 133,
     "metadata": {},
     "output_type": "execute_result"
    },
    {
     "data": {
      "image/png": "[encoded data removed]",
      "text/plain": [
       "<matplotlib.figure.Figure at 0x119929d30>"
      ]
     },
     "metadata": {},
     "output_type": "display_data"
    }
   ],
   "source": [
    "df_target.plot(figsize=(15,5), rot=90)"
   ]
  },
  {
   "cell_type": "code",
   "execution_count": 134,
   "metadata": {},
   "outputs": [
    {
     "name": "stderr",
     "output_type": "stream",
     "text": [
      "/Users/tmorales/interpreters/anaconda3/envs/p3tf1/lib/python3.5/site-packages/pandas/core/indexing.py:297: SettingWithCopyWarning: \n",
      "A value is trying to be set on a copy of a slice from a DataFrame.\n",
      "Try using .loc[row_indexer,col_indexer] = value instead\n",
      "\n",
      "See the caveats in the documentation: http://pandas.pydata.org/pandas-docs/stable/indexing.html#indexing-view-versus-copy\n",
      "  self.obj[key] = _infer_fill_value(value)\n",
      "/Users/tmorales/interpreters/anaconda3/envs/p3tf1/lib/python3.5/site-packages/pandas/core/indexing.py:477: SettingWithCopyWarning: \n",
      "A value is trying to be set on a copy of a slice from a DataFrame.\n",
      "Try using .loc[row_indexer,col_indexer] = value instead\n",
      "\n",
      "See the caveats in the documentation: http://pandas.pydata.org/pandas-docs/stable/indexing.html#indexing-view-versus-copy\n",
      "  self.obj[item] = s\n"
     ]
    }
   ],
   "source": [
    "df_target.loc[:,'bias'] = df_target['target'] - df_target['predicted']"
   ]
  },
  {
   "cell_type": "code",
   "execution_count": 135,
   "metadata": {},
   "outputs": [
    {
     "data": {
      "text/plain": [
       "<matplotlib.axes._subplots.AxesSubplot at 0x11bc20978>"
      ]
     },
     "execution_count": 135,
     "metadata": {},
     "output_type": "execute_result"
    },
    {
     "data": {
      "image/png": "[encoded data removed]",
      "text/plain": [
       "<matplotlib.figure.Figure at 0x11992f0b8>"
      ]
     },
     "metadata": {},
     "output_type": "display_data"
    }
   ],
   "source": [
    "df_target[['bias']].plot(figsize=(15,5), rot=90)"
   ]
  },
  {
   "cell_type": "code",
   "execution_count": null,
   "metadata": {
    "collapsed": true
   },
   "outputs": [],
   "source": []
  },
  {
   "cell_type": "code",
   "execution_count": null,
   "metadata": {
    "collapsed": true
   },
   "outputs": [],
   "source": []
  },
  {
   "cell_type": "code",
   "execution_count": null,
   "metadata": {
    "collapsed": true
   },
   "outputs": [],
   "source": []
  },
  {
   "cell_type": "code",
   "execution_count": null,
   "metadata": {
    "collapsed": true
   },
   "outputs": [],
   "source": []
  }
 ],
 "metadata": {
  "kernelspec": {
   "display_name": "Python 3.5 + TensorFlow 1.0",
   "language": "python",
   "name": "p3tf1"
  },
  "language_info": {
   "codemirror_mode": {
    "name": "ipython",
    "version": 3
   },
   "file_extension": ".py",
   "mimetype": "text/x-python",
   "name": "python",
   "nbconvert_exporter": "python",
   "pygments_lexer": "ipython3",
   "version": "3.5.3"
  }
 },
 "nbformat": 4,
 "nbformat_minor": 2
}
