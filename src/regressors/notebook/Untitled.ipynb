{
 "cells": [
  {
   "cell_type": "code",
   "execution_count": 7,
   "metadata": {
    "collapsed": true
   },
   "outputs": [],
   "source": [
    "%matplotlib inline\n",
    "import pandas as pd\n",
    "import matplotlib.pyplot as plt\n",
    "plt.style.use('ggplot')\n",
    "\n",
    "from sklearn.cross_validation import train_test_split"
   ]
  },
  {
   "cell_type": "code",
   "execution_count": 5,
   "metadata": {},
   "outputs": [
    {
     "data": {
      "text/html": [
       "<div>\n",
       "<table border=\"1\" class=\"dataframe\">\n",
       "  <thead>\n",
       "    <tr style=\"text-align: right;\">\n",
       "      <th></th>\n",
       "      <th>reg</th>\n",
       "      <th>CRIM</th>\n",
       "      <th>NOX</th>\n",
       "      <th>B</th>\n",
       "      <th>RM</th>\n",
       "      <th>CHAS</th>\n",
       "      <th>LSTAT</th>\n",
       "      <th>DIS</th>\n",
       "      <th>TAX</th>\n",
       "      <th>PTRATIO</th>\n",
       "      <th>ZN</th>\n",
       "      <th>INDUS</th>\n",
       "      <th>RAD</th>\n",
       "      <th>AGE</th>\n",
       "      <th>target</th>\n",
       "    </tr>\n",
       "  </thead>\n",
       "  <tbody>\n",
       "    <tr>\n",
       "      <th>0</th>\n",
       "      <td>reg_1</td>\n",
       "      <td>0.00632</td>\n",
       "      <td>0.538</td>\n",
       "      <td>396.90</td>\n",
       "      <td>6.575</td>\n",
       "      <td>0.0</td>\n",
       "      <td>4.98</td>\n",
       "      <td>4.0900</td>\n",
       "      <td>296.0</td>\n",
       "      <td>15.3</td>\n",
       "      <td>18.0</td>\n",
       "      <td>2.31</td>\n",
       "      <td>1.0</td>\n",
       "      <td>65.2</td>\n",
       "      <td>24.0</td>\n",
       "    </tr>\n",
       "    <tr>\n",
       "      <th>1</th>\n",
       "      <td>reg_2</td>\n",
       "      <td>0.02731</td>\n",
       "      <td>0.469</td>\n",
       "      <td>396.90</td>\n",
       "      <td>6.421</td>\n",
       "      <td>0.0</td>\n",
       "      <td>9.14</td>\n",
       "      <td>4.9671</td>\n",
       "      <td>242.0</td>\n",
       "      <td>17.8</td>\n",
       "      <td>0.0</td>\n",
       "      <td>7.07</td>\n",
       "      <td>2.0</td>\n",
       "      <td>78.9</td>\n",
       "      <td>21.6</td>\n",
       "    </tr>\n",
       "    <tr>\n",
       "      <th>2</th>\n",
       "      <td>reg_3</td>\n",
       "      <td>0.02729</td>\n",
       "      <td>0.469</td>\n",
       "      <td>392.83</td>\n",
       "      <td>7.185</td>\n",
       "      <td>0.0</td>\n",
       "      <td>4.03</td>\n",
       "      <td>4.9671</td>\n",
       "      <td>242.0</td>\n",
       "      <td>17.8</td>\n",
       "      <td>0.0</td>\n",
       "      <td>7.07</td>\n",
       "      <td>2.0</td>\n",
       "      <td>61.1</td>\n",
       "      <td>34.7</td>\n",
       "    </tr>\n",
       "    <tr>\n",
       "      <th>3</th>\n",
       "      <td>reg_4</td>\n",
       "      <td>0.03237</td>\n",
       "      <td>0.458</td>\n",
       "      <td>394.63</td>\n",
       "      <td>6.998</td>\n",
       "      <td>0.0</td>\n",
       "      <td>2.94</td>\n",
       "      <td>6.0622</td>\n",
       "      <td>222.0</td>\n",
       "      <td>18.7</td>\n",
       "      <td>0.0</td>\n",
       "      <td>2.18</td>\n",
       "      <td>3.0</td>\n",
       "      <td>45.8</td>\n",
       "      <td>33.4</td>\n",
       "    </tr>\n",
       "    <tr>\n",
       "      <th>4</th>\n",
       "      <td>reg_5</td>\n",
       "      <td>0.06905</td>\n",
       "      <td>0.458</td>\n",
       "      <td>396.90</td>\n",
       "      <td>7.147</td>\n",
       "      <td>0.0</td>\n",
       "      <td>5.33</td>\n",
       "      <td>6.0622</td>\n",
       "      <td>222.0</td>\n",
       "      <td>18.7</td>\n",
       "      <td>0.0</td>\n",
       "      <td>2.18</td>\n",
       "      <td>3.0</td>\n",
       "      <td>54.2</td>\n",
       "      <td>36.2</td>\n",
       "    </tr>\n",
       "  </tbody>\n",
       "</table>\n",
       "</div>"
      ],
      "text/plain": [
       "     reg     CRIM    NOX       B     RM  CHAS  LSTAT     DIS    TAX  PTRATIO  \\\n",
       "0  reg_1  0.00632  0.538  396.90  6.575   0.0   4.98  4.0900  296.0     15.3   \n",
       "1  reg_2  0.02731  0.469  396.90  6.421   0.0   9.14  4.9671  242.0     17.8   \n",
       "2  reg_3  0.02729  0.469  392.83  7.185   0.0   4.03  4.9671  242.0     17.8   \n",
       "3  reg_4  0.03237  0.458  394.63  6.998   0.0   2.94  6.0622  222.0     18.7   \n",
       "4  reg_5  0.06905  0.458  396.90  7.147   0.0   5.33  6.0622  222.0     18.7   \n",
       "\n",
       "     ZN  INDUS  RAD   AGE  target  \n",
       "0  18.0   2.31  1.0  65.2    24.0  \n",
       "1   0.0   7.07  2.0  78.9    21.6  \n",
       "2   0.0   7.07  2.0  61.1    34.7  \n",
       "3   0.0   2.18  3.0  45.8    33.4  \n",
       "4   0.0   2.18  3.0  54.2    36.2  "
      ]
     },
     "execution_count": 5,
     "metadata": {},
     "output_type": "execute_result"
    }
   ],
   "source": [
    "dataset = pd.read_csv('boston_dataset.csv', delimiter=';')\n",
    "dataset.head()"
   ]
  },
  {
   "cell_type": "code",
   "execution_count": 13,
   "metadata": {},
   "outputs": [],
   "source": [
    "# Split the dataset\n",
    "train_set, test_set = train_test_split(dataset, test_size=0.2)\n",
    "train_set, validation_set = train_test_split(train_set, test_size=0.2)"
   ]
  },
  {
   "cell_type": "code",
   "execution_count": 22,
   "metadata": {},
   "outputs": [
    {
     "data": {
      "image/png": "[encoded data removed]",
      "text/plain": [
       "<matplotlib.figure.Figure at 0x116caad30>"
      ]
     },
     "metadata": {},
     "output_type": "display_data"
    }
   ],
   "source": [
    "pd.DataFrame({'train set': [train_set.shape[0]],\n",
    "              'validation set': [validation_set.shape[0]],\n",
    "              'test set':[test_set.shape[0]]}).T.plot(kind='bar', \n",
    "                                                      figsize=(15, 4),\n",
    "                                                      legend=False,\n",
    "                                                      title='balanceo');"
   ]
  },
  {
   "cell_type": "code",
   "execution_count": 30,
   "metadata": {},
   "outputs": [
    {
     "data": {
      "text/html": [
       "<div>\n",
       "<table border=\"1\" class=\"dataframe\">\n",
       "  <thead>\n",
       "    <tr style=\"text-align: right;\">\n",
       "      <th></th>\n",
       "      <th>reg</th>\n",
       "      <th>target</th>\n",
       "    </tr>\n",
       "  </thead>\n",
       "  <tbody>\n",
       "    <tr>\n",
       "      <th>0</th>\n",
       "      <td>reg_1</td>\n",
       "      <td>24.0</td>\n",
       "    </tr>\n",
       "    <tr>\n",
       "      <th>99</th>\n",
       "      <td>reg_100</td>\n",
       "      <td>33.2</td>\n",
       "    </tr>\n",
       "    <tr>\n",
       "      <th>104</th>\n",
       "      <td>reg_105</td>\n",
       "      <td>20.1</td>\n",
       "    </tr>\n",
       "    <tr>\n",
       "      <th>108</th>\n",
       "      <td>reg_109</td>\n",
       "      <td>19.8</td>\n",
       "    </tr>\n",
       "    <tr>\n",
       "      <th>10</th>\n",
       "      <td>reg_11</td>\n",
       "      <td>15.0</td>\n",
       "    </tr>\n",
       "  </tbody>\n",
       "</table>\n",
       "</div>"
      ],
      "text/plain": [
       "         reg  target\n",
       "0      reg_1    24.0\n",
       "99   reg_100    33.2\n",
       "104  reg_105    20.1\n",
       "108  reg_109    19.8\n",
       "10    reg_11    15.0"
      ]
     },
     "execution_count": 30,
     "metadata": {},
     "output_type": "execute_result"
    }
   ],
   "source": [
    "# dataset predict -- inside the experiment folder\n",
    "target_table = test_set[['reg', 'target']]\n",
    "target_table = target_table.sort_values(by=['reg'])\n",
    "target_table.head()"
   ]
  },
  {
   "cell_type": "code",
   "execution_count": 56,
   "metadata": {},
   "outputs": [],
   "source": [
    "data = {}\n",
    "# -- dataset for trainig\n",
    "training_data = []\n",
    "# train set - features\n",
    "features_columns = list(set(train_set.columns) - {'reg', 'taget'})\n",
    "train_features = train_set[features_columns].values\n",
    "training_data.insert(0, train_features)\n",
    "# train set - labet\n",
    "train_label = train_set['target'].values\n",
    "training_data.insert(1, train_label)\n",
    "data['training_data'] = training_data\n",
    "# -- dataset for validation\n",
    "validation_data = []\n",
    "validation_features = validation_set[features_columns].values\n",
    "validation_data.insert(0, validation_features)\n",
    "validation_label = validation_set['target'].values\n",
    "validation_data.insert(1, validation_label)\n",
    "data['validadtion_data'] = validation_data"
   ]
  },
  {
   "cell_type": "code",
   "execution_count": 69,
   "metadata": {},
   "outputs": [
    {
     "name": "stderr",
     "output_type": "stream",
     "text": [
      "/Users/tmorales/interpreters/anaconda3/envs/p3tf1/lib/python3.5/site-packages/ipykernel/__main__.py:3: FutureWarning: by argument to sort_index is deprecated, pls use .sort_values(by=...)\n",
      "  app.launch_new_instance()\n"
     ]
    }
   ],
   "source": [
    "# -- dataset for validation \n",
    "testing_data = []\n",
    "test_set = test_set.sort_index(by=['reg'])   \n",
    "testing_features = test_set[features_columns].values\n",
    "testing_data.insert(0, testing_features)\n",
    "data['testing_data'] = testing_data"
   ]
  },
  {
   "cell_type": "code",
   "execution_count": 70,
   "metadata": {},
   "outputs": [
    {
     "data": {
      "text/plain": [
       "{'testing_data': [array([[  18.    ,  396.9   ,    4.09  , ...,    2.31  ,    0.538 ,    0.    ],\n",
       "         [   0.    ,  396.9   ,    3.4952, ...,    2.89  ,    0.445 ,    0.    ],\n",
       "         [   0.    ,  392.69  ,    2.421 , ...,    8.56  ,    0.52  ,    0.    ],\n",
       "         ..., \n",
       "         [  25.    ,  396.9   ,    5.4007, ...,    4.86  ,    0.426 ,    0.    ],\n",
       "         [   0.    ,  357.98  ,    3.4952, ...,    2.89  ,    0.445 ,    0.    ],\n",
       "         [   0.    ,  391.83  ,    3.4952, ...,    2.89  ,    0.445 ,    0.    ]])],\n",
       " 'training_data': [array([[   0.    ,  372.08  ,    3.2157, ...,    6.2   ,    0.504 ,    0.    ],\n",
       "         [   0.    ,  385.02  ,    1.9929, ...,   25.65  ,    0.581 ,    0.    ],\n",
       "         [   0.    ,  390.74  ,    2.5091, ...,   18.1   ,    0.77  ,    0.    ],\n",
       "         ..., \n",
       "         [   0.    ,  338.92  ,    1.7984, ...,   19.58  ,    0.605 ,    1.    ],\n",
       "         [  22.    ,  396.9   ,    8.9067, ...,    5.86  ,    0.431 ,    0.    ],\n",
       "         [   0.    ,  396.9   ,    5.87  , ...,    6.91  ,    0.448 ,    0.    ]]),\n",
       "  array([ 31.6,  21.4,  22.6,  21. ,  14.3,  36.2,   8.5,  23.4,  23.2,\n",
       "          50. ,  11.7,  23.1,  11.8,  37.2,   7.4,  23.5,  37. ,  19.4,\n",
       "          18.9,  19.6,  19.2,  16.6,  24.8,  18.2,  18.9,  12.6,  13.6,\n",
       "           9.7,  20. ,  19.6,  23.1,  34.7,  30.7,  15.7,  17.1,  20.3,\n",
       "          37.6,  19.6,  21.8,  22.9,  12.7,  12.8,  14.3,  18.7,  19.9,\n",
       "          36. ,  20. ,  17.1,  12.5,  28.1,  19.7,  23.1,  13.8,  28.5,\n",
       "          29.8,  11.3,  18.6,   7. ,  21.5,  25. ,  24.7,  28.4,  23.9,\n",
       "           9.6,  16.1,  34.9,  22. ,  12.1,  26.6,  22.4,  13.8,  13.8,\n",
       "           7. ,  18.1,  10.9,  32.7,  20.7,  22.9,  15.4,  25.1,  12.3,\n",
       "          30.1,  25. ,  35.1,  21.2,  13.1,  24.1,  25. ,  50. ,  17.8,\n",
       "          18.2,  35.4,  20.6,  27.5,  33. ,  48.5,  21.2,  43.8,  19.6,\n",
       "          10.5,  13.9,  12. ,  13. ,  20.7,  45.4,  41.7,  20.5,  22.9,\n",
       "           8.4,  24.5,  46. ,  20.6,  15. ,  13.1,  22.3,  50. ,  50. ,\n",
       "          22.6,  17.4,  36.5,  23.7,  20.1,  19.1,  24.4,  16.2,   8.3,\n",
       "          13.3,  13.9,  31.1,  31.7,  44.8,  17.2,  30.3,  23.2,  39.8,\n",
       "          21.2,  22.6,  48.3,  14.1,  27.9,  20.1,  17.5,  27.5,  25. ,\n",
       "          22.8,  13.3,  26.6,  15.6,  19.4,  16.5,  21.9,  21.8,   8.1,\n",
       "          35.2,  20.4,  21. ,  23.8,  19.3,  24.1,  31.6,  21.4,  11.5,\n",
       "          26.4,  32. ,  18.5,   6.3,  24.3,  15.1,  23.7,  21.9,  22.6,\n",
       "          25.2,   9.5,  22.8,  14.1,  17. ,  23. ,  28.7,  31. ,  22. ,\n",
       "          22. ,  23.3,  17.5,  24.7,   8.3,  19.2,  16.7,  33.1,  13.3,\n",
       "          19.4,  19.1,  18.9,  20.4,  29.1,  22.6,  36.2,  21.7,  22.1,\n",
       "          17.7,  23.1,  19.8,  23.8,  23.3,  33.4,  19.3,  31.2,  29.6,\n",
       "          23.4,  14.6,  11. ,  50. ,  19.3,  13.2,  22.2,  19.3,  22.4,\n",
       "          21.1,  28.7,  26.6,  21.2,  14.4,  34.9,  18.4,  19.5,  28.7,\n",
       "          18.6,  18.8,  22.2,  18.5,  19. ,  30.5,  21.7,  24.4,  29. ,\n",
       "          21.4,  20.6,  20.8,  19.5,  24.2,  14.9,  17.4,  25. ,   5. ,\n",
       "          33.8,  15.6,  15.2,  27.5,  23.2,  22.2,  20. ,  23.8,  21.4,\n",
       "           8.4,  27.5,  29.6,   8.8,  32.4,  16.4,  24.1,  22.5,  23.9,\n",
       "          25.3,  24.5,  20. ,  50. ,  50. ,  21.5,  20.1,  24.6,  26.2,\n",
       "          19. ,  13.6,   8.5,  20.9,  22.5,  17.3,  14.6,  21.6,  22.7,\n",
       "          19.1,  24.5,  10.9,  11.8,  17.8,  17.8,  37.9,  16.5,  22.5,\n",
       "          19.5,  13.5,  24. ,  30.8,  18.4,  18.2,  50. ,   7.2,  15.2,\n",
       "           7.5,  16.8,  18.7,  38.7,  20.4,  23.9,  33.1,  15. ,  14.9,\n",
       "          21.7,  16.2,  32.9,  19.6,   7.2,  21.7,  20.8,  22. ,  13.4,\n",
       "          13.1,  20.8,  23.2,  22.9,  33.3,  27. ,  42.8,  14.4])],\n",
       " 'validadtion_data': [array([[   0.    ,   81.33  ,    2.0882, ...,   18.1   ,    0.584 ,    0.    ],\n",
       "         [  12.5   ,  396.9   ,    5.9505, ...,    7.87  ,    0.524 ,    0.    ],\n",
       "         [   0.    ,  387.94  ,    4.4547, ...,    8.14  ,    0.538 ,    0.    ],\n",
       "         ..., \n",
       "         [   0.    ,  393.45  ,    2.3889, ...,   11.93  ,    0.573 ,    0.    ],\n",
       "         [   0.    ,  395.62  ,    4.4986, ...,    8.14  ,    0.538 ,    0.    ],\n",
       "         [  25.    ,  395.63  ,    5.4007, ...,    4.86  ,    0.426 ,    0.    ]]),\n",
       "  array([ 14.1,  27.1,  18.4,  19.5,  15.6,  14.9,  15.6,  12.7,  14.8,\n",
       "          15.2,  21. ,  27.1,  20.5,  34.9,  16.1,  29.4,  22.8,   7.2,\n",
       "          14.2,  18.7,  36.4,  22.8,  41.3,  50. ,  22.7,  23.3,  24.3,\n",
       "          20.2,  10.2,  22.2,  20.6,  29.9,  18. ,  17.2,  16.1,  32. ,\n",
       "          23.6,  10.2,  14. ,  13.5,  32.5,  26.5,  29. ,  16.3,  15.6,\n",
       "          44. ,  23.3,  10.5,  35.4,  22.2,  17.6,  24.8,  29.1,  23.6,\n",
       "          43.5,  17.1,  12.7,  50. ,  13.8,  31.5,  23. ,  16.6,  22. ,\n",
       "          22. ,  50. ,  11.9,  43.1,  26.4,  14.5,  34.6,  24.4,  19.8,\n",
       "          21.6,  10.8,  13.1,  24.4,  19.3,  24.8,  22. ,  19.9,  23.9])]}"
      ]
     },
     "execution_count": 70,
     "metadata": {},
     "output_type": "execute_result"
    }
   ],
   "source": [
    "data"
   ]
  },
  {
   "cell_type": "code",
   "execution_count": null,
   "metadata": {
    "collapsed": true
   },
   "outputs": [],
   "source": []
  }
 ],
 "metadata": {
  "kernelspec": {
   "display_name": "Python 3.5 + TensorFlow 1.0",
   "language": "python",
   "name": "p3tf1"
  },
  "language_info": {
   "codemirror_mode": {
    "name": "ipython",
    "version": 3
   },
   "file_extension": ".py",
   "mimetype": "text/x-python",
   "name": "python",
   "nbconvert_exporter": "python",
   "pygments_lexer": "ipython3",
   "version": "3.5.3"
  }
 },
 "nbformat": 4,
 "nbformat_minor": 2
}
